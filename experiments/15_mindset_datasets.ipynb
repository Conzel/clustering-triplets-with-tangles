{
 "cells": [
  {
   "cell_type": "markdown",
   "metadata": {},
   "source": [
    "# Mindset datasets\n",
    "\n",
    "## Previous ideas and shortcomings\n",
    "This is related to the work on the correspondence between Mindsets and Gaussian models.\n",
    "\n",
    "When investigating a bit closer, the similarity between the mindset setting and triplets becomes more obvious. We have discussed, that with certain conditions, the Gaussian model (k clusters with n datapoints each) could be viewed as a specific instance of the Mindset model (k mindsets with n datapoints each that represent a specific way of answering m questions), namely when the standard deviation was vanishingly small compared to the inter-cluster distances. \n",
    "\n",
    "Then, the only interesting questions where those that were of the form \"b:c?\", where b and c are in separate clusters. There, points that belonged to the same cluster as b should answer with 1, points that are in the same cluster as c should answer with 0, and the rest should answer consistently, but randomly (this is given as long as the geometry is not so that the cut between two cluster centers cuts another cluster). This is similar to the mindset example with k clusters, n points and ${k \\choose 2}$ questions (total number of useful questions).\n",
    "\n",
    "We recognized that this example may be a bit shoehorned in. By starting with a gaussian model, we are already putting in assumptions about the shape of our triplets (namely, that they come from a metric space and thus respect certain properties). These might not be the most suitable for the tangles algorithm, and we see SOE-kMeans heavily outperforming our algorithm. SOE-kMeans generates a _euclidean_ space, and then finds clusters using kMeans (which underlies a gaussian assumption).\n",
    "\n",
    "## New approach\n",
    "We found that the previous approach was a bit backwards. Why not do it exactly the other way around – start with the mindset example? Assume that we have $k$ mindsets consisting of $n$ people each, and they are asked $m$ questions. Each mindset corresponds to a certain way of answering a question. For now, assume that each person answers fully faithful to their mindset. \n",
    "\n",
    "The data that corresponds to the problem setup is an $N = k * n$ times $m$ table, with $k$ unique answer vectors (corresponding to a mindset each). \n",
    "\n",
    "### Questions correspond to triplets\n",
    "First off, we have to think about what triplets essentially are, and why are interested in them. Triplets are similarity informations of the form (a,b,c), where we know whether\n",
    "a is closer to b than to c or vice versa. We can equivalently cast the triplet problem in question form, as a triplet being the question \"b:c?\" together with an answer for a point a.\n",
    "\n",
    "The similarity that triplets are based on might not be a metric in general, so pinpointing their properties is pretty hard. If we view triplets in the question case, we can formulate what we require from them for clustering, namely that similar points $a1, a2$ give similar answers to the triplets questions (ideally the same, or the same with high probability). \n",
    "\n",
    "Assume that no question is degenerate (i.e. everyone answers 1 or 0). Then, we might also think of a question of the form $q_i$ as corresponding to a triplet a:b?, where a is randomly selected person from any mindset that has answered 1 to question $q_i$, and equivalently b is any randomly selected person that has answered 0. For different questions, we might always pick different combinations of people. \n",
    "\n",
    "What then results is, that for every person $p$ of mindset $m_j$, they answer the question in an intuitively correct way. \n",
    "If a is of mindset $m_j$, they answer with 1 (so they are similar to the person with the same mindset), if b is of mindset $m_j$, they answer with 0."
   ]
  }
 ],
 "metadata": {
  "language_info": {
   "name": "python"
  },
  "orig_nbformat": 4
 },
 "nbformat": 4,
 "nbformat_minor": 2
}
