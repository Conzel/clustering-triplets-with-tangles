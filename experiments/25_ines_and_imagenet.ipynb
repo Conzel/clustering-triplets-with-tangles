{
 "cells": [
  {
   "cell_type": "markdown",
   "metadata": {},
   "source": [
    "# Inés Dataset\n",
    "To evaluate Tangles on real world data, we have obtained the dataset from the thesis of Inés. She has used an embedding algorithm on it and has visually inspected, which elements are closer together.\n",
    "\n",
    "We will do the same with majority-Tangles.\n",
    "\n",
    "## Data preparation\n"
   ]
  },
  {
   "cell_type": "code",
   "execution_count": 69,
   "metadata": {},
   "outputs": [],
   "source": [
    "import sys\n",
    "sys.path.append(\"..\")\n",
    "from pathlib import Path\n",
    "import pandas as pd\n",
    "import re\n",
    "import numpy as np\n",
    "import pickle\n",
    "import altair as alt\n",
    "from plotting import AltairPlotter\n",
    "from tangles.plotting import plot_soft_predictions\n",
    "from tangles.data_types import Data\n",
    "from sklearn.utils import Bunch\n",
    "from cblearn.embedding import SOE\n",
    "from cblearn.preprocessing import triplets_from_mostcentral, triplets_from_oddoneout\n",
    "import matplotlib.pyplot as plt\n",
    "from triplets import triplets_to_majority_neighbour_cuts\n",
    "from estimators import OrdinalTangles"
   ]
  },
  {
   "cell_type": "code",
   "execution_count": 27,
   "metadata": {},
   "outputs": [
    {
     "data": {
      "text/html": [
       "<div>\n",
       "<style scoped>\n",
       "    .dataframe tbody tr th:only-of-type {\n",
       "        vertical-align: middle;\n",
       "    }\n",
       "\n",
       "    .dataframe tbody tr th {\n",
       "        vertical-align: top;\n",
       "    }\n",
       "\n",
       "    .dataframe thead th {\n",
       "        text-align: right;\n",
       "    }\n",
       "</style>\n",
       "<table border=\"1\" class=\"dataframe\">\n",
       "  <thead>\n",
       "    <tr style=\"text-align: right;\">\n",
       "      <th></th>\n",
       "      <th>subj</th>\n",
       "      <th>age</th>\n",
       "      <th>session</th>\n",
       "      <th>trial</th>\n",
       "      <th>RT</th>\n",
       "      <th>response</th>\n",
       "      <th>imagenameleft</th>\n",
       "      <th>imagenamemiddle</th>\n",
       "      <th>imagenameright</th>\n",
       "      <th>imageset</th>\n",
       "      <th>vp_number</th>\n",
       "      <th>exp_kind</th>\n",
       "    </tr>\n",
       "  </thead>\n",
       "  <tbody>\n",
       "    <tr>\n",
       "      <th>0</th>\n",
       "      <td>1.0</td>\n",
       "      <td>27.0</td>\n",
       "      <td>odd</td>\n",
       "      <td>1.0</td>\n",
       "      <td>1.961037</td>\n",
       "      <td>left</td>\n",
       "      <td>letter_opener_10s.jpg</td>\n",
       "      <td>key_08s.jpg</td>\n",
       "      <td>key_07s.jpg</td>\n",
       "      <td>action</td>\n",
       "      <td>1</td>\n",
       "      <td>odd</td>\n",
       "    </tr>\n",
       "    <tr>\n",
       "      <th>1</th>\n",
       "      <td>1.0</td>\n",
       "      <td>27.0</td>\n",
       "      <td>odd</td>\n",
       "      <td>2.0</td>\n",
       "      <td>1.552606</td>\n",
       "      <td>right</td>\n",
       "      <td>stump_08s.jpg</td>\n",
       "      <td>tree_ines.jpg</td>\n",
       "      <td>stick_insect_09.jpg</td>\n",
       "      <td>taxonomic</td>\n",
       "      <td>1</td>\n",
       "      <td>odd</td>\n",
       "    </tr>\n",
       "    <tr>\n",
       "      <th>2</th>\n",
       "      <td>1.0</td>\n",
       "      <td>27.0</td>\n",
       "      <td>odd</td>\n",
       "      <td>3.0</td>\n",
       "      <td>2.102521</td>\n",
       "      <td>left</td>\n",
       "      <td>leaf_04s.jpg</td>\n",
       "      <td>stick_insect_09.jpg</td>\n",
       "      <td>bee_01b.jpg</td>\n",
       "      <td>taxonomic</td>\n",
       "      <td>1</td>\n",
       "      <td>odd</td>\n",
       "    </tr>\n",
       "    <tr>\n",
       "      <th>3</th>\n",
       "      <td>1.0</td>\n",
       "      <td>27.0</td>\n",
       "      <td>odd</td>\n",
       "      <td>4.0</td>\n",
       "      <td>4.968988</td>\n",
       "      <td>left</td>\n",
       "      <td>screwdriver_04s.jpg</td>\n",
       "      <td>coin_14s.jpg</td>\n",
       "      <td>key_01b.jpg</td>\n",
       "      <td>action</td>\n",
       "      <td>1</td>\n",
       "      <td>odd</td>\n",
       "    </tr>\n",
       "    <tr>\n",
       "      <th>4</th>\n",
       "      <td>1.0</td>\n",
       "      <td>27.0</td>\n",
       "      <td>odd</td>\n",
       "      <td>5.0</td>\n",
       "      <td>1.705614</td>\n",
       "      <td>middle</td>\n",
       "      <td>pitchfork_02s.jpg</td>\n",
       "      <td>hay_10s_cut.jpg</td>\n",
       "      <td>pitchfork_09s.jpg</td>\n",
       "      <td>thematic</td>\n",
       "      <td>1</td>\n",
       "      <td>odd</td>\n",
       "    </tr>\n",
       "  </tbody>\n",
       "</table>\n",
       "</div>"
      ],
      "text/plain": [
       "   subj   age session  trial        RT response          imagenameleft  \\\n",
       "0   1.0  27.0     odd    1.0  1.961037     left  letter_opener_10s.jpg   \n",
       "1   1.0  27.0     odd    2.0  1.552606    right          stump_08s.jpg   \n",
       "2   1.0  27.0     odd    3.0  2.102521     left           leaf_04s.jpg   \n",
       "3   1.0  27.0     odd    4.0  4.968988     left    screwdriver_04s.jpg   \n",
       "4   1.0  27.0     odd    5.0  1.705614   middle      pitchfork_02s.jpg   \n",
       "\n",
       "       imagenamemiddle       imagenameright   imageset vp_number exp_kind  \n",
       "0          key_08s.jpg          key_07s.jpg     action         1      odd  \n",
       "1        tree_ines.jpg  stick_insect_09.jpg  taxonomic         1      odd  \n",
       "2  stick_insect_09.jpg          bee_01b.jpg  taxonomic         1      odd  \n",
       "3         coin_14s.jpg          key_01b.jpg     action         1      odd  \n",
       "4      hay_10s_cut.jpg    pitchfork_09s.jpg   thematic         1      odd  "
      ]
     },
     "execution_count": 27,
     "metadata": {},
     "output_type": "execute_result"
    }
   ],
   "source": [
    "# getting all the folders that contain triplet data\n",
    "dataset_root = Path(r\"/Users/almico/datasets/2021_similarity-triplets_object-images_ines-bsc\")\n",
    "data_root = dataset_root / \"data_similarity_judgements\"\n",
    "vp_folders = [p for p in data_root.iterdir() if p.is_dir() and re.match(r\"VP_\\d+\", p.stem) is not None]\n",
    "dfs = []\n",
    "# bringing the data into a a more workable format\n",
    "for vp in vp_folders:\n",
    "    experiment_re = r\"similarity_judgements_(\\d+)_session_(.*).csv\"\n",
    "    csv_files = [p for p in vp.iterdir() if re.match(experiment_re, p.stem) is not None]\n",
    "    for f in vp.iterdir():\n",
    "        search = re.search(experiment_re, f.name)\n",
    "        if search is None:\n",
    "            continue\n",
    "        vp_number = search.group(1)\n",
    "        kind = search.group(2)\n",
    "        dfs.append(pd.read_csv(f).assign(vp_number=vp_number, exp_kind = kind))\n",
    "    \n",
    "df = pd.concat(dfs)\n",
    "# There was apparently some error in naming \n",
    "df.replace(\"fork_plastic_light.jp\",\"fork_plastic_light.jpg\", inplace=True)\n",
    "df.head()"
   ]
  },
  {
   "cell_type": "markdown",
   "metadata": {},
   "source": [
    "This is the raw data. We will now process this into a triplet-response format."
   ]
  },
  {
   "cell_type": "code",
   "execution_count": 28,
   "metadata": {},
   "outputs": [],
   "source": [
    "imagenames = df[[\"imagenameleft\", \"imagenamemiddle\", \"imagenameright\"]]\n",
    "unique_names = np.unique(imagenames.to_numpy().flatten())\n",
    "image_number_correspondence = np.arange(0, unique_names.size)\n",
    "indices = np.argmax(imagenames.to_numpy()[:, :, None] == unique_names[None, None, :], axis=2)\n",
    "\n",
    "triplets = indices\n",
    "responses = np.argmax(df[\"response\"].to_numpy()[:, None] == np.array([\"left\", \"middle\", \"right\"])[None, :], axis=1)\n",
    "\n",
    "assert np.all(df[\"response\"].to_numpy()[[0, 4, 1]] == np.array([\"left\", \"middle\", \"right\"]))\n",
    "assert np.all(responses[[0, 4, 1]] == np.array([0,1,2]))"
   ]
  },
  {
   "cell_type": "markdown",
   "metadata": {},
   "source": [
    "Since the triplets and responses have to be accessed in a highly unique fashion, \n",
    "we will include the whole dataframe in the end. We will now append the triplets and responses to it."
   ]
  },
  {
   "cell_type": "code",
   "execution_count": 29,
   "metadata": {},
   "outputs": [],
   "source": [
    "df[[\"triplet_left\", \"triplet_middle\", \"triplet_right\"]] = triplets\n",
    "df[\"triplet_response\"] = responses"
   ]
  },
  {
   "cell_type": "markdown",
   "metadata": {},
   "source": [
    "Next, we want to provide a dictionary that gives us some more information about the images."
   ]
  },
  {
   "cell_type": "code",
   "execution_count": 30,
   "metadata": {},
   "outputs": [],
   "source": [
    "image_info_dict = {}\n",
    "for i, name in enumerate(unique_names):\n",
    "    num = image_number_correspondence[i]\n",
    "    image_info_dict[name] = {\"idx\": num}\n",
    "for imageset in [\"action\", \"taxonomic\", \"thematic\"]:\n",
    "    for im in (dataset_root / f\"{imageset}_stimuli\").iterdir():\n",
    "        image_info_dict[im.name][\"imageset\"] = imageset\n",
    "        image_info_dict[im.name][\"class\"] = re.search(r\"([a-z]+)_.*\\.jpg\", im.name).group(1)\n",
    "# now revert the dictionary to make better use of it\n",
    "image_info_dict = {v[\"idx\"]: {\"name\": k, \"imageset\": v[\"imageset\"], \"class\": v[\"class\"]} for k, v in image_info_dict.items()}"
   ]
  },
  {
   "cell_type": "markdown",
   "metadata": {},
   "source": [
    "Now we export one complete dictionary that can be serialized to JSON."
   ]
  },
  {
   "cell_type": "code",
   "execution_count": 31,
   "metadata": {},
   "outputs": [],
   "source": [
    "master_bunch = Bunch(data=df, image_info=image_info_dict)\n",
    "# JSON doesn't like numpy arrays.\n",
    "pickle.dump(master_bunch, open(Path(\"results\") /\"data_ines.pkl\", \"wb\"))"
   ]
  },
  {
   "cell_type": "markdown",
   "metadata": {},
   "source": [
    "Read again in the same manner:"
   ]
  },
  {
   "cell_type": "code",
   "execution_count": 32,
   "metadata": {},
   "outputs": [],
   "source": [
    "ines_data = pickle.load(open(Path(\"results\") /\"data_ines.pkl\", \"rb\"))"
   ]
  },
  {
   "cell_type": "markdown",
   "metadata": {},
   "source": [
    "## Exploring the dataset\n",
    "We will now see what insights we can gain from the data.\n",
    "\n",
    "### Odd similarity triplets\n",
    "We will start out with the odd triplets, as they were easier to embed (see Bachelor thesis\n",
    "of Inés)."
   ]
  },
  {
   "cell_type": "code",
   "execution_count": 65,
   "metadata": {},
   "outputs": [],
   "source": [
    "imageset = \"thematic\"\n",
    "exp_kind = \"odd\"\n",
    "vp_number = \"1\"\n",
    "def triplet_responses_from_df(df):\n",
    "    return df[[\"triplet_left\", \"triplet_middle\", \"triplet_right\"]].to_numpy(), df[\"triplet_response\"].to_numpy()\n",
    "df_filtered = df[(df.exp_kind == exp_kind) & (df.vp_number == vp_number) & (df.imageset == imageset)]\n",
    "t = triplets_from_oddoneout(*triplet_responses_from_df(df_filtered))\n",
    "r = np.ones(t.shape[0])\n",
    "indices_in_imageset = [k for k, v in image_info_dict.items() if v[\"imageset\"] == imageset]"
   ]
  },
  {
   "cell_type": "code",
   "execution_count": 66,
   "metadata": {},
   "outputs": [
    {
     "name": "stderr",
     "output_type": "stream",
     "text": [
      "/opt/homebrew/Caskroom/mambaforge/base/envs/tangles-thesis/lib/python3.9/site-packages/tangles/utils.py:54: RuntimeWarning: invalid value encountered in true_divide\n",
      "  return (array - np.min(array)) / np.ptp(array)\n"
     ]
    }
   ],
   "source": [
    "embedding = SOE(n_components = 2, random_state=2).fit_transform(t,r)\n",
    "cuts = triplets_to_majority_neighbour_cuts(t, radius = 1)\n",
    "tangles = OrdinalTangles(3)\n",
    "tangles_pred = tangles.fit_predict(cuts)\n",
    "embedding_in_imageset = embedding[indices_in_imageset, :]\n",
    "tangles_pred_in_imageset = tangles_pred[indices_in_imageset]"
   ]
  },
  {
   "cell_type": "code",
   "execution_count": 67,
   "metadata": {},
   "outputs": [
    {
     "data": {
      "text/html": [
       "\n",
       "<div id=\"altair-viz-e20c691d46c4402482ede1dec03962ba\"></div>\n",
       "<script type=\"text/javascript\">\n",
       "  (function(spec, embedOpt){\n",
       "    let outputDiv = document.currentScript.previousElementSibling;\n",
       "    if (outputDiv.id !== \"altair-viz-e20c691d46c4402482ede1dec03962ba\") {\n",
       "      outputDiv = document.getElementById(\"altair-viz-e20c691d46c4402482ede1dec03962ba\");\n",
       "    }\n",
       "    const paths = {\n",
       "      \"vega\": \"https://cdn.jsdelivr.net/npm//vega@5?noext\",\n",
       "      \"vega-lib\": \"https://cdn.jsdelivr.net/npm//vega-lib?noext\",\n",
       "      \"vega-lite\": \"https://cdn.jsdelivr.net/npm//vega-lite@4.8.1?noext\",\n",
       "      \"vega-embed\": \"https://cdn.jsdelivr.net/npm//vega-embed@6?noext\",\n",
       "    };\n",
       "\n",
       "    function loadScript(lib) {\n",
       "      return new Promise(function(resolve, reject) {\n",
       "        var s = document.createElement('script');\n",
       "        s.src = paths[lib];\n",
       "        s.async = true;\n",
       "        s.onload = () => resolve(paths[lib]);\n",
       "        s.onerror = () => reject(`Error loading script: ${paths[lib]}`);\n",
       "        document.getElementsByTagName(\"head\")[0].appendChild(s);\n",
       "      });\n",
       "    }\n",
       "\n",
       "    function showError(err) {\n",
       "      outputDiv.innerHTML = `<div class=\"error\" style=\"color:red;\">${err}</div>`;\n",
       "      throw err;\n",
       "    }\n",
       "\n",
       "    function displayChart(vegaEmbed) {\n",
       "      vegaEmbed(outputDiv, spec, embedOpt)\n",
       "        .catch(err => showError(`Javascript Error: ${err.message}<br>This usually means there's a typo in your chart specification. See the javascript console for the full traceback.`));\n",
       "    }\n",
       "\n",
       "    if(typeof define === \"function\" && define.amd) {\n",
       "      requirejs.config({paths});\n",
       "      require([\"vega-embed\"], displayChart, err => showError(`Error loading script: ${err.message}`));\n",
       "    } else if (typeof vegaEmbed === \"function\") {\n",
       "      displayChart(vegaEmbed);\n",
       "    } else {\n",
       "      loadScript(\"vega\")\n",
       "        .then(() => loadScript(\"vega-lite\"))\n",
       "        .then(() => loadScript(\"vega-embed\"))\n",
       "        .catch(showError)\n",
       "        .then(() => displayChart(vegaEmbed));\n",
       "    }\n",
       "  })({\"config\": {\"view\": {\"continuousWidth\": 400, \"continuousHeight\": 300}}, \"data\": {\"name\": \"data-cfed30bbda199068b4a228443bd5374c\"}, \"mark\": {\"type\": \"circle\", \"size\": 70}, \"encoding\": {\"color\": {\"type\": \"nominal\", \"field\": \"tangles\"}, \"x\": {\"type\": \"quantitative\", \"field\": \"x\"}, \"y\": {\"type\": \"quantitative\", \"field\": \"y\"}}, \"$schema\": \"https://vega.github.io/schema/vega-lite/v4.8.1.json\", \"datasets\": {\"data-cfed30bbda199068b4a228443bd5374c\": [{\"x\": -4.560945316816751, \"y\": -3.324168133590835, \"tangles\": 0, \"class\": \"dishwasher\"}, {\"x\": -5.544816681260094, \"y\": -5.093129566253857, \"tangles\": 3, \"class\": \"dishwasher\"}, {\"x\": -1.1600623006877993, \"y\": -3.8107525910693965, \"tangles\": 0, \"class\": \"dishwasher\"}, {\"x\": -3.924785818709456, \"y\": -7.474884746079447, \"tangles\": 0, \"class\": \"dishwasher\"}, {\"x\": -3.6804717826324334, \"y\": -3.8256464034662407, \"tangles\": 0, \"class\": \"dishwasher\"}, {\"x\": -3.527295485251033, \"y\": -6.900251677181446, \"tangles\": 0, \"class\": \"dishwasher\"}, {\"x\": -4.851192067174982, \"y\": 3.109096587100682, \"tangles\": 2, \"class\": \"fork\"}, {\"x\": -5.895703725534268, \"y\": 2.248171732453347, \"tangles\": 2, \"class\": \"fork\"}, {\"x\": -4.160822096796223, \"y\": -0.23618089978560272, \"tangles\": 0, \"class\": \"fork\"}, {\"x\": -7.33422393116959, \"y\": -1.8270962562249544, \"tangles\": 0, \"class\": \"fork\"}, {\"x\": -6.191162625807432, \"y\": 1.109859634835658, \"tangles\": 2, \"class\": \"fork\"}, {\"x\": -5.392521890609663, \"y\": 1.8698344927162598, \"tangles\": 0, \"class\": \"fork\"}, {\"x\": 9.486316204806183, \"y\": -2.531546741049008, \"tangles\": 3, \"class\": \"hay\"}, {\"x\": 6.047165826836446, \"y\": 0.7910990745509886, \"tangles\": 1, \"class\": \"hay\"}, {\"x\": 6.331985237974744, \"y\": -0.16223559237663038, \"tangles\": 1, \"class\": \"hay\"}, {\"x\": 4.310598964893779, \"y\": 6.377171051827638, \"tangles\": 1, \"class\": \"pitchfork\"}, {\"x\": 1.9724025828806082, \"y\": 4.684491712906552, \"tangles\": 1, \"class\": \"pitchfork\"}, {\"x\": 2.21298363183726, \"y\": 4.239859488663659, \"tangles\": 1, \"class\": \"pitchfork\"}, {\"x\": 3.123984585149589, \"y\": 3.5208247267234727, \"tangles\": 1, \"class\": \"pitchfork\"}, {\"x\": 1.4212455022900616, \"y\": 3.6287620769081967, \"tangles\": 1, \"class\": \"pitchfork\"}, {\"x\": 3.6177694925218704, \"y\": 6.324157748651405, \"tangles\": 1, \"class\": \"pitchfork\"}, {\"x\": 4.214203153288374, \"y\": -1.4590432746088677, \"tangles\": 3, \"class\": \"straw\"}, {\"x\": 6.553785602882738, \"y\": 0.49805127724949083, \"tangles\": 3, \"class\": \"straw\"}, {\"x\": 7.354832424430136, \"y\": -1.047777531726517, \"tangles\": 3, \"class\": \"straw\"}]}}, {\"mode\": \"vega-lite\"});\n",
       "</script>"
      ],
      "text/plain": [
       "alt.Chart(...)"
      ]
     },
     "metadata": {},
     "output_type": "display_data"
    },
    {
     "data": {
      "text/html": [
       "\n",
       "<div id=\"altair-viz-2bdef3fb24444e30af9974aede551a4c\"></div>\n",
       "<script type=\"text/javascript\">\n",
       "  (function(spec, embedOpt){\n",
       "    let outputDiv = document.currentScript.previousElementSibling;\n",
       "    if (outputDiv.id !== \"altair-viz-2bdef3fb24444e30af9974aede551a4c\") {\n",
       "      outputDiv = document.getElementById(\"altair-viz-2bdef3fb24444e30af9974aede551a4c\");\n",
       "    }\n",
       "    const paths = {\n",
       "      \"vega\": \"https://cdn.jsdelivr.net/npm//vega@5?noext\",\n",
       "      \"vega-lib\": \"https://cdn.jsdelivr.net/npm//vega-lib?noext\",\n",
       "      \"vega-lite\": \"https://cdn.jsdelivr.net/npm//vega-lite@4.8.1?noext\",\n",
       "      \"vega-embed\": \"https://cdn.jsdelivr.net/npm//vega-embed@6?noext\",\n",
       "    };\n",
       "\n",
       "    function loadScript(lib) {\n",
       "      return new Promise(function(resolve, reject) {\n",
       "        var s = document.createElement('script');\n",
       "        s.src = paths[lib];\n",
       "        s.async = true;\n",
       "        s.onload = () => resolve(paths[lib]);\n",
       "        s.onerror = () => reject(`Error loading script: ${paths[lib]}`);\n",
       "        document.getElementsByTagName(\"head\")[0].appendChild(s);\n",
       "      });\n",
       "    }\n",
       "\n",
       "    function showError(err) {\n",
       "      outputDiv.innerHTML = `<div class=\"error\" style=\"color:red;\">${err}</div>`;\n",
       "      throw err;\n",
       "    }\n",
       "\n",
       "    function displayChart(vegaEmbed) {\n",
       "      vegaEmbed(outputDiv, spec, embedOpt)\n",
       "        .catch(err => showError(`Javascript Error: ${err.message}<br>This usually means there's a typo in your chart specification. See the javascript console for the full traceback.`));\n",
       "    }\n",
       "\n",
       "    if(typeof define === \"function\" && define.amd) {\n",
       "      requirejs.config({paths});\n",
       "      require([\"vega-embed\"], displayChart, err => showError(`Error loading script: ${err.message}`));\n",
       "    } else if (typeof vegaEmbed === \"function\") {\n",
       "      displayChart(vegaEmbed);\n",
       "    } else {\n",
       "      loadScript(\"vega\")\n",
       "        .then(() => loadScript(\"vega-lite\"))\n",
       "        .then(() => loadScript(\"vega-embed\"))\n",
       "        .catch(showError)\n",
       "        .then(() => displayChart(vegaEmbed));\n",
       "    }\n",
       "  })({\"config\": {\"view\": {\"continuousWidth\": 400, \"continuousHeight\": 300}}, \"data\": {\"name\": \"data-cfed30bbda199068b4a228443bd5374c\"}, \"mark\": {\"type\": \"circle\", \"size\": 70}, \"encoding\": {\"color\": {\"type\": \"nominal\", \"field\": \"class\"}, \"x\": {\"type\": \"quantitative\", \"field\": \"x\"}, \"y\": {\"type\": \"quantitative\", \"field\": \"y\"}}, \"$schema\": \"https://vega.github.io/schema/vega-lite/v4.8.1.json\", \"datasets\": {\"data-cfed30bbda199068b4a228443bd5374c\": [{\"x\": -4.560945316816751, \"y\": -3.324168133590835, \"tangles\": 0, \"class\": \"dishwasher\"}, {\"x\": -5.544816681260094, \"y\": -5.093129566253857, \"tangles\": 3, \"class\": \"dishwasher\"}, {\"x\": -1.1600623006877993, \"y\": -3.8107525910693965, \"tangles\": 0, \"class\": \"dishwasher\"}, {\"x\": -3.924785818709456, \"y\": -7.474884746079447, \"tangles\": 0, \"class\": \"dishwasher\"}, {\"x\": -3.6804717826324334, \"y\": -3.8256464034662407, \"tangles\": 0, \"class\": \"dishwasher\"}, {\"x\": -3.527295485251033, \"y\": -6.900251677181446, \"tangles\": 0, \"class\": \"dishwasher\"}, {\"x\": -4.851192067174982, \"y\": 3.109096587100682, \"tangles\": 2, \"class\": \"fork\"}, {\"x\": -5.895703725534268, \"y\": 2.248171732453347, \"tangles\": 2, \"class\": \"fork\"}, {\"x\": -4.160822096796223, \"y\": -0.23618089978560272, \"tangles\": 0, \"class\": \"fork\"}, {\"x\": -7.33422393116959, \"y\": -1.8270962562249544, \"tangles\": 0, \"class\": \"fork\"}, {\"x\": -6.191162625807432, \"y\": 1.109859634835658, \"tangles\": 2, \"class\": \"fork\"}, {\"x\": -5.392521890609663, \"y\": 1.8698344927162598, \"tangles\": 0, \"class\": \"fork\"}, {\"x\": 9.486316204806183, \"y\": -2.531546741049008, \"tangles\": 3, \"class\": \"hay\"}, {\"x\": 6.047165826836446, \"y\": 0.7910990745509886, \"tangles\": 1, \"class\": \"hay\"}, {\"x\": 6.331985237974744, \"y\": -0.16223559237663038, \"tangles\": 1, \"class\": \"hay\"}, {\"x\": 4.310598964893779, \"y\": 6.377171051827638, \"tangles\": 1, \"class\": \"pitchfork\"}, {\"x\": 1.9724025828806082, \"y\": 4.684491712906552, \"tangles\": 1, \"class\": \"pitchfork\"}, {\"x\": 2.21298363183726, \"y\": 4.239859488663659, \"tangles\": 1, \"class\": \"pitchfork\"}, {\"x\": 3.123984585149589, \"y\": 3.5208247267234727, \"tangles\": 1, \"class\": \"pitchfork\"}, {\"x\": 1.4212455022900616, \"y\": 3.6287620769081967, \"tangles\": 1, \"class\": \"pitchfork\"}, {\"x\": 3.6177694925218704, \"y\": 6.324157748651405, \"tangles\": 1, \"class\": \"pitchfork\"}, {\"x\": 4.214203153288374, \"y\": -1.4590432746088677, \"tangles\": 3, \"class\": \"straw\"}, {\"x\": 6.553785602882738, \"y\": 0.49805127724949083, \"tangles\": 3, \"class\": \"straw\"}, {\"x\": 7.354832424430136, \"y\": -1.047777531726517, \"tangles\": 3, \"class\": \"straw\"}]}}, {\"mode\": \"vega-lite\"});\n",
       "</script>"
      ],
      "text/plain": [
       "alt.Chart(...)"
      ]
     },
     "metadata": {},
     "output_type": "display_data"
    }
   ],
   "source": [
    "#plt.scatter(embedding_in_imageset[:, 0], embedding_in_imageset[:, 1], marker=u\"+\")\n",
    "classes = [ines_data.image_info[i][\"class\"] for i in indices_in_imageset]\n",
    "df_plot = pd.DataFrame({\"x\": embedding_in_imageset[:, 0], \"y\": embedding_in_imageset[:, 1], \"tangles\": tangles_pred_in_imageset.astype(int), \"class\": classes})\n",
    "alt.Chart(df_plot).mark_circle(size=70).encode(x=\"x\", y=\"y\", color=\"tangles:N\").display()\n",
    "alt.Chart(df_plot).mark_circle(size=70).encode(x=\"x\", y=\"y\", color=\"class\").display()"
   ]
  },
  {
   "cell_type": "code",
   "execution_count": 79,
   "metadata": {},
   "outputs": [
    {
     "data": {
      "text/html": [
       "<div>\n",
       "<style scoped>\n",
       "    .dataframe tbody tr th:only-of-type {\n",
       "        vertical-align: middle;\n",
       "    }\n",
       "\n",
       "    .dataframe tbody tr th {\n",
       "        vertical-align: top;\n",
       "    }\n",
       "\n",
       "    .dataframe thead th {\n",
       "        text-align: right;\n",
       "    }\n",
       "</style>\n",
       "<table border=\"1\" class=\"dataframe\">\n",
       "  <thead>\n",
       "    <tr style=\"text-align: right;\">\n",
       "      <th></th>\n",
       "      <th>subj</th>\n",
       "      <th>age</th>\n",
       "      <th>session</th>\n",
       "      <th>trial</th>\n",
       "      <th>RT</th>\n",
       "      <th>response</th>\n",
       "      <th>imagenameleft</th>\n",
       "      <th>imagenamemiddle</th>\n",
       "      <th>imagenameright</th>\n",
       "      <th>imageset</th>\n",
       "      <th>vp_number</th>\n",
       "      <th>exp_kind</th>\n",
       "      <th>triplet_left</th>\n",
       "      <th>triplet_middle</th>\n",
       "      <th>triplet_right</th>\n",
       "      <th>triplet_response</th>\n",
       "    </tr>\n",
       "  </thead>\n",
       "  <tbody>\n",
       "    <tr>\n",
       "      <th>4</th>\n",
       "      <td>1.0</td>\n",
       "      <td>27.0</td>\n",
       "      <td>odd</td>\n",
       "      <td>5.0</td>\n",
       "      <td>1.705614</td>\n",
       "      <td>middle</td>\n",
       "      <td>pitchfork_02s.jpg</td>\n",
       "      <td>hay_10s_cut.jpg</td>\n",
       "      <td>pitchfork_09s.jpg</td>\n",
       "      <td>thematic</td>\n",
       "      <td>1</td>\n",
       "      <td>odd</td>\n",
       "      <td>48</td>\n",
       "      <td>20</td>\n",
       "      <td>51</td>\n",
       "      <td>1</td>\n",
       "    </tr>\n",
       "    <tr>\n",
       "      <th>11</th>\n",
       "      <td>1.0</td>\n",
       "      <td>27.0</td>\n",
       "      <td>odd</td>\n",
       "      <td>12.0</td>\n",
       "      <td>3.303421</td>\n",
       "      <td>left</td>\n",
       "      <td>fork_plastic_light.jpg</td>\n",
       "      <td>pitchfork_03s.jpg</td>\n",
       "      <td>hay_03s.jpg</td>\n",
       "      <td>thematic</td>\n",
       "      <td>1</td>\n",
       "      <td>odd</td>\n",
       "      <td>16</td>\n",
       "      <td>49</td>\n",
       "      <td>19</td>\n",
       "      <td>0</td>\n",
       "    </tr>\n",
       "    <tr>\n",
       "      <th>12</th>\n",
       "      <td>1.0</td>\n",
       "      <td>27.0</td>\n",
       "      <td>odd</td>\n",
       "      <td>13.0</td>\n",
       "      <td>2.183908</td>\n",
       "      <td>right</td>\n",
       "      <td>pitchfork_04s.jpg</td>\n",
       "      <td>straw_01.jpg</td>\n",
       "      <td>fork_06s.jpg</td>\n",
       "      <td>thematic</td>\n",
       "      <td>1</td>\n",
       "      <td>odd</td>\n",
       "      <td>50</td>\n",
       "      <td>62</td>\n",
       "      <td>14</td>\n",
       "      <td>2</td>\n",
       "    </tr>\n",
       "    <tr>\n",
       "      <th>16</th>\n",
       "      <td>1.0</td>\n",
       "      <td>27.0</td>\n",
       "      <td>odd</td>\n",
       "      <td>17.0</td>\n",
       "      <td>1.772773</td>\n",
       "      <td>middle</td>\n",
       "      <td>straw_01.jpg</td>\n",
       "      <td>fork_05s.jpg</td>\n",
       "      <td>straw_hay_01b.jpg</td>\n",
       "      <td>thematic</td>\n",
       "      <td>1</td>\n",
       "      <td>odd</td>\n",
       "      <td>62</td>\n",
       "      <td>13</td>\n",
       "      <td>64</td>\n",
       "      <td>1</td>\n",
       "    </tr>\n",
       "    <tr>\n",
       "      <th>26</th>\n",
       "      <td>1.0</td>\n",
       "      <td>27.0</td>\n",
       "      <td>odd</td>\n",
       "      <td>27.0</td>\n",
       "      <td>3.083185</td>\n",
       "      <td>right</td>\n",
       "      <td>hay_10s_cut.jpg</td>\n",
       "      <td>straw_01.jpg</td>\n",
       "      <td>pitchfork_16s.jpg</td>\n",
       "      <td>thematic</td>\n",
       "      <td>1</td>\n",
       "      <td>odd</td>\n",
       "      <td>20</td>\n",
       "      <td>62</td>\n",
       "      <td>53</td>\n",
       "      <td>2</td>\n",
       "    </tr>\n",
       "    <tr>\n",
       "      <th>...</th>\n",
       "      <td>...</td>\n",
       "      <td>...</td>\n",
       "      <td>...</td>\n",
       "      <td>...</td>\n",
       "      <td>...</td>\n",
       "      <td>...</td>\n",
       "      <td>...</td>\n",
       "      <td>...</td>\n",
       "      <td>...</td>\n",
       "      <td>...</td>\n",
       "      <td>...</td>\n",
       "      <td>...</td>\n",
       "      <td>...</td>\n",
       "      <td>...</td>\n",
       "      <td>...</td>\n",
       "      <td>...</td>\n",
       "    </tr>\n",
       "    <tr>\n",
       "      <th>753</th>\n",
       "      <td>1.0</td>\n",
       "      <td>27.0</td>\n",
       "      <td>odd</td>\n",
       "      <td>242.0</td>\n",
       "      <td>2.383371</td>\n",
       "      <td>middle</td>\n",
       "      <td>pitchfork_15s.jpg</td>\n",
       "      <td>straw_01.jpg</td>\n",
       "      <td>pitchfork_16s.jpg</td>\n",
       "      <td>thematic</td>\n",
       "      <td>1</td>\n",
       "      <td>odd</td>\n",
       "      <td>52</td>\n",
       "      <td>62</td>\n",
       "      <td>53</td>\n",
       "      <td>1</td>\n",
       "    </tr>\n",
       "    <tr>\n",
       "      <th>754</th>\n",
       "      <td>1.0</td>\n",
       "      <td>27.0</td>\n",
       "      <td>odd</td>\n",
       "      <td>243.0</td>\n",
       "      <td>0.794440</td>\n",
       "      <td>right</td>\n",
       "      <td>straw_hay_01b.jpg</td>\n",
       "      <td>straw_02.jpg</td>\n",
       "      <td>dishwasher_07s.jpg</td>\n",
       "      <td>thematic</td>\n",
       "      <td>1</td>\n",
       "      <td>odd</td>\n",
       "      <td>64</td>\n",
       "      <td>63</td>\n",
       "      <td>8</td>\n",
       "      <td>2</td>\n",
       "    </tr>\n",
       "    <tr>\n",
       "      <th>755</th>\n",
       "      <td>1.0</td>\n",
       "      <td>27.0</td>\n",
       "      <td>odd</td>\n",
       "      <td>244.0</td>\n",
       "      <td>1.252807</td>\n",
       "      <td>middle</td>\n",
       "      <td>dishwasher_03s.jpg</td>\n",
       "      <td>hay_02s.jpg</td>\n",
       "      <td>dishwasher_09s.jpg</td>\n",
       "      <td>thematic</td>\n",
       "      <td>1</td>\n",
       "      <td>odd</td>\n",
       "      <td>6</td>\n",
       "      <td>18</td>\n",
       "      <td>9</td>\n",
       "      <td>1</td>\n",
       "    </tr>\n",
       "    <tr>\n",
       "      <th>757</th>\n",
       "      <td>1.0</td>\n",
       "      <td>27.0</td>\n",
       "      <td>odd</td>\n",
       "      <td>246.0</td>\n",
       "      <td>1.052448</td>\n",
       "      <td>middle</td>\n",
       "      <td>dishwasher_12n.jpg</td>\n",
       "      <td>fork_05s.jpg</td>\n",
       "      <td>dishwasher_09s.jpg</td>\n",
       "      <td>thematic</td>\n",
       "      <td>1</td>\n",
       "      <td>odd</td>\n",
       "      <td>11</td>\n",
       "      <td>13</td>\n",
       "      <td>9</td>\n",
       "      <td>1</td>\n",
       "    </tr>\n",
       "    <tr>\n",
       "      <th>763</th>\n",
       "      <td>1.0</td>\n",
       "      <td>27.0</td>\n",
       "      <td>odd</td>\n",
       "      <td>252.0</td>\n",
       "      <td>1.213846</td>\n",
       "      <td>left</td>\n",
       "      <td>fork_05s.jpg</td>\n",
       "      <td>straw_01.jpg</td>\n",
       "      <td>hay_03s.jpg</td>\n",
       "      <td>thematic</td>\n",
       "      <td>1</td>\n",
       "      <td>odd</td>\n",
       "      <td>13</td>\n",
       "      <td>62</td>\n",
       "      <td>19</td>\n",
       "      <td>0</td>\n",
       "    </tr>\n",
       "  </tbody>\n",
       "</table>\n",
       "<p>231 rows × 16 columns</p>\n",
       "</div>"
      ],
      "text/plain": [
       "     subj   age session  trial        RT response           imagenameleft  \\\n",
       "4     1.0  27.0     odd    5.0  1.705614   middle       pitchfork_02s.jpg   \n",
       "11    1.0  27.0     odd   12.0  3.303421     left  fork_plastic_light.jpg   \n",
       "12    1.0  27.0     odd   13.0  2.183908    right       pitchfork_04s.jpg   \n",
       "16    1.0  27.0     odd   17.0  1.772773   middle            straw_01.jpg   \n",
       "26    1.0  27.0     odd   27.0  3.083185    right         hay_10s_cut.jpg   \n",
       "..    ...   ...     ...    ...       ...      ...                     ...   \n",
       "753   1.0  27.0     odd  242.0  2.383371   middle       pitchfork_15s.jpg   \n",
       "754   1.0  27.0     odd  243.0  0.794440    right       straw_hay_01b.jpg   \n",
       "755   1.0  27.0     odd  244.0  1.252807   middle      dishwasher_03s.jpg   \n",
       "757   1.0  27.0     odd  246.0  1.052448   middle      dishwasher_12n.jpg   \n",
       "763   1.0  27.0     odd  252.0  1.213846     left            fork_05s.jpg   \n",
       "\n",
       "       imagenamemiddle      imagenameright  imageset vp_number exp_kind  \\\n",
       "4      hay_10s_cut.jpg   pitchfork_09s.jpg  thematic         1      odd   \n",
       "11   pitchfork_03s.jpg         hay_03s.jpg  thematic         1      odd   \n",
       "12        straw_01.jpg        fork_06s.jpg  thematic         1      odd   \n",
       "16        fork_05s.jpg   straw_hay_01b.jpg  thematic         1      odd   \n",
       "26        straw_01.jpg   pitchfork_16s.jpg  thematic         1      odd   \n",
       "..                 ...                 ...       ...       ...      ...   \n",
       "753       straw_01.jpg   pitchfork_16s.jpg  thematic         1      odd   \n",
       "754       straw_02.jpg  dishwasher_07s.jpg  thematic         1      odd   \n",
       "755        hay_02s.jpg  dishwasher_09s.jpg  thematic         1      odd   \n",
       "757       fork_05s.jpg  dishwasher_09s.jpg  thematic         1      odd   \n",
       "763       straw_01.jpg         hay_03s.jpg  thematic         1      odd   \n",
       "\n",
       "     triplet_left  triplet_middle  triplet_right  triplet_response  \n",
       "4              48              20             51                 1  \n",
       "11             16              49             19                 0  \n",
       "12             50              62             14                 2  \n",
       "16             62              13             64                 1  \n",
       "26             20              62             53                 2  \n",
       "..            ...             ...            ...               ...  \n",
       "753            52              62             53                 1  \n",
       "754            64              63              8                 2  \n",
       "755             6              18              9                 1  \n",
       "757            11              13              9                 1  \n",
       "763            13              62             19                 0  \n",
       "\n",
       "[231 rows x 16 columns]"
      ]
     },
     "execution_count": 79,
     "metadata": {},
     "output_type": "execute_result"
    }
   ],
   "source": [
    "df_filtered"
   ]
  },
  {
   "cell_type": "code",
   "execution_count": 64,
   "metadata": {},
   "outputs": [],
   "source": [
    "cuts = triplets_to_majority_neighbour_cuts(t, radius = 1/4)\n",
    "\n",
    "for a in range(3,10):\n",
    "    for radius in [1/4, 1/3, 1/2, 1]:\n",
    "        cuts = triplets_to_majority_neighbour_cuts(t, radius = radius)\n",
    "        tangles_pred = OrdinalTangles(a).fit_predict(cuts)\n",
    "        tangles_pred_in_imageset = tangles_pred[indices_in_imageset]\n",
    "        df_plot = pd.DataFrame({\"x\": embedding_in_imageset[:, 0], \"y\": embedding_in_imageset[:, 1], \"tangles\": tangles_pred_in_imageset.astype(int), \"class\": classes})\n",
    "        alt.Chart(df_plot).mark_circle(size=70).encode(x=\"x\", y=\"y\", color=\"tangles:N\").properties(title=f\"a={a}, radius={radius}\")#.display()"
   ]
  },
  {
   "cell_type": "markdown",
   "metadata": {},
   "source": [
    "We can see that a radius of 1 is generally okay. Lowering the radius makes the cuts lower, but that is not that important, since the tangles-algorithm does its work.\n",
    "\n",
    "Maybe soft cuts can really shine here."
   ]
  },
  {
   "cell_type": "code",
   "execution_count": 78,
   "metadata": {},
   "outputs": [
    {
     "data": {
      "image/png": "[encoded data removed]",
      "text/plain": [
       "<Figure size 360x360 with 1 Axes>"
      ]
     },
     "metadata": {},
     "output_type": "display_data"
    },
    {
     "data": {
      "image/png": "[encoded data removed]",
      "text/plain": [
       "<Figure size 360x360 with 2 Axes>"
      ]
     },
     "metadata": {},
     "output_type": "display_data"
    },
    {
     "data": {
      "image/png": "[encoded data removed]",
      "text/plain": [
       "<Figure size 360x360 with 2 Axes>"
      ]
     },
     "metadata": {},
     "output_type": "display_data"
    },
    {
     "data": {
      "image/png": "[encoded data removed]",
      "text/plain": [
       "<Figure size 360x360 with 2 Axes>"
      ]
     },
     "metadata": {},
     "output_type": "display_data"
    },
    {
     "data": {
      "image/png": "[encoded data removed]",
      "text/plain": [
       "<Figure size 360x360 with 2 Axes>"
      ]
     },
     "metadata": {},
     "output_type": "display_data"
    },
    {
     "data": {
      "image/png": "[encoded data removed]",
      "text/plain": [
       "<Figure size 360x360 with 2 Axes>"
      ]
     },
     "metadata": {},
     "output_type": "display_data"
    },
    {
     "data": {
      "image/png": "[encoded data removed]",
      "text/plain": [
       "<Figure size 360x360 with 2 Axes>"
      ]
     },
     "metadata": {},
     "output_type": "display_data"
    },
    {
     "data": {
      "image/png": "[encoded data removed]",
      "text/plain": [
       "<Figure size 360x360 with 2 Axes>"
      ]
     },
     "metadata": {},
     "output_type": "display_data"
    }
   ],
   "source": [
    "aux_data = Data(embedding, np.ones(cuts.shape[0]))\n",
    "plot_soft_predictions(aux_data, tangles.contracted_tangles_tree_, tangles.cuts_.values)\n"
   ]
  }
 ],
 "metadata": {
  "interpreter": {
   "hash": "b3df0bc9139dfbbc2bb43367c6e0b1c6fcd610288dc61cb8c73318fe0a42d151"
  },
  "kernelspec": {
   "display_name": "Python 3.9.7 ('tangles-thesis')",
   "language": "python",
   "name": "python3"
  },
  "language_info": {
   "codemirror_mode": {
    "name": "ipython",
    "version": 3
   },
   "file_extension": ".py",
   "mimetype": "text/x-python",
   "name": "python",
   "nbconvert_exporter": "python",
   "pygments_lexer": "ipython3",
   "version": "3.9.7"
  },
  "orig_nbformat": 4
 },
 "nbformat": 4,
 "nbformat_minor": 2
}
