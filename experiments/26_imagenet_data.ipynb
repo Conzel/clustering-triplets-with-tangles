{
 "cells": [
  {
   "cell_type": "markdown",
   "metadata": {},
   "source": [
    "# Imagenet data\n",
    "We will now do a similar spiel with the imagenet data from cblearn."
   ]
  },
  {
   "cell_type": "code",
   "execution_count": 41,
   "metadata": {},
   "outputs": [],
   "source": [
    "import sys\n",
    "sys.path.append(\"..\")\n",
    "from pathlib import Path\n",
    "import pandas as pd\n",
    "import re\n",
    "import numpy as np\n",
    "import altair as alt\n",
    "from typing import Optional\n",
    "from tangles.plotting import plot_soft_predictions\n",
    "from estimators import SoeKmeans\n",
    "from tangles.data_types import Data\n",
    "from sklearn.utils import Bunch\n",
    "from cblearn.embedding import SOE\n",
    "from cblearn.preprocessing import triplets_from_mostcentral, triplets_from_oddoneout, triplets_from_multiselect\n",
    "from cblearn.datasets import fetch_imagenet_similarity\n",
    "from imagenet_class_mapping import LABEL_TO_HUMAN_DICT, COCO_IMAGENET_REVERSE_DICT\n",
    "import matplotlib.pyplot as plt\n",
    "from triplets import triplets_to_majority_neighbour_cuts\n",
    "from estimators import OrdinalTangles"
   ]
  },
  {
   "cell_type": "code",
   "execution_count": 42,
   "metadata": {},
   "outputs": [],
   "source": [
    "data = fetch_imagenet_similarity(version=\"0.1\")\n",
    "triplets = triplets_from_multiselect(data.data, select=2, is_ranked=True)\n",
    "cuts = triplets_to_majority_neighbour_cuts(triplets, radius=1/2)"
   ]
  },
  {
   "cell_type": "code",
   "execution_count": 43,
   "metadata": {},
   "outputs": [],
   "source": [
    "cuts_small = cuts[:, :999]\n",
    "tangles = OrdinalTangles(25)\n",
    "y_pred = tangles.fit_predict(cuts_small)"
   ]
  },
  {
   "cell_type": "code",
   "execution_count": 58,
   "metadata": {},
   "outputs": [
    {
     "name": "stdout",
     "output_type": "stream",
     "text": [
      "['None', 'None', 'None', 'None', 'None', 'None', 'None', 'None', 'bird', 'None']\n"
     ]
    }
   ],
   "source": [
    "classes = []\n",
    "coco = True\n",
    "\n",
    "for i in data.class_label:\n",
    "    if coco:\n",
    "        label = COCO_IMAGENET_REVERSE_DICT.get(i, \"None\")\n",
    "    else:\n",
    "        label = LABEL_TO_HUMAN_DICT.get(i, \"None\")\n",
    "    classes.append(label)\n",
    "print(classes[:10])\n",
    "\n",
    "def filter_none(xs):\n",
    "    return list(filter(lambda x: x != \"None\", list(xs)))\n",
    "\n",
    "classes = np.array(classes)"
   ]
  },
  {
   "cell_type": "code",
   "execution_count": 59,
   "metadata": {},
   "outputs": [
    {
     "name": "stdout",
     "output_type": "stream",
     "text": [
      "0\n",
      "['dog', 'dog', 'dog', 'dog', 'dog', 'dog', 'dog', 'dog', 'dog', 'dog', 'dog', 'dog', 'dog', 'dog', 'dog', 'dog', 'dog', 'dog', 'dog', 'dog', 'dog', 'cat']\n",
      "1\n",
      "['bicycle', 'bottle', 'bottle', 'bottle', 'bottle']\n",
      "2\n",
      "['bird', 'bird', 'bird']\n",
      "3\n",
      "['bird', 'dog', 'chair', 'chair', 'keyboard', 'clock']\n",
      "4\n",
      "['bird', 'dog', 'cat', 'bear', 'clock']\n",
      "5\n",
      "['dog', 'bottle', 'boat']\n",
      "6\n",
      "[]\n",
      "7\n",
      "['bird']\n",
      "8\n",
      "['truck', 'bicycle', 'truck']\n",
      "9\n",
      "['dog', 'truck']\n",
      "10\n",
      "['dog', 'truck']\n",
      "11\n",
      "['boat']\n",
      "12\n",
      "['bird', 'dog', 'dog']\n",
      "13\n",
      "['car', 'car', 'truck']\n",
      "14\n",
      "['airplane', 'keyboard']\n",
      "15\n",
      "['bird']\n",
      "16\n",
      "['bird', 'bird', 'bird', 'bird', 'bird', 'bird', 'bird', 'bird', 'bird', 'bird', 'bird', 'bird', 'bird', 'bird', 'bird', 'bird', 'bird', 'bird', 'bird', 'bird', 'bird', 'bird', 'bird', 'bird', 'bird', 'bird', 'bird', 'bird', 'bird', 'bird', 'bird', 'bird', 'bird', 'bird', 'bird', 'bird', 'bird', 'bird', 'bird', 'bird', 'bird', 'dog', 'dog', 'dog', 'dog', 'dog', 'dog', 'dog', 'dog', 'dog', 'dog', 'dog', 'dog', 'dog', 'dog', 'dog', 'dog', 'dog', 'dog', 'dog', 'dog', 'dog', 'dog', 'dog', 'dog', 'dog', 'dog', 'dog', 'dog', 'dog', 'dog', 'dog', 'dog', 'dog', 'dog', 'dog', 'dog', 'dog', 'dog', 'dog', 'dog', 'dog', 'dog', 'dog', 'dog', 'dog', 'dog', 'dog', 'dog', 'dog', 'dog', 'dog', 'dog', 'dog', 'dog', 'dog', 'dog', 'dog', 'dog', 'dog', 'dog', 'dog', 'dog', 'dog', 'dog', 'dog', 'dog', 'dog', 'dog', 'dog', 'dog', 'dog', 'dog', 'dog', 'dog', 'dog', 'dog', 'dog', 'dog', 'dog', 'dog', 'dog', 'cat', 'cat', 'cat', 'cat', 'bear', 'bear', 'bear', 'elephant', 'elephant', 'chair', 'boat', 'knife', 'clock', 'truck', 'chair', 'bottle', 'truck', 'oven', 'boat', 'car', 'truck', 'bottle', 'boat']\n"
     ]
    }
   ],
   "source": [
    "for class_id in range(np.unique(y_pred).max() + 1):\n",
    "    print(class_id)\n",
    "    print(filter_none(classes[y_pred == class_id]))"
   ]
  },
  {
   "cell_type": "code",
   "execution_count": 60,
   "metadata": {},
   "outputs": [],
   "source": [
    "embedding = SoeKmeans(embedding_dimension=10, n_clusters=12)\n",
    "y_soe_kmeans = embedding.fit_predict(triplets, np.ones(triplets.shape[0]))"
   ]
  },
  {
   "cell_type": "code",
   "execution_count": 61,
   "metadata": {},
   "outputs": [
    {
     "name": "stdout",
     "output_type": "stream",
     "text": [
      "0\n",
      "['dog', 'dog', 'dog', 'dog', 'dog', 'dog', 'dog', 'dog', 'dog', 'dog', 'dog', 'dog', 'dog', 'dog', 'dog', 'dog', 'dog', 'dog', 'dog', 'dog', 'dog', 'cat']\n",
      "1\n",
      "['bicycle', 'bottle', 'bottle', 'bottle', 'bottle']\n",
      "2\n",
      "['bird', 'bird', 'bird']\n",
      "3\n",
      "['bird', 'dog', 'chair', 'chair', 'keyboard', 'clock']\n",
      "4\n",
      "['bird', 'dog', 'cat', 'bear', 'clock']\n",
      "5\n",
      "['dog', 'bottle', 'boat']\n",
      "6\n",
      "[]\n",
      "7\n",
      "['bird']\n",
      "8\n",
      "['truck', 'bicycle', 'truck']\n",
      "9\n",
      "['dog', 'truck']\n",
      "10\n",
      "['dog', 'truck']\n",
      "11\n",
      "['boat']\n"
     ]
    }
   ],
   "source": [
    "for class_id in range(12):\n",
    "    print(class_id)\n",
    "    print(filter_none(classes[y_soe_kmeans == class_id]))"
   ]
  }
 ],
 "metadata": {
  "interpreter": {
   "hash": "b3df0bc9139dfbbc2bb43367c6e0b1c6fcd610288dc61cb8c73318fe0a42d151"
  },
  "kernelspec": {
   "display_name": "Python 3.9.7 ('tangles-thesis')",
   "language": "python",
   "name": "python3"
  },
  "language_info": {
   "codemirror_mode": {
    "name": "ipython",
    "version": 3
   },
   "file_extension": ".py",
   "mimetype": "text/x-python",
   "name": "python",
   "nbconvert_exporter": "python",
   "pygments_lexer": "ipython3",
   "version": "3.9.7"
  },
  "orig_nbformat": 4
 },
 "nbformat": 4,
 "nbformat_minor": 2
}
