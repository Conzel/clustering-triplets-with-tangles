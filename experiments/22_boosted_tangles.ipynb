{
 "cells": [
  {
   "cell_type": "markdown",
   "metadata": {},
   "source": [
    "# Boosted Tangles\n",
    "We had the idea of using a kind of boosting tactic with Tangles: As the cuts can come from multiple sources, just in principle, it might be a good idea to use Tangles as a clustering algorithm for the embeddings, especially in cases where SOE-kMeans has a high variance in its results."
   ]
  },
  {
   "cell_type": "code",
   "execution_count": 16,
   "metadata": {},
   "outputs": [],
   "source": [
    "import sys\n",
    "sys.path.append(\"..\")\n",
    "import numpy as np\n",
    "import pandas as pd\n",
    "import altair as alt\n",
    "import cblearn.datasets as datasets\n",
    "from cblearn.datasets import make_random_triplets\n",
    "from data_generation import generate_gmm_data_fixed_means\n",
    "from sklearn.metrics import pairwise_distances\n",
    "from questionnaire import Questionnaire, unify_triplet_order \n",
    "from estimators import OrdinalTangles, SoeKmeans\n",
    "from cblearn.embedding import SOE\n",
    "from sklearn.cluster import KMeans\n",
    "from sklearn.metrics import normalized_mutual_info_score\n",
    "from plotting import AltairPlotter\n",
    "from sklearn.neighbors import DistanceMetric"
   ]
  },
  {
   "cell_type": "code",
   "execution_count": 17,
   "metadata": {},
   "outputs": [],
   "source": [
    "seed = 8\n",
    "data = generate_gmm_data_fixed_means(n=50, means=np.array([[-6,3], [6,3], [-6,-3]]), std=2, seed=seed)"
   ]
  },
  {
   "cell_type": "code",
   "execution_count": 18,
   "metadata": {},
   "outputs": [],
   "source": [
    "soe_embedding_dim = 2\n",
    "n_triplets = 5000"
   ]
  },
  {
   "cell_type": "code",
   "execution_count": 19,
   "metadata": {},
   "outputs": [
    {
     "name": "stdout",
     "output_type": "stream",
     "text": [
      "SOE NMI average: 0.8598562037168284 std: 0.0191232120716224\n"
     ]
    }
   ],
   "source": [
    "cut_list = []\n",
    "soe_kmeans_nmi = []\n",
    "n_iterations = 10\n",
    "\n",
    "for i in range(n_iterations):\n",
    "    triplets, responses = make_random_triplets(data.xs, \"list-boolean\", size=n_triplets, random_state=i)\n",
    "    soe_kmeans = SoeKmeans(embedding_dimension=soe_embedding_dim, n_clusters=3)\n",
    "    ys_soe = soe_kmeans.fit_predict(triplets, responses)\n",
    "    soe_kmeans_nmi.append(normalized_mutual_info_score(data.ys, ys_soe))\n",
    "\n",
    "    q = Questionnaire.from_metric(soe_kmeans.embedding_, density=0.01, verbose=False)\n",
    "    cut_list.append(q.values)\n",
    "\n",
    "print(f\"SOE NMI average: {np.mean(soe_kmeans_nmi)} std: {np.std(soe_kmeans_nmi)}\") \n"
   ]
  },
  {
   "cell_type": "code",
   "execution_count": 20,
   "metadata": {},
   "outputs": [
    {
     "name": "stdout",
     "output_type": "stream",
     "text": [
      "NMI boost: 0.6565191143081124 (2)\n"
     ]
    },
    {
     "data": {
      "text/plain": [
       "(150, 1120)"
      ]
     },
     "execution_count": 20,
     "metadata": {},
     "output_type": "execute_result"
    }
   ],
   "source": [
    "boosted_cuts = np.hstack(cut_list)\n",
    "tangles_boost = OrdinalTangles(20)\n",
    "ys_boost = tangles_boost.fit_predict(np.hstack(cut_list))\n",
    "print(f\"NMI boost: {normalized_mutual_info_score(data.ys, ys_boost)} ({np.unique(ys_boost).size})\")\n",
    "boosted_cuts.shape"
   ]
  },
  {
   "cell_type": "code",
   "execution_count": 21,
   "metadata": {},
   "outputs": [
    {
     "name": "stdout",
     "output_type": "stream",
     "text": [
      "Avg. SOE NMI with 50000 triplets: 0.8787991197048033, std: 0.009566855317196449\n"
     ]
    }
   ],
   "source": [
    "nmis = []\n",
    "\n",
    "for j in range(10):\n",
    "    triplets, responses = make_random_triplets(data.xs, \"list-boolean\", size=n_triplets * n_iterations, random_state=j)\n",
    "    soe_kmeans = SoeKmeans(embedding_dimension=soe_embedding_dim, n_clusters=3)\n",
    "    ys_soe = soe_kmeans.fit_predict(triplets, responses)\n",
    "\n",
    "    nmis.append(normalized_mutual_info_score(data.ys, ys_soe))\n",
    "\n",
    "print(f\"Avg. SOE NMI with {n_triplets * n_iterations} triplets: {np.mean(nmis)}, std: {np.std(nmis)}\")\n"
   ]
  },
  {
   "cell_type": "markdown",
   "metadata": {},
   "source": [
    "We assume that it could be the euclidean bias being mean to us here. "
   ]
  },
  {
   "cell_type": "code",
   "execution_count": 22,
   "metadata": {},
   "outputs": [
    {
     "data": {
      "text/html": [
       "\n",
       "<div id=\"altair-viz-1476e832dcda4d1b802de91cbc9d7dbf\"></div>\n",
       "<script type=\"text/javascript\">\n",
       "  (function(spec, embedOpt){\n",
       "    let outputDiv = document.currentScript.previousElementSibling;\n",
       "    if (outputDiv.id !== \"altair-viz-1476e832dcda4d1b802de91cbc9d7dbf\") {\n",
       "      outputDiv = document.getElementById(\"altair-viz-1476e832dcda4d1b802de91cbc9d7dbf\");\n",
       "    }\n",
       "    const paths = {\n",
       "      \"vega\": \"https://cdn.jsdelivr.net/npm//vega@5?noext\",\n",
       "      \"vega-lib\": \"https://cdn.jsdelivr.net/npm//vega-lib?noext\",\n",
       "      \"vega-lite\": \"https://cdn.jsdelivr.net/npm//vega-lite@4.8.1?noext\",\n",
       "      \"vega-embed\": \"https://cdn.jsdelivr.net/npm//vega-embed@6?noext\",\n",
       "    };\n",
       "\n",
       "    function loadScript(lib) {\n",
       "      return new Promise(function(resolve, reject) {\n",
       "        var s = document.createElement('script');\n",
       "        s.src = paths[lib];\n",
       "        s.async = true;\n",
       "        s.onload = () => resolve(paths[lib]);\n",
       "        s.onerror = () => reject(`Error loading script: ${paths[lib]}`);\n",
       "        document.getElementsByTagName(\"head\")[0].appendChild(s);\n",
       "      });\n",
       "    }\n",
       "\n",
       "    function showError(err) {\n",
       "      outputDiv.innerHTML = `<div class=\"error\" style=\"color:red;\">${err}</div>`;\n",
       "      throw err;\n",
       "    }\n",
       "\n",
       "    function displayChart(vegaEmbed) {\n",
       "      vegaEmbed(outputDiv, spec, embedOpt)\n",
       "        .catch(err => showError(`Javascript Error: ${err.message}<br>This usually means there's a typo in your chart specification. See the javascript console for the full traceback.`));\n",
       "    }\n",
       "\n",
       "    if(typeof define === \"function\" && define.amd) {\n",
       "      requirejs.config({paths});\n",
       "      require([\"vega-embed\"], displayChart, err => showError(`Error loading script: ${err.message}`));\n",
       "    } else if (typeof vegaEmbed === \"function\") {\n",
       "      displayChart(vegaEmbed);\n",
       "    } else {\n",
       "      loadScript(\"vega\")\n",
       "        .then(() => loadScript(\"vega-lite\"))\n",
       "        .then(() => loadScript(\"vega-embed\"))\n",
       "        .catch(showError)\n",
       "        .then(() => displayChart(vegaEmbed));\n",
       "    }\n",
       "  })({\"config\": {\"view\": {\"continuousWidth\": 400, \"continuousHeight\": 300}}, \"data\": {\"name\": \"data-40f276b628d5fd8079f87e06e5a035f3\"}, \"mark\": \"point\", \"encoding\": {\"color\": {\"type\": \"nominal\", \"field\": \"predicted\", \"scale\": {\"scheme\": \"dark2\"}}, \"x\": {\"type\": \"quantitative\", \"field\": \"x\"}, \"y\": {\"type\": \"quantitative\", \"field\": \"y\"}}, \"$schema\": \"https://vega.github.io/schema/vega-lite/v4.8.1.json\", \"datasets\": {\"data-40f276b628d5fd8079f87e06e5a035f3\": [{\"x\": -5.8175905667603605, \"y\": 5.1825654665442205, \"predicted\": 0}, {\"x\": -9.893940618045093, \"y\": 0.22730093552612152, \"predicted\": 0}, {\"x\": -10.592983148404327, \"y\": 7.8196686066830825, \"predicted\": 0}, {\"x\": -2.5443276628401614, \"y\": 7.40911256911227, \"predicted\": 0}, {\"x\": -4.410344721303198, \"y\": 4.952842192801881, \"predicted\": 0}, {\"x\": -8.36685429466603, \"y\": 6.832727221070959, \"predicted\": 0}, {\"x\": -8.246653601102278, \"y\": 1.6719290608317892, \"predicted\": 0}, {\"x\": -6.756717140737118, \"y\": 1.4167694570073275, \"predicted\": 0}, {\"x\": -4.280903781639253, \"y\": 2.53842200902883, \"predicted\": 0}, {\"x\": -6.1313220562095845, \"y\": 2.5827275305356876, \"predicted\": 0}, {\"x\": -3.3062628597719006, \"y\": 1.7860944052857533, \"predicted\": 0}, {\"x\": -6.348496427289264, \"y\": 3.8481028420634456, \"predicted\": 0}, {\"x\": -9.291980209647523, \"y\": 2.0329181000694194, \"predicted\": 0}, {\"x\": -4.929063499968476, \"y\": 5.332280972747434, \"predicted\": 0}, {\"x\": -5.67663378250984, \"y\": 1.6543321458529017, \"predicted\": 0}, {\"x\": -3.1149517366331905, \"y\": 2.5570387781363517, \"predicted\": 0}, {\"x\": -5.937471372627707, \"y\": 3.363859176060208, \"predicted\": 0}, {\"x\": -6.125857459731591, \"y\": 1.9168630800261455, \"predicted\": 0}, {\"x\": -5.050963164230097, \"y\": 0.6708176557530456, \"predicted\": 0}, {\"x\": -7.001818781142854, \"y\": 2.1828780817850073, \"predicted\": 0}, {\"x\": -7.868696714338921, \"y\": 3.1690203080328945, \"predicted\": 0}, {\"x\": -5.712617963984105, \"y\": 3.151098882671317, \"predicted\": 0}, {\"x\": -6.311290192833044, \"y\": 4.101700112612651, \"predicted\": 0}, {\"x\": -2.595940088658509, \"y\": 5.012187405089142, \"predicted\": 0}, {\"x\": -12.269839535241267, \"y\": 5.279067000587777, \"predicted\": 0}, {\"x\": -9.739598717204068, \"y\": -0.5582260722875372, \"predicted\": 0}, {\"x\": -5.744474205414992, \"y\": 0.2979644803945609, \"predicted\": 0}, {\"x\": -2.8920656021441906, \"y\": 4.393931502855172, \"predicted\": 0}, {\"x\": -7.622922305140739, \"y\": -0.2865018577583096, \"predicted\": 0}, {\"x\": -5.338682263524135, \"y\": 5.4499125353135245, \"predicted\": 0}, {\"x\": -5.807656862754002, \"y\": 6.753630840561296, \"predicted\": 0}, {\"x\": -4.932438831176521, \"y\": 4.596720082036131, \"predicted\": 0}, {\"x\": -6.6121489994279035, \"y\": 3.7559477745830434, \"predicted\": 0}, {\"x\": -6.452956093283103, \"y\": -0.7714890853261327, \"predicted\": 0}, {\"x\": -1.0549780506625845, \"y\": 2.7062868256451065, \"predicted\": 0}, {\"x\": -5.768701604601362, \"y\": 5.660861244602856, \"predicted\": 0}, {\"x\": -5.780810575292935, \"y\": 3.4309581439137755, \"predicted\": 0}, {\"x\": -5.1418598244992015, \"y\": 0.6974687681930671, \"predicted\": 0}, {\"x\": -2.950493046526525, \"y\": 3.721071697010711, \"predicted\": 0}, {\"x\": -7.221786044968706, \"y\": 4.860492066801703, \"predicted\": 0}, {\"x\": -5.286973969515649, \"y\": 1.095678809408786, \"predicted\": 0}, {\"x\": -5.696144427490205, \"y\": 3.001269771942644, \"predicted\": 0}, {\"x\": -5.329953544722289, \"y\": 3.7495987758865343, \"predicted\": 0}, {\"x\": -4.572367684617822, \"y\": 0.598373041162624, \"predicted\": 0}, {\"x\": -5.9972376776889, \"y\": 1.157079946122064, \"predicted\": 0}, {\"x\": -5.007544267811592, \"y\": 0.33666666232053366, \"predicted\": 0}, {\"x\": -10.38114097619445, \"y\": 2.1278558704112593, \"predicted\": 0}, {\"x\": -0.9098255651588705, \"y\": 5.300162554696251, \"predicted\": 0}, {\"x\": -5.831109066426822, \"y\": 7.972495590197573, \"predicted\": 0}, {\"x\": -6.38871080522573, \"y\": 2.6275733049170285, \"predicted\": 0}, {\"x\": 7.707725714380923, \"y\": 3.6147574033275442, \"predicted\": 1}, {\"x\": 5.855515762342266, \"y\": 2.0623046651722077, \"predicted\": 1}, {\"x\": 5.869122188353461, \"y\": 5.105222227861045, \"predicted\": 1}, {\"x\": 3.3807335503875384, \"y\": 1.6625471957296885, \"predicted\": 1}, {\"x\": 8.682748140685405, \"y\": 8.062713686845445, \"predicted\": 1}, {\"x\": 2.318902920151238, \"y\": 3.8100823460985285, \"predicted\": 1}, {\"x\": 9.264601057059842, \"y\": 2.5545217113002234, \"predicted\": 1}, {\"x\": 4.844401673280518, \"y\": 5.48435152081378, \"predicted\": 1}, {\"x\": 4.893057802835165, \"y\": 1.554621157499938, \"predicted\": 1}, {\"x\": 4.8569007109966975, \"y\": 0.21999366494759354, \"predicted\": 1}, {\"x\": 1.2095737192992395, \"y\": 5.308032951810711, \"predicted\": 1}, {\"x\": 9.376190074247294, \"y\": 3.447571237630593, \"predicted\": 1}, {\"x\": 5.5967689773914495, \"y\": 3.9992902135770785, \"predicted\": 1}, {\"x\": 5.63732379931536, \"y\": -0.49963052260189755, \"predicted\": 1}, {\"x\": 3.579165532723069, \"y\": 3.8484830322112487, \"predicted\": 1}, {\"x\": 5.2223967710026145, \"y\": -0.11307157400598422, \"predicted\": 1}, {\"x\": 3.1215818470714467, \"y\": 4.897854622242489, \"predicted\": 1}, {\"x\": 2.9469356006198955, \"y\": 5.273740142581012, \"predicted\": 1}, {\"x\": 6.9690513288601394, \"y\": 0.9963267762258798, \"predicted\": 1}, {\"x\": 5.363090303775885, \"y\": 3.316252196985481, \"predicted\": 1}, {\"x\": 6.721720217480654, \"y\": 3.5109166523286475, \"predicted\": 1}, {\"x\": 8.852116001702983, \"y\": 4.854501427473217, \"predicted\": 1}, {\"x\": 4.978873071945047, \"y\": 2.6568657133282185, \"predicted\": 1}, {\"x\": 4.1792080057685155, \"y\": 1.954238261864898, \"predicted\": 1}, {\"x\": 6.147980266017567, \"y\": -1.6935661255245646, \"predicted\": 1}, {\"x\": 6.199491598518977, \"y\": 2.907239667303437, \"predicted\": 1}, {\"x\": 5.504727722965151, \"y\": 0.3892617671890193, \"predicted\": 1}, {\"x\": 4.847401996699352, \"y\": 1.4710593479130742, \"predicted\": 1}, {\"x\": 5.878501301528945, \"y\": -1.8689648531943517, \"predicted\": 1}, {\"x\": 5.338026539253864, \"y\": 3.9452827587181973, \"predicted\": 1}, {\"x\": 4.229663180851411, \"y\": 1.1119470759359482, \"predicted\": 1}, {\"x\": 7.469147078130073, \"y\": 8.285885849084375, \"predicted\": 1}, {\"x\": 7.223515983818592, \"y\": 4.315321031713062, \"predicted\": 1}, {\"x\": 6.092091961129856, \"y\": 4.540525252338632, \"predicted\": 1}, {\"x\": 7.186105452154886, \"y\": 1.133112842466289, \"predicted\": 1}, {\"x\": 6.75086649446957, \"y\": 4.83958153934017, \"predicted\": 1}, {\"x\": 4.571724964613196, \"y\": 3.7490121500231526, \"predicted\": 1}, {\"x\": 8.514397818295993, \"y\": 4.952207053463605, \"predicted\": 1}, {\"x\": 5.955563584596658, \"y\": 7.131872558320626, \"predicted\": 1}, {\"x\": 8.063813109720012, \"y\": 2.501330591532456, \"predicted\": 1}, {\"x\": 2.0618881521030223, \"y\": 2.3460633629341454, \"predicted\": 1}, {\"x\": 6.267878291889752, \"y\": 2.2376212175578925, \"predicted\": 1}, {\"x\": 6.049650086301428, \"y\": 6.276220601871765, \"predicted\": 1}, {\"x\": 7.639365790525499, \"y\": 5.692989556891634, \"predicted\": 1}, {\"x\": 3.250469521221363, \"y\": 3.0192624329258217, \"predicted\": 1}, {\"x\": 8.662866748007776, \"y\": 1.3448439059777484, \"predicted\": 1}, {\"x\": 9.869885488561323, \"y\": 0.4502154663715099, \"predicted\": 1}, {\"x\": 4.6862248800198545, \"y\": 6.026456092929552, \"predicted\": 1}, {\"x\": 1.6315393593945062, \"y\": 4.597821194885, \"predicted\": 1}, {\"x\": 3.4508231516498484, \"y\": 0.6541125702625177, \"predicted\": 1}, {\"x\": -5.940888643596563, \"y\": -3.1480861265358175, \"predicted\": 2}, {\"x\": -4.914337716556798, \"y\": -3.337766637293387, \"predicted\": 2}, {\"x\": -6.640518021360308, \"y\": -5.389105477716512, \"predicted\": 2}, {\"x\": -5.477084361831196, \"y\": -8.016342952396215, \"predicted\": 2}, {\"x\": -4.755691802693435, \"y\": -2.6155525068825813, \"predicted\": 2}, {\"x\": -3.292828127772412, \"y\": -0.21698327179425192, \"predicted\": 2}, {\"x\": -8.889830407793813, \"y\": -1.8499285403571852, \"predicted\": 2}, {\"x\": -7.630180613464932, \"y\": -4.043769705328864, \"predicted\": 2}, {\"x\": -4.481178727621986, \"y\": -2.1149910800031986, \"predicted\": 2}, {\"x\": -5.124137296639718, \"y\": -3.181565916132966, \"predicted\": 2}, {\"x\": -5.645919309446697, \"y\": -5.268281444211434, \"predicted\": 2}, {\"x\": -7.305440987094677, \"y\": -1.8164908975654752, \"predicted\": 2}, {\"x\": -8.379631374760287, \"y\": -4.29789888035915, \"predicted\": 2}, {\"x\": -4.528762262118665, \"y\": -3.111817798772461, \"predicted\": 2}, {\"x\": -7.678491436192967, \"y\": -2.4344806401525303, \"predicted\": 2}, {\"x\": -3.4192762566729664, \"y\": -4.991433136837346, \"predicted\": 2}, {\"x\": -9.068472595561868, \"y\": -2.789391834133294, \"predicted\": 2}, {\"x\": -7.769134516270812, \"y\": -3.7351132293858433, \"predicted\": 2}, {\"x\": -7.157261083533381, \"y\": -4.816086055499692, \"predicted\": 2}, {\"x\": -6.125536729493704, \"y\": -2.6640192124591233, \"predicted\": 2}, {\"x\": -8.243546660548796, \"y\": -1.0801136666730267, \"predicted\": 2}, {\"x\": -3.417733768473658, \"y\": -3.483003548210402, \"predicted\": 2}, {\"x\": -5.743000696707316, \"y\": -0.10228681531288641, \"predicted\": 2}, {\"x\": -8.720254784765068, \"y\": -5.274746603970955, \"predicted\": 2}, {\"x\": -6.89641834600692, \"y\": -3.2287452434857524, \"predicted\": 2}, {\"x\": -4.925185907366377, \"y\": -2.673858725065615, \"predicted\": 2}, {\"x\": -9.885801431758866, \"y\": -1.0425164092662722, \"predicted\": 2}, {\"x\": -3.733181579628675, \"y\": -5.088448725335692, \"predicted\": 2}, {\"x\": -5.088983979534433, \"y\": -4.45234972874293, \"predicted\": 2}, {\"x\": -7.01834153992549, \"y\": -4.5556266367084035, \"predicted\": 2}, {\"x\": -3.051127812196142, \"y\": -4.927192728633402, \"predicted\": 2}, {\"x\": -6.286890094201167, \"y\": -2.0907951938807274, \"predicted\": 2}, {\"x\": -7.926797688065925, \"y\": -3.700553430866719, \"predicted\": 2}, {\"x\": -6.398237016561932, \"y\": 0.2247808691100972, \"predicted\": 2}, {\"x\": -8.73574899944332, \"y\": -3.1614724358809703, \"predicted\": 2}, {\"x\": -5.713117519849862, \"y\": -3.6852880650916675, \"predicted\": 2}, {\"x\": -3.404313734296209, \"y\": -3.134620091353639, \"predicted\": 2}, {\"x\": -7.001640014702343, \"y\": -1.4733174429429845, \"predicted\": 2}, {\"x\": -3.582617785759811, \"y\": -4.814679794297313, \"predicted\": 2}, {\"x\": -4.361175258846464, \"y\": -1.6756454473843265, \"predicted\": 2}, {\"x\": -6.176816737802832, \"y\": -4.680090045022741, \"predicted\": 2}, {\"x\": -4.3103515066026095, \"y\": -1.7739345381781073, \"predicted\": 2}, {\"x\": -7.962392165552606, \"y\": -4.064320301659336, \"predicted\": 2}, {\"x\": -2.5523218516531685, \"y\": -4.3729684839424445, \"predicted\": 2}, {\"x\": -10.157218947759272, \"y\": -3.645406188879501, \"predicted\": 2}, {\"x\": -5.733401948340157, \"y\": -1.6035796445302777, \"predicted\": 2}, {\"x\": -6.821345528048894, \"y\": 0.9183343292817154, \"predicted\": 2}, {\"x\": -6.988719674342129, \"y\": -2.6236901904398593, \"predicted\": 2}, {\"x\": -3.8075476469794256, \"y\": -2.8517851352574075, \"predicted\": 2}, {\"x\": -10.829006914369854, \"y\": -1.5836067111345646, \"predicted\": 2}]}}, {\"mode\": \"vega-lite\"});\n",
       "</script>"
      ],
      "text/plain": [
       "alt.Chart(...)"
      ]
     },
     "execution_count": 22,
     "metadata": {},
     "output_type": "execute_result"
    }
   ],
   "source": [
    "seed = 8\n",
    "data = generate_gmm_data_fixed_means(n=50, means=np.array([[-6,3], [6,3], [-6,-3]]), std=2.0, seed=seed)\n",
    "p = AltairPlotter()\n",
    "p.assignments(data.xs, data.ys)"
   ]
  },
  {
   "cell_type": "code",
   "execution_count": 23,
   "metadata": {},
   "outputs": [
    {
     "name": "stdout",
     "output_type": "stream",
     "text": [
      "NMI SOE Kmeans: 0.8850620966553381\n",
      "NMI Tangles: 0.6003101801753672 (2)\n"
     ]
    }
   ],
   "source": [
    "q = Questionnaire.from_metric(data.xs, density=0.01, verbose=False)\n",
    "soe_kmeans = SoeKmeans(2, 3)\n",
    "ys_soe_kmeans = soe_kmeans.fit_predict(*q.to_bool_array(), data.ys)\n",
    "ys_tangles = OrdinalTangles(20).fit_predict(q.values)\n",
    "print(f\"NMI SOE Kmeans: {normalized_mutual_info_score(data.ys, ys_soe_kmeans)}\")\n",
    "print(f\"NMI Tangles: {normalized_mutual_info_score(data.ys, ys_tangles)} ({np.unique(ys_tangles).size})\")"
   ]
  },
  {
   "cell_type": "code",
   "execution_count": 24,
   "metadata": {},
   "outputs": [
    {
     "name": "stdout",
     "output_type": "stream",
     "text": [
      "SOE NMI average: 0.8709467577242173 std: 0.021547831393393734\n"
     ]
    },
    {
     "data": {
      "text/html": [
       "\n",
       "<div id=\"altair-viz-f7d2ad9648b14a298b8eb087e13ca323\"></div>\n",
       "<script type=\"text/javascript\">\n",
       "  (function(spec, embedOpt){\n",
       "    let outputDiv = document.currentScript.previousElementSibling;\n",
       "    if (outputDiv.id !== \"altair-viz-f7d2ad9648b14a298b8eb087e13ca323\") {\n",
       "      outputDiv = document.getElementById(\"altair-viz-f7d2ad9648b14a298b8eb087e13ca323\");\n",
       "    }\n",
       "    const paths = {\n",
       "      \"vega\": \"https://cdn.jsdelivr.net/npm//vega@5?noext\",\n",
       "      \"vega-lib\": \"https://cdn.jsdelivr.net/npm//vega-lib?noext\",\n",
       "      \"vega-lite\": \"https://cdn.jsdelivr.net/npm//vega-lite@4.8.1?noext\",\n",
       "      \"vega-embed\": \"https://cdn.jsdelivr.net/npm//vega-embed@6?noext\",\n",
       "    };\n",
       "\n",
       "    function loadScript(lib) {\n",
       "      return new Promise(function(resolve, reject) {\n",
       "        var s = document.createElement('script');\n",
       "        s.src = paths[lib];\n",
       "        s.async = true;\n",
       "        s.onload = () => resolve(paths[lib]);\n",
       "        s.onerror = () => reject(`Error loading script: ${paths[lib]}`);\n",
       "        document.getElementsByTagName(\"head\")[0].appendChild(s);\n",
       "      });\n",
       "    }\n",
       "\n",
       "    function showError(err) {\n",
       "      outputDiv.innerHTML = `<div class=\"error\" style=\"color:red;\">${err}</div>`;\n",
       "      throw err;\n",
       "    }\n",
       "\n",
       "    function displayChart(vegaEmbed) {\n",
       "      vegaEmbed(outputDiv, spec, embedOpt)\n",
       "        .catch(err => showError(`Javascript Error: ${err.message}<br>This usually means there's a typo in your chart specification. See the javascript console for the full traceback.`));\n",
       "    }\n",
       "\n",
       "    if(typeof define === \"function\" && define.amd) {\n",
       "      requirejs.config({paths});\n",
       "      require([\"vega-embed\"], displayChart, err => showError(`Error loading script: ${err.message}`));\n",
       "    } else if (typeof vegaEmbed === \"function\") {\n",
       "      displayChart(vegaEmbed);\n",
       "    } else {\n",
       "      loadScript(\"vega\")\n",
       "        .then(() => loadScript(\"vega-lite\"))\n",
       "        .then(() => loadScript(\"vega-embed\"))\n",
       "        .catch(showError)\n",
       "        .then(() => displayChart(vegaEmbed));\n",
       "    }\n",
       "  })({\"config\": {\"view\": {\"continuousWidth\": 400, \"continuousHeight\": 300}}, \"data\": {\"name\": \"data-8a2ae7f27870d440c5eceeb87b59efb2\"}, \"mark\": \"point\", \"encoding\": {\"color\": {\"type\": \"nominal\", \"field\": \"predicted\", \"scale\": {\"scheme\": \"dark2\"}}, \"x\": {\"type\": \"quantitative\", \"field\": \"x\"}, \"y\": {\"type\": \"quantitative\", \"field\": \"y\"}}, \"$schema\": \"https://vega.github.io/schema/vega-lite/v4.8.1.json\", \"datasets\": {\"data-8a2ae7f27870d440c5eceeb87b59efb2\": [{\"x\": 56.10256614154829, \"y\": -57.42924731952424, \"predicted\": 0}, {\"x\": 107.79810154865568, \"y\": 16.078276893854067, \"predicted\": 2}, {\"x\": 126.99302423849765, \"y\": -82.78172575125326, \"predicted\": 0}, {\"x\": 8.121314375037253, \"y\": -89.93286991146081, \"predicted\": 0}, {\"x\": 39.38942843175892, \"y\": -57.686687173084216, \"predicted\": 0}, {\"x\": 90.79886857671211, \"y\": -73.44970077497803, \"predicted\": 0}, {\"x\": 80.82236145305947, \"y\": -2.6797076518750322, \"predicted\": 0}, {\"x\": 62.27817809633025, \"y\": -1.0933307336212028, \"predicted\": 0}, {\"x\": 31.37863829883453, \"y\": -24.01412607874362, \"predicted\": 0}, {\"x\": 52.953650941729634, \"y\": -20.04152207227784, \"predicted\": 0}, {\"x\": 10.743782717219538, \"y\": -10.786219918678714, \"predicted\": 0}, {\"x\": 58.58637788360601, \"y\": -40.37139078820398, \"predicted\": 0}, {\"x\": 104.69945219731018, \"y\": -9.128203362799024, \"predicted\": 0}, {\"x\": 40.39948061274282, \"y\": -57.326328424208356, \"predicted\": 0}, {\"x\": 45.047961398909734, \"y\": -7.764699550486511, \"predicted\": 0}, {\"x\": 12.292325577692894, \"y\": -20.4644764545529, \"predicted\": 0}, {\"x\": 40.486750015937936, \"y\": -29.887561425177577, \"predicted\": 0}, {\"x\": 50.03287042945083, \"y\": -7.242757372888704, \"predicted\": 0}, {\"x\": 36.10840426743474, \"y\": 5.551064918177952, \"predicted\": 0}, {\"x\": 65.57317217958118, \"y\": -17.07796047357346, \"predicted\": 0}, {\"x\": 80.04457173362172, \"y\": -25.411910326898848, \"predicted\": 0}, {\"x\": 49.02342104073786, \"y\": -26.309008735559225, \"predicted\": 0}, {\"x\": 62.36653954844803, \"y\": -44.82731113274163, \"predicted\": 0}, {\"x\": 6.9713385320019485, \"y\": -58.683478849881666, \"predicted\": 0}, {\"x\": 144.67237781057185, \"y\": -43.76409238715942, \"predicted\": 0}, {\"x\": 105.00196605907642, \"y\": 28.014038249161022, \"predicted\": 2}, {\"x\": 51.46032976636806, \"y\": 14.194919129575828, \"predicted\": 0}, {\"x\": 14.021434767804607, \"y\": -47.42885249877938, \"predicted\": 0}, {\"x\": 71.3659716180223, \"y\": 24.466126405748454, \"predicted\": 2}, {\"x\": 45.51952797239406, \"y\": -57.0430147871698, \"predicted\": 0}, {\"x\": 54.115343880066625, \"y\": -78.72015545410059, \"predicted\": 0}, {\"x\": 39.45101963872391, \"y\": -46.36864269244571, \"predicted\": 0}, {\"x\": 57.582469212798856, \"y\": -40.69943919098245, \"predicted\": 0}, {\"x\": 54.80263913781323, \"y\": 30.899158922695296, \"predicted\": 2}, {\"x\": -17.58201307017896, \"y\": -25.636676371332104, \"predicted\": 0}, {\"x\": 56.01283391258084, \"y\": -57.0034742634569, \"predicted\": 0}, {\"x\": 42.34903513760336, \"y\": -31.593156538435803, \"predicted\": 0}, {\"x\": 33.26358968686409, \"y\": 5.1858429321943404, \"predicted\": 0}, {\"x\": 12.081250170182612, \"y\": -40.76874579241627, \"predicted\": 0}, {\"x\": 70.20455929642604, \"y\": -50.70200758242063, \"predicted\": 0}, {\"x\": 41.537907959479746, \"y\": -0.5741442349086563, \"predicted\": 0}, {\"x\": 52.01321011916008, \"y\": -26.696972330355234, \"predicted\": 0}, {\"x\": 44.58505574474689, \"y\": -37.07269664688862, \"predicted\": 0}, {\"x\": 32.14276308901266, \"y\": 8.340455287920221, \"predicted\": 0}, {\"x\": 47.16984013825206, \"y\": -0.7222787547416559, \"predicted\": 0}, {\"x\": 39.90298736109511, \"y\": 8.762656095460613, \"predicted\": 0}, {\"x\": 115.72721372275946, \"y\": -7.356383220928962, \"predicted\": 0}, {\"x\": -18.97781639280608, \"y\": -56.41249650746028, \"predicted\": 0}, {\"x\": 52.90356163258631, \"y\": -102.0325770120082, \"predicted\": 0}, {\"x\": 59.08458893057743, \"y\": -19.739578995423255, \"predicted\": 0}, {\"x\": -143.97416062428113, \"y\": -45.809362836224096, \"predicted\": 1}, {\"x\": -113.01644952795894, \"y\": -20.42414700233196, \"predicted\": 1}, {\"x\": -110.36237903087971, \"y\": -71.35567606443026, \"predicted\": 1}, {\"x\": -84.2343161288245, \"y\": -10.637689457821057, \"predicted\": 1}, {\"x\": -140.675471674152, \"y\": -104.88681565123028, \"predicted\": 1}, {\"x\": -62.49704736711181, \"y\": -43.07748685279676, \"predicted\": 1}, {\"x\": -138.1020023042166, \"y\": -30.055301312737623, \"predicted\": 1}, {\"x\": -92.81612895096269, \"y\": -66.83968613070616, \"predicted\": 1}, {\"x\": -91.96752381721693, \"y\": -13.117380484352942, \"predicted\": 1}, {\"x\": -100.41079298259145, \"y\": 4.016466787526258, \"predicted\": 1}, {\"x\": -45.46897260155217, \"y\": -65.44842208648569, \"predicted\": 1}, {\"x\": -165.90127808617353, \"y\": -47.33607001987344, \"predicted\": 1}, {\"x\": -97.29555023886832, \"y\": -50.7596878868825, \"predicted\": 1}, {\"x\": -107.19461009819086, \"y\": 9.789903786785013, \"predicted\": 1}, {\"x\": -79.88741023160352, \"y\": -48.410021900625516, \"predicted\": 1}, {\"x\": -101.79935996768845, \"y\": 8.089338418007118, \"predicted\": 1}, {\"x\": -74.95821168993086, \"y\": -66.31823529653637, \"predicted\": 1}, {\"x\": -73.7569207523699, \"y\": -67.40207669604173, \"predicted\": 1}, {\"x\": -131.69295953697477, \"y\": -8.982764006780497, \"predicted\": 1}, {\"x\": -98.49365597657685, \"y\": -36.18455880498924, \"predicted\": 1}, {\"x\": -103.11177899807157, \"y\": -42.636127767395735, \"predicted\": 1}, {\"x\": -156.87073392545418, \"y\": -66.23910596018519, \"predicted\": 1}, {\"x\": -100.50876564254402, \"y\": -28.46246246294893, \"predicted\": 1}, {\"x\": -90.03630341725056, \"y\": -19.41782271579096, \"predicted\": 1}, {\"x\": -130.3520351665389, \"y\": 32.204940039433005, \"predicted\": 1}, {\"x\": -118.61154224797376, \"y\": -35.676713760446376, \"predicted\": 1}, {\"x\": -108.99932684267883, \"y\": -0.4374825252718211, \"predicted\": 1}, {\"x\": -104.06654606788635, \"y\": -16.073116859541546, \"predicted\": 1}, {\"x\": -115.90434620603129, \"y\": 36.376578305720514, \"predicted\": 1}, {\"x\": -110.91500478598354, \"y\": -54.13703533677891, \"predicted\": 1}, {\"x\": -86.77261334462398, \"y\": -11.786568816644326, \"predicted\": 1}, {\"x\": -134.7406660594124, \"y\": -112.02603667534349, \"predicted\": 1}, {\"x\": -106.78998076856855, \"y\": -60.30765822258606, \"predicted\": 1}, {\"x\": -86.42368380491841, \"y\": -48.23995290104951, \"predicted\": 1}, {\"x\": -117.38964023412873, \"y\": -13.011526571815548, \"predicted\": 1}, {\"x\": -129.98183523359336, \"y\": -66.91232607241868, \"predicted\": 1}, {\"x\": -94.63039769245395, \"y\": -47.087434813202606, \"predicted\": 1}, {\"x\": -149.4784999093757, \"y\": -62.754964939628685, \"predicted\": 1}, {\"x\": -107.30946806711924, \"y\": -96.94000711433303, \"predicted\": 1}, {\"x\": -120.97550617460324, \"y\": -26.951516094219418, \"predicted\": 1}, {\"x\": -56.03535232310979, \"y\": -25.535444649831145, \"predicted\": 1}, {\"x\": -117.7827333939149, \"y\": -26.773517575757854, \"predicted\": 1}, {\"x\": -94.45552049439517, \"y\": -83.24287045866797, \"predicted\": 1}, {\"x\": -130.80932421016786, \"y\": -81.17627153494335, \"predicted\": 1}, {\"x\": -71.9541325697452, \"y\": -29.572591640388264, \"predicted\": 1}, {\"x\": -137.37829029950848, \"y\": -12.174641757323927, \"predicted\": 1}, {\"x\": -172.76406991310054, \"y\": 1.8120457198494226, \"predicted\": 1}, {\"x\": -89.4538060551604, \"y\": -68.44953762597646, \"predicted\": 1}, {\"x\": -51.31970265020213, \"y\": -59.677804305972046, \"predicted\": 1}, {\"x\": -81.3270240570608, \"y\": -4.420845591745621, \"predicted\": 1}, {\"x\": 50.13927363254372, \"y\": 66.71902541038773, \"predicted\": 2}, {\"x\": 35.45609557474116, \"y\": 65.03712162639847, \"predicted\": 2}, {\"x\": 56.22900678530293, \"y\": 98.61587446057642, \"predicted\": 2}, {\"x\": 27.712420351409296, \"y\": 124.3413677851036, \"predicted\": 2}, {\"x\": 34.174777519480934, \"y\": 53.44349076046921, \"predicted\": 2}, {\"x\": 14.92819532422764, \"y\": 17.61146906758543, \"predicted\": 0}, {\"x\": 88.76988365196749, \"y\": 48.919623455833396, \"predicted\": 2}, {\"x\": 64.13519113640494, \"y\": 58.92717700069037, \"predicted\": 2}, {\"x\": 23.65247035063942, \"y\": 43.24464982164819, \"predicted\": 2}, {\"x\": 36.171550016252226, \"y\": 59.98082521810714, \"predicted\": 2}, {\"x\": 29.219048078493696, \"y\": 84.77930458164687, \"predicted\": 2}, {\"x\": 71.4307564861918, \"y\": 46.092506824751645, \"predicted\": 2}, {\"x\": 81.2602914549891, \"y\": 80.89476521599634, \"predicted\": 2}, {\"x\": 28.290792312206328, \"y\": 59.90984084354755, \"predicted\": 2}, {\"x\": 77.58003797659462, \"y\": 51.63358637966539, \"predicted\": 2}, {\"x\": 14.733258980662928, \"y\": 89.16100880478643, \"predicted\": 2}, {\"x\": 88.00596322991419, \"y\": 60.13535810244182, \"predicted\": 2}, {\"x\": 79.89333014694017, \"y\": 71.11574791097425, \"predicted\": 2}, {\"x\": 59.39725172201347, \"y\": 83.83351154054527, \"predicted\": 2}, {\"x\": 48.411257095957545, \"y\": 54.60779880874596, \"predicted\": 2}, {\"x\": 81.04696782654673, \"y\": 35.26830421081029, \"predicted\": 2}, {\"x\": 11.099089101458452, \"y\": 61.8415058407116, \"predicted\": 2}, {\"x\": 50.61657263957872, \"y\": 15.7532694369551, \"predicted\": 0}, {\"x\": 217.41202764260024, \"y\": 331.75408099652134, \"predicted\": 2}, {\"x\": 59.369532546001096, \"y\": 62.91965362629752, \"predicted\": 2}, {\"x\": 34.574107908795476, \"y\": 58.89775105607027, \"predicted\": 2}, {\"x\": 101.63710495979802, \"y\": 35.14095218504961, \"predicted\": 2}, {\"x\": 11.50611031531773, \"y\": 94.70972841134653, \"predicted\": 2}, {\"x\": 40.774869084781294, \"y\": 108.79335140949235, \"predicted\": 2}, {\"x\": 55.784218945405534, \"y\": 79.93066215946662, \"predicted\": 2}, {\"x\": 7.79206976124663, \"y\": 80.35043812670843, \"predicted\": 2}, {\"x\": 59.18231251373978, \"y\": 48.33296029178164, \"predicted\": 2}, {\"x\": 78.88564545460693, \"y\": 70.2495974178373, \"predicted\": 2}, {\"x\": 57.13389384935185, \"y\": 15.321959083456997, \"predicted\": 0}, {\"x\": 88.48761878749966, \"y\": 70.67079935196281, \"predicted\": 2}, {\"x\": 43.60255152345372, \"y\": 65.32246275650675, \"predicted\": 2}, {\"x\": 12.266736459153247, \"y\": 52.8994476360777, \"predicted\": 2}, {\"x\": 65.18767464704301, \"y\": 39.67854425337803, \"predicted\": 2}, {\"x\": 13.609385698409964, \"y\": 78.43856877280484, \"predicted\": 2}, {\"x\": 24.545893267109182, \"y\": 36.29253347545651, \"predicted\": 2}, {\"x\": 46.899522422981256, \"y\": 80.42003437856903, \"predicted\": 2}, {\"x\": 18.53612990352116, \"y\": 43.603243999745104, \"predicted\": 2}, {\"x\": 79.85265644384563, \"y\": 72.50189128082154, \"predicted\": 2}, {\"x\": 1.7504063833475298, \"y\": 71.03088610001628, \"predicted\": 2}, {\"x\": 111.22242060609591, \"y\": 78.52476467519816, \"predicted\": 2}, {\"x\": 44.725012931519124, \"y\": 40.66066001521308, \"predicted\": 2}, {\"x\": 62.47126932620695, \"y\": 5.044703160001259, \"predicted\": 0}, {\"x\": 63.674901707536925, \"y\": 54.328507042107546, \"predicted\": 2}, {\"x\": 20.380856872707152, \"y\": 55.30595443436942, \"predicted\": 2}, {\"x\": 119.76679628239104, \"y\": 45.07213606580134, \"predicted\": 2}]}}, {\"mode\": \"vega-lite\"});\n",
       "</script>"
      ],
      "text/plain": [
       "alt.Chart(...)"
      ]
     },
     "execution_count": 24,
     "metadata": {},
     "output_type": "execute_result"
    }
   ],
   "source": [
    "cut_list = []\n",
    "soe_kmeans_nmi = []\n",
    "n_iterations = 10\n",
    "\n",
    "for i in range(n_iterations):\n",
    "    q = Questionnaire.from_metric(data.xs, density=0.01, verbose=False)\n",
    "    soe_kmeans = SoeKmeans(embedding_dimension=soe_embedding_dim, n_clusters=3)\n",
    "    ys_soe = soe_kmeans.fit_predict(*q.to_bool_array())\n",
    "    soe_kmeans_nmi.append(normalized_mutual_info_score(data.ys, ys_soe))\n",
    "\n",
    "    q_emb = Questionnaire.from_metric(soe_kmeans.embedding_, density=0.1, verbose=False)\n",
    "    cut_list.append(q_emb.values)\n",
    "\n",
    "print(f\"SOE NMI average: {np.mean(soe_kmeans_nmi)} std: {np.std(soe_kmeans_nmi)}\") \n",
    "#cut_list.append(q.values)\n",
    "p.assignments(soe_kmeans.embedding_, ys_soe)"
   ]
  },
  {
   "cell_type": "code",
   "execution_count": 25,
   "metadata": {},
   "outputs": [
    {
     "name": "stdout",
     "output_type": "stream",
     "text": [
      "NMI boost: 0.6565191143081124 (2)\n"
     ]
    },
    {
     "data": {
      "text/plain": [
       "(150, 11180)"
      ]
     },
     "execution_count": 25,
     "metadata": {},
     "output_type": "execute_result"
    }
   ],
   "source": [
    "tangles_boost = OrdinalTangles(20)\n",
    "boosted_cuts = np.hstack(cut_list)\n",
    "ys_boost = tangles_boost.fit_predict(boosted_cuts)\n",
    "print(f\"NMI boost: {normalized_mutual_info_score(data.ys, ys_boost)} ({np.unique(ys_boost).size})\")\n",
    "boosted_cuts.shape"
   ]
  }
 ],
 "metadata": {
  "interpreter": {
   "hash": "b3df0bc9139dfbbc2bb43367c6e0b1c6fcd610288dc61cb8c73318fe0a42d151"
  },
  "kernelspec": {
   "display_name": "Python 3.9.7 ('tangles-thesis')",
   "language": "python",
   "name": "python3"
  },
  "language_info": {
   "codemirror_mode": {
    "name": "ipython",
    "version": 3
   },
   "file_extension": ".py",
   "mimetype": "text/x-python",
   "name": "python",
   "nbconvert_exporter": "python",
   "pygments_lexer": "ipython3",
   "version": "3.9.7"
  },
  "orig_nbformat": 4
 },
 "nbformat": 4,
 "nbformat_minor": 2
}
