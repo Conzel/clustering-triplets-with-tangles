{
 "cells": [
  {
   "cell_type": "markdown",
   "metadata": {},
   "source": [
    "# Tweaking euclidean data \n",
    "\n",
    "To get a more realistic image of the performance of Tangles, we want to tweak the data around a bit. Currently, we are very \"nice\" to SOE-kMeans (embedding euclidean data into a same-dimensional space doesn't seem too crazy hard).\n",
    "\n",
    "We have two ideas, different metrics for triplet generation and higher dimensional spaces."
   ]
  },
  {
   "cell_type": "markdown",
   "metadata": {},
   "source": [
    "## Other metrics\n",
    "\n",
    "As we already noticed, projecting euclidean data with triplets from euclidean distances into an euclidean space might give an unfair advantage to the SOE-kMeans algorithm.\n",
    "\n",
    "It might be advantageous to use another metric, like the minkowski metric."
   ]
  },
  {
   "cell_type": "code",
   "execution_count": 24,
   "metadata": {},
   "outputs": [],
   "source": [
    "import sys\n",
    "sys.path.append(\"..\")\n",
    "import numpy as np\n",
    "import pandas as pd\n",
    "import altair as alt\n",
    "import cblearn.datasets as datasets\n",
    "from data_generation import generate_gmm_data_fixed_means\n",
    "from sklearn.metrics import pairwise_distances\n",
    "from questionnaire import Questionnaire, unify_triplet_order \n",
    "from estimators import OrdinalTangles\n",
    "from cblearn.embedding import SOE\n",
    "from sklearn.cluster import KMeans\n",
    "from sklearn.metrics import normalized_mutual_info_score\n",
    "from plotting import AltairPlotter\n",
    "from sklearn.neighbors import DistanceMetric"
   ]
  },
  {
   "cell_type": "code",
   "execution_count": 2,
   "metadata": {},
   "outputs": [
    {
     "name": "stdout",
     "output_type": "stream",
     "text": [
      "Generating questionnaire...\n",
      "Generating question set...\n",
      "Filling out questionnaire...\n"
     ]
    },
    {
     "name": "stderr",
     "output_type": "stream",
     "text": [
      "100%|██████████| 300/300 [00:00<00:00, 4812.26it/s]\n"
     ]
    }
   ],
   "source": [
    "seed = 9\n",
    "data = generate_gmm_data_fixed_means(n=100, means=np.array([[-6,3], [6,3], [-6,-3]]), std=2, seed=seed)\n",
    "minkowski_1_5 = DistanceMetric.get_metric(\"minkowski\", p=1.5)\n",
    "questionnaire = Questionnaire.from_metric(data.xs, metric=minkowski_1_5, density=0.01, seed=seed)"
   ]
  },
  {
   "cell_type": "code",
   "execution_count": 3,
   "metadata": {},
   "outputs": [
    {
     "name": "stdout",
     "output_type": "stream",
     "text": [
      "NMI Tangles: 0.8236059492065199 (3 clusters)\n",
      "NMI SOE: 0.8112617504898255\n"
     ]
    }
   ],
   "source": [
    "tangles = OrdinalTangles(agreement=35)\n",
    "ys_tangles = tangles.fit_predict(questionnaire.values)\n",
    "\n",
    "soe = SOE(n_components=2, random_state=seed)\n",
    "kmeans = KMeans(3)\n",
    "ys_soe = kmeans.fit_predict(soe.fit_transform(*questionnaire.to_bool_array()))\n",
    "print(f\"NMI Tangles: {normalized_mutual_info_score(ys_tangles, data.ys)} ({np.unique(ys_tangles).size} clusters)\")\n",
    "print(f\"NMI SOE: {normalized_mutual_info_score(ys_soe, data.ys)}\")"
   ]
  },
  {
   "cell_type": "markdown",
   "metadata": {},
   "source": [
    "It seems Tangles can perform competitively against SOE. We will see how this looks like when comparing different values of the p in the Minkowski norm."
   ]
  },
  {
   "cell_type": "code",
   "execution_count": 4,
   "metadata": {},
   "outputs": [
    {
     "name": "stdout",
     "output_type": "stream",
     "text": [
      "p = 1.0\n",
      "p = 1.1\n",
      "p = 1.2000000000000002\n",
      "p = 1.3000000000000003\n",
      "p = 1.4000000000000004\n",
      "p = 1.5000000000000004\n",
      "p = 1.6000000000000005\n",
      "p = 1.7000000000000006\n",
      "p = 1.8000000000000007\n",
      "p = 1.9000000000000008\n",
      "p = 2.000000000000001\n",
      "p = 2.100000000000001\n",
      "p = 2.200000000000001\n",
      "p = 2.300000000000001\n",
      "p = 2.4000000000000012\n",
      "p = 2.5000000000000013\n",
      "p = 2.6000000000000014\n",
      "p = 2.7000000000000015\n",
      "p = 2.8000000000000016\n",
      "p = 2.9000000000000017\n",
      "p = 3.0000000000000018\n"
     ]
    }
   ],
   "source": [
    "ps = np.arange(1.0, 3.01, 0.1)\n",
    "df_other_metric = pd.DataFrame()\n",
    "seed = None\n",
    "for p in ps:\n",
    "    print(\"p =\", p)\n",
    "    for i in range(50):\n",
    "        # data generation\n",
    "        data = generate_gmm_data_fixed_means(n=100, means=np.array([[-6,3], [6,3], [-6,-3]]), std=2, seed=seed)\n",
    "        minkowski_1_5 = DistanceMetric.get_metric(\"minkowski\", p=p)\n",
    "        questionnaire = Questionnaire.from_metric(data.xs, metric=minkowski_1_5, density=0.01, seed=seed, verbose=0)\n",
    "\n",
    "        # results\n",
    "        tangles = OrdinalTangles(agreement=35, verbose=0)\n",
    "        ys_tangles = tangles.fit_predict(questionnaire.values)\n",
    "\n",
    "        soe = SOE(n_components=2, random_state=seed)\n",
    "        kmeans = KMeans(3)\n",
    "        ys_soe = kmeans.fit_predict(soe.fit_transform(*questionnaire.to_bool_array()))\n",
    "        df_other_metric = df_other_metric.append({\"p\": p, \"NMI Tangles\": normalized_mutual_info_score(ys_tangles, data.ys), \"NMI SOE\": normalized_mutual_info_score(ys_soe, data.ys), \"run\": i}, ignore_index=True)\n",
    "df_other_metric.to_csv(\"results/18_tweaking_euclidean_data.csv\")"
   ]
  },
  {
   "cell_type": "code",
   "execution_count": 19,
   "metadata": {},
   "outputs": [
    {
     "data": {
      "text/html": [
       "\n",
       "<div id=\"altair-viz-86c116b479fb4eb1a1802d89edd21158\"></div>\n",
       "<script type=\"text/javascript\">\n",
       "  (function(spec, embedOpt){\n",
       "    let outputDiv = document.currentScript.previousElementSibling;\n",
       "    if (outputDiv.id !== \"altair-viz-86c116b479fb4eb1a1802d89edd21158\") {\n",
       "      outputDiv = document.getElementById(\"altair-viz-86c116b479fb4eb1a1802d89edd21158\");\n",
       "    }\n",
       "    const paths = {\n",
       "      \"vega\": \"https://cdn.jsdelivr.net/npm//vega@5?noext\",\n",
       "      \"vega-lib\": \"https://cdn.jsdelivr.net/npm//vega-lib?noext\",\n",
       "      \"vega-lite\": \"https://cdn.jsdelivr.net/npm//vega-lite@4.8.1?noext\",\n",
       "      \"vega-embed\": \"https://cdn.jsdelivr.net/npm//vega-embed@6?noext\",\n",
       "    };\n",
       "\n",
       "    function loadScript(lib) {\n",
       "      return new Promise(function(resolve, reject) {\n",
       "        var s = document.createElement('script');\n",
       "        s.src = paths[lib];\n",
       "        s.async = true;\n",
       "        s.onload = () => resolve(paths[lib]);\n",
       "        s.onerror = () => reject(`Error loading script: ${paths[lib]}`);\n",
       "        document.getElementsByTagName(\"head\")[0].appendChild(s);\n",
       "      });\n",
       "    }\n",
       "\n",
       "    function showError(err) {\n",
       "      outputDiv.innerHTML = `<div class=\"error\" style=\"color:red;\">${err}</div>`;\n",
       "      throw err;\n",
       "    }\n",
       "\n",
       "    function displayChart(vegaEmbed) {\n",
       "      vegaEmbed(outputDiv, spec, embedOpt)\n",
       "        .catch(err => showError(`Javascript Error: ${err.message}<br>This usually means there's a typo in your chart specification. See the javascript console for the full traceback.`));\n",
       "    }\n",
       "\n",
       "    if(typeof define === \"function\" && define.amd) {\n",
       "      requirejs.config({paths});\n",
       "      require([\"vega-embed\"], displayChart, err => showError(`Error loading script: ${err.message}`));\n",
       "    } else if (typeof vegaEmbed === \"function\") {\n",
       "      displayChart(vegaEmbed);\n",
       "    } else {\n",
       "      loadScript(\"vega\")\n",
       "        .then(() => loadScript(\"vega-lite\"))\n",
       "        .then(() => loadScript(\"vega-embed\"))\n",
       "        .catch(showError)\n",
       "        .then(() => displayChart(vegaEmbed));\n",
       "    }\n",
       "  })({\"config\": {\"view\": {\"continuousWidth\": 400, \"continuousHeight\": 300}}, \"data\": {\"name\": \"data-856ed581fd8202da45b6a04cc873835d\"}, \"mark\": {\"type\": \"point\", \"size\": 5}, \"encoding\": {\"color\": {\"type\": \"nominal\", \"field\": \"key\"}, \"x\": {\"type\": \"quantitative\", \"field\": \"p\"}, \"y\": {\"type\": \"quantitative\", \"field\": \"value\"}}, \"selection\": {\"selector010\": {\"type\": \"interval\", \"bind\": \"scales\", \"encodings\": [\"x\", \"y\"]}}, \"transform\": [{\"fold\": [\"NMI SOE\", \"NMI Tangles\"]}], \"$schema\": \"https://vega.github.io/schema/vega-lite/v4.8.1.json\", \"datasets\": {\"data-856ed581fd8202da45b6a04cc873835d\": [{\"p\": 1.0, \"NMI Tangles\": 0.7247026088301383, \"NMI SOE\": 0.8120202258264128, \"run\": 4.5}, {\"p\": 1.1, \"NMI Tangles\": 0.8107254496309206, \"NMI SOE\": 0.8446798633673154, \"run\": 4.5}, {\"p\": 1.2000000000000002, \"NMI Tangles\": 0.7722924141219922, \"NMI SOE\": 0.8508067237927284, \"run\": 4.5}, {\"p\": 1.3000000000000003, \"NMI Tangles\": 0.8214517270145416, \"NMI SOE\": 0.8511412213579888, \"run\": 4.5}, {\"p\": 1.4000000000000004, \"NMI Tangles\": 0.7693707208285104, \"NMI SOE\": 0.8520934695515521, \"run\": 4.5}, {\"p\": 1.5000000000000004, \"NMI Tangles\": 0.8103968353371769, \"NMI SOE\": 0.8445895406686279, \"run\": 4.5}, {\"p\": 1.6000000000000005, \"NMI Tangles\": 0.7868496255728031, \"NMI SOE\": 0.8482944436529355, \"run\": 4.5}, {\"p\": 1.7000000000000006, \"NMI Tangles\": 0.8202510966425545, \"NMI SOE\": 0.8502741314812379, \"run\": 4.5}, {\"p\": 1.8000000000000007, \"NMI Tangles\": 0.7824481846797655, \"NMI SOE\": 0.844246906254052, \"run\": 4.5}, {\"p\": 1.9000000000000008, \"NMI Tangles\": 0.8026879016312716, \"NMI SOE\": 0.8504125924205939, \"run\": 4.5}, {\"p\": 2.000000000000001, \"NMI Tangles\": 0.7912072892190555, \"NMI SOE\": 0.8324525587047715, \"run\": 4.5}, {\"p\": 2.100000000000001, \"NMI Tangles\": 0.8140989931105835, \"NMI SOE\": 0.8418095680747661, \"run\": 4.5}, {\"p\": 2.200000000000001, \"NMI Tangles\": 0.8402414667147312, \"NMI SOE\": 0.8617128376041704, \"run\": 4.5}, {\"p\": 2.300000000000001, \"NMI Tangles\": 0.8172667613514125, \"NMI SOE\": 0.8667663706874489, \"run\": 4.5}, {\"p\": 2.4000000000000012, \"NMI Tangles\": 0.8190791245482776, \"NMI SOE\": 0.8436457888321705, \"run\": 4.5}, {\"p\": 2.5000000000000013, \"NMI Tangles\": 0.8116904277995822, \"NMI SOE\": 0.8399456648906307, \"run\": 4.5}, {\"p\": 2.6000000000000014, \"NMI Tangles\": 0.7783812135430457, \"NMI SOE\": 0.8425716350320519, \"run\": 4.5}, {\"p\": 2.7000000000000015, \"NMI Tangles\": 0.8058435359078375, \"NMI SOE\": 0.8290308749929146, \"run\": 4.5}, {\"p\": 2.8000000000000016, \"NMI Tangles\": 0.8436963014861115, \"NMI SOE\": 0.8620633169817233, \"run\": 4.5}, {\"p\": 2.9000000000000017, \"NMI Tangles\": 0.8177433450045356, \"NMI SOE\": 0.8408508731706317, \"run\": 4.5}, {\"p\": 3.0000000000000018, \"NMI Tangles\": 0.8069205957014945, \"NMI SOE\": 0.8415766054315919, \"run\": 4.5}]}}, {\"mode\": \"vega-lite\"});\n",
       "</script>"
      ],
      "text/plain": [
       "alt.Chart(...)"
      ]
     },
     "execution_count": 19,
     "metadata": {},
     "output_type": "execute_result"
    }
   ],
   "source": [
    "df_avg = df_other_metric.groupby(\"p\").mean().reset_index()\n",
    "alt.Chart(df_avg).transform_fold([\"NMI SOE\", \"NMI Tangles\"]).mark_point(size=5).encode(x=\"p\", y=\"value:Q\", color=\"key:N\").interactive()"
   ]
  },
  {
   "cell_type": "markdown",
   "metadata": {},
   "source": [
    "## Higher dimensional spaces\n",
    "\n",
    "Real data usually comes from a higher dimensional space (like images). We want to see if we still have acceptable performance if we need to embed into a lower space. \n",
    "\n",
    "We realise this by taking data from a 6-dimensional gaussian mixture and ask SOE-kMeans to embed it into a 2-dimensional space.\n",
    "To make it even harder, we keep the Minkowski Metric on which tangles performed reasonably well."
   ]
  },
  {
   "cell_type": "code",
   "execution_count": 71,
   "metadata": {},
   "outputs": [
    {
     "name": "stdout",
     "output_type": "stream",
     "text": [
      "Generating questionnaire...\n",
      "Generating question set...\n",
      "Filling out questionnaire...\n"
     ]
    },
    {
     "name": "stderr",
     "output_type": "stream",
     "text": [
      "100%|██████████| 600/600 [00:00<00:00, 79977.83it/s]\n"
     ]
    },
    {
     "name": "stdout",
     "output_type": "stream",
     "text": [
      "Generating questionnaire...\n",
      "Generating question set...\n",
      "Filling out questionnaire...\n"
     ]
    },
    {
     "name": "stderr",
     "output_type": "stream",
     "text": [
      "100%|██████████| 600/600 [00:00<00:00, 11928.91it/s]\n"
     ]
    }
   ],
   "source": [
    "seed = 8\n",
    "data = generate_gmm_data_fixed_means(n=100, means=np.array([[-6,3,6,-2,-3], [6,3,-6,-2,3], [-6,-3,6,2,4], [-6,-3,-6,2,-4], [6,3,6,2,4], [-6,-3,-6,-2,-4]]), std=2, seed=seed)\n",
    "minkowski_1_5 = DistanceMetric.get_metric(\"minkowski\", p=1.5)\n",
    "questionnaire_low = Questionnaire.from_metric(data.xs, metric=minkowski_1_5, density=0.0001, seed=seed)\n",
    "questionnaire_high = Questionnaire.from_metric(data.xs, metric=minkowski_1_5, density=0.001, seed=seed)"
   ]
  },
  {
   "cell_type": "code",
   "execution_count": 80,
   "metadata": {},
   "outputs": [
    {
     "name": "stdout",
     "output_type": "stream",
     "text": [
      "FOR p = 1.5\n",
      "For low density (0.0001):\n",
      "\tNMI Tangles:\t 0.6121033811131482 (7 clusters)\n",
      "\tNMI SOE:\t 0.5504339949868314\n",
      "For high density (0.001):\n",
      "\tNMI Tangles:\t 0.7917505156964619 (6 clusters)\n",
      "\tNMI SOE:\t 0.83536875257996\n"
     ]
    }
   ],
   "source": [
    "soe_embedding_dim = 2\n",
    "#\n",
    "tangles = OrdinalTangles(agreement=30)\n",
    "ys_tangles = tangles.fit_predict(questionnaire_low.values)\n",
    "\n",
    "soe = SOE(n_components=soe_embedding_dim, random_state=seed)\n",
    "kmeans = KMeans(6)\n",
    "ys_soe = kmeans.fit_predict(soe.fit_transform(*questionnaire_low.to_bool_array()))\n",
    "print(\"FOR p = 1.5\")\n",
    "print(f\"For low density (0.0001):\")\n",
    "print(f\"\\tNMI Tangles:\\t {normalized_mutual_info_score(ys_tangles, data.ys)} ({np.unique(ys_tangles).size} clusters)\")\n",
    "print(f\"\\tNMI SOE:\\t {normalized_mutual_info_score(ys_soe, data.ys)}\")\n",
    "\n",
    "tangles = OrdinalTangles(agreement=30)\n",
    "ys_tangles = tangles.fit_predict(questionnaire_high.values)\n",
    "\n",
    "soe = SOE(n_components=soe_embedding_dim, random_state=seed)\n",
    "kmeans = KMeans(6)\n",
    "ys_soe = kmeans.fit_predict(soe.fit_transform(*questionnaire_high.to_bool_array()))\n",
    "print(f\"For high density (0.001):\")\n",
    "print(f\"\\tNMI Tangles:\\t {normalized_mutual_info_score(ys_tangles, data.ys)} ({np.unique(ys_tangles).size} clusters)\")\n",
    "print(f\"\\tNMI SOE:\\t {normalized_mutual_info_score(ys_soe, data.ys)}\")"
   ]
  },
  {
   "cell_type": "markdown",
   "metadata": {},
   "source": [
    "Very interesting: If we only put a small density (0.0001), Tangles actually performs _better_, while with a higher density (0.001), SOE-kMeans performs better. I've also tried with different seeds, this does not seem like it's purely by chance.\n",
    "\n",
    "As an aside, if you repeat the same spiel with a different minkowski distance (f.e. p = 2), then SOE catches up and tangles gets a tad worse."
   ]
  },
  {
   "cell_type": "code",
   "execution_count": 81,
   "metadata": {},
   "outputs": [
    {
     "name": "stdout",
     "output_type": "stream",
     "text": [
      "FOR p = 2\n",
      "For low density (0.0001):\n",
      "\tNMI Tangles:\t 0.6121033811131482 (7 clusters)\n",
      "\tNMI SOE:\t 0.6146421654981518\n",
      "For high density (0.001):\n",
      "\tNMI Tangles:\t 0.7917505156964619 (6 clusters)\n",
      "\tNMI SOE:\t 0.8329846335451797\n"
     ]
    }
   ],
   "source": [
    "minkowski_2 = DistanceMetric.get_metric(\"minkowski\", p=2)\n",
    "questionnaire_low = Questionnaire.from_metric(data.xs, metric=minkowski_2, density=0.0001, seed=seed, verbose=0)\n",
    "questionnaire_high = Questionnaire.from_metric(data.xs, metric=minkowski_2, density=0.001, seed=seed, verbose=0)\n",
    "\n",
    "# \n",
    "tangles = OrdinalTangles(agreement=30)\n",
    "ys_tangles = tangles.fit_predict(questionnaire_low.values)\n",
    "\n",
    "soe = SOE(n_components=soe_embedding_dim, random_state=seed)\n",
    "kmeans = KMeans(6)\n",
    "ys_soe = kmeans.fit_predict(soe.fit_transform(*questionnaire_low.to_bool_array()))\n",
    "print(\"FOR p = 2\")\n",
    "print(f\"For low density (0.0001):\")\n",
    "print(f\"\\tNMI Tangles:\\t {normalized_mutual_info_score(ys_tangles, data.ys)} ({np.unique(ys_tangles).size} clusters)\")\n",
    "print(f\"\\tNMI SOE:\\t {normalized_mutual_info_score(ys_soe, data.ys)}\")\n",
    "\n",
    "tangles = OrdinalTangles(agreement=30)\n",
    "ys_tangles = tangles.fit_predict(questionnaire_high.values)\n",
    "\n",
    "soe = SOE(n_components=soe_embedding_dim, random_state=seed)\n",
    "kmeans = KMeans(6)\n",
    "ys_soe = kmeans.fit_predict(soe.fit_transform(*questionnaire_high.to_bool_array()))\n",
    "print(f\"For high density (0.001):\")\n",
    "print(f\"\\tNMI Tangles:\\t {normalized_mutual_info_score(ys_tangles, data.ys)} ({np.unique(ys_tangles).size} clusters)\")\n",
    "print(f\"\\tNMI SOE:\\t {normalized_mutual_info_score(ys_soe, data.ys)}\")"
   ]
  },
  {
   "cell_type": "markdown",
   "metadata": {},
   "source": [
    "As an aside, if we use the real embedding dimension, SOE-kMeans gets way ahead again."
   ]
  },
  {
   "cell_type": "markdown",
   "metadata": {},
   "source": [
    "### With majority cuts \n"
   ]
  },
  {
   "cell_type": "code",
   "execution_count": 46,
   "metadata": {},
   "outputs": [],
   "source": [
    "seed = 9\n",
    "data = generate_gmm_data_fixed_means(n=100, means=np.array([[-6,3,6,-2,-3], [6,3,-6,-2,3], [-6,-3,6,2,4], [-6,-3,-6,2,-4], [6,3,6,2,4], [-6,-3,-6,-2,-4]]), std=2, seed=seed)\n",
    "triplets, responses = datasets.make_random_triplets(data.xs, result_format=\"list-boolean\", size=5000000)\n",
    "unified_triplets = unify_triplet_order(triplets, responses)"
   ]
  },
  {
   "cell_type": "code",
   "execution_count": 63,
   "metadata": {},
   "outputs": [
    {
     "name": "stdout",
     "output_type": "stream",
     "text": [
      "NMI Tangles: 0.5174528143170685 (4 clusters)\n",
      "NMI SOE: 0.18883892495428412\n"
     ]
    }
   ],
   "source": [
    "# tangles\n",
    "cuts = triplets_to_majority_neighbour_cuts(unified_triplets, radius=1)\n",
    "tangles = OrdinalTangles(agreement=30)\n",
    "ys_tangles = tangles.fit_predict(cuts)\n",
    "\n",
    "soe = SOE(n_components=2, random_state=seed)\n",
    "kmeans = KMeans(6)\n",
    "ys_soe = kmeans.fit_predict(soe.fit_transform(triplets[:10000], responses[:10000]))\n",
    "print(f\"NMI Tangles: {normalized_mutual_info_score(ys_tangles, data.ys)} ({np.unique(ys_tangles).size} clusters)\")\n",
    "print(f\"NMI SOE: {normalized_mutual_info_score(ys_soe, data.ys)}\")"
   ]
  },
  {
   "cell_type": "markdown",
   "metadata": {},
   "source": [
    "It somehow works but that is way too many triplets required (if we use 1/10 of that, algorithm dies). Majority neighbour cuts are a bit eh. Not Tangles' strong suite. Note that we cannot use that many more triplets for SOE, as it crashes afterwards."
   ]
  }
 ],
 "metadata": {
  "interpreter": {
   "hash": "b3df0bc9139dfbbc2bb43367c6e0b1c6fcd610288dc61cb8c73318fe0a42d151"
  },
  "kernelspec": {
   "display_name": "Python 3.9.7 ('tangles-thesis')",
   "language": "python",
   "name": "python3"
  },
  "language_info": {
   "codemirror_mode": {
    "name": "ipython",
    "version": 3
   },
   "file_extension": ".py",
   "mimetype": "text/x-python",
   "name": "python",
   "nbconvert_exporter": "python",
   "pygments_lexer": "ipython3",
   "version": "3.9.7"
  },
  "orig_nbformat": 4
 },
 "nbformat": 4,
 "nbformat_minor": 2
}
