{
 "cells": [
  {
   "cell_type": "markdown",
   "metadata": {},
   "source": [
    "# More real world data\n",
    "As we have seen that Tangles are particularly good at clustering the outputs of SOE, we might want to explore other real world datasets."
   ]
  },
  {
   "cell_type": "code",
   "execution_count": 1,
   "metadata": {},
   "outputs": [],
   "source": [
    "import sys\n",
    "sys.path.append(\"..\")\n",
    "import cblearn.datasets as datasets\n",
    "import numpy as np\n",
    "from cblearn.preprocessing import triplets_from_mostcentral\n",
    "from sklearn.metrics import normalized_mutual_info_score\n",
    "from questionnaire import Questionnaire\n",
    "from triplets import LensMetric\n",
    "from estimators import OrdinalTangles, SoeKmeans\n",
    "from triplets import triplets_to_majority_neighbour_cuts, unify_triplet_order, subsample_triplets, majority_neighbours_count_matrix\n",
    "from sklearn.neighbors import DistanceMetric\n",
    "from data_generation import generate_gmm_data_fixed_means, get_usps"
   ]
  },
  {
   "cell_type": "code",
   "execution_count": 2,
   "metadata": {},
   "outputs": [],
   "source": [
    "def evaluate_real_world_data(triplets, responses, ys, agreement, embedding_dimension, clusters, maj_agreement=None, maj_radius=None, seed=0):\n",
    "    # soe-kmeans\n",
    "    soe_kmeans = SoeKmeans(embedding_dimension=embedding_dimension, n_clusters=clusters, seed=seed)\n",
    "    ys_soe = soe_kmeans.fit_predict(triplets, responses)\n",
    "    ys_tangles_maj = None\n",
    "\n",
    "    # tangles\n",
    "    q = Questionnaire.from_metric(soe_kmeans.embedding_, verbose=False)\n",
    "    tangles = OrdinalTangles(agreement=agreement)\n",
    "    ys_tangles = tangles.fit_predict(q.values)\n",
    "    if maj_agreement is not None and maj_radius is not None:\n",
    "        triplets_unified = unify_triplet_order(triplets, responses)\n",
    "        tangles_maj = OrdinalTangles(agreement=maj_agreement)\n",
    "        ys_tangles_maj = tangles_maj.fit_predict(triplets_to_majority_neighbour_cuts(triplets_unified, radius=maj_radius))\n",
    "\n",
    "    # direct kMeans\n",
    "    print(f\"NMI SOE-kMeans: {normalized_mutual_info_score(ys, ys_soe)}\")\n",
    "    print(f\"NMI Tangles: {normalized_mutual_info_score(ys, ys_tangles)} ({np.unique(ys_tangles).shape[0]})\")\n",
    "    if ys_tangles_maj is not None:\n",
    "        print(f\"NMI Tangles Majority Cuts: {normalized_mutual_info_score(ys, ys_tangles_maj)} ({np.unique(ys_tangles_maj).shape[0]})\")"
   ]
  },
  {
   "cell_type": "code",
   "execution_count": 3,
   "metadata": {},
   "outputs": [
    {
     "name": "stdout",
     "output_type": "stream",
     "text": [
      "CAR DATASET\n",
      "NMI SOE-kMeans: 0.6367123603818012\n",
      "NMI Tangles: 0.8701404722453094 (3)\n"
     ]
    }
   ],
   "source": [
    "print(\"CAR DATASET\")\n",
    "# First we are setting up the data\n",
    "cars = datasets.fetch_car_similarity()\n",
    "n_clusters = len(cars.class_name.tolist())\n",
    "triplets = triplets_from_mostcentral(cars.triplet, cars.response)\n",
    "# respones are just set to always be one (0 would yield the same clustering result)\n",
    "responses = np.ones(triplets.shape[0]).astype(bool) \n",
    "ys = cars.class_id\n",
    "evaluate_real_world_data(triplets, responses, ys, agreement=8, embedding_dimension=2, clusters=4 )"
   ]
  },
  {
   "cell_type": "markdown",
   "metadata": {},
   "source": [
    "# USPS dataset\n",
    "In a similar vein to Kleindessner 2017, Vankadara et al. 2019, we use the USPS dataset simply with the euclidean metric."
   ]
  },
  {
   "cell_type": "code",
   "execution_count": 4,
   "metadata": {},
   "outputs": [],
   "source": [
    "data = get_usps(shuffle=True, seed=1, subset={1,2,3}, num_samples=30)\n",
    "central_triplets, central_responses = subsample_triplets(data.xs, 50000, return_mostcentral=True)\n",
    "triplets = triplets_from_mostcentral(central_triplets, central_responses)\n",
    "# respones are just set to always be one (0 would yield the same clustering result)\n",
    "responses = np.ones(triplets.shape[0]).astype(bool) "
   ]
  },
  {
   "cell_type": "code",
   "execution_count": 5,
   "metadata": {},
   "outputs": [
    {
     "name": "stdout",
     "output_type": "stream",
     "text": [
      "NMI SOE: 0.6672030093941853\n"
     ]
    }
   ],
   "source": [
    "soe_kmeans = SoeKmeans(embedding_dimension=2, n_clusters=3, seed=1)\n",
    "ys_soe_kmeans = soe_kmeans.fit_predict(triplets, responses)\n",
    "print(f\"NMI SOE: {normalized_mutual_info_score(data.ys, ys_soe_kmeans)}\")"
   ]
  },
  {
   "cell_type": "code",
   "execution_count": 6,
   "metadata": {},
   "outputs": [
    {
     "name": "stdout",
     "output_type": "stream",
     "text": [
      "Generating questionnaire...\n",
      "Generating question set...\n",
      "Filling out questionnaire...\n"
     ]
    },
    {
     "name": "stderr",
     "output_type": "stream",
     "text": [
      "100%|██████████| 90/90 [00:00<00:00, 4916.93it/s]"
     ]
    },
    {
     "name": "stdout",
     "output_type": "stream",
     "text": [
      "NMI Tangles Lens: 0.5164267263128485 (2)\n"
     ]
    },
    {
     "name": "stderr",
     "output_type": "stream",
     "text": [
      "\n"
     ]
    },
    {
     "name": "stdout",
     "output_type": "stream",
     "text": [
      "NMI Tangles Majority: 0.445749087856816 (3)\n"
     ]
    }
   ],
   "source": [
    "q = Questionnaire.from_most_central_triplets(central_triplets, central_responses, density=0.1)\n",
    "tangles = OrdinalTangles(agreement=8)\n",
    "ys_tangles = tangles.fit_predict(q.values)\n",
    "print(f\"NMI Tangles Lens: {normalized_mutual_info_score(data.ys, ys_tangles)} ({np.unique(ys_tangles).shape[0]})\")\n",
    "\n",
    "cuts = majority_neighbours_count_matrix(triplets, symmetric=False) > 0\n",
    "tangles = OrdinalTangles(agreement=8)\n",
    "ys_tangles = tangles.fit_predict(cuts)\n",
    "print(f\"NMI Tangles Majority: {normalized_mutual_info_score(data.ys, ys_tangles)} ({np.unique(ys_tangles).shape[0]})\")"
   ]
  },
  {
   "cell_type": "code",
   "execution_count": 7,
   "metadata": {},
   "outputs": [
    {
     "name": "stdout",
     "output_type": "stream",
     "text": [
      "NMI Tangles Majority: 0.44994507711365483 (3)\n"
     ]
    },
    {
     "name": "stderr",
     "output_type": "stream",
     "text": [
      "/opt/homebrew/Caskroom/mambaforge/base/envs/tangles-thesis/lib/python3.9/site-packages/tangles/utils.py:54: RuntimeWarning: invalid value encountered in true_divide\n",
      "  return (array - np.min(array)) / np.ptp(array)\n"
     ]
    }
   ],
   "source": [
    "central_triplets, central_responses = subsample_triplets(data.xs, 50000, return_mostcentral=True)\n",
    "triplets = triplets_from_mostcentral(central_triplets, central_responses)\n",
    "cuts = majority_neighbours_count_matrix(triplets, symmetric=True) > 0\n",
    "\n",
    "tangles = OrdinalTangles(agreement=10)\n",
    "ys_tangles = tangles.fit_predict(cuts)\n",
    "print(f\"NMI Tangles Majority: {normalized_mutual_info_score(data.ys, ys_tangles)} ({np.unique(ys_tangles).shape[0]})\")"
   ]
  },
  {
   "cell_type": "markdown",
   "metadata": {},
   "source": [
    "## Synthetic data\n",
    "Other data actually does not exist. We could think about labeling it ourselves?\n",
    "Otherwise we try synthetic data now."
   ]
  },
  {
   "cell_type": "code",
   "execution_count": 8,
   "metadata": {},
   "outputs": [],
   "source": [
    "seed = 8\n",
    "data = generate_gmm_data_fixed_means(n=20, means=np.array([[-6,3,6,-2,-3], [6,3,-6,-2,3], [-6,-3,6,2,4], [-6,-3,-6,2,-4]]), std=1.5, seed=1)\n",
    "minkowski_1_5 = DistanceMetric.get_metric(\"minkowski\", p=1.5)\n",
    "triplets, responses = subsample_triplets(data.xs, 2000, metric=minkowski_1_5)"
   ]
  },
  {
   "cell_type": "code",
   "execution_count": 9,
   "metadata": {},
   "outputs": [
    {
     "name": "stdout",
     "output_type": "stream",
     "text": [
      "NMI SOE-kMeans: 0.9119974678160138\n",
      "NMI Tangles: 0.8571428571428571 (3)\n"
     ]
    }
   ],
   "source": [
    "evaluate_real_world_data(triplets, responses, data.ys, agreement=8, embedding_dimension=8, clusters=6)"
   ]
  }
 ],
 "metadata": {
  "interpreter": {
   "hash": "b3df0bc9139dfbbc2bb43367c6e0b1c6fcd610288dc61cb8c73318fe0a42d151"
  },
  "kernelspec": {
   "display_name": "Python 3.9.7 ('tangles-thesis')",
   "language": "python",
   "name": "python3"
  },
  "language_info": {
   "codemirror_mode": {
    "name": "ipython",
    "version": 3
   },
   "file_extension": ".py",
   "mimetype": "text/x-python",
   "name": "python",
   "nbconvert_exporter": "python",
   "pygments_lexer": "ipython3",
   "version": "3.9.7"
  },
  "orig_nbformat": 4
 },
 "nbformat": 4,
 "nbformat_minor": 2
}
