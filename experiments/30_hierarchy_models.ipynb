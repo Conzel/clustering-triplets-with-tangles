{
 "cells": [
  {
   "cell_type": "markdown",
   "metadata": {},
   "source": [
    "# Hierarchy models\n",
    "In the following, we will investigate the hierarchy block models that\n",
    "are described in Ghoshdastidar et al., 2019. \n",
    "\n",
    "We contrast a tangles-based approach to ComparisonHC."
   ]
  },
  {
   "cell_type": "code",
   "execution_count": 1,
   "metadata": {},
   "outputs": [],
   "source": [
    "import sys\n",
    "sys.path.append(\"..\")\n",
    "from data_generation import generate_planted_hierarchy\n",
    "from comparison_hc import ComparisonHC\n",
    "from estimators import LandmarkTangles, SoeKmeans, MajorityTangles\n",
    "from questionnaire import Questionnaire\n",
    "import pandas as pd\n",
    "import altair as alt\n",
    "import numpy as np"
   ]
  },
  {
   "cell_type": "code",
   "execution_count": 2,
   "metadata": {},
   "outputs": [
    {
     "name": "stdout",
     "output_type": "stream",
     "text": [
      "Landmark: 1.0, SoeKmeans: 1.0, MajorityTangles: 0.5174755217178904, ComparisonHC: 0.5876810155547433\n"
     ]
    }
   ],
   "source": [
    "def eval_hierarchical(noise=0.0, density=0.1, hier_noise=0.0, n_runs=1):\n",
    "    l, s, m, c = [], [], [], []\n",
    "    for i in range(n_runs):\n",
    "        data = generate_planted_hierarchy(2, 10, 5, 1, hier_noise)\n",
    "        q = Questionnaire.from_precomputed(data.xs, density=density, use_similarities=True, noise=noise, verbose=False).impute(\"random\")\n",
    "        t, r = q.to_bool_array()\n",
    "        l.append(LandmarkTangles(4).score(t,r, data.ys))\n",
    "        s.append(SoeKmeans(2, 4).score(t,r,data.ys)) \n",
    "        m.append(MajorityTangles(4).score(t,r,data.ys)) \n",
    "        c.append(ComparisonHC(4).score(t,r,data.ys))\n",
    "    return np.mean(l), np.mean(s), np.mean(m), np.mean(c)\n",
    "landmark, soe, maj, comp = eval_hierarchical()\n",
    "print(f\"Landmark: {landmark}, SoeKmeans: {soe}, MajorityTangles: {maj}, ComparisonHC: {comp}\")"
   ]
  },
  {
   "cell_type": "markdown",
   "metadata": {},
   "source": [
    "We again run into the same problem that we have observed before: \n",
    "As soon as we add noise to the hierarchy, \n",
    "Tangles cannot cope with it anymore (because we have to have a cut who cleanly takes out one cluster from the rest).\n",
    "\n",
    "See the graphics in `20_hierarchical_clusters.ipynb`."
   ]
  },
  {
   "cell_type": "markdown",
   "metadata": {},
   "source": [
    "If we add noise to the triplets directly however, we can get a MUCH better \n",
    "performance of the algorithm, with Tangles outperform the other algorithms\n",
    "or being on par.\n",
    "\n",
    "Arguments can be made for both noise models. Let us view two hierarchies,\n",
    "where the first one is fruit and the second one is vegetable, with fruit\n",
    "consisting of the objects apples and pears, and vegetables consisting of\n",
    "tomatoes and carrots.\n",
    "\n",
    "The one where we add noise to the hierarchy corresponds to the view, that \n",
    "objects from different categories all have completely different distances to\n",
    "each other. This means, if I pick an apple, a tomato and a carrot,\n",
    "it is completely random whether the apple is closer to the tomato or to the carrot.\n",
    "\n",
    "The other view corresponds to there being a tendency to always answer the same way \n",
    "(apples are always closer to carrots!), but we have some noise on how the question might be answered (so _some_ apples might be closer to tomatoes than to carrots)."
   ]
  },
  {
   "cell_type": "markdown",
   "metadata": {},
   "source": [
    "# Adding triplet noise "
   ]
  },
  {
   "cell_type": "code",
   "execution_count": 3,
   "metadata": {},
   "outputs": [],
   "source": [
    "def df_add_triplet_noise(density):\n",
    "    df = pd.DataFrame(columns=[\"Triplet Noise\", \"Landmark\", \"SoeKmeans\", \"MajorityTangles\", \"ComparisonHC\"])\n",
    "    for tn in [0.05, 0.1, 0.15, 0.2, 0.25, 0.3, 0.35, 0.4, 0.45, 0.5]:\n",
    "        l, s, m, c = eval_hierarchical(noise=tn, n_runs=5, density=0.1)\n",
    "        df = df.append(pd.Series([tn, l, s, m, c], index=df.columns), ignore_index=True)\n",
    "    return df.melt(id_vars=[\"Triplet Noise\"], var_name=\"Method\", value_vars=list(df.columns[1:]), value_name=\"NMI\")\n",
    "df_01 = df_add_triplet_noise(0.1)\n",
    "df_005 = df_add_triplet_noise(0.05)"
   ]
  },
  {
   "cell_type": "code",
   "execution_count": 4,
   "metadata": {},
   "outputs": [
    {
     "data": {
      "text/html": [
       "\n",
       "<div id=\"altair-viz-bec143ecf7044ce8b8365827703b4a62\"></div>\n",
       "<script type=\"text/javascript\">\n",
       "  (function(spec, embedOpt){\n",
       "    let outputDiv = document.currentScript.previousElementSibling;\n",
       "    if (outputDiv.id !== \"altair-viz-bec143ecf7044ce8b8365827703b4a62\") {\n",
       "      outputDiv = document.getElementById(\"altair-viz-bec143ecf7044ce8b8365827703b4a62\");\n",
       "    }\n",
       "    const paths = {\n",
       "      \"vega\": \"https://cdn.jsdelivr.net/npm//vega@5?noext\",\n",
       "      \"vega-lib\": \"https://cdn.jsdelivr.net/npm//vega-lib?noext\",\n",
       "      \"vega-lite\": \"https://cdn.jsdelivr.net/npm//vega-lite@4.8.1?noext\",\n",
       "      \"vega-embed\": \"https://cdn.jsdelivr.net/npm//vega-embed@6?noext\",\n",
       "    };\n",
       "\n",
       "    function loadScript(lib) {\n",
       "      return new Promise(function(resolve, reject) {\n",
       "        var s = document.createElement('script');\n",
       "        s.src = paths[lib];\n",
       "        s.async = true;\n",
       "        s.onload = () => resolve(paths[lib]);\n",
       "        s.onerror = () => reject(`Error loading script: ${paths[lib]}`);\n",
       "        document.getElementsByTagName(\"head\")[0].appendChild(s);\n",
       "      });\n",
       "    }\n",
       "\n",
       "    function showError(err) {\n",
       "      outputDiv.innerHTML = `<div class=\"error\" style=\"color:red;\">${err}</div>`;\n",
       "      throw err;\n",
       "    }\n",
       "\n",
       "    function displayChart(vegaEmbed) {\n",
       "      vegaEmbed(outputDiv, spec, embedOpt)\n",
       "        .catch(err => showError(`Javascript Error: ${err.message}<br>This usually means there's a typo in your chart specification. See the javascript console for the full traceback.`));\n",
       "    }\n",
       "\n",
       "    if(typeof define === \"function\" && define.amd) {\n",
       "      requirejs.config({paths});\n",
       "      require([\"vega-embed\"], displayChart, err => showError(`Error loading script: ${err.message}`));\n",
       "    } else if (typeof vegaEmbed === \"function\") {\n",
       "      displayChart(vegaEmbed);\n",
       "    } else {\n",
       "      loadScript(\"vega\")\n",
       "        .then(() => loadScript(\"vega-lite\"))\n",
       "        .then(() => loadScript(\"vega-embed\"))\n",
       "        .catch(showError)\n",
       "        .then(() => displayChart(vegaEmbed));\n",
       "    }\n",
       "  })({\"config\": {\"view\": {\"continuousWidth\": 400, \"continuousHeight\": 300}}, \"data\": {\"name\": \"data-c326f6753baa84ed7c0ef08e97f78e05\"}, \"mark\": {\"type\": \"line\", \"point\": {}}, \"encoding\": {\"color\": {\"type\": \"nominal\", \"field\": \"Method\"}, \"x\": {\"type\": \"quantitative\", \"field\": \"Triplet Noise\"}, \"y\": {\"type\": \"quantitative\", \"field\": \"NMI\"}}, \"title\": \"Triplet Noise with density 0.1\", \"$schema\": \"https://vega.github.io/schema/vega-lite/v4.8.1.json\", \"datasets\": {\"data-c326f6753baa84ed7c0ef08e97f78e05\": [{\"Triplet Noise\": 0.05, \"Method\": \"Landmark\", \"NMI\": 1.0}, {\"Triplet Noise\": 0.1, \"Method\": \"Landmark\", \"NMI\": 1.0}, {\"Triplet Noise\": 0.15, \"Method\": \"Landmark\", \"NMI\": 0.9714285714285715}, {\"Triplet Noise\": 0.2, \"Method\": \"Landmark\", \"NMI\": 0.8938199731340679}, {\"Triplet Noise\": 0.25, \"Method\": \"Landmark\", \"NMI\": 0.7795915692857956}, {\"Triplet Noise\": 0.3, \"Method\": \"Landmark\", \"NMI\": 0.7347601255579742}, {\"Triplet Noise\": 0.35, \"Method\": \"Landmark\", \"NMI\": 0.6488854371725157}, {\"Triplet Noise\": 0.4, \"Method\": \"Landmark\", \"NMI\": 0.6016081086314008}, {\"Triplet Noise\": 0.45, \"Method\": \"Landmark\", \"NMI\": 0.5064126774189643}, {\"Triplet Noise\": 0.5, \"Method\": \"Landmark\", \"NMI\": 0.4299957684903206}, {\"Triplet Noise\": 0.05, \"Method\": \"SoeKmeans\", \"NMI\": 0.9880837087961647}, {\"Triplet Noise\": 0.1, \"Method\": \"SoeKmeans\", \"NMI\": 0.9522917064222505}, {\"Triplet Noise\": 0.15, \"Method\": \"SoeKmeans\", \"NMI\": 0.9527176379128652}, {\"Triplet Noise\": 0.2, \"Method\": \"SoeKmeans\", \"NMI\": 0.8820739066195239}, {\"Triplet Noise\": 0.25, \"Method\": \"SoeKmeans\", \"NMI\": 0.8812000794350446}, {\"Triplet Noise\": 0.3, \"Method\": \"SoeKmeans\", \"NMI\": 0.860643086353399}, {\"Triplet Noise\": 0.35, \"Method\": \"SoeKmeans\", \"NMI\": 0.7916791478177221}, {\"Triplet Noise\": 0.4, \"Method\": \"SoeKmeans\", \"NMI\": 0.7765694402787786}, {\"Triplet Noise\": 0.45, \"Method\": \"SoeKmeans\", \"NMI\": 0.7235976493213363}, {\"Triplet Noise\": 0.5, \"Method\": \"SoeKmeans\", \"NMI\": 0.6712714757686695}, {\"Triplet Noise\": 0.05, \"Method\": \"MajorityTangles\", \"NMI\": 0.3929717042588264}, {\"Triplet Noise\": 0.1, \"Method\": \"MajorityTangles\", \"NMI\": 0.36802601697286713}, {\"Triplet Noise\": 0.15, \"Method\": \"MajorityTangles\", \"NMI\": 0.4919146526589449}, {\"Triplet Noise\": 0.2, \"Method\": \"MajorityTangles\", \"NMI\": 0.44079686171829274}, {\"Triplet Noise\": 0.25, \"Method\": \"MajorityTangles\", \"NMI\": 0.3660389432751557}, {\"Triplet Noise\": 0.3, \"Method\": \"MajorityTangles\", \"NMI\": 0.34240207441680737}, {\"Triplet Noise\": 0.35, \"Method\": \"MajorityTangles\", \"NMI\": 0.32278511701776674}, {\"Triplet Noise\": 0.4, \"Method\": \"MajorityTangles\", \"NMI\": 0.3582647840236318}, {\"Triplet Noise\": 0.45, \"Method\": \"MajorityTangles\", \"NMI\": 0.41608531389061654}, {\"Triplet Noise\": 0.5, \"Method\": \"MajorityTangles\", \"NMI\": 0.35849958640402013}, {\"Triplet Noise\": 0.05, \"Method\": \"ComparisonHC\", \"NMI\": 0.47560990915514}, {\"Triplet Noise\": 0.1, \"Method\": \"ComparisonHC\", \"NMI\": 0.5262386940001121}, {\"Triplet Noise\": 0.15, \"Method\": \"ComparisonHC\", \"NMI\": 0.5563480848675283}, {\"Triplet Noise\": 0.2, \"Method\": \"ComparisonHC\", \"NMI\": 0.4711367768473577}, {\"Triplet Noise\": 0.25, \"Method\": \"ComparisonHC\", \"NMI\": 0.41914883075608333}, {\"Triplet Noise\": 0.3, \"Method\": \"ComparisonHC\", \"NMI\": 0.48945051724120675}, {\"Triplet Noise\": 0.35, \"Method\": \"ComparisonHC\", \"NMI\": 0.4782270054311624}, {\"Triplet Noise\": 0.4, \"Method\": \"ComparisonHC\", \"NMI\": 0.44248427852492817}, {\"Triplet Noise\": 0.45, \"Method\": \"ComparisonHC\", \"NMI\": 0.5272045393461451}, {\"Triplet Noise\": 0.5, \"Method\": \"ComparisonHC\", \"NMI\": 0.38518711118522886}]}}, {\"mode\": \"vega-lite\"});\n",
       "</script>"
      ],
      "text/plain": [
       "alt.Chart(...)"
      ]
     },
     "metadata": {},
     "output_type": "display_data"
    },
    {
     "data": {
      "text/html": [
       "\n",
       "<div id=\"altair-viz-ea8d8303769b4d79b4d1dcfc52d7d5df\"></div>\n",
       "<script type=\"text/javascript\">\n",
       "  (function(spec, embedOpt){\n",
       "    let outputDiv = document.currentScript.previousElementSibling;\n",
       "    if (outputDiv.id !== \"altair-viz-ea8d8303769b4d79b4d1dcfc52d7d5df\") {\n",
       "      outputDiv = document.getElementById(\"altair-viz-ea8d8303769b4d79b4d1dcfc52d7d5df\");\n",
       "    }\n",
       "    const paths = {\n",
       "      \"vega\": \"https://cdn.jsdelivr.net/npm//vega@5?noext\",\n",
       "      \"vega-lib\": \"https://cdn.jsdelivr.net/npm//vega-lib?noext\",\n",
       "      \"vega-lite\": \"https://cdn.jsdelivr.net/npm//vega-lite@4.8.1?noext\",\n",
       "      \"vega-embed\": \"https://cdn.jsdelivr.net/npm//vega-embed@6?noext\",\n",
       "    };\n",
       "\n",
       "    function loadScript(lib) {\n",
       "      return new Promise(function(resolve, reject) {\n",
       "        var s = document.createElement('script');\n",
       "        s.src = paths[lib];\n",
       "        s.async = true;\n",
       "        s.onload = () => resolve(paths[lib]);\n",
       "        s.onerror = () => reject(`Error loading script: ${paths[lib]}`);\n",
       "        document.getElementsByTagName(\"head\")[0].appendChild(s);\n",
       "      });\n",
       "    }\n",
       "\n",
       "    function showError(err) {\n",
       "      outputDiv.innerHTML = `<div class=\"error\" style=\"color:red;\">${err}</div>`;\n",
       "      throw err;\n",
       "    }\n",
       "\n",
       "    function displayChart(vegaEmbed) {\n",
       "      vegaEmbed(outputDiv, spec, embedOpt)\n",
       "        .catch(err => showError(`Javascript Error: ${err.message}<br>This usually means there's a typo in your chart specification. See the javascript console for the full traceback.`));\n",
       "    }\n",
       "\n",
       "    if(typeof define === \"function\" && define.amd) {\n",
       "      requirejs.config({paths});\n",
       "      require([\"vega-embed\"], displayChart, err => showError(`Error loading script: ${err.message}`));\n",
       "    } else if (typeof vegaEmbed === \"function\") {\n",
       "      displayChart(vegaEmbed);\n",
       "    } else {\n",
       "      loadScript(\"vega\")\n",
       "        .then(() => loadScript(\"vega-lite\"))\n",
       "        .then(() => loadScript(\"vega-embed\"))\n",
       "        .catch(showError)\n",
       "        .then(() => displayChart(vegaEmbed));\n",
       "    }\n",
       "  })({\"config\": {\"view\": {\"continuousWidth\": 400, \"continuousHeight\": 300}}, \"data\": {\"name\": \"data-b0db01b81f510e089773608a32baf89e\"}, \"mark\": {\"type\": \"line\", \"point\": {}}, \"encoding\": {\"color\": {\"type\": \"nominal\", \"field\": \"Method\"}, \"x\": {\"type\": \"quantitative\", \"field\": \"Triplet Noise\"}, \"y\": {\"type\": \"quantitative\", \"field\": \"NMI\"}}, \"title\": \"Triplet Noise with density 0.005\", \"$schema\": \"https://vega.github.io/schema/vega-lite/v4.8.1.json\", \"datasets\": {\"data-b0db01b81f510e089773608a32baf89e\": [{\"Triplet Noise\": 0.05, \"Method\": \"Landmark\", \"NMI\": 1.0}, {\"Triplet Noise\": 0.1, \"Method\": \"Landmark\", \"NMI\": 1.0}, {\"Triplet Noise\": 0.15, \"Method\": \"Landmark\", \"NMI\": 0.9811571407567087}, {\"Triplet Noise\": 0.2, \"Method\": \"Landmark\", \"NMI\": 0.8156410168211684}, {\"Triplet Noise\": 0.25, \"Method\": \"Landmark\", \"NMI\": 0.8117294534904032}, {\"Triplet Noise\": 0.3, \"Method\": \"Landmark\", \"NMI\": 0.734375302918476}, {\"Triplet Noise\": 0.35, \"Method\": \"Landmark\", \"NMI\": 0.6755563331499024}, {\"Triplet Noise\": 0.4, \"Method\": \"Landmark\", \"NMI\": 0.6216322547867936}, {\"Triplet Noise\": 0.45, \"Method\": \"Landmark\", \"NMI\": 0.5575387404475552}, {\"Triplet Noise\": 0.5, \"Method\": \"Landmark\", \"NMI\": 0.5000768382257019}, {\"Triplet Noise\": 0.05, \"Method\": \"SoeKmeans\", \"NMI\": 0.9761458532111252}, {\"Triplet Noise\": 0.1, \"Method\": \"SoeKmeans\", \"NMI\": 0.9523132708034545}, {\"Triplet Noise\": 0.15, \"Method\": \"SoeKmeans\", \"NMI\": 0.9004114299786851}, {\"Triplet Noise\": 0.2, \"Method\": \"SoeKmeans\", \"NMI\": 0.8765942710408554}, {\"Triplet Noise\": 0.25, \"Method\": \"SoeKmeans\", \"NMI\": 0.9527176379128652}, {\"Triplet Noise\": 0.3, \"Method\": \"SoeKmeans\", \"NMI\": 0.8847692253462356}, {\"Triplet Noise\": 0.35, \"Method\": \"SoeKmeans\", \"NMI\": 0.9129233164439577}, {\"Triplet Noise\": 0.4, \"Method\": \"SoeKmeans\", \"NMI\": 0.8683785234306629}, {\"Triplet Noise\": 0.45, \"Method\": \"SoeKmeans\", \"NMI\": 0.6974106171408476}, {\"Triplet Noise\": 0.5, \"Method\": \"SoeKmeans\", \"NMI\": 0.7268342289612674}, {\"Triplet Noise\": 0.05, \"Method\": \"MajorityTangles\", \"NMI\": 0.43366425841399214}, {\"Triplet Noise\": 0.1, \"Method\": \"MajorityTangles\", \"NMI\": 0.3704321800235747}, {\"Triplet Noise\": 0.15, \"Method\": \"MajorityTangles\", \"NMI\": 0.3956156858639587}, {\"Triplet Noise\": 0.2, \"Method\": \"MajorityTangles\", \"NMI\": 0.38825604924227}, {\"Triplet Noise\": 0.25, \"Method\": \"MajorityTangles\", \"NMI\": 0.4343976199461407}, {\"Triplet Noise\": 0.3, \"Method\": \"MajorityTangles\", \"NMI\": 0.38188536450179783}, {\"Triplet Noise\": 0.35, \"Method\": \"MajorityTangles\", \"NMI\": 0.36236698326217187}, {\"Triplet Noise\": 0.4, \"Method\": \"MajorityTangles\", \"NMI\": 0.3234345142636558}, {\"Triplet Noise\": 0.45, \"Method\": \"MajorityTangles\", \"NMI\": 0.28197472071053536}, {\"Triplet Noise\": 0.5, \"Method\": \"MajorityTangles\", \"NMI\": 0.304798349792783}, {\"Triplet Noise\": 0.05, \"Method\": \"ComparisonHC\", \"NMI\": 0.5322846840396602}, {\"Triplet Noise\": 0.1, \"Method\": \"ComparisonHC\", \"NMI\": 0.532721439605889}, {\"Triplet Noise\": 0.15, \"Method\": \"ComparisonHC\", \"NMI\": 0.5249615684388067}, {\"Triplet Noise\": 0.2, \"Method\": \"ComparisonHC\", \"NMI\": 0.5289468150273013}, {\"Triplet Noise\": 0.25, \"Method\": \"ComparisonHC\", \"NMI\": 0.4171426783159304}, {\"Triplet Noise\": 0.3, \"Method\": \"ComparisonHC\", \"NMI\": 0.4154627834349099}, {\"Triplet Noise\": 0.35, \"Method\": \"ComparisonHC\", \"NMI\": 0.46858138098754665}, {\"Triplet Noise\": 0.4, \"Method\": \"ComparisonHC\", \"NMI\": 0.37507470836170853}, {\"Triplet Noise\": 0.45, \"Method\": \"ComparisonHC\", \"NMI\": 0.30912242954578734}, {\"Triplet Noise\": 0.5, \"Method\": \"ComparisonHC\", \"NMI\": 0.35787860159337287}]}}, {\"mode\": \"vega-lite\"});\n",
       "</script>"
      ],
      "text/plain": [
       "alt.Chart(...)"
      ]
     },
     "execution_count": 4,
     "metadata": {},
     "output_type": "execute_result"
    }
   ],
   "source": [
    "alt.Chart(df_01).mark_line(point={}).encode(x=\"Triplet Noise:Q\", y=\"NMI:Q\", color=\"Method:N\").properties(title=\"Triplet Noise with density 0.1\").display()\n",
    "alt.Chart(df_005).mark_line(point={}).encode(x=\"Triplet Noise:Q\", y=\"NMI:Q\", color=\"Method:N\").properties(title=\"Triplet Noise with density 0.005\")"
   ]
  },
  {
   "cell_type": "markdown",
   "metadata": {},
   "source": [
    "# Varying density"
   ]
  },
  {
   "cell_type": "code",
   "execution_count": 5,
   "metadata": {},
   "outputs": [],
   "source": [
    "df = pd.DataFrame(columns=[\"Density\", \"Landmark\", \"SoeKmeans\", \"MajorityTangles\", \"ComparisonHC\"])\n",
    "for density in [0.1, 0.05, 0.01, 0.005, 0.001]:\n",
    "    l, s, m, c = eval_hierarchical(density=density, n_runs=5)\n",
    "    df = df.append(pd.Series([density, l, s, m, c], index=df.columns), ignore_index=True)\n",
    "df = df.melt(id_vars=[\"Density\"], var_name=\"Method\", value_vars=list(df.columns[1:]), value_name=\"NMI\")"
   ]
  },
  {
   "cell_type": "code",
   "execution_count": 6,
   "metadata": {},
   "outputs": [
    {
     "data": {
      "text/html": [
       "\n",
       "<div id=\"altair-viz-9787718df46d4ce0a219c70d6de6df4c\"></div>\n",
       "<script type=\"text/javascript\">\n",
       "  (function(spec, embedOpt){\n",
       "    let outputDiv = document.currentScript.previousElementSibling;\n",
       "    if (outputDiv.id !== \"altair-viz-9787718df46d4ce0a219c70d6de6df4c\") {\n",
       "      outputDiv = document.getElementById(\"altair-viz-9787718df46d4ce0a219c70d6de6df4c\");\n",
       "    }\n",
       "    const paths = {\n",
       "      \"vega\": \"https://cdn.jsdelivr.net/npm//vega@5?noext\",\n",
       "      \"vega-lib\": \"https://cdn.jsdelivr.net/npm//vega-lib?noext\",\n",
       "      \"vega-lite\": \"https://cdn.jsdelivr.net/npm//vega-lite@4.8.1?noext\",\n",
       "      \"vega-embed\": \"https://cdn.jsdelivr.net/npm//vega-embed@6?noext\",\n",
       "    };\n",
       "\n",
       "    function loadScript(lib) {\n",
       "      return new Promise(function(resolve, reject) {\n",
       "        var s = document.createElement('script');\n",
       "        s.src = paths[lib];\n",
       "        s.async = true;\n",
       "        s.onload = () => resolve(paths[lib]);\n",
       "        s.onerror = () => reject(`Error loading script: ${paths[lib]}`);\n",
       "        document.getElementsByTagName(\"head\")[0].appendChild(s);\n",
       "      });\n",
       "    }\n",
       "\n",
       "    function showError(err) {\n",
       "      outputDiv.innerHTML = `<div class=\"error\" style=\"color:red;\">${err}</div>`;\n",
       "      throw err;\n",
       "    }\n",
       "\n",
       "    function displayChart(vegaEmbed) {\n",
       "      vegaEmbed(outputDiv, spec, embedOpt)\n",
       "        .catch(err => showError(`Javascript Error: ${err.message}<br>This usually means there's a typo in your chart specification. See the javascript console for the full traceback.`));\n",
       "    }\n",
       "\n",
       "    if(typeof define === \"function\" && define.amd) {\n",
       "      requirejs.config({paths});\n",
       "      require([\"vega-embed\"], displayChart, err => showError(`Error loading script: ${err.message}`));\n",
       "    } else if (typeof vegaEmbed === \"function\") {\n",
       "      displayChart(vegaEmbed);\n",
       "    } else {\n",
       "      loadScript(\"vega\")\n",
       "        .then(() => loadScript(\"vega-lite\"))\n",
       "        .then(() => loadScript(\"vega-embed\"))\n",
       "        .catch(showError)\n",
       "        .then(() => displayChart(vegaEmbed));\n",
       "    }\n",
       "  })({\"config\": {\"view\": {\"continuousWidth\": 400, \"continuousHeight\": 300}}, \"data\": {\"name\": \"data-813d351983af9f4555c5bf7d6d4284de\"}, \"mark\": {\"type\": \"line\", \"point\": {}}, \"encoding\": {\"color\": {\"type\": \"nominal\", \"field\": \"Method\"}, \"x\": {\"type\": \"quantitative\", \"field\": \"Density\"}, \"y\": {\"type\": \"quantitative\", \"field\": \"NMI\"}}, \"$schema\": \"https://vega.github.io/schema/vega-lite/v4.8.1.json\", \"datasets\": {\"data-813d351983af9f4555c5bf7d6d4284de\": [{\"Density\": 0.1, \"Method\": \"Landmark\", \"NMI\": 1.0}, {\"Density\": 0.05, \"Method\": \"Landmark\", \"NMI\": 1.0}, {\"Density\": 0.01, \"Method\": \"Landmark\", \"NMI\": 0.8857142857142859}, {\"Density\": 0.005, \"Method\": \"Landmark\", \"NMI\": 0.7809523809523814}, {\"Density\": 0.001, \"Method\": \"Landmark\", \"NMI\": 0.0}, {\"Density\": 0.1, \"Method\": \"SoeKmeans\", \"NMI\": 1.0}, {\"Density\": 0.05, \"Method\": \"SoeKmeans\", \"NMI\": 0.8567862198026773}, {\"Density\": 0.01, \"Method\": \"SoeKmeans\", \"NMI\": 0.7001802044937795}, {\"Density\": 0.005, \"Method\": \"SoeKmeans\", \"NMI\": 0.814538175215396}, {\"Density\": 0.001, \"Method\": \"SoeKmeans\", \"NMI\": 0.44073782306275555}, {\"Density\": 0.1, \"Method\": \"MajorityTangles\", \"NMI\": 0.4308892385400518}, {\"Density\": 0.05, \"Method\": \"MajorityTangles\", \"NMI\": 0.31539604549281197}, {\"Density\": 0.01, \"Method\": \"MajorityTangles\", \"NMI\": 0.11518644995220831}, {\"Density\": 0.005, \"Method\": \"MajorityTangles\", \"NMI\": 0.03879399657927799}, {\"Density\": 0.001, \"Method\": \"MajorityTangles\", \"NMI\": 0.0}, {\"Density\": 0.1, \"Method\": \"ComparisonHC\", \"NMI\": 0.5177048557863628}, {\"Density\": 0.05, \"Method\": \"ComparisonHC\", \"NMI\": 0.20959136596490882}, {\"Density\": 0.01, \"Method\": \"ComparisonHC\", \"NMI\": 0.13102419710016727}, {\"Density\": 0.005, \"Method\": \"ComparisonHC\", \"NMI\": 0.13102419710016727}, {\"Density\": 0.001, \"Method\": \"ComparisonHC\", \"NMI\": 0.13102419710016727}]}}, {\"mode\": \"vega-lite\"});\n",
       "</script>"
      ],
      "text/plain": [
       "alt.Chart(...)"
      ]
     },
     "execution_count": 6,
     "metadata": {},
     "output_type": "execute_result"
    }
   ],
   "source": [
    "alt.Chart(df).mark_line(point={}).encode(x=\"Density\", y=\"NMI:Q\", color=\"Method:N\")"
   ]
  },
  {
   "cell_type": "markdown",
   "metadata": {},
   "source": [
    "# Adding hierarchy noise"
   ]
  },
  {
   "cell_type": "code",
   "execution_count": 7,
   "metadata": {},
   "outputs": [],
   "source": [
    "df = pd.DataFrame(columns=[\"Hierarchy Noise\", \"Landmark\", \"SoeKmeans\", \"MajorityTangles\", \"ComparisonHC\"])\n",
    "for hn in [0.0, 0.25, 0.5, 0.75, 1.0, 2.0, 3.0, 4.0]:\n",
    "    l, s, m, c = eval_hierarchical(hier_noise=hn, n_runs=5)\n",
    "    df = df.append(pd.Series([hn, l, s, m, c], index=df.columns), ignore_index=True)\n",
    "df = df.melt(id_vars=[\"Hierarchy Noise\"], var_name=\"Method\", value_vars=list(df.columns[1:]), value_name=\"NMI\")"
   ]
  },
  {
   "cell_type": "code",
   "execution_count": 8,
   "metadata": {},
   "outputs": [
    {
     "data": {
      "text/html": [
       "\n",
       "<div id=\"altair-viz-445db379b61545dea8096338178070c9\"></div>\n",
       "<script type=\"text/javascript\">\n",
       "  (function(spec, embedOpt){\n",
       "    let outputDiv = document.currentScript.previousElementSibling;\n",
       "    if (outputDiv.id !== \"altair-viz-445db379b61545dea8096338178070c9\") {\n",
       "      outputDiv = document.getElementById(\"altair-viz-445db379b61545dea8096338178070c9\");\n",
       "    }\n",
       "    const paths = {\n",
       "      \"vega\": \"https://cdn.jsdelivr.net/npm//vega@5?noext\",\n",
       "      \"vega-lib\": \"https://cdn.jsdelivr.net/npm//vega-lib?noext\",\n",
       "      \"vega-lite\": \"https://cdn.jsdelivr.net/npm//vega-lite@4.8.1?noext\",\n",
       "      \"vega-embed\": \"https://cdn.jsdelivr.net/npm//vega-embed@6?noext\",\n",
       "    };\n",
       "\n",
       "    function loadScript(lib) {\n",
       "      return new Promise(function(resolve, reject) {\n",
       "        var s = document.createElement('script');\n",
       "        s.src = paths[lib];\n",
       "        s.async = true;\n",
       "        s.onload = () => resolve(paths[lib]);\n",
       "        s.onerror = () => reject(`Error loading script: ${paths[lib]}`);\n",
       "        document.getElementsByTagName(\"head\")[0].appendChild(s);\n",
       "      });\n",
       "    }\n",
       "\n",
       "    function showError(err) {\n",
       "      outputDiv.innerHTML = `<div class=\"error\" style=\"color:red;\">${err}</div>`;\n",
       "      throw err;\n",
       "    }\n",
       "\n",
       "    function displayChart(vegaEmbed) {\n",
       "      vegaEmbed(outputDiv, spec, embedOpt)\n",
       "        .catch(err => showError(`Javascript Error: ${err.message}<br>This usually means there's a typo in your chart specification. See the javascript console for the full traceback.`));\n",
       "    }\n",
       "\n",
       "    if(typeof define === \"function\" && define.amd) {\n",
       "      requirejs.config({paths});\n",
       "      require([\"vega-embed\"], displayChart, err => showError(`Error loading script: ${err.message}`));\n",
       "    } else if (typeof vegaEmbed === \"function\") {\n",
       "      displayChart(vegaEmbed);\n",
       "    } else {\n",
       "      loadScript(\"vega\")\n",
       "        .then(() => loadScript(\"vega-lite\"))\n",
       "        .then(() => loadScript(\"vega-embed\"))\n",
       "        .catch(showError)\n",
       "        .then(() => displayChart(vegaEmbed));\n",
       "    }\n",
       "  })({\"config\": {\"view\": {\"continuousWidth\": 400, \"continuousHeight\": 300}}, \"data\": {\"name\": \"data-2b8696d1b59de7cb1edcbcf5510a0674\"}, \"mark\": {\"type\": \"line\", \"point\": {}}, \"encoding\": {\"color\": {\"type\": \"nominal\", \"field\": \"Method\"}, \"x\": {\"type\": \"quantitative\", \"field\": \"Hierarchy Noise\"}, \"y\": {\"type\": \"quantitative\", \"field\": \"NMI\"}}, \"$schema\": \"https://vega.github.io/schema/vega-lite/v4.8.1.json\", \"datasets\": {\"data-2b8696d1b59de7cb1edcbcf5510a0674\": [{\"Hierarchy Noise\": 0.0, \"Method\": \"Landmark\", \"NMI\": 1.0}, {\"Hierarchy Noise\": 0.25, \"Method\": \"Landmark\", \"NMI\": 0.8046600875389942}, {\"Hierarchy Noise\": 0.5, \"Method\": \"Landmark\", \"NMI\": 0.789100699438068}, {\"Hierarchy Noise\": 0.75, \"Method\": \"Landmark\", \"NMI\": 0.6492790136502098}, {\"Hierarchy Noise\": 1.0, \"Method\": \"Landmark\", \"NMI\": 0.6666666666666672}, {\"Hierarchy Noise\": 2.0, \"Method\": \"Landmark\", \"NMI\": 0.2912366150581096}, {\"Hierarchy Noise\": 3.0, \"Method\": \"Landmark\", \"NMI\": 0.22365247273946767}, {\"Hierarchy Noise\": 4.0, \"Method\": \"Landmark\", \"NMI\": 0.2133532155639694}, {\"Hierarchy Noise\": 0.0, \"Method\": \"SoeKmeans\", \"NMI\": 1.0}, {\"Hierarchy Noise\": 0.25, \"Method\": \"SoeKmeans\", \"NMI\": 0.9658719144999506}, {\"Hierarchy Noise\": 0.5, \"Method\": \"SoeKmeans\", \"NMI\": 1.0}, {\"Hierarchy Noise\": 0.75, \"Method\": \"SoeKmeans\", \"NMI\": 0.9811571407567087}, {\"Hierarchy Noise\": 1.0, \"Method\": \"SoeKmeans\", \"NMI\": 0.8907144580302498}, {\"Hierarchy Noise\": 2.0, \"Method\": \"SoeKmeans\", \"NMI\": 0.5121237618521423}, {\"Hierarchy Noise\": 3.0, \"Method\": \"SoeKmeans\", \"NMI\": 0.42236220135074626}, {\"Hierarchy Noise\": 4.0, \"Method\": \"SoeKmeans\", \"NMI\": 0.43041153177444497}, {\"Hierarchy Noise\": 0.0, \"Method\": \"MajorityTangles\", \"NMI\": 0.4152205066671444}, {\"Hierarchy Noise\": 0.25, \"Method\": \"MajorityTangles\", \"NMI\": 0.45553823090301293}, {\"Hierarchy Noise\": 0.5, \"Method\": \"MajorityTangles\", \"NMI\": 0.3628724890197722}, {\"Hierarchy Noise\": 0.75, \"Method\": \"MajorityTangles\", \"NMI\": 0.3292299181578834}, {\"Hierarchy Noise\": 1.0, \"Method\": \"MajorityTangles\", \"NMI\": 0.4545446136605462}, {\"Hierarchy Noise\": 2.0, \"Method\": \"MajorityTangles\", \"NMI\": 0.2549915163262432}, {\"Hierarchy Noise\": 3.0, \"Method\": \"MajorityTangles\", \"NMI\": 0.2253567991953195}, {\"Hierarchy Noise\": 4.0, \"Method\": \"MajorityTangles\", \"NMI\": 0.22673713152598865}, {\"Hierarchy Noise\": 0.0, \"Method\": \"ComparisonHC\", \"NMI\": 0.5413513925406386}, {\"Hierarchy Noise\": 0.25, \"Method\": \"ComparisonHC\", \"NMI\": 0.6697920091946405}, {\"Hierarchy Noise\": 0.5, \"Method\": \"ComparisonHC\", \"NMI\": 0.565791648743154}, {\"Hierarchy Noise\": 0.75, \"Method\": \"ComparisonHC\", \"NMI\": 0.49688131931324797}, {\"Hierarchy Noise\": 1.0, \"Method\": \"ComparisonHC\", \"NMI\": 0.45271112574032346}, {\"Hierarchy Noise\": 2.0, \"Method\": \"ComparisonHC\", \"NMI\": 0.20757380368010026}, {\"Hierarchy Noise\": 3.0, \"Method\": \"ComparisonHC\", \"NMI\": 0.12511810872733112}, {\"Hierarchy Noise\": 4.0, \"Method\": \"ComparisonHC\", \"NMI\": 0.17944456839102135}]}}, {\"mode\": \"vega-lite\"});\n",
       "</script>"
      ],
      "text/plain": [
       "alt.Chart(...)"
      ]
     },
     "execution_count": 8,
     "metadata": {},
     "output_type": "execute_result"
    }
   ],
   "source": [
    "alt.Chart(df).mark_line(point={}).encode(x=\"Hierarchy Noise\", y=\"NMI:Q\", color=\"Method:N\")"
   ]
  },
  {
   "cell_type": "markdown",
   "metadata": {},
   "source": [
    "# Recovering the hierarchy\n",
    "As-is, all the algorithms only recover the cluster structure, but not the hierarchy. \n",
    "Tangles and ComparisonHC have the possibility to also discover the hierarchy of the underlying structure, so we want to add this as well and see how Tangles holds up."
   ]
  }
 ],
 "metadata": {
  "interpreter": {
   "hash": "b3df0bc9139dfbbc2bb43367c6e0b1c6fcd610288dc61cb8c73318fe0a42d151"
  },
  "kernelspec": {
   "display_name": "Python 3.9.7 ('tangles-thesis')",
   "language": "python",
   "name": "python3"
  },
  "language_info": {
   "codemirror_mode": {
    "name": "ipython",
    "version": 3
   },
   "file_extension": ".py",
   "mimetype": "text/x-python",
   "name": "python",
   "nbconvert_exporter": "python",
   "pygments_lexer": "ipython3",
   "version": "3.9.7"
  },
  "orig_nbformat": 4
 },
 "nbformat": 4,
 "nbformat_minor": 2
}
