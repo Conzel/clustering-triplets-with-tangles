{
 "cells": [
  {
   "cell_type": "markdown",
   "metadata": {},
   "source": [
    "# Hierarchy models\n",
    "In the following, we will investigate the hierarchy block models that\n",
    "are described in Ghoshdastidar et al., 2019. \n",
    "\n",
    "We contrast a tangles-based approach to ComparisonHC."
   ]
  },
  {
   "cell_type": "code",
   "execution_count": 1,
   "metadata": {},
   "outputs": [],
   "source": [
    "import sys\n",
    "sys.path.append(\"..\")\n",
    "from data_generation import generate_planted_hierarchy\n",
    "from comparison_hc import ComparisonHC\n",
    "from estimators import LandmarkTangles, SoeKmeans, MajorityTangles\n",
    "from questionnaire import Questionnaire\n",
    "from hierarchies import BinaryHierarchyTree, aari\n",
    "import pandas as pd\n",
    "import altair as alt\n",
    "import numpy as np"
   ]
  },
  {
   "cell_type": "code",
   "execution_count": 2,
   "metadata": {},
   "outputs": [
    {
     "name": "stdout",
     "output_type": "stream",
     "text": [
      "Landmark: 1.0, SoeKmeans: 1.0, MajorityTangles: 0.4898699180672508, ComparisonHC: 0.6401534410161037\n"
     ]
    }
   ],
   "source": [
    "def eval_hierarchical(noise=0.0, density=0.1, hier_noise=0.0, n_runs=1):\n",
    "    l, s, m, c, hl, hc = [], [], [], [], [], []\n",
    "    true_hierarchy = BinaryHierarchyTree([[list(range(0,10)), list(range(10,20))], [list(range(20,30)), list(range(30,40))]])\n",
    "    for i in range(n_runs):\n",
    "        data = generate_planted_hierarchy(2, 10, 5, 1, hier_noise)\n",
    "        q = Questionnaire.from_precomputed(data.xs, density=density, use_similarities=True, noise=noise, verbose=False).impute(\"random\")\n",
    "        t, r = q.to_bool_array()\n",
    "        chc = ComparisonHC(4)\n",
    "        y_chc = chc.fit_predict(t,r) \n",
    "        lt = LandmarkTangles(4).fit(t, r, data.ys)\n",
    "        m.append(MajorityTangles(4, radius=1/2).score(t,r,data.ys)) \n",
    "        l.append(LandmarkTangles(4).score(t,r, data.ys))\n",
    "        s.append(SoeKmeans(2, 4).score(t,r,data.ys)) \n",
    "        c.append(ComparisonHC(4).score(t,r,data.ys))\n",
    "        try: \n",
    "            hl.append(aari(true_hierarchy, BinaryHierarchyTree(lt.hierarchy_), 2))\n",
    "        except:\n",
    "            print(true_hierarchy, BinaryHierarchyTree(lt.hierarchy_))\n",
    "            raise ValueError(\"bla\")\n",
    "        hc.append(aari(true_hierarchy, chc, 2))\n",
    "\n",
    "    return np.mean(l), np.mean(s), np.mean(m), np.mean(c), np.mean(hl), np.mean(hc)\n",
    "landmark, soe, maj, comp, _, _ = eval_hierarchical()\n",
    "print(f\"Landmark: {landmark}, SoeKmeans: {soe}, MajorityTangles: {maj}, ComparisonHC: {comp}\")"
   ]
  },
  {
   "cell_type": "markdown",
   "metadata": {},
   "source": [
    "We again run into the same problem that we have observed before: \n",
    "As soon as we add noise to the hierarchy, \n",
    "Tangles cannot cope with it anymore (because we have to have a cut who cleanly takes out one cluster from the rest).\n",
    "\n",
    "See the graphics in `20_hierarchical_clusters.ipynb`."
   ]
  },
  {
   "cell_type": "markdown",
   "metadata": {},
   "source": [
    "If we add noise to the triplets directly however, we can get a MUCH better \n",
    "performance of the algorithm, with Tangles outperform the other algorithms\n",
    "or being on par.\n",
    "\n",
    "Arguments can be made for both noise models. Let us view two hierarchies,\n",
    "where the first one is fruit and the second one is vegetable, with fruit\n",
    "consisting of the objects apples and pears, and vegetables consisting of\n",
    "tomatoes and carrots.\n",
    "\n",
    "The one where we add noise to the hierarchy corresponds to the view, that \n",
    "objects from different categories all have completely different distances to\n",
    "each other. This means, if I pick an apple, a tomato and a carrot,\n",
    "it is completely random whether the apple is closer to the tomato or to the carrot.\n",
    "\n",
    "The other view corresponds to there being a tendency to always answer the same way \n",
    "(apples are always closer to carrots!), but we have some noise on how the question might be answered (so _some_ apples might be closer to tomatoes than to carrots)."
   ]
  },
  {
   "cell_type": "markdown",
   "metadata": {},
   "source": [
    "# Adding triplet noise "
   ]
  },
  {
   "cell_type": "code",
   "execution_count": 3,
   "metadata": {},
   "outputs": [],
   "source": [
    "def df_add_triplet_noise(density):\n",
    "    df = pd.DataFrame(columns=[\"Triplet Noise\", \"Landmark\", \"SoeKmeans\", \"MajorityTangles\", \"ComparisonHC\", \"Landmark Hier.\", \"ComparisonHC Hier.\"])\n",
    "    for tn in [0.05, 0.1, 0.15, 0.2, 0.25, 0.3, 0.35, 0.4, 0.45, 0.5]:\n",
    "        l, s, m, c, hl, hc = eval_hierarchical(noise=tn, n_runs=5, density=0.1)\n",
    "        df = df.append(pd.Series([tn, l, s, m, c, hl, hc], index=df.columns), ignore_index=True)\n",
    "    return df.melt(id_vars=[\"Triplet Noise\"], var_name=\"Method\", value_vars=list(df.columns[1:]), value_name=\"NMI/AARI\")\n",
    "df_01 = df_add_triplet_noise(0.1)\n",
    "df_005 = df_add_triplet_noise(0.05)"
   ]
  },
  {
   "cell_type": "code",
   "execution_count": 4,
   "metadata": {},
   "outputs": [
    {
     "data": {
      "text/html": [
       "\n",
       "<div id=\"altair-viz-d2dc7859699e4539a660544049b5157d\"></div>\n",
       "<script type=\"text/javascript\">\n",
       "  (function(spec, embedOpt){\n",
       "    let outputDiv = document.currentScript.previousElementSibling;\n",
       "    if (outputDiv.id !== \"altair-viz-d2dc7859699e4539a660544049b5157d\") {\n",
       "      outputDiv = document.getElementById(\"altair-viz-d2dc7859699e4539a660544049b5157d\");\n",
       "    }\n",
       "    const paths = {\n",
       "      \"vega\": \"https://cdn.jsdelivr.net/npm//vega@5?noext\",\n",
       "      \"vega-lib\": \"https://cdn.jsdelivr.net/npm//vega-lib?noext\",\n",
       "      \"vega-lite\": \"https://cdn.jsdelivr.net/npm//vega-lite@4.8.1?noext\",\n",
       "      \"vega-embed\": \"https://cdn.jsdelivr.net/npm//vega-embed@6?noext\",\n",
       "    };\n",
       "\n",
       "    function loadScript(lib) {\n",
       "      return new Promise(function(resolve, reject) {\n",
       "        var s = document.createElement('script');\n",
       "        s.src = paths[lib];\n",
       "        s.async = true;\n",
       "        s.onload = () => resolve(paths[lib]);\n",
       "        s.onerror = () => reject(`Error loading script: ${paths[lib]}`);\n",
       "        document.getElementsByTagName(\"head\")[0].appendChild(s);\n",
       "      });\n",
       "    }\n",
       "\n",
       "    function showError(err) {\n",
       "      outputDiv.innerHTML = `<div class=\"error\" style=\"color:red;\">${err}</div>`;\n",
       "      throw err;\n",
       "    }\n",
       "\n",
       "    function displayChart(vegaEmbed) {\n",
       "      vegaEmbed(outputDiv, spec, embedOpt)\n",
       "        .catch(err => showError(`Javascript Error: ${err.message}<br>This usually means there's a typo in your chart specification. See the javascript console for the full traceback.`));\n",
       "    }\n",
       "\n",
       "    if(typeof define === \"function\" && define.amd) {\n",
       "      requirejs.config({paths});\n",
       "      require([\"vega-embed\"], displayChart, err => showError(`Error loading script: ${err.message}`));\n",
       "    } else if (typeof vegaEmbed === \"function\") {\n",
       "      displayChart(vegaEmbed);\n",
       "    } else {\n",
       "      loadScript(\"vega\")\n",
       "        .then(() => loadScript(\"vega-lite\"))\n",
       "        .then(() => loadScript(\"vega-embed\"))\n",
       "        .catch(showError)\n",
       "        .then(() => displayChart(vegaEmbed));\n",
       "    }\n",
       "  })({\"config\": {\"view\": {\"continuousWidth\": 400, \"continuousHeight\": 300}}, \"data\": {\"name\": \"data-2b95faa5c3eebd6ef123980c12397f09\"}, \"mark\": {\"type\": \"line\", \"point\": {}}, \"encoding\": {\"color\": {\"type\": \"nominal\", \"field\": \"Method\"}, \"x\": {\"type\": \"quantitative\", \"field\": \"Triplet Noise\"}, \"y\": {\"type\": \"quantitative\", \"field\": \"NMI/AARI\"}}, \"title\": \"Triplet Noise with density 0.1\", \"$schema\": \"https://vega.github.io/schema/vega-lite/v4.8.1.json\", \"datasets\": {\"data-2b95faa5c3eebd6ef123980c12397f09\": [{\"Triplet Noise\": 0.05, \"Method\": \"Landmark\", \"NMI/AARI\": 1.0}, {\"Triplet Noise\": 0.1, \"Method\": \"Landmark\", \"NMI/AARI\": 0.9761674175923293}, {\"Triplet Noise\": 0.15, \"Method\": \"Landmark\", \"NMI/AARI\": 0.9880837087961647}, {\"Triplet Noise\": 0.2, \"Method\": \"Landmark\", \"NMI/AARI\": 0.8573476169471851}, {\"Triplet Noise\": 0.25, \"Method\": \"Landmark\", \"NMI/AARI\": 0.8545254993618844}, {\"Triplet Noise\": 0.3, \"Method\": \"Landmark\", \"NMI/AARI\": 0.7388216629721429}, {\"Triplet Noise\": 0.35, \"Method\": \"Landmark\", \"NMI/AARI\": 0.6655426137719533}, {\"Triplet Noise\": 0.4, \"Method\": \"Landmark\", \"NMI/AARI\": 0.6409087832383715}, {\"Triplet Noise\": 0.45, \"Method\": \"Landmark\", \"NMI/AARI\": 0.5543113733514737}, {\"Triplet Noise\": 0.5, \"Method\": \"Landmark\", \"NMI/AARI\": 0.5562846852196692}, {\"Triplet Noise\": 0.05, \"Method\": \"SoeKmeans\", \"NMI/AARI\": 1.0}, {\"Triplet Noise\": 0.1, \"Method\": \"SoeKmeans\", \"NMI/AARI\": 0.9367803991153387}, {\"Triplet Noise\": 0.15, \"Method\": \"SoeKmeans\", \"NMI/AARI\": 0.9573245583490382}, {\"Triplet Noise\": 0.2, \"Method\": \"SoeKmeans\", \"NMI/AARI\": 0.8894568025319833}, {\"Triplet Noise\": 0.25, \"Method\": \"SoeKmeans\", \"NMI/AARI\": 0.8852437512964192}, {\"Triplet Noise\": 0.3, \"Method\": \"SoeKmeans\", \"NMI/AARI\": 0.9402528909248629}, {\"Triplet Noise\": 0.35, \"Method\": \"SoeKmeans\", \"NMI/AARI\": 0.8368551971975478}, {\"Triplet Noise\": 0.4, \"Method\": \"SoeKmeans\", \"NMI/AARI\": 0.8242993703958348}, {\"Triplet Noise\": 0.45, \"Method\": \"SoeKmeans\", \"NMI/AARI\": 0.77270302670744}, {\"Triplet Noise\": 0.5, \"Method\": \"SoeKmeans\", \"NMI/AARI\": 0.8271087735386494}, {\"Triplet Noise\": 0.05, \"Method\": \"MajorityTangles\", \"NMI/AARI\": 0.4955527047676118}, {\"Triplet Noise\": 0.1, \"Method\": \"MajorityTangles\", \"NMI/AARI\": 0.47427741324573036}, {\"Triplet Noise\": 0.15, \"Method\": \"MajorityTangles\", \"NMI/AARI\": 0.3775113166024912}, {\"Triplet Noise\": 0.2, \"Method\": \"MajorityTangles\", \"NMI/AARI\": 0.4683577713789062}, {\"Triplet Noise\": 0.25, \"Method\": \"MajorityTangles\", \"NMI/AARI\": 0.40842631152019404}, {\"Triplet Noise\": 0.3, \"Method\": \"MajorityTangles\", \"NMI/AARI\": 0.37713672838178003}, {\"Triplet Noise\": 0.35, \"Method\": \"MajorityTangles\", \"NMI/AARI\": 0.32755638580721785}, {\"Triplet Noise\": 0.4, \"Method\": \"MajorityTangles\", \"NMI/AARI\": 0.28599015054589805}, {\"Triplet Noise\": 0.45, \"Method\": \"MajorityTangles\", \"NMI/AARI\": 0.3642317713224742}, {\"Triplet Noise\": 0.5, \"Method\": \"MajorityTangles\", \"NMI/AARI\": 0.18681583705426563}, {\"Triplet Noise\": 0.05, \"Method\": \"ComparisonHC\", \"NMI/AARI\": 0.46354324746297426}, {\"Triplet Noise\": 0.1, \"Method\": \"ComparisonHC\", \"NMI/AARI\": 0.41371411486438436}, {\"Triplet Noise\": 0.15, \"Method\": \"ComparisonHC\", \"NMI/AARI\": 0.47744215403190193}, {\"Triplet Noise\": 0.2, \"Method\": \"ComparisonHC\", \"NMI/AARI\": 0.5059973295110287}, {\"Triplet Noise\": 0.25, \"Method\": \"ComparisonHC\", \"NMI/AARI\": 0.4297667908112704}, {\"Triplet Noise\": 0.3, \"Method\": \"ComparisonHC\", \"NMI/AARI\": 0.3416795368982716}, {\"Triplet Noise\": 0.35, \"Method\": \"ComparisonHC\", \"NMI/AARI\": 0.35204165396405623}, {\"Triplet Noise\": 0.4, \"Method\": \"ComparisonHC\", \"NMI/AARI\": 0.3808039416763057}, {\"Triplet Noise\": 0.45, \"Method\": \"ComparisonHC\", \"NMI/AARI\": 0.21587350139633918}, {\"Triplet Noise\": 0.5, \"Method\": \"ComparisonHC\", \"NMI/AARI\": 0.24083496850838787}, {\"Triplet Noise\": 0.05, \"Method\": \"Landmark Hier.\", \"NMI/AARI\": 1.0}, {\"Triplet Noise\": 0.1, \"Method\": \"Landmark Hier.\", \"NMI/AARI\": 0.9863044080953701}, {\"Triplet Noise\": 0.15, \"Method\": \"Landmark Hier.\", \"NMI/AARI\": 0.993152204047685}, {\"Triplet Noise\": 0.2, \"Method\": \"Landmark Hier.\", \"NMI/AARI\": 0.8746352144816798}, {\"Triplet Noise\": 0.25, \"Method\": \"Landmark Hier.\", \"NMI/AARI\": 0.8769171645961398}, {\"Triplet Noise\": 0.3, \"Method\": \"Landmark Hier.\", \"NMI/AARI\": 0.7994088829257677}, {\"Triplet Noise\": 0.35, \"Method\": \"Landmark Hier.\", \"NMI/AARI\": 0.7577269980149449}, {\"Triplet Noise\": 0.4, \"Method\": \"Landmark Hier.\", \"NMI/AARI\": 0.7317792257982682}, {\"Triplet Noise\": 0.45, \"Method\": \"Landmark Hier.\", \"NMI/AARI\": 0.5740186864190038}, {\"Triplet Noise\": 0.5, \"Method\": \"Landmark Hier.\", \"NMI/AARI\": 0.5937945791098106}, {\"Triplet Noise\": 0.05, \"Method\": \"ComparisonHC Hier.\", \"NMI/AARI\": 0.447928363696231}, {\"Triplet Noise\": 0.1, \"Method\": \"ComparisonHC Hier.\", \"NMI/AARI\": 0.31170432247917057}, {\"Triplet Noise\": 0.15, \"Method\": \"ComparisonHC Hier.\", \"NMI/AARI\": 0.4152717966407719}, {\"Triplet Noise\": 0.2, \"Method\": \"ComparisonHC Hier.\", \"NMI/AARI\": 0.4860590224963491}, {\"Triplet Noise\": 0.25, \"Method\": \"ComparisonHC Hier.\", \"NMI/AARI\": 0.22933301895478514}, {\"Triplet Noise\": 0.3, \"Method\": \"ComparisonHC Hier.\", \"NMI/AARI\": 0.27147626230142413}, {\"Triplet Noise\": 0.35, \"Method\": \"ComparisonHC Hier.\", \"NMI/AARI\": 0.17210403779932407}, {\"Triplet Noise\": 0.4, \"Method\": \"ComparisonHC Hier.\", \"NMI/AARI\": 0.33773742220328706}, {\"Triplet Noise\": 0.45, \"Method\": \"ComparisonHC Hier.\", \"NMI/AARI\": 0.12169080917451021}, {\"Triplet Noise\": 0.5, \"Method\": \"ComparisonHC Hier.\", \"NMI/AARI\": 0.13166933580615164}]}}, {\"mode\": \"vega-lite\"});\n",
       "</script>"
      ],
      "text/plain": [
       "alt.Chart(...)"
      ]
     },
     "metadata": {},
     "output_type": "display_data"
    },
    {
     "data": {
      "text/html": [
       "\n",
       "<div id=\"altair-viz-b409b5bb49ea4211b46bf98097aa81b1\"></div>\n",
       "<script type=\"text/javascript\">\n",
       "  (function(spec, embedOpt){\n",
       "    let outputDiv = document.currentScript.previousElementSibling;\n",
       "    if (outputDiv.id !== \"altair-viz-b409b5bb49ea4211b46bf98097aa81b1\") {\n",
       "      outputDiv = document.getElementById(\"altair-viz-b409b5bb49ea4211b46bf98097aa81b1\");\n",
       "    }\n",
       "    const paths = {\n",
       "      \"vega\": \"https://cdn.jsdelivr.net/npm//vega@5?noext\",\n",
       "      \"vega-lib\": \"https://cdn.jsdelivr.net/npm//vega-lib?noext\",\n",
       "      \"vega-lite\": \"https://cdn.jsdelivr.net/npm//vega-lite@4.8.1?noext\",\n",
       "      \"vega-embed\": \"https://cdn.jsdelivr.net/npm//vega-embed@6?noext\",\n",
       "    };\n",
       "\n",
       "    function loadScript(lib) {\n",
       "      return new Promise(function(resolve, reject) {\n",
       "        var s = document.createElement('script');\n",
       "        s.src = paths[lib];\n",
       "        s.async = true;\n",
       "        s.onload = () => resolve(paths[lib]);\n",
       "        s.onerror = () => reject(`Error loading script: ${paths[lib]}`);\n",
       "        document.getElementsByTagName(\"head\")[0].appendChild(s);\n",
       "      });\n",
       "    }\n",
       "\n",
       "    function showError(err) {\n",
       "      outputDiv.innerHTML = `<div class=\"error\" style=\"color:red;\">${err}</div>`;\n",
       "      throw err;\n",
       "    }\n",
       "\n",
       "    function displayChart(vegaEmbed) {\n",
       "      vegaEmbed(outputDiv, spec, embedOpt)\n",
       "        .catch(err => showError(`Javascript Error: ${err.message}<br>This usually means there's a typo in your chart specification. See the javascript console for the full traceback.`));\n",
       "    }\n",
       "\n",
       "    if(typeof define === \"function\" && define.amd) {\n",
       "      requirejs.config({paths});\n",
       "      require([\"vega-embed\"], displayChart, err => showError(`Error loading script: ${err.message}`));\n",
       "    } else if (typeof vegaEmbed === \"function\") {\n",
       "      displayChart(vegaEmbed);\n",
       "    } else {\n",
       "      loadScript(\"vega\")\n",
       "        .then(() => loadScript(\"vega-lite\"))\n",
       "        .then(() => loadScript(\"vega-embed\"))\n",
       "        .catch(showError)\n",
       "        .then(() => displayChart(vegaEmbed));\n",
       "    }\n",
       "  })({\"config\": {\"view\": {\"continuousWidth\": 400, \"continuousHeight\": 300}}, \"data\": {\"name\": \"data-9339bb610f9df3fd0bc797f4f30442f9\"}, \"mark\": {\"type\": \"line\", \"point\": {}}, \"encoding\": {\"color\": {\"type\": \"nominal\", \"field\": \"Method\"}, \"x\": {\"type\": \"quantitative\", \"field\": \"Triplet Noise\"}, \"y\": {\"type\": \"quantitative\", \"field\": \"NMI/AARI\"}}, \"title\": \"Triplet Noise with density 0.005\", \"$schema\": \"https://vega.github.io/schema/vega-lite/v4.8.1.json\", \"datasets\": {\"data-9339bb610f9df3fd0bc797f4f30442f9\": [{\"Triplet Noise\": 0.05, \"Method\": \"Landmark\", \"NMI/AARI\": 1.0}, {\"Triplet Noise\": 0.1, \"Method\": \"Landmark\", \"NMI/AARI\": 1.0}, {\"Triplet Noise\": 0.15, \"Method\": \"Landmark\", \"NMI/AARI\": 0.9070634954913969}, {\"Triplet Noise\": 0.2, \"Method\": \"Landmark\", \"NMI/AARI\": 0.897967262450034}, {\"Triplet Noise\": 0.25, \"Method\": \"Landmark\", \"NMI/AARI\": 0.7803696511984646}, {\"Triplet Noise\": 0.3, \"Method\": \"Landmark\", \"NMI/AARI\": 0.7761803167526026}, {\"Triplet Noise\": 0.35, \"Method\": \"Landmark\", \"NMI/AARI\": 0.6433692245837238}, {\"Triplet Noise\": 0.4, \"Method\": \"Landmark\", \"NMI/AARI\": 0.582781728544618}, {\"Triplet Noise\": 0.45, \"Method\": \"Landmark\", \"NMI/AARI\": 0.5504270981052509}, {\"Triplet Noise\": 0.5, \"Method\": \"Landmark\", \"NMI/AARI\": 0.44327029270774226}, {\"Triplet Noise\": 0.05, \"Method\": \"SoeKmeans\", \"NMI/AARI\": 0.9880837087961647}, {\"Triplet Noise\": 0.1, \"Method\": \"SoeKmeans\", \"NMI/AARI\": 0.8829208486130492}, {\"Triplet Noise\": 0.15, \"Method\": \"SoeKmeans\", \"NMI/AARI\": 0.9346137628387513}, {\"Triplet Noise\": 0.2, \"Method\": \"SoeKmeans\", \"NMI/AARI\": 0.934270317061614}, {\"Triplet Noise\": 0.25, \"Method\": \"SoeKmeans\", \"NMI/AARI\": 0.8209346136199782}, {\"Triplet Noise\": 0.3, \"Method\": \"SoeKmeans\", \"NMI/AARI\": 0.8352832838296737}, {\"Triplet Noise\": 0.35, \"Method\": \"SoeKmeans\", \"NMI/AARI\": 0.8069077443585322}, {\"Triplet Noise\": 0.4, \"Method\": \"SoeKmeans\", \"NMI/AARI\": 0.8930866579968614}, {\"Triplet Noise\": 0.45, \"Method\": \"SoeKmeans\", \"NMI/AARI\": 0.672193782774369}, {\"Triplet Noise\": 0.5, \"Method\": \"SoeKmeans\", \"NMI/AARI\": 0.7197940164124389}, {\"Triplet Noise\": 0.05, \"Method\": \"MajorityTangles\", \"NMI/AARI\": 0.4710997690675519}, {\"Triplet Noise\": 0.1, \"Method\": \"MajorityTangles\", \"NMI/AARI\": 0.43436024873538026}, {\"Triplet Noise\": 0.15, \"Method\": \"MajorityTangles\", \"NMI/AARI\": 0.4226961104941962}, {\"Triplet Noise\": 0.2, \"Method\": \"MajorityTangles\", \"NMI/AARI\": 0.4413648747266067}, {\"Triplet Noise\": 0.25, \"Method\": \"MajorityTangles\", \"NMI/AARI\": 0.40199892803003473}, {\"Triplet Noise\": 0.3, \"Method\": \"MajorityTangles\", \"NMI/AARI\": 0.49648919387849394}, {\"Triplet Noise\": 0.35, \"Method\": \"MajorityTangles\", \"NMI/AARI\": 0.3025657133423555}, {\"Triplet Noise\": 0.4, \"Method\": \"MajorityTangles\", \"NMI/AARI\": 0.3116036491669983}, {\"Triplet Noise\": 0.45, \"Method\": \"MajorityTangles\", \"NMI/AARI\": 0.30692618110977476}, {\"Triplet Noise\": 0.5, \"Method\": \"MajorityTangles\", \"NMI/AARI\": 0.2353789109443695}, {\"Triplet Noise\": 0.05, \"Method\": \"ComparisonHC\", \"NMI/AARI\": 0.48555014860260515}, {\"Triplet Noise\": 0.1, \"Method\": \"ComparisonHC\", \"NMI/AARI\": 0.5264930106634902}, {\"Triplet Noise\": 0.15, \"Method\": \"ComparisonHC\", \"NMI/AARI\": 0.4795000860688433}, {\"Triplet Noise\": 0.2, \"Method\": \"ComparisonHC\", \"NMI/AARI\": 0.40532468758472484}, {\"Triplet Noise\": 0.25, \"Method\": \"ComparisonHC\", \"NMI/AARI\": 0.4689053762838273}, {\"Triplet Noise\": 0.3, \"Method\": \"ComparisonHC\", \"NMI/AARI\": 0.4614429883484655}, {\"Triplet Noise\": 0.35, \"Method\": \"ComparisonHC\", \"NMI/AARI\": 0.27178395043081793}, {\"Triplet Noise\": 0.4, \"Method\": \"ComparisonHC\", \"NMI/AARI\": 0.46249535907077677}, {\"Triplet Noise\": 0.45, \"Method\": \"ComparisonHC\", \"NMI/AARI\": 0.21395661494928858}, {\"Triplet Noise\": 0.5, \"Method\": \"ComparisonHC\", \"NMI/AARI\": 0.2874847087111961}, {\"Triplet Noise\": 0.05, \"Method\": \"Landmark Hier.\", \"NMI/AARI\": 1.0}, {\"Triplet Noise\": 0.1, \"Method\": \"Landmark Hier.\", \"NMI/AARI\": 1.0}, {\"Triplet Noise\": 0.15, \"Method\": \"Landmark Hier.\", \"NMI/AARI\": 0.9145871696686971}, {\"Triplet Noise\": 0.2, \"Method\": \"Landmark Hier.\", \"NMI/AARI\": 0.9281522040476851}, {\"Triplet Noise\": 0.25, \"Method\": \"Landmark Hier.\", \"NMI/AARI\": 0.8298491692809435}, {\"Triplet Noise\": 0.3, \"Method\": \"Landmark Hier.\", \"NMI/AARI\": 0.8173113782984064}, {\"Triplet Noise\": 0.35, \"Method\": \"Landmark Hier.\", \"NMI/AARI\": 0.7118043736408557}, {\"Triplet Noise\": 0.4, \"Method\": \"Landmark Hier.\", \"NMI/AARI\": 0.6350155046208961}, {\"Triplet Noise\": 0.45, \"Method\": \"Landmark Hier.\", \"NMI/AARI\": 0.5952047243270199}, {\"Triplet Noise\": 0.5, \"Method\": \"Landmark Hier.\", \"NMI/AARI\": 0.44042646086327214}, {\"Triplet Noise\": 0.05, \"Method\": \"ComparisonHC Hier.\", \"NMI/AARI\": 0.37396457452414245}, {\"Triplet Noise\": 0.1, \"Method\": \"ComparisonHC Hier.\", \"NMI/AARI\": 0.40666014992122274}, {\"Triplet Noise\": 0.15, \"Method\": \"ComparisonHC Hier.\", \"NMI/AARI\": 0.43860887745488475}, {\"Triplet Noise\": 0.2, \"Method\": \"ComparisonHC Hier.\", \"NMI/AARI\": 0.199210853980531}, {\"Triplet Noise\": 0.25, \"Method\": \"ComparisonHC Hier.\", \"NMI/AARI\": 0.3698446030246702}, {\"Triplet Noise\": 0.3, \"Method\": \"ComparisonHC Hier.\", \"NMI/AARI\": 0.32979339954452225}, {\"Triplet Noise\": 0.35, \"Method\": \"ComparisonHC Hier.\", \"NMI/AARI\": 0.0798883894046303}, {\"Triplet Noise\": 0.4, \"Method\": \"ComparisonHC Hier.\", \"NMI/AARI\": 0.2048671621456967}, {\"Triplet Noise\": 0.45, \"Method\": \"ComparisonHC Hier.\", \"NMI/AARI\": 0.13810580333780656}, {\"Triplet Noise\": 0.5, \"Method\": \"ComparisonHC Hier.\", \"NMI/AARI\": 0.20132449584137113}]}}, {\"mode\": \"vega-lite\"});\n",
       "</script>"
      ],
      "text/plain": [
       "alt.Chart(...)"
      ]
     },
     "execution_count": 4,
     "metadata": {},
     "output_type": "execute_result"
    }
   ],
   "source": [
    "alt.Chart(df_01).mark_line(point={}).encode(x=\"Triplet Noise:Q\", y=\"NMI/AARI:Q\", color=\"Method:N\").properties(title=\"Triplet Noise with density 0.1\").display()\n",
    "alt.Chart(df_005).mark_line(point={}).encode(x=\"Triplet Noise:Q\", y=\"NMI/AARI:Q\", color=\"Method:N\").properties(title=\"Triplet Noise with density 0.005\")"
   ]
  },
  {
   "cell_type": "markdown",
   "metadata": {},
   "source": [
    "# Varying density"
   ]
  },
  {
   "cell_type": "code",
   "execution_count": 10,
   "metadata": {},
   "outputs": [],
   "source": [
    "df = pd.DataFrame(columns=[\"Density\", \"Landmark\", \"SoeKmeans\", \"MajorityTangles\", \"ComparisonHC\", \"Landmark Hier.\", \"ComparisonHC Hier.\"])\n",
    "for density in [1.0, 0.5, 0.1, 0.05, 0.01, 0.005, 0.001]:\n",
    "    l, s, m, c, hl, hc = eval_hierarchical(density=density, n_runs=5)\n",
    "    df = df.append(pd.Series([density, l, s, m, c, hl, hc], index=df.columns), ignore_index=True)\n",
    "df = df.melt(id_vars=[\"Density\"], var_name=\"Method\", value_vars=list(df.columns[1:]), value_name=\"NMI\")"
   ]
  },
  {
   "cell_type": "code",
   "execution_count": 11,
   "metadata": {},
   "outputs": [
    {
     "data": {
      "text/html": [
       "\n",
       "<div id=\"altair-viz-8a6283937b4340aa9950d9118101c6ec\"></div>\n",
       "<script type=\"text/javascript\">\n",
       "  (function(spec, embedOpt){\n",
       "    let outputDiv = document.currentScript.previousElementSibling;\n",
       "    if (outputDiv.id !== \"altair-viz-8a6283937b4340aa9950d9118101c6ec\") {\n",
       "      outputDiv = document.getElementById(\"altair-viz-8a6283937b4340aa9950d9118101c6ec\");\n",
       "    }\n",
       "    const paths = {\n",
       "      \"vega\": \"https://cdn.jsdelivr.net/npm//vega@5?noext\",\n",
       "      \"vega-lib\": \"https://cdn.jsdelivr.net/npm//vega-lib?noext\",\n",
       "      \"vega-lite\": \"https://cdn.jsdelivr.net/npm//vega-lite@4.8.1?noext\",\n",
       "      \"vega-embed\": \"https://cdn.jsdelivr.net/npm//vega-embed@6?noext\",\n",
       "    };\n",
       "\n",
       "    function loadScript(lib) {\n",
       "      return new Promise(function(resolve, reject) {\n",
       "        var s = document.createElement('script');\n",
       "        s.src = paths[lib];\n",
       "        s.async = true;\n",
       "        s.onload = () => resolve(paths[lib]);\n",
       "        s.onerror = () => reject(`Error loading script: ${paths[lib]}`);\n",
       "        document.getElementsByTagName(\"head\")[0].appendChild(s);\n",
       "      });\n",
       "    }\n",
       "\n",
       "    function showError(err) {\n",
       "      outputDiv.innerHTML = `<div class=\"error\" style=\"color:red;\">${err}</div>`;\n",
       "      throw err;\n",
       "    }\n",
       "\n",
       "    function displayChart(vegaEmbed) {\n",
       "      vegaEmbed(outputDiv, spec, embedOpt)\n",
       "        .catch(err => showError(`Javascript Error: ${err.message}<br>This usually means there's a typo in your chart specification. See the javascript console for the full traceback.`));\n",
       "    }\n",
       "\n",
       "    if(typeof define === \"function\" && define.amd) {\n",
       "      requirejs.config({paths});\n",
       "      require([\"vega-embed\"], displayChart, err => showError(`Error loading script: ${err.message}`));\n",
       "    } else if (typeof vegaEmbed === \"function\") {\n",
       "      displayChart(vegaEmbed);\n",
       "    } else {\n",
       "      loadScript(\"vega\")\n",
       "        .then(() => loadScript(\"vega-lite\"))\n",
       "        .then(() => loadScript(\"vega-embed\"))\n",
       "        .catch(showError)\n",
       "        .then(() => displayChart(vegaEmbed));\n",
       "    }\n",
       "  })({\"config\": {\"view\": {\"continuousWidth\": 400, \"continuousHeight\": 300}}, \"data\": {\"name\": \"data-99e5cf2d4a8daa01e720aba66a8c06c3\"}, \"mark\": {\"type\": \"line\", \"point\": {}}, \"encoding\": {\"color\": {\"type\": \"nominal\", \"field\": \"Method\"}, \"x\": {\"type\": \"quantitative\", \"field\": \"Density\"}, \"y\": {\"type\": \"quantitative\", \"field\": \"NMI\"}}, \"$schema\": \"https://vega.github.io/schema/vega-lite/v4.8.1.json\", \"datasets\": {\"data-99e5cf2d4a8daa01e720aba66a8c06c3\": [{\"Density\": 1.0, \"Method\": \"Landmark\", \"NMI\": 1.0}, {\"Density\": 0.5, \"Method\": \"Landmark\", \"NMI\": 1.0}, {\"Density\": 0.1, \"Method\": \"Landmark\", \"NMI\": 1.0}, {\"Density\": 0.05, \"Method\": \"Landmark\", \"NMI\": 1.0}, {\"Density\": 0.01, \"Method\": \"Landmark\", \"NMI\": 0.8571428571428574}, {\"Density\": 0.005, \"Method\": \"Landmark\", \"NMI\": 0.5333333333333338}, {\"Density\": 0.001, \"Method\": \"Landmark\", \"NMI\": 0.0}, {\"Density\": 1.0, \"Method\": \"SoeKmeans\", \"NMI\": 1.0}, {\"Density\": 0.5, \"Method\": \"SoeKmeans\", \"NMI\": 1.0}, {\"Density\": 0.1, \"Method\": \"SoeKmeans\", \"NMI\": 0.9761226438380891}, {\"Density\": 0.05, \"Method\": \"SoeKmeans\", \"NMI\": 0.8414092801111634}, {\"Density\": 0.01, \"Method\": \"SoeKmeans\", \"NMI\": 0.450483282895482}, {\"Density\": 0.005, \"Method\": \"SoeKmeans\", \"NMI\": 0.6239846634337092}, {\"Density\": 0.001, \"Method\": \"SoeKmeans\", \"NMI\": 0.43296073863838347}, {\"Density\": 1.0, \"Method\": \"MajorityTangles\", \"NMI\": 0.7421488996847896}, {\"Density\": 0.5, \"Method\": \"MajorityTangles\", \"NMI\": 0.7199330465615972}, {\"Density\": 0.1, \"Method\": \"MajorityTangles\", \"NMI\": 0.46483580329064916}, {\"Density\": 0.05, \"Method\": \"MajorityTangles\", \"NMI\": 0.3396618932743436}, {\"Density\": 0.01, \"Method\": \"MajorityTangles\", \"NMI\": 0.06855633288284177}, {\"Density\": 0.005, \"Method\": \"MajorityTangles\", \"NMI\": 0.051334836670281346}, {\"Density\": 0.001, \"Method\": \"MajorityTangles\", \"NMI\": 0.0}, {\"Density\": 1.0, \"Method\": \"ComparisonHC\", \"NMI\": 1.0}, {\"Density\": 0.5, \"Method\": \"ComparisonHC\", \"NMI\": 0.8370987162795546}, {\"Density\": 0.1, \"Method\": \"ComparisonHC\", \"NMI\": 0.5151137781822236}, {\"Density\": 0.05, \"Method\": \"ComparisonHC\", \"NMI\": 0.23062932830495217}, {\"Density\": 0.01, \"Method\": \"ComparisonHC\", \"NMI\": 0.12966017261417076}, {\"Density\": 0.005, \"Method\": \"ComparisonHC\", \"NMI\": 0.13102419710016727}, {\"Density\": 0.001, \"Method\": \"ComparisonHC\", \"NMI\": 0.13102419710016727}, {\"Density\": 1.0, \"Method\": \"Landmark Hier.\", \"NMI\": 1.0}, {\"Density\": 0.5, \"Method\": \"Landmark Hier.\", \"NMI\": 1.0}, {\"Density\": 0.1, \"Method\": \"Landmark Hier.\", \"NMI\": 1.0}, {\"Density\": 0.05, \"Method\": \"Landmark Hier.\", \"NMI\": 1.0}, {\"Density\": 0.01, \"Method\": \"Landmark Hier.\", \"NMI\": 0.8488372093023255}, {\"Density\": 0.005, \"Method\": \"Landmark Hier.\", \"NMI\": 0.592}, {\"Density\": 0.001, \"Method\": \"Landmark Hier.\", \"NMI\": 0.0}, {\"Density\": 1.0, \"Method\": \"ComparisonHC Hier.\", \"NMI\": 1.0}, {\"Density\": 0.5, \"Method\": \"ComparisonHC Hier.\", \"NMI\": 0.8726581779611635}, {\"Density\": 0.1, \"Method\": \"ComparisonHC Hier.\", \"NMI\": 0.36617720690964123}, {\"Density\": 0.05, \"Method\": \"ComparisonHC Hier.\", \"NMI\": 0.0722049297026014}, {\"Density\": 0.01, \"Method\": \"ComparisonHC Hier.\", \"NMI\": 0.0035418451870894026}, {\"Density\": 0.005, \"Method\": \"ComparisonHC Hier.\", \"NMI\": 0.004284490145672665}, {\"Density\": 0.001, \"Method\": \"ComparisonHC Hier.\", \"NMI\": 0.004284490145672665}]}}, {\"mode\": \"vega-lite\"});\n",
       "</script>"
      ],
      "text/plain": [
       "alt.Chart(...)"
      ]
     },
     "execution_count": 11,
     "metadata": {},
     "output_type": "execute_result"
    }
   ],
   "source": [
    "alt.Chart(df).mark_line(point={}).encode(x=\"Density\", y=\"NMI:Q\", color=\"Method:N\")"
   ]
  },
  {
   "cell_type": "markdown",
   "metadata": {},
   "source": [
    "# Adding hierarchy noise"
   ]
  },
  {
   "cell_type": "code",
   "execution_count": 12,
   "metadata": {},
   "outputs": [],
   "source": [
    "df = pd.DataFrame(columns=[\"Hierarchy Noise\", \"Landmark\", \"SoeKmeans\", \"MajorityTangles\", \"ComparisonHC\", \"Landmark Hier.\", \"ComparisonHC Hier.\"])\n",
    "for hn in [0.0, 0.25, 0.5, 0.75, 1.0, 2.0, 3.0, 4.0]:\n",
    "    l, s, m, c, hl, hc = eval_hierarchical(hier_noise=hn, n_runs=5)\n",
    "    df = df.append(pd.Series([hn, l, s, m, c, hl, hc], index=df.columns), ignore_index=True)\n",
    "df = df.melt(id_vars=[\"Hierarchy Noise\"], var_name=\"Method\", value_vars=list(df.columns[1:]), value_name=\"NMI\")"
   ]
  },
  {
   "cell_type": "code",
   "execution_count": 13,
   "metadata": {},
   "outputs": [
    {
     "data": {
      "text/html": [
       "\n",
       "<div id=\"altair-viz-fb30c6a4d6ee4aefb40c246e394c9e58\"></div>\n",
       "<script type=\"text/javascript\">\n",
       "  (function(spec, embedOpt){\n",
       "    let outputDiv = document.currentScript.previousElementSibling;\n",
       "    if (outputDiv.id !== \"altair-viz-fb30c6a4d6ee4aefb40c246e394c9e58\") {\n",
       "      outputDiv = document.getElementById(\"altair-viz-fb30c6a4d6ee4aefb40c246e394c9e58\");\n",
       "    }\n",
       "    const paths = {\n",
       "      \"vega\": \"https://cdn.jsdelivr.net/npm//vega@5?noext\",\n",
       "      \"vega-lib\": \"https://cdn.jsdelivr.net/npm//vega-lib?noext\",\n",
       "      \"vega-lite\": \"https://cdn.jsdelivr.net/npm//vega-lite@4.8.1?noext\",\n",
       "      \"vega-embed\": \"https://cdn.jsdelivr.net/npm//vega-embed@6?noext\",\n",
       "    };\n",
       "\n",
       "    function loadScript(lib) {\n",
       "      return new Promise(function(resolve, reject) {\n",
       "        var s = document.createElement('script');\n",
       "        s.src = paths[lib];\n",
       "        s.async = true;\n",
       "        s.onload = () => resolve(paths[lib]);\n",
       "        s.onerror = () => reject(`Error loading script: ${paths[lib]}`);\n",
       "        document.getElementsByTagName(\"head\")[0].appendChild(s);\n",
       "      });\n",
       "    }\n",
       "\n",
       "    function showError(err) {\n",
       "      outputDiv.innerHTML = `<div class=\"error\" style=\"color:red;\">${err}</div>`;\n",
       "      throw err;\n",
       "    }\n",
       "\n",
       "    function displayChart(vegaEmbed) {\n",
       "      vegaEmbed(outputDiv, spec, embedOpt)\n",
       "        .catch(err => showError(`Javascript Error: ${err.message}<br>This usually means there's a typo in your chart specification. See the javascript console for the full traceback.`));\n",
       "    }\n",
       "\n",
       "    if(typeof define === \"function\" && define.amd) {\n",
       "      requirejs.config({paths});\n",
       "      require([\"vega-embed\"], displayChart, err => showError(`Error loading script: ${err.message}`));\n",
       "    } else if (typeof vegaEmbed === \"function\") {\n",
       "      displayChart(vegaEmbed);\n",
       "    } else {\n",
       "      loadScript(\"vega\")\n",
       "        .then(() => loadScript(\"vega-lite\"))\n",
       "        .then(() => loadScript(\"vega-embed\"))\n",
       "        .catch(showError)\n",
       "        .then(() => displayChart(vegaEmbed));\n",
       "    }\n",
       "  })({\"config\": {\"view\": {\"continuousWidth\": 400, \"continuousHeight\": 300}}, \"data\": {\"name\": \"data-fde1101bcb558d5e3639e4835e36989c\"}, \"mark\": {\"type\": \"line\", \"point\": {}}, \"encoding\": {\"color\": {\"type\": \"nominal\", \"field\": \"Method\"}, \"x\": {\"type\": \"quantitative\", \"field\": \"Hierarchy Noise\"}, \"y\": {\"type\": \"quantitative\", \"field\": \"NMI\"}}, \"$schema\": \"https://vega.github.io/schema/vega-lite/v4.8.1.json\", \"datasets\": {\"data-fde1101bcb558d5e3639e4835e36989c\": [{\"Hierarchy Noise\": 0.0, \"Method\": \"Landmark\", \"NMI\": 1.0}, {\"Hierarchy Noise\": 0.25, \"Method\": \"Landmark\", \"NMI\": 0.8045345160461634}, {\"Hierarchy Noise\": 0.5, \"Method\": \"Landmark\", \"NMI\": 0.8574910719738436}, {\"Hierarchy Noise\": 0.75, \"Method\": \"Landmark\", \"NMI\": 0.6666666666666672}, {\"Hierarchy Noise\": 1.0, \"Method\": \"Landmark\", \"NMI\": 0.6666666666666672}, {\"Hierarchy Noise\": 2.0, \"Method\": \"Landmark\", \"NMI\": 0.2879081827666317}, {\"Hierarchy Noise\": 3.0, \"Method\": \"Landmark\", \"NMI\": 0.24240343009720533}, {\"Hierarchy Noise\": 4.0, \"Method\": \"Landmark\", \"NMI\": 0.13495991495069526}, {\"Hierarchy Noise\": 0.0, \"Method\": \"SoeKmeans\", \"NMI\": 0.9630221248556072}, {\"Hierarchy Noise\": 0.25, \"Method\": \"SoeKmeans\", \"NMI\": 0.8954332694465263}, {\"Hierarchy Noise\": 0.5, \"Method\": \"SoeKmeans\", \"NMI\": 0.953955623296115}, {\"Hierarchy Noise\": 0.75, \"Method\": \"SoeKmeans\", \"NMI\": 0.9437069671547949}, {\"Hierarchy Noise\": 1.0, \"Method\": \"SoeKmeans\", \"NMI\": 0.9457698710440134}, {\"Hierarchy Noise\": 2.0, \"Method\": \"SoeKmeans\", \"NMI\": 0.6772085163051929}, {\"Hierarchy Noise\": 3.0, \"Method\": \"SoeKmeans\", \"NMI\": 0.45004148876048156}, {\"Hierarchy Noise\": 4.0, \"Method\": \"SoeKmeans\", \"NMI\": 0.2985651246072195}, {\"Hierarchy Noise\": 0.0, \"Method\": \"MajorityTangles\", \"NMI\": 0.5357080953814852}, {\"Hierarchy Noise\": 0.25, \"Method\": \"MajorityTangles\", \"NMI\": 0.5096259794133468}, {\"Hierarchy Noise\": 0.5, \"Method\": \"MajorityTangles\", \"NMI\": 0.46047798500410037}, {\"Hierarchy Noise\": 0.75, \"Method\": \"MajorityTangles\", \"NMI\": 0.4376837117965066}, {\"Hierarchy Noise\": 1.0, \"Method\": \"MajorityTangles\", \"NMI\": 0.38601615915422255}, {\"Hierarchy Noise\": 2.0, \"Method\": \"MajorityTangles\", \"NMI\": 0.31764953520530204}, {\"Hierarchy Noise\": 3.0, \"Method\": \"MajorityTangles\", \"NMI\": 0.2511480262197621}, {\"Hierarchy Noise\": 4.0, \"Method\": \"MajorityTangles\", \"NMI\": 0.2171498799566216}, {\"Hierarchy Noise\": 0.0, \"Method\": \"ComparisonHC\", \"NMI\": 0.44917473942970876}, {\"Hierarchy Noise\": 0.25, \"Method\": \"ComparisonHC\", \"NMI\": 0.5972568023591461}, {\"Hierarchy Noise\": 0.5, \"Method\": \"ComparisonHC\", \"NMI\": 0.41841713920994883}, {\"Hierarchy Noise\": 0.75, \"Method\": \"ComparisonHC\", \"NMI\": 0.17423775544327463}, {\"Hierarchy Noise\": 1.0, \"Method\": \"ComparisonHC\", \"NMI\": 0.2141832279960179}, {\"Hierarchy Noise\": 2.0, \"Method\": \"ComparisonHC\", \"NMI\": 0.10337949150019177}, {\"Hierarchy Noise\": 3.0, \"Method\": \"ComparisonHC\", \"NMI\": 0.13298666634331807}, {\"Hierarchy Noise\": 4.0, \"Method\": \"ComparisonHC\", \"NMI\": 0.1114183720464245}, {\"Hierarchy Noise\": 0.0, \"Method\": \"Landmark Hier.\", \"NMI\": 1.0}, {\"Hierarchy Noise\": 0.25, \"Method\": \"Landmark Hier.\", \"NMI\": 0.8799336717228652}, {\"Hierarchy Noise\": 0.5, \"Method\": \"Landmark Hier.\", \"NMI\": 0.8835759766575041}, {\"Hierarchy Noise\": 0.75, \"Method\": \"Landmark Hier.\", \"NMI\": 0.74}, {\"Hierarchy Noise\": 1.0, \"Method\": \"Landmark Hier.\", \"NMI\": 0.74}, {\"Hierarchy Noise\": 2.0, \"Method\": \"Landmark Hier.\", \"NMI\": 0.18934638091354153}, {\"Hierarchy Noise\": 3.0, \"Method\": \"Landmark Hier.\", \"NMI\": 0.09965654385064705}, {\"Hierarchy Noise\": 4.0, \"Method\": \"Landmark Hier.\", \"NMI\": -0.019003315981749785}, {\"Hierarchy Noise\": 0.0, \"Method\": \"ComparisonHC Hier.\", \"NMI\": 0.3944819186563528}, {\"Hierarchy Noise\": 0.25, \"Method\": \"ComparisonHC Hier.\", \"NMI\": 0.674659130319166}, {\"Hierarchy Noise\": 0.5, \"Method\": \"ComparisonHC Hier.\", \"NMI\": 0.3323550513277901}, {\"Hierarchy Noise\": 0.75, \"Method\": \"ComparisonHC Hier.\", \"NMI\": 0.03994881918504165}, {\"Hierarchy Noise\": 1.0, \"Method\": \"ComparisonHC Hier.\", \"NMI\": 0.058462921505662103}, {\"Hierarchy Noise\": 2.0, \"Method\": \"ComparisonHC Hier.\", \"NMI\": 0.0032583898149377037}, {\"Hierarchy Noise\": 3.0, \"Method\": \"ComparisonHC Hier.\", \"NMI\": 0.0023079004852283817}, {\"Hierarchy Noise\": 4.0, \"Method\": \"ComparisonHC Hier.\", \"NMI\": -0.0028247364052872187}]}}, {\"mode\": \"vega-lite\"});\n",
       "</script>"
      ],
      "text/plain": [
       "alt.Chart(...)"
      ]
     },
     "execution_count": 13,
     "metadata": {},
     "output_type": "execute_result"
    }
   ],
   "source": [
    "alt.Chart(df).mark_line(point={}).encode(x=\"Hierarchy Noise\", y=\"NMI:Q\", color=\"Method:N\")"
   ]
  },
  {
   "cell_type": "markdown",
   "metadata": {},
   "source": [
    "# Recovering the hierarchy\n",
    "As-is, all the algorithms only recover the cluster structure, but not the hierarchy. \n",
    "Tangles and ComparisonHC have the possibility to also discover the hierarchy of the underlying structure. We have added this to the plots (take care, as we report the AARI, not NMI, thus the y-axis can be a bit confusing).\n",
    "\n",
    "It is very pleasant to see that tangles also holds up well in this case."
   ]
  }
 ],
 "metadata": {
  "interpreter": {
   "hash": "b3df0bc9139dfbbc2bb43367c6e0b1c6fcd610288dc61cb8c73318fe0a42d151"
  },
  "kernelspec": {
   "display_name": "Python 3.9.7 ('tangles-thesis')",
   "language": "python",
   "name": "python3"
  },
  "language_info": {
   "codemirror_mode": {
    "name": "ipython",
    "version": 3
   },
   "file_extension": ".py",
   "mimetype": "text/x-python",
   "name": "python",
   "nbconvert_exporter": "python",
   "pygments_lexer": "ipython3",
   "version": "3.9.7"
  },
  "orig_nbformat": 4
 },
 "nbformat": 4,
 "nbformat_minor": 2
}
