{
 "cells": [
  {
   "cell_type": "markdown",
   "metadata": {},
   "source": [
    "# Tangles on real world data\n",
    "This Juypter Notebook explores the performance on Tangles on classical triplet datasets. [Examples are given in the cblearn libary.](https://github.com/dekuenstle/cblearn#datasets)\n",
    "\n",
    "As always, we use SOE-kMeans as a baseline."
   ]
  },
  {
   "cell_type": "code",
   "execution_count": 5,
   "metadata": {},
   "outputs": [],
   "source": [
    "import sys\n",
    "sys.path.append(\"..\")\n",
    "from cblearn.embedding import SOE\n",
    "import cblearn.datasets as datasets\n",
    "from cblearn.preprocessing import triplets_from_mostcentral\n",
    "from questionnaire import Questionnaire\n",
    "from triplets import triplets_to_majority_neighbour_cuts\n",
    "from sklearn.cluster import KMeans\n",
    "from plotting import AltairPlotter\n",
    "from sklearn.metrics import normalized_mutual_info_score\n",
    "from estimators import OrdinalTangles\n",
    "import numpy as np\n",
    "import altair as alt\n",
    "alt.renderers.enable('altair_saver', fmts=[\"html\", \"svg\"])\n",
    "seed = 3"
   ]
  },
  {
   "cell_type": "markdown",
   "metadata": {},
   "source": [
    "We will take a look at the so-called car dataset (see more at the CB Learn repository).  In this dataset, users select the odd-one-out from three images of cars. Triplets (A,B,C) have been put into a form, such that the following holds:\n",
    "\n",
    "> From the three objects A, B, C, *A* is the most central object.\n",
    "\n",
    "The transformation from cblearn assumes that the triangle inequality holds, which might already be a problem here (this could induce bias that the Tangles algorithm doesn't play into, but SOE-kMeans does). "
   ]
  },
  {
   "cell_type": "code",
   "execution_count": 6,
   "metadata": {},
   "outputs": [],
   "source": [
    "# First we are setting up the data\n",
    "cars = datasets.fetch_car_similarity()\n",
    "n_clusters = len(cars.class_name.tolist())\n",
    "triplets = triplets_from_mostcentral(cars.triplet, cars.response)\n",
    "# respones are just set to always be one (0 would yield the same clustering result)\n",
    "responses = np.ones(triplets.shape[0]).astype(bool) \n",
    "ys = cars.class_id\n",
    "\n",
    "q = Questionnaire.from_bool_array(triplets, responses)\n",
    "q_imp = q.impute(\"random\")\n",
    "\n",
    "# predictions\n",
    "# tangles\n",
    "tangles = OrdinalTangles(agreement=8)\n",
    "ys_tangles = tangles.fit_predict(q_imp.values)\n",
    "tangles_maj = OrdinalTangles(agreement=5)\n",
    "# Experimental: doing cutoffs with a sigmoid. Turns out pretty random in this case (as expected).\n",
    "# ys_tangles_maj = tangles_maj.fit_predict(majority_neighbour_cuts(triplets, radius=1.5, sigmoid_scale=3, seed=4))\n",
    "ys_tangles_maj = tangles_maj.fit_predict(triplets_to_majority_neighbour_cuts(triplets, radius=1.8))\n",
    " \n",
    "# soe-kmeans\n",
    "soe = SOE(2, random_state=1)\n",
    "kmeans = KMeans(4, random_state=1)\n",
    "embedding = soe.fit_transform(triplets, responses)\n",
    "ys_soe = kmeans.fit_predict(embedding)\n",
    "\n",
    "# direct kMeans\n",
    "ys_kmeans = kmeans.fit_predict(q_imp.values)"
   ]
  },
  {
   "cell_type": "code",
   "execution_count": 15,
   "metadata": {},
   "outputs": [
    {
     "data": {
      "text/plain": [
       "89750"
      ]
     },
     "execution_count": 15,
     "metadata": {},
     "output_type": "execute_result"
    }
   ],
   "source": [
    "(q.values == -1).sum()\n",
    "# for i in it:\n",
    "#     - find the pair a,b that have the highest overlap\n",
    "#     - if a and b have more than 0.5 agreement, fill gaps with same values, else opposite values\n",
    "#     - remove a,b from the possible pair \n",
    "#\n",
    "#  Random walk matrix: \n",
    "# ((A + n)/(2n)) ** i"
   ]
  },
  {
   "cell_type": "code",
   "execution_count": 7,
   "metadata": {},
   "outputs": [
    {
     "name": "stdout",
     "output_type": "stream",
     "text": [
      "NMI SOE-kMeans: 0.6016833006052409\n",
      "NMI direct kMeans: 0.09599765725508862\n",
      "NMI Tangles: 0.04236365547426701\n",
      "NMI Tangles Majority Cuts: 0.48468782424183926\n",
      "#Clusters found with Tangles: 4\n",
      "#Clusters found with majority Tangles: 4\n"
     ]
    }
   ],
   "source": [
    "print(f\"NMI SOE-kMeans: {normalized_mutual_info_score(ys, ys_soe)}\")\n",
    "print(f\"NMI direct kMeans: {normalized_mutual_info_score(ys, ys_kmeans)}\")\n",
    "print(f\"NMI Tangles: {normalized_mutual_info_score(ys, ys_tangles)}\")\n",
    "print(f\"NMI Tangles Majority Cuts: {normalized_mutual_info_score(ys, ys_tangles_maj)}\")\n",
    "print(f\"#Clusters found with Tangles: {np.unique(ys_tangles).shape[0]}\")\n",
    "print(f\"#Clusters found with majority Tangles: {np.unique(ys_tangles_maj).shape[0]}\")"
   ]
  },
  {
   "cell_type": "code",
   "execution_count": 8,
   "metadata": {},
   "outputs": [
    {
     "data": {
      "image/svg+xml": "<svg xmlns=\"http://www.w3.org/2000/svg\" xmlns:xlink=\"http://www.w3.org/1999/xlink\" version=\"1.1\" class=\"marks\" width=\"520\" height=\"364\" viewBox=\"0 0 520 364\"><rect width=\"520\" height=\"364\" fill=\"white\"/><g fill=\"none\" stroke-miterlimit=\"10\" transform=\"translate(47,27)\"><g class=\"mark-group role-frame root\" role=\"graphics-object\" aria-roledescription=\"group mark container\"><g transform=\"translate(0,0)\"><path class=\"background\" aria-hidden=\"true\" d=\"M0.5,0.5h400v300h-400Z\" stroke=\"#ddd\"/><g><g class=\"mark-group role-axis\" role=\"graphics-symbol\" aria-roledescription=\"axis\" aria-label=\"X-axis for a linear scale with values from −1.4 to 1.6\"><g transform=\"translate(0.5,300.5)\"><path class=\"background\" aria-hidden=\"true\" d=\"M0,0h0v0h0Z\" pointer-events=\"none\"/><g><g class=\"mark-rule role-axis-grid\" pointer-events=\"none\"><line transform=\"translate(0,-300)\" x2=\"0\" y2=\"300\" stroke=\"#ddd\" stroke-width=\"1\" opacity=\"1\"/><line transform=\"translate(27,-300)\" x2=\"0\" y2=\"300\" stroke=\"#ddd\" stroke-width=\"1\" opacity=\"1\"/><line transform=\"translate(53,-300)\" x2=\"0\" y2=\"300\" stroke=\"#ddd\" stroke-width=\"1\" opacity=\"1\"/><line transform=\"translate(80,-300)\" x2=\"0\" y2=\"300\" stroke=\"#ddd\" stroke-width=\"1\" opacity=\"1\"/><line transform=\"translate(107,-300)\" x2=\"0\" y2=\"300\" stroke=\"#ddd\" stroke-width=\"1\" opacity=\"1\"/><line transform=\"translate(133,-300)\" x2=\"0\" y2=\"300\" stroke=\"#ddd\" stroke-width=\"1\" opacity=\"1\"/><line transform=\"translate(160,-300)\" x2=\"0\" y2=\"300\" stroke=\"#ddd\" stroke-width=\"1\" opacity=\"1\"/><line transform=\"translate(187,-300)\" x2=\"0\" y2=\"300\" stroke=\"#ddd\" stroke-width=\"1\" opacity=\"1\"/><line transform=\"translate(213,-300)\" x2=\"0\" y2=\"300\" stroke=\"#ddd\" stroke-width=\"1\" opacity=\"1\"/><line transform=\"translate(240,-300)\" x2=\"0\" y2=\"300\" stroke=\"#ddd\" stroke-width=\"1\" opacity=\"1\"/><line transform=\"translate(267,-300)\" x2=\"0\" y2=\"300\" stroke=\"#ddd\" stroke-width=\"1\" opacity=\"1\"/><line transform=\"translate(293,-300)\" x2=\"0\" y2=\"300\" stroke=\"#ddd\" stroke-width=\"1\" opacity=\"1\"/><line transform=\"translate(320,-300)\" x2=\"0\" y2=\"300\" stroke=\"#ddd\" stroke-width=\"1\" opacity=\"1\"/><line transform=\"translate(347,-300)\" x2=\"0\" y2=\"300\" stroke=\"#ddd\" stroke-width=\"1\" opacity=\"1\"/><line transform=\"translate(373,-300)\" x2=\"0\" y2=\"300\" stroke=\"#ddd\" stroke-width=\"1\" opacity=\"1\"/><line transform=\"translate(400,-300)\" x2=\"0\" y2=\"300\" stroke=\"#ddd\" stroke-width=\"1\" opacity=\"1\"/></g></g><path class=\"foreground\" aria-hidden=\"true\" d=\"\" pointer-events=\"none\" display=\"none\"/></g></g><g class=\"mark-group role-axis\" role=\"graphics-symbol\" aria-roledescription=\"axis\" aria-label=\"Y-axis for a linear scale with values from −1.8 to 1.0\"><g transform=\"translate(0.5,0.5)\"><path class=\"background\" aria-hidden=\"true\" d=\"M0,0h0v0h0Z\" pointer-events=\"none\"/><g><g class=\"mark-rule role-axis-grid\" pointer-events=\"none\"><line transform=\"translate(0,268)\" x2=\"400\" y2=\"0\" stroke=\"#ddd\" stroke-width=\"1\" opacity=\"1\"/><line transform=\"translate(0,214)\" x2=\"400\" y2=\"0\" stroke=\"#ddd\" stroke-width=\"1\" opacity=\"1\"/><line transform=\"translate(0,161)\" x2=\"400\" y2=\"0\" stroke=\"#ddd\" stroke-width=\"1\" opacity=\"1\"/><line transform=\"translate(0,107)\" x2=\"400\" y2=\"0\" stroke=\"#ddd\" stroke-width=\"1\" opacity=\"1\"/><line transform=\"translate(0,54)\" x2=\"400\" y2=\"0\" stroke=\"#ddd\" stroke-width=\"1\" opacity=\"1\"/><line transform=\"translate(0,0)\" x2=\"400\" y2=\"0\" stroke=\"#ddd\" stroke-width=\"1\" opacity=\"1\"/></g></g><path class=\"foreground\" aria-hidden=\"true\" d=\"\" pointer-events=\"none\" display=\"none\"/></g></g><g class=\"mark-group role-axis\" role=\"graphics-symbol\" aria-roledescription=\"axis\" aria-label=\"X-axis titled 'x' for a linear scale with values from −1.4 to 1.6\"><g transform=\"translate(0.5,300.5)\"><path class=\"background\" aria-hidden=\"true\" d=\"M0,0h0v0h0Z\" pointer-events=\"none\"/><g><g class=\"mark-rule role-axis-tick\" pointer-events=\"none\"><line transform=\"translate(0,0)\" x2=\"0\" y2=\"5\" stroke=\"#888\" stroke-width=\"1\" opacity=\"1\"/><line transform=\"translate(27,0)\" x2=\"0\" y2=\"5\" stroke=\"#888\" stroke-width=\"1\" opacity=\"1\"/><line transform=\"translate(53,0)\" x2=\"0\" y2=\"5\" stroke=\"#888\" stroke-width=\"1\" opacity=\"1\"/><line transform=\"translate(80,0)\" x2=\"0\" y2=\"5\" stroke=\"#888\" stroke-width=\"1\" opacity=\"1\"/><line transform=\"translate(107,0)\" x2=\"0\" y2=\"5\" stroke=\"#888\" stroke-width=\"1\" opacity=\"1\"/><line transform=\"translate(133,0)\" x2=\"0\" y2=\"5\" stroke=\"#888\" stroke-width=\"1\" opacity=\"1\"/><line transform=\"translate(160,0)\" x2=\"0\" y2=\"5\" stroke=\"#888\" stroke-width=\"1\" opacity=\"1\"/><line transform=\"translate(187,0)\" x2=\"0\" y2=\"5\" stroke=\"#888\" stroke-width=\"1\" opacity=\"1\"/><line transform=\"translate(213,0)\" x2=\"0\" y2=\"5\" stroke=\"#888\" stroke-width=\"1\" opacity=\"1\"/><line transform=\"translate(240,0)\" x2=\"0\" y2=\"5\" stroke=\"#888\" stroke-width=\"1\" opacity=\"1\"/><line transform=\"translate(267,0)\" x2=\"0\" y2=\"5\" stroke=\"#888\" stroke-width=\"1\" opacity=\"1\"/><line transform=\"translate(293,0)\" x2=\"0\" y2=\"5\" stroke=\"#888\" stroke-width=\"1\" opacity=\"1\"/><line transform=\"translate(320,0)\" x2=\"0\" y2=\"5\" stroke=\"#888\" stroke-width=\"1\" opacity=\"1\"/><line transform=\"translate(347,0)\" x2=\"0\" y2=\"5\" stroke=\"#888\" stroke-width=\"1\" opacity=\"1\"/><line transform=\"translate(373,0)\" x2=\"0\" y2=\"5\" stroke=\"#888\" stroke-width=\"1\" opacity=\"1\"/><line transform=\"translate(400,0)\" x2=\"0\" y2=\"5\" stroke=\"#888\" stroke-width=\"1\" opacity=\"1\"/></g><g class=\"mark-text role-axis-label\" pointer-events=\"none\"><text text-anchor=\"start\" transform=\"translate(0,15)\" font-family=\"sans-serif\" font-size=\"10px\" fill=\"#000\" opacity=\"1\">−1.4</text><text text-anchor=\"middle\" transform=\"translate(26.66666666666666,15)\" font-family=\"sans-serif\" font-size=\"10px\" fill=\"#000\" opacity=\"0\">−1.2</text><text text-anchor=\"middle\" transform=\"translate(53.33333333333332,15)\" font-family=\"sans-serif\" font-size=\"10px\" fill=\"#000\" opacity=\"1\">−1.0</text><text text-anchor=\"middle\" transform=\"translate(79.99999999999999,15)\" font-family=\"sans-serif\" font-size=\"10px\" fill=\"#000\" opacity=\"0\">−0.8</text><text text-anchor=\"middle\" transform=\"translate(106.66666666666667,15)\" font-family=\"sans-serif\" font-size=\"10px\" fill=\"#000\" opacity=\"1\">−0.6</text><text text-anchor=\"middle\" transform=\"translate(133.33333333333331,15)\" font-family=\"sans-serif\" font-size=\"10px\" fill=\"#000\" opacity=\"0\">−0.4</text><text text-anchor=\"middle\" transform=\"translate(160,15)\" font-family=\"sans-serif\" font-size=\"10px\" fill=\"#000\" opacity=\"1\">−0.2</text><text text-anchor=\"middle\" transform=\"translate(186.66666666666666,15)\" font-family=\"sans-serif\" font-size=\"10px\" fill=\"#000\" opacity=\"0\">0.0</text><text text-anchor=\"middle\" transform=\"translate(213.33333333333334,15)\" font-family=\"sans-serif\" font-size=\"10px\" fill=\"#000\" opacity=\"1\">0.2</text><text text-anchor=\"middle\" transform=\"translate(240,15)\" font-family=\"sans-serif\" font-size=\"10px\" fill=\"#000\" opacity=\"0\">0.4</text><text text-anchor=\"middle\" transform=\"translate(266.66666666666663,15)\" font-family=\"sans-serif\" font-size=\"10px\" fill=\"#000\" opacity=\"1\">0.6</text><text text-anchor=\"middle\" transform=\"translate(293.33333333333337,15)\" font-family=\"sans-serif\" font-size=\"10px\" fill=\"#000\" opacity=\"0\">0.8</text><text text-anchor=\"middle\" transform=\"translate(320,15)\" font-family=\"sans-serif\" font-size=\"10px\" fill=\"#000\" opacity=\"1\">1.0</text><text text-anchor=\"middle\" transform=\"translate(346.66666666666663,15)\" font-family=\"sans-serif\" font-size=\"10px\" fill=\"#000\" opacity=\"0\">1.2</text><text text-anchor=\"middle\" transform=\"translate(373.3333333333333,15)\" font-family=\"sans-serif\" font-size=\"10px\" fill=\"#000\" opacity=\"1\">1.4</text><text text-anchor=\"end\" transform=\"translate(400,15)\" font-family=\"sans-serif\" font-size=\"10px\" fill=\"#000\" opacity=\"0\">1.6</text></g><g class=\"mark-rule role-axis-domain\" pointer-events=\"none\"><line transform=\"translate(0,0)\" x2=\"400\" y2=\"0\" stroke=\"#888\" stroke-width=\"1\" opacity=\"1\"/></g><g class=\"mark-text role-axis-title\" pointer-events=\"none\"><text text-anchor=\"middle\" transform=\"translate(200,30)\" font-family=\"sans-serif\" font-size=\"11px\" font-weight=\"bold\" fill=\"#000\" opacity=\"1\">x</text></g></g><path class=\"foreground\" aria-hidden=\"true\" d=\"\" pointer-events=\"none\" display=\"none\"/></g></g><g class=\"mark-group role-axis\" role=\"graphics-symbol\" aria-roledescription=\"axis\" aria-label=\"Y-axis titled 'y' for a linear scale with values from −1.8 to 1.0\"><g transform=\"translate(0.5,0.5)\"><path class=\"background\" aria-hidden=\"true\" d=\"M0,0h0v0h0Z\" pointer-events=\"none\"/><g><g class=\"mark-rule role-axis-tick\" pointer-events=\"none\"><line transform=\"translate(0,268)\" x2=\"-5\" y2=\"0\" stroke=\"#888\" stroke-width=\"1\" opacity=\"1\"/><line transform=\"translate(0,214)\" x2=\"-5\" y2=\"0\" stroke=\"#888\" stroke-width=\"1\" opacity=\"1\"/><line transform=\"translate(0,161)\" x2=\"-5\" y2=\"0\" stroke=\"#888\" stroke-width=\"1\" opacity=\"1\"/><line transform=\"translate(0,107)\" x2=\"-5\" y2=\"0\" stroke=\"#888\" stroke-width=\"1\" opacity=\"1\"/><line transform=\"translate(0,54)\" x2=\"-5\" y2=\"0\" stroke=\"#888\" stroke-width=\"1\" opacity=\"1\"/><line transform=\"translate(0,0)\" x2=\"-5\" y2=\"0\" stroke=\"#888\" stroke-width=\"1\" opacity=\"1\"/></g><g class=\"mark-text role-axis-label\" pointer-events=\"none\"><text text-anchor=\"end\" transform=\"translate(-7,270.85714285714283)\" font-family=\"sans-serif\" font-size=\"10px\" fill=\"#000\" opacity=\"1\">−1.5</text><text text-anchor=\"end\" transform=\"translate(-7,217.28571428571425)\" font-family=\"sans-serif\" font-size=\"10px\" fill=\"#000\" opacity=\"1\">−1.0</text><text text-anchor=\"end\" transform=\"translate(-7,163.71428571428567)\" font-family=\"sans-serif\" font-size=\"10px\" fill=\"#000\" opacity=\"1\">−0.5</text><text text-anchor=\"end\" transform=\"translate(-7,110.14285714285712)\" font-family=\"sans-serif\" font-size=\"10px\" fill=\"#000\" opacity=\"1\">0.0</text><text text-anchor=\"end\" transform=\"translate(-7,56.571428571428584)\" font-family=\"sans-serif\" font-size=\"10px\" fill=\"#000\" opacity=\"1\">0.5</text><text text-anchor=\"end\" transform=\"translate(-7,3)\" font-family=\"sans-serif\" font-size=\"10px\" fill=\"#000\" opacity=\"1\">1.0</text></g><g class=\"mark-rule role-axis-domain\" pointer-events=\"none\"><line transform=\"translate(0,300)\" x2=\"0\" y2=\"-300\" stroke=\"#888\" stroke-width=\"1\" opacity=\"1\"/></g><g class=\"mark-text role-axis-title\" pointer-events=\"none\"><text text-anchor=\"middle\" transform=\"translate(-30.7412109375,150) rotate(-90) translate(0,-2)\" font-family=\"sans-serif\" font-size=\"11px\" font-weight=\"bold\" fill=\"#000\" opacity=\"1\">y</text></g></g><path class=\"foreground\" aria-hidden=\"true\" d=\"\" pointer-events=\"none\" display=\"none\"/></g></g><g class=\"mark-symbol role-mark marks\" role=\"graphics-symbol\" aria-roledescription=\"symbol mark container\"><path transform=\"translate(281.9925101573741,159.1970938747634)\" d=\"M2.7386127875258306,0A2.7386127875258306,2.7386127875258306,0,1,1,-2.7386127875258306,0A2.7386127875258306,2.7386127875258306,0,1,1,2.7386127875258306,0\" stroke=\"#1b9e77\" stroke-width=\"2\" opacity=\"0.7\"/><path transform=\"translate(183.84911084775942,106.76420819589411)\" d=\"M2.7386127875258306,0A2.7386127875258306,2.7386127875258306,0,1,1,-2.7386127875258306,0A2.7386127875258306,2.7386127875258306,0,1,1,2.7386127875258306,0\" stroke=\"#d95f02\" stroke-width=\"2\" opacity=\"0.7\"/><path transform=\"translate(204.1228384745033,172.73601079544275)\" d=\"M2.7386127875258306,0A2.7386127875258306,2.7386127875258306,0,1,1,-2.7386127875258306,0A2.7386127875258306,2.7386127875258306,0,1,1,2.7386127875258306,0\" stroke=\"#1b9e77\" stroke-width=\"2\" opacity=\"0.7\"/><path transform=\"translate(232.4207035703137,138.2986408473788)\" d=\"M2.7386127875258306,0A2.7386127875258306,2.7386127875258306,0,1,1,-2.7386127875258306,0A2.7386127875258306,2.7386127875258306,0,1,1,2.7386127875258306,0\" stroke=\"#d95f02\" stroke-width=\"2\" opacity=\"0.7\"/><path transform=\"translate(217.37633106048526,140.25894052648817)\" d=\"M2.7386127875258306,0A2.7386127875258306,2.7386127875258306,0,1,1,-2.7386127875258306,0A2.7386127875258306,2.7386127875258306,0,1,1,2.7386127875258306,0\" stroke=\"#d95f02\" stroke-width=\"2\" opacity=\"0.7\"/><path transform=\"translate(222.1724884192738,54.385528833605676)\" d=\"M2.7386127875258306,0A2.7386127875258306,2.7386127875258306,0,1,1,-2.7386127875258306,0A2.7386127875258306,2.7386127875258306,0,1,1,2.7386127875258306,0\" stroke=\"#e7298a\" stroke-width=\"2\" opacity=\"0.7\"/><path transform=\"translate(195.90002606500562,98.64016883727572)\" d=\"M2.7386127875258306,0A2.7386127875258306,2.7386127875258306,0,1,1,-2.7386127875258306,0A2.7386127875258306,2.7386127875258306,0,1,1,2.7386127875258306,0\" stroke=\"#d95f02\" stroke-width=\"2\" opacity=\"0.7\"/><path transform=\"translate(180.8818842544537,90.13744466382124)\" d=\"M2.7386127875258306,0A2.7386127875258306,2.7386127875258306,0,1,1,-2.7386127875258306,0A2.7386127875258306,2.7386127875258306,0,1,1,2.7386127875258306,0\" stroke=\"#d95f02\" stroke-width=\"2\" opacity=\"0.7\"/><path transform=\"translate(245.77828321578443,44.01564604727213)\" d=\"M2.7386127875258306,0A2.7386127875258306,2.7386127875258306,0,1,1,-2.7386127875258306,0A2.7386127875258306,2.7386127875258306,0,1,1,2.7386127875258306,0\" stroke=\"#e7298a\" stroke-width=\"2\" opacity=\"0.7\"/><path transform=\"translate(187.6204412462912,92.75783018755422)\" d=\"M2.7386127875258306,0A2.7386127875258306,2.7386127875258306,0,1,1,-2.7386127875258306,0A2.7386127875258306,2.7386127875258306,0,1,1,2.7386127875258306,0\" stroke=\"#d95f02\" stroke-width=\"2\" opacity=\"0.7\"/><path transform=\"translate(174.35743799277336,101.97323050953408)\" d=\"M2.7386127875258306,0A2.7386127875258306,2.7386127875258306,0,1,1,-2.7386127875258306,0A2.7386127875258306,2.7386127875258306,0,1,1,2.7386127875258306,0\" stroke=\"#d95f02\" stroke-width=\"2\" opacity=\"0.7\"/><path transform=\"translate(208.9865129530961,118.69910190130324)\" d=\"M2.7386127875258306,0A2.7386127875258306,2.7386127875258306,0,1,1,-2.7386127875258306,0A2.7386127875258306,2.7386127875258306,0,1,1,2.7386127875258306,0\" stroke=\"#d95f02\" stroke-width=\"2\" opacity=\"0.7\"/><path transform=\"translate(300.16027029387675,199.09011788405184)\" d=\"M2.7386127875258306,0A2.7386127875258306,2.7386127875258306,0,1,1,-2.7386127875258306,0A2.7386127875258306,2.7386127875258306,0,1,1,2.7386127875258306,0\" stroke=\"#1b9e77\" stroke-width=\"2\" opacity=\"0.7\"/><path transform=\"translate(293.302546872058,182.8660795278428)\" d=\"M2.7386127875258306,0A2.7386127875258306,2.7386127875258306,0,1,1,-2.7386127875258306,0A2.7386127875258306,2.7386127875258306,0,1,1,2.7386127875258306,0\" stroke=\"#1b9e77\" stroke-width=\"2\" opacity=\"0.7\"/><path transform=\"translate(45.31008150944924,95.64107986738215)\" d=\"M2.7386127875258306,0A2.7386127875258306,2.7386127875258306,0,1,1,-2.7386127875258306,0A2.7386127875258306,2.7386127875258306,0,1,1,2.7386127875258306,0\" stroke=\"#7570b3\" stroke-width=\"2\" opacity=\"0.7\"/><path transform=\"translate(194.96740935069133,83.83316351921368)\" d=\"M2.7386127875258306,0A2.7386127875258306,2.7386127875258306,0,1,1,-2.7386127875258306,0A2.7386127875258306,2.7386127875258306,0,1,1,2.7386127875258306,0\" stroke=\"#d95f02\" stroke-width=\"2\" opacity=\"0.7\"/><path transform=\"translate(218.85280191639694,121.78836107356284)\" d=\"M2.7386127875258306,0A2.7386127875258306,2.7386127875258306,0,1,1,-2.7386127875258306,0A2.7386127875258306,2.7386127875258306,0,1,1,2.7386127875258306,0\" stroke=\"#d95f02\" stroke-width=\"2\" opacity=\"0.7\"/><path transform=\"translate(254.7377903180624,177.27027307632846)\" d=\"M2.7386127875258306,0A2.7386127875258306,2.7386127875258306,0,1,1,-2.7386127875258306,0A2.7386127875258306,2.7386127875258306,0,1,1,2.7386127875258306,0\" stroke=\"#1b9e77\" stroke-width=\"2\" opacity=\"0.7\"/><path transform=\"translate(114.37949604143299,67.25195502866674)\" d=\"M2.7386127875258306,0A2.7386127875258306,2.7386127875258306,0,1,1,-2.7386127875258306,0A2.7386127875258306,2.7386127875258306,0,1,1,2.7386127875258306,0\" stroke=\"#7570b3\" stroke-width=\"2\" opacity=\"0.7\"/><path transform=\"translate(112.48912817396398,25.264723875408457)\" d=\"M2.7386127875258306,0A2.7386127875258306,2.7386127875258306,0,1,1,-2.7386127875258306,0A2.7386127875258306,2.7386127875258306,0,1,1,2.7386127875258306,0\" stroke=\"#7570b3\" stroke-width=\"2\" opacity=\"0.7\"/><path transform=\"translate(290.17026840730387,262.15752767866445)\" d=\"M2.7386127875258306,0A2.7386127875258306,2.7386127875258306,0,1,1,-2.7386127875258306,0A2.7386127875258306,2.7386127875258306,0,1,1,2.7386127875258306,0\" stroke=\"#1b9e77\" stroke-width=\"2\" opacity=\"0.7\"/><path transform=\"translate(217.68570283349013,141.37125880831718)\" d=\"M2.7386127875258306,0A2.7386127875258306,2.7386127875258306,0,1,1,-2.7386127875258306,0A2.7386127875258306,2.7386127875258306,0,1,1,2.7386127875258306,0\" stroke=\"#d95f02\" stroke-width=\"2\" opacity=\"0.7\"/><path transform=\"translate(382.92791301342925,166.03720347223435)\" d=\"M2.7386127875258306,0A2.7386127875258306,2.7386127875258306,0,1,1,-2.7386127875258306,0A2.7386127875258306,2.7386127875258306,0,1,1,2.7386127875258306,0\" stroke=\"#1b9e77\" stroke-width=\"2\" opacity=\"0.7\"/><path transform=\"translate(310.44655314270153,175.04734519901865)\" d=\"M2.7386127875258306,0A2.7386127875258306,2.7386127875258306,0,1,1,-2.7386127875258306,0A2.7386127875258306,2.7386127875258306,0,1,1,2.7386127875258306,0\" stroke=\"#1b9e77\" stroke-width=\"2\" opacity=\"0.7\"/><path transform=\"translate(191.90947866489836,88.79433121707244)\" d=\"M2.7386127875258306,0A2.7386127875258306,2.7386127875258306,0,1,1,-2.7386127875258306,0A2.7386127875258306,2.7386127875258306,0,1,1,2.7386127875258306,0\" stroke=\"#d95f02\" stroke-width=\"2\" opacity=\"0.7\"/><path transform=\"translate(268.3814511612434,170.93852587415884)\" d=\"M2.7386127875258306,0A2.7386127875258306,2.7386127875258306,0,1,1,-2.7386127875258306,0A2.7386127875258306,2.7386127875258306,0,1,1,2.7386127875258306,0\" stroke=\"#1b9e77\" stroke-width=\"2\" opacity=\"0.7\"/><path transform=\"translate(258.46860801406535,193.73146683206625)\" d=\"M2.7386127875258306,0A2.7386127875258306,2.7386127875258306,0,1,1,-2.7386127875258306,0A2.7386127875258306,2.7386127875258306,0,1,1,2.7386127875258306,0\" stroke=\"#1b9e77\" stroke-width=\"2\" opacity=\"0.7\"/><path transform=\"translate(155.107937931213,72.40578442493683)\" d=\"M2.7386127875258306,0A2.7386127875258306,2.7386127875258306,0,1,1,-2.7386127875258306,0A2.7386127875258306,2.7386127875258306,0,1,1,2.7386127875258306,0\" stroke=\"#d95f02\" stroke-width=\"2\" opacity=\"0.7\"/><path transform=\"translate(274.47946689619596,170.39602317148635)\" d=\"M2.7386127875258306,0A2.7386127875258306,2.7386127875258306,0,1,1,-2.7386127875258306,0A2.7386127875258306,2.7386127875258306,0,1,1,2.7386127875258306,0\" stroke=\"#1b9e77\" stroke-width=\"2\" opacity=\"0.7\"/><path transform=\"translate(364.76690745947764,63.12477875029988)\" d=\"M2.7386127875258306,0A2.7386127875258306,2.7386127875258306,0,1,1,-2.7386127875258306,0A2.7386127875258306,2.7386127875258306,0,1,1,2.7386127875258306,0\" stroke=\"#e7298a\" stroke-width=\"2\" opacity=\"0.7\"/><path transform=\"translate(253.61422007219966,200.63493050269355)\" d=\"M2.7386127875258306,0A2.7386127875258306,2.7386127875258306,0,1,1,-2.7386127875258306,0A2.7386127875258306,2.7386127875258306,0,1,1,2.7386127875258306,0\" stroke=\"#1b9e77\" stroke-width=\"2\" opacity=\"0.7\"/><path transform=\"translate(234.34256737791856,125.29258372424758)\" d=\"M2.7386127875258306,0A2.7386127875258306,2.7386127875258306,0,1,1,-2.7386127875258306,0A2.7386127875258306,2.7386127875258306,0,1,1,2.7386127875258306,0\" stroke=\"#d95f02\" stroke-width=\"2\" opacity=\"0.7\"/><path transform=\"translate(233.0933043917401,148.31683920547718)\" d=\"M2.7386127875258306,0A2.7386127875258306,2.7386127875258306,0,1,1,-2.7386127875258306,0A2.7386127875258306,2.7386127875258306,0,1,1,2.7386127875258306,0\" stroke=\"#d95f02\" stroke-width=\"2\" opacity=\"0.7\"/><path transform=\"translate(226.14334058466784,210.90514820349685)\" d=\"M2.7386127875258306,0A2.7386127875258306,2.7386127875258306,0,1,1,-2.7386127875258306,0A2.7386127875258306,2.7386127875258306,0,1,1,2.7386127875258306,0\" stroke=\"#1b9e77\" stroke-width=\"2\" opacity=\"0.7\"/><path transform=\"translate(232.70693501826014,92.98176982320814)\" d=\"M2.7386127875258306,0A2.7386127875258306,2.7386127875258306,0,1,1,-2.7386127875258306,0A2.7386127875258306,2.7386127875258306,0,1,1,2.7386127875258306,0\" stroke=\"#d95f02\" stroke-width=\"2\" opacity=\"0.7\"/><path transform=\"translate(184.82873200128694,69.04862174743877)\" d=\"M2.7386127875258306,0A2.7386127875258306,2.7386127875258306,0,1,1,-2.7386127875258306,0A2.7386127875258306,2.7386127875258306,0,1,1,2.7386127875258306,0\" stroke=\"#d95f02\" stroke-width=\"2\" opacity=\"0.7\"/><path transform=\"translate(201.48960929822158,97.61365352080188)\" d=\"M2.7386127875258306,0A2.7386127875258306,2.7386127875258306,0,1,1,-2.7386127875258306,0A2.7386127875258306,2.7386127875258306,0,1,1,2.7386127875258306,0\" stroke=\"#d95f02\" stroke-width=\"2\" opacity=\"0.7\"/><path transform=\"translate(222.42541627466292,104.30835305248827)\" d=\"M2.7386127875258306,0A2.7386127875258306,2.7386127875258306,0,1,1,-2.7386127875258306,0A2.7386127875258306,2.7386127875258306,0,1,1,2.7386127875258306,0\" stroke=\"#d95f02\" stroke-width=\"2\" opacity=\"0.7\"/><path transform=\"translate(176.94897335280152,104.8411747375122)\" d=\"M2.7386127875258306,0A2.7386127875258306,2.7386127875258306,0,1,1,-2.7386127875258306,0A2.7386127875258306,2.7386127875258306,0,1,1,2.7386127875258306,0\" stroke=\"#d95f02\" stroke-width=\"2\" opacity=\"0.7\"/><path transform=\"translate(158.02523790299486,43.07879965432549)\" d=\"M2.7386127875258306,0A2.7386127875258306,2.7386127875258306,0,1,1,-2.7386127875258306,0A2.7386127875258306,2.7386127875258306,0,1,1,2.7386127875258306,0\" stroke=\"#7570b3\" stroke-width=\"2\" opacity=\"0.7\"/><path transform=\"translate(262.96259404233126,14.287407225233773)\" d=\"M2.7386127875258306,0A2.7386127875258306,2.7386127875258306,0,1,1,-2.7386127875258306,0A2.7386127875258306,2.7386127875258306,0,1,1,2.7386127875258306,0\" stroke=\"#e7298a\" stroke-width=\"2\" opacity=\"0.7\"/><path transform=\"translate(104.12543208357923,57.37836965070338)\" d=\"M2.7386127875258306,0A2.7386127875258306,2.7386127875258306,0,1,1,-2.7386127875258306,0A2.7386127875258306,2.7386127875258306,0,1,1,2.7386127875258306,0\" stroke=\"#7570b3\" stroke-width=\"2\" opacity=\"0.7\"/><path transform=\"translate(217.3755831117727,140.25917722523846)\" d=\"M2.7386127875258306,0A2.7386127875258306,2.7386127875258306,0,1,1,-2.7386127875258306,0A2.7386127875258306,2.7386127875258306,0,1,1,2.7386127875258306,0\" stroke=\"#d95f02\" stroke-width=\"2\" opacity=\"0.7\"/><path transform=\"translate(205.35137951192746,102.08977564834946)\" d=\"M2.7386127875258306,0A2.7386127875258306,2.7386127875258306,0,1,1,-2.7386127875258306,0A2.7386127875258306,2.7386127875258306,0,1,1,2.7386127875258306,0\" stroke=\"#d95f02\" stroke-width=\"2\" opacity=\"0.7\"/><path transform=\"translate(258.4126479192181,57.06992436414983)\" d=\"M2.7386127875258306,0A2.7386127875258306,2.7386127875258306,0,1,1,-2.7386127875258306,0A2.7386127875258306,2.7386127875258306,0,1,1,2.7386127875258306,0\" stroke=\"#e7298a\" stroke-width=\"2\" opacity=\"0.7\"/><path transform=\"translate(210.23054904983653,135.95278727614203)\" d=\"M2.7386127875258306,0A2.7386127875258306,2.7386127875258306,0,1,1,-2.7386127875258306,0A2.7386127875258306,2.7386127875258306,0,1,1,2.7386127875258306,0\" stroke=\"#d95f02\" stroke-width=\"2\" opacity=\"0.7\"/><path transform=\"translate(40.85162729330773,76.16091056478038)\" d=\"M2.7386127875258306,0A2.7386127875258306,2.7386127875258306,0,1,1,-2.7386127875258306,0A2.7386127875258306,2.7386127875258306,0,1,1,2.7386127875258306,0\" stroke=\"#7570b3\" stroke-width=\"2\" opacity=\"0.7\"/><path transform=\"translate(24.98618651158312,10.275469381688252)\" d=\"M2.7386127875258306,0A2.7386127875258306,2.7386127875258306,0,1,1,-2.7386127875258306,0A2.7386127875258306,2.7386127875258306,0,1,1,2.7386127875258306,0\" stroke=\"#7570b3\" stroke-width=\"2\" opacity=\"0.7\"/><path transform=\"translate(20.204339768308888,120.58659903343035)\" d=\"M2.7386127875258306,0A2.7386127875258306,2.7386127875258306,0,1,1,-2.7386127875258306,0A2.7386127875258306,2.7386127875258306,0,1,1,2.7386127875258306,0\" stroke=\"#7570b3\" stroke-width=\"2\" opacity=\"0.7\"/><path transform=\"translate(145.48571999098817,48.04058458179538)\" d=\"M2.7386127875258306,0A2.7386127875258306,2.7386127875258306,0,1,1,-2.7386127875258306,0A2.7386127875258306,2.7386127875258306,0,1,1,2.7386127875258306,0\" stroke=\"#7570b3\" stroke-width=\"2\" opacity=\"0.7\"/><path transform=\"translate(104.89951062846094,68.27909436069443)\" d=\"M2.7386127875258306,0A2.7386127875258306,2.7386127875258306,0,1,1,-2.7386127875258306,0A2.7386127875258306,2.7386127875258306,0,1,1,2.7386127875258306,0\" stroke=\"#7570b3\" stroke-width=\"2\" opacity=\"0.7\"/><path transform=\"translate(101.80536761991532,54.47715957844337)\" d=\"M2.7386127875258306,0A2.7386127875258306,2.7386127875258306,0,1,1,-2.7386127875258306,0A2.7386127875258306,2.7386127875258306,0,1,1,2.7386127875258306,0\" stroke=\"#7570b3\" stroke-width=\"2\" opacity=\"0.7\"/><path transform=\"translate(257.3539483746861,294.1375900643294)\" d=\"M2.7386127875258306,0A2.7386127875258306,2.7386127875258306,0,1,1,-2.7386127875258306,0A2.7386127875258306,2.7386127875258306,0,1,1,2.7386127875258306,0\" stroke=\"#1b9e77\" stroke-width=\"2\" opacity=\"0.7\"/><path transform=\"translate(184.8125720035303,69.04626816546757)\" d=\"M2.7386127875258306,0A2.7386127875258306,2.7386127875258306,0,1,1,-2.7386127875258306,0A2.7386127875258306,2.7386127875258306,0,1,1,2.7386127875258306,0\" stroke=\"#d95f02\" stroke-width=\"2\" opacity=\"0.7\"/><path transform=\"translate(224.03184372046377,50.76975059325808)\" d=\"M2.7386127875258306,0A2.7386127875258306,2.7386127875258306,0,1,1,-2.7386127875258306,0A2.7386127875258306,2.7386127875258306,0,1,1,2.7386127875258306,0\" stroke=\"#e7298a\" stroke-width=\"2\" opacity=\"0.7\"/><path transform=\"translate(101.51675027032942,6.9305479931294105)\" d=\"M2.7386127875258306,0A2.7386127875258306,2.7386127875258306,0,1,1,-2.7386127875258306,0A2.7386127875258306,2.7386127875258306,0,1,1,2.7386127875258306,0\" stroke=\"#7570b3\" stroke-width=\"2\" opacity=\"0.7\"/><path transform=\"translate(258.1990147178315,186.771722241634)\" d=\"M2.7386127875258306,0A2.7386127875258306,2.7386127875258306,0,1,1,-2.7386127875258306,0A2.7386127875258306,2.7386127875258306,0,1,1,2.7386127875258306,0\" stroke=\"#1b9e77\" stroke-width=\"2\" opacity=\"0.7\"/><path transform=\"translate(221.44641412291404,90.33589419439734)\" d=\"M2.7386127875258306,0A2.7386127875258306,2.7386127875258306,0,1,1,-2.7386127875258306,0A2.7386127875258306,2.7386127875258306,0,1,1,2.7386127875258306,0\" stroke=\"#d95f02\" stroke-width=\"2\" opacity=\"0.7\"/><path transform=\"translate(68.51154620733621,88.85324138983619)\" d=\"M2.7386127875258306,0A2.7386127875258306,2.7386127875258306,0,1,1,-2.7386127875258306,0A2.7386127875258306,2.7386127875258306,0,1,1,2.7386127875258306,0\" stroke=\"#7570b3\" stroke-width=\"2\" opacity=\"0.7\"/><path transform=\"translate(230.09963987373018,87.53079247985195)\" d=\"M2.7386127875258306,0A2.7386127875258306,2.7386127875258306,0,1,1,-2.7386127875258306,0A2.7386127875258306,2.7386127875258306,0,1,1,2.7386127875258306,0\" stroke=\"#d95f02\" stroke-width=\"2\" opacity=\"0.7\"/></g><g class=\"mark-group role-legend\" role=\"graphics-symbol\" aria-roledescription=\"legend\" aria-label=\"Symbol legend titled 'predicted' for stroke color with 4 values: 0, 1, 2, 3\"><g transform=\"translate(418,0)\"><path class=\"background\" aria-hidden=\"true\" d=\"M0,0h50v77h-50Z\" pointer-events=\"none\"/><g><g class=\"mark-group role-legend-entry\"><g transform=\"translate(0,16)\"><path class=\"background\" aria-hidden=\"true\" d=\"M0,0h0v0h0Z\" pointer-events=\"none\"/><g><g class=\"mark-group role-scope\" role=\"graphics-object\" aria-roledescription=\"group mark container\"><g transform=\"translate(0,0)\"><path class=\"background\" aria-hidden=\"true\" d=\"M0,0h21.5615234375v12.5h-21.5615234375Z\" pointer-events=\"none\" opacity=\"1\"/><g><g class=\"mark-symbol role-legend-symbol\" pointer-events=\"none\"><path transform=\"translate(6,6)\" d=\"M5,0A5,5,0,1,1,-5,0A5,5,0,1,1,5,0\" stroke=\"#1b9e77\" stroke-width=\"1.5\" opacity=\"0.7\"/></g><g class=\"mark-text role-legend-label\" pointer-events=\"none\"><text text-anchor=\"start\" transform=\"translate(16,9)\" font-family=\"sans-serif\" font-size=\"10px\" fill=\"#000\" opacity=\"1\">0</text></g></g><path class=\"foreground\" aria-hidden=\"true\" d=\"\" pointer-events=\"none\" display=\"none\"/></g><g transform=\"translate(0,16)\"><path class=\"background\" aria-hidden=\"true\" d=\"M0,0h21.5615234375v12.5h-21.5615234375Z\" pointer-events=\"none\" opacity=\"1\"/><g><g class=\"mark-symbol role-legend-symbol\" pointer-events=\"none\"><path transform=\"translate(6,6)\" d=\"M5,0A5,5,0,1,1,-5,0A5,5,0,1,1,5,0\" stroke=\"#d95f02\" stroke-width=\"1.5\" opacity=\"0.7\"/></g><g class=\"mark-text role-legend-label\" pointer-events=\"none\"><text text-anchor=\"start\" transform=\"translate(16,9)\" font-family=\"sans-serif\" font-size=\"10px\" fill=\"#000\" opacity=\"1\">1</text></g></g><path class=\"foreground\" aria-hidden=\"true\" d=\"\" pointer-events=\"none\" display=\"none\"/></g><g transform=\"translate(0,32)\"><path class=\"background\" aria-hidden=\"true\" d=\"M0,0h21.5615234375v12.5h-21.5615234375Z\" pointer-events=\"none\" opacity=\"1\"/><g><g class=\"mark-symbol role-legend-symbol\" pointer-events=\"none\"><path transform=\"translate(6,6)\" d=\"M5,0A5,5,0,1,1,-5,0A5,5,0,1,1,5,0\" stroke=\"#7570b3\" stroke-width=\"1.5\" opacity=\"0.7\"/></g><g class=\"mark-text role-legend-label\" pointer-events=\"none\"><text text-anchor=\"start\" transform=\"translate(16,9)\" font-family=\"sans-serif\" font-size=\"10px\" fill=\"#000\" opacity=\"1\">2</text></g></g><path class=\"foreground\" aria-hidden=\"true\" d=\"\" pointer-events=\"none\" display=\"none\"/></g><g transform=\"translate(0,48)\"><path class=\"background\" aria-hidden=\"true\" d=\"M0,0h21.5615234375v12.5h-21.5615234375Z\" pointer-events=\"none\" opacity=\"1\"/><g><g class=\"mark-symbol role-legend-symbol\" pointer-events=\"none\"><path transform=\"translate(6,6)\" d=\"M5,0A5,5,0,1,1,-5,0A5,5,0,1,1,5,0\" stroke=\"#e7298a\" stroke-width=\"1.5\" opacity=\"0.7\"/></g><g class=\"mark-text role-legend-label\" pointer-events=\"none\"><text text-anchor=\"start\" transform=\"translate(16,9)\" font-family=\"sans-serif\" font-size=\"10px\" fill=\"#000\" opacity=\"1\">3</text></g></g><path class=\"foreground\" aria-hidden=\"true\" d=\"\" pointer-events=\"none\" display=\"none\"/></g></g></g><path class=\"foreground\" aria-hidden=\"true\" d=\"\" pointer-events=\"none\" display=\"none\"/></g></g><g class=\"mark-text role-legend-title\" pointer-events=\"none\"><text text-anchor=\"start\" transform=\"translate(0,9)\" font-family=\"sans-serif\" font-size=\"11px\" font-weight=\"bold\" fill=\"#000\" opacity=\"1\">predicted</text></g></g><path class=\"foreground\" aria-hidden=\"true\" d=\"\" pointer-events=\"none\" display=\"none\"/></g></g><g class=\"mark-group role-title\"><g transform=\"translate(200,-22)\"><path class=\"background\" aria-hidden=\"true\" d=\"M0,0h0v0h0Z\" pointer-events=\"none\"/><g><g class=\"mark-text role-title-text\" role=\"graphics-symbol\" aria-roledescription=\"title\" aria-label=\"Title text 'SOE-kMeans firs two dimensions'\" pointer-events=\"none\"><text text-anchor=\"middle\" transform=\"translate(0,10)\" font-family=\"sans-serif\" font-size=\"13px\" font-weight=\"bold\" fill=\"#000\" opacity=\"1\">SOE-kMeans firs two dimensions</text></g></g><path class=\"foreground\" aria-hidden=\"true\" d=\"\" pointer-events=\"none\" display=\"none\"/></g></g></g><path class=\"foreground\" aria-hidden=\"true\" d=\"\" display=\"none\"/></g></g></g></svg>",
      "text/html": [
       "\n",
       "<div class=\"vega-visualization\" id=\"vega-visualization-35195a482d814be5a86bd08c8423d3e9\"></div>\n",
       "<script type=\"text/javascript\">\n",
       "  (function(spec, embedOpt) {\n",
       "    let outputDiv = document.currentScript.previousElementSibling;\n",
       "    if (outputDiv.id !== \"vega-visualization-35195a482d814be5a86bd08c8423d3e9\") {\n",
       "      outputDiv = document.getElementById(\"vega-visualization-35195a482d814be5a86bd08c8423d3e9\");\n",
       "    }\n",
       "    const paths = {\n",
       "      \"vega\": \"https://cdn.jsdelivr.net/npm/vega@5?noext\",\n",
       "      \"vega-lite\": \"https://cdn.jsdelivr.net/npm/vega-lite@4.8.1?noext\",\n",
       "      \"vega-embed\": \"https://cdn.jsdelivr.net/npm/vega-embed@6?noext\",\n",
       "    };\n",
       "    function loadScript(lib) {\n",
       "      return new Promise(function(resolve, reject) {\n",
       "        var s = document.createElement('script');\n",
       "        s.src = paths[lib];\n",
       "        s.async = true;\n",
       "        s.onload = () => resolve(paths[lib]);\n",
       "        s.onerror = () => reject(`Error loading script: ${paths[lib]}`);\n",
       "        document.getElementsByTagName(\"head\")[0].appendChild(s);\n",
       "      });\n",
       "    }\n",
       "    function showError(err) {\n",
       "      outputDiv.innerHTML = `<div class=\"error\" style=\"color:red;\">${err}</div>`;\n",
       "      throw err;\n",
       "    }\n",
       "    function displayChart(vegaEmbed) {\n",
       "      vegaEmbed(outputDiv, spec, embedOpt)\n",
       "        .catch(err => showError(`Javascript Error: ${err.message}<br>This usually means there's a typo in your chart specification. See the javascript console for the full traceback.`));\n",
       "    }\n",
       "    if (typeof define === \"function\" && define.amd) {\n",
       "      requirejs.config({paths});\n",
       "      require([\"vega-embed\"], displayChart, err => showError(`Error loading script: ${err.message}`));\n",
       "    } else if (typeof vegaEmbed === \"function\") {\n",
       "      displayChart(vegaEmbed);\n",
       "    } else {\n",
       "      loadScript(\"vega\")\n",
       "        .then(() => loadScript(\"vega-lite\"))\n",
       "        .then(() => loadScript(\"vega-embed\"))\n",
       "        .catch(showError)\n",
       "        .then(() => displayChart(vegaEmbed));\n",
       "    }\n",
       "  })({\"config\": {\"view\": {\"continuousWidth\": 400, \"continuousHeight\": 300}}, \"data\": {\"name\": \"data-ca5bf56d48f900ae3fb608963f7cca0e\"}, \"mark\": \"point\", \"encoding\": {\"color\": {\"type\": \"nominal\", \"field\": \"predicted\", \"scale\": {\"scheme\": \"dark2\"}}, \"x\": {\"type\": \"quantitative\", \"field\": \"x\"}, \"y\": {\"type\": \"quantitative\", \"field\": \"y\"}}, \"title\": \"SOE-kMeans firs two dimensions\", \"$schema\": \"https://vega.github.io/schema/vega-lite/v4.8.1.json\", \"datasets\": {\"data-ca5bf56d48f900ae3fb608963f7cca0e\": [{\"x\": 0.7149438261803058, \"y\": -0.4858395428311251, \"predicted\": 0}, {\"x\": -0.021131668641804376, \"y\": 0.0035340568383214078, \"predicted\": 1}, {\"x\": 0.13092128855877475, \"y\": -0.6122027674241325, \"predicted\": 0}, {\"x\": 0.34315527677735275, \"y\": -0.2907873145755354, \"predicted\": 1}, {\"x\": 0.2303224829536394, \"y\": -0.30908344491388984, \"predicted\": 1}, {\"x\": 0.26629366314455377, \"y\": 0.492401730886347, \"predicted\": 3}, {\"x\": 0.06925019548754228, \"y\": 0.07935842418542637, \"predicted\": 1}, {\"x\": -0.04338586809159729, \"y\": 0.1587171831376683, \"predicted\": 1}, {\"x\": 0.4433371241183834, \"y\": 0.5891873035587932, \"predicted\": 3}, {\"x\": 0.007153309347184166, \"y\": 0.13426025158282703, \"predicted\": 1}, {\"x\": -0.09231921505419963, \"y\": 0.048249848577681866, \"predicted\": 1}, {\"x\": 0.16739884714822098, \"y\": -0.10785828441216376, \"predicted\": 1}, {\"x\": 0.8512020272040756, \"y\": -0.8581744335844839, \"predicted\": 0}, {\"x\": 0.7997691015404349, \"y\": -0.7067500755931997, \"predicted\": 0}, {\"x\": -1.0601743886791306, \"y\": 0.1073499212377664, \"predicted\": 2}, {\"x\": 0.06225557013018501, \"y\": 0.21755714048733885, \"predicted\": 1}, {\"x\": 0.24139601437297703, \"y\": -0.13669137001991993, \"predicted\": 1}, {\"x\": 0.5105334273854681, \"y\": -0.6545225487123993, \"predicted\": 0}, {\"x\": -0.5421537796892526, \"y\": 0.37231508639911026, \"predicted\": 2}, {\"x\": -0.5563315386952702, \"y\": 0.7641959104961875, \"predicted\": 2}, {\"x\": 0.7762770130547795, \"y\": -1.446803591667535, \"predicted\": 0}, {\"x\": 0.23264277125117597, \"y\": -0.3194650822109603, \"predicted\": 1}, {\"x\": 1.4719593476007193, \"y\": -0.549680565740854, \"predicted\": 0}, {\"x\": 0.9283491485702616, \"y\": -0.6337752218575078, \"predicted\": 0}, {\"x\": 0.03932108998673772, \"y\": 0.171252908640657, \"predicted\": 1}, {\"x\": 0.612860883709325, \"y\": -0.5954262414921494, \"predicted\": 0}, {\"x\": 0.5385145601054904, \"y\": -0.8081603570992852, \"predicted\": 0}, {\"x\": -0.23669046551590225, \"y\": 0.32421267870058934, \"predicted\": 1}, {\"x\": 0.6585960017214698, \"y\": -0.5903628829338727, \"predicted\": 0}, {\"x\": 1.3357518059460824, \"y\": 0.41083539833053406, \"predicted\": 3}, {\"x\": 0.5021066505414976, \"y\": -0.8725926846918063, \"predicted\": 0}, {\"x\": 0.35756925533438944, \"y\": -0.16939744809297771, \"predicted\": 1}, {\"x\": 0.348199782938051, \"y\": -0.3842904992511202, \"predicted\": 1}, {\"x\": 0.29607505438500886, \"y\": -0.9684480498993042, \"predicted\": 0}, {\"x\": 0.3453020126369513, \"y\": 0.13217014831672394, \"predicted\": 1}, {\"x\": -0.013784509990347886, \"y\": 0.3555461970239043, \"predicted\": 1}, {\"x\": 0.1111720697366621, \"y\": 0.08893923380584896, \"predicted\": 1}, {\"x\": 0.2681906220599722, \"y\": 0.02645537151010915, \"predicted\": 1}, {\"x\": -0.07288269985398868, \"y\": 0.021482369116552723, \"predicted\": 1}, {\"x\": -0.21481071572753857, \"y\": 0.5979312032262949, \"predicted\": 2}, {\"x\": 0.5722194553174846, \"y\": 0.8666508658978183, \"predicted\": 3}, {\"x\": -0.6190592593731556, \"y\": 0.46446854992676834, \"predicted\": 2}, {\"x\": 0.23031687333829526, \"y\": -0.3090856541022257, \"predicted\": 1}, {\"x\": 0.1401353463394561, \"y\": 0.04716209394873822, \"predicted\": 1}, {\"x\": 0.538094859394136, \"y\": 0.46734737260126824, \"predicted\": 3}, {\"x\": 0.1767291178737743, \"y\": -0.2688926812439925, \"predicted\": 1}, {\"x\": -1.093612795300192, \"y\": 0.2891648347287162, \"predicted\": 2}, {\"x\": -1.2126036011631265, \"y\": 0.9040956191042426, \"predicted\": 2}, {\"x\": -1.2484674517376833, \"y\": -0.12547492431201682, \"predicted\": 2}, {\"x\": -0.3088571000675887, \"y\": 0.5516212105699096, \"predicted\": 2}, {\"x\": -0.6132536702865428, \"y\": 0.3627284526335186, \"predicted\": 2}, {\"x\": -0.636459742850635, \"y\": 0.4915465106011951, \"predicted\": 2}, {\"x\": 0.5301546128101456, \"y\": -1.745284173933741, \"predicted\": 0}, {\"x\": -0.013905709973522456, \"y\": 0.35556816378896916, \"predicted\": 1}, {\"x\": 0.28023882790347837, \"y\": 0.5261489944629245, \"predicted\": 3}, {\"x\": -0.6386243729725293, \"y\": 0.9353148853974588, \"predicted\": 2}, {\"x\": 0.5364926103837365, \"y\": -0.7432027409219175, \"predicted\": 0}, {\"x\": 0.2608481059218555, \"y\": 0.15686498751895817, \"predicted\": 1}, {\"x\": -0.8861634034449783, \"y\": 0.17070308036152887, \"predicted\": 2}, {\"x\": 0.32574729905297645, \"y\": 0.1830459368547149, \"predicted\": 1}]}}, {});\n",
       "</script>\n"
      ],
      "text/plain": [
       "alt.Chart(...)"
      ]
     },
     "execution_count": 8,
     "metadata": {},
     "output_type": "execute_result"
    }
   ],
   "source": [
    "p = AltairPlotter()\n",
    "p.assignments(embedding[:, 0:2], ys_soe).properties(title=\"SOE-kMeans firs two dimensions\")"
   ]
  },
  {
   "cell_type": "markdown",
   "metadata": {},
   "source": [
    "The problem that we are faced with Tangles, is that we do not have any suitable imputation in this case. As every entry that we get is only a 1, if we do k-NN imputation, we will end up with 1s in every part of the array. \n",
    "\n",
    "If we do random imputation, we will end up with bad performance (as has been observed numerous times). \n",
    "\n",
    "This could be a serious challenge and goes against the models we have imagined so far (Triplets as mindsets, similar objects answer similarly).\n",
    "\n",
    "To iterate on this problem, we have investigated a new cut-finding method in the next Jupyter notebook (majority cuts). The results have also been added to this notebook, but seem to be subpar (only 0.5 of the NMI that SOE-kMeans achieves)."
   ]
  }
 ],
 "metadata": {
  "interpreter": {
   "hash": "b3df0bc9139dfbbc2bb43367c6e0b1c6fcd610288dc61cb8c73318fe0a42d151"
  },
  "kernelspec": {
   "display_name": "Python 3.9.7 ('tangles-thesis')",
   "language": "python",
   "name": "python3"
  },
  "language_info": {
   "codemirror_mode": {
    "name": "ipython",
    "version": 3
   },
   "file_extension": ".py",
   "mimetype": "text/x-python",
   "name": "python",
   "nbconvert_exporter": "python",
   "pygments_lexer": "ipython3",
   "version": "3.9.7"
  },
  "orig_nbformat": 4
 },
 "nbformat": 4,
 "nbformat_minor": 2
}
