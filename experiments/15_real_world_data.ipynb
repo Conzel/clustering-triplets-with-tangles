{
 "cells": [
  {
   "cell_type": "markdown",
   "metadata": {},
   "source": [
    "# Tangles on real world data\n",
    "This Juypter Notebook explores the performance on Tangles on classical triplet datasets. [Examples are given in the cblearn libary.](https://github.com/dekuenstle/cblearn#datasets)\n",
    "\n",
    "As always, we use SOE-kMeans as a baseline."
   ]
  },
  {
   "cell_type": "code",
   "execution_count": 2,
   "metadata": {},
   "outputs": [],
   "source": [
    "import sys\n",
    "sys.path.append(\"..\")\n",
    "from cblearn.embedding import SOE\n",
    "import cblearn.datasets as datasets\n",
    "from cblearn.preprocessing import triplets_from_mostcentral\n",
    "from questionnaire import Questionnaire\n",
    "from triplets import triplets_to_majority_neighbour_cuts, remove_outliers, majority_neighbours_count_matrix\n",
    "from sklearn.cluster import KMeans\n",
    "from sklearn.svm import SVC\n",
    "from plotting import AltairPlotter\n",
    "from sklearn.metrics import normalized_mutual_info_score\n",
    "from estimators import OrdinalTangles\n",
    "from triplets import LensMetric\n",
    "import numpy as np\n",
    "import altair as alt\n",
    "alt.renderers.enable('altair_saver', fmts=[\"html\", \"svg\"])\n",
    "seed = 3"
   ]
  },
  {
   "cell_type": "markdown",
   "metadata": {},
   "source": [
    "We will take a look at the so-called car dataset (see more at the CB Learn repository).  In this dataset, users select the odd-one-out from three images of cars. Triplets (A,B,C) have been put into a form, such that the following holds:\n",
    "\n",
    "> From the three objects A, B, C, *A* is the most central object.\n",
    "\n",
    "The transformation from cblearn assumes that the triangle inequality holds, which might already be a problem here (this could induce bias that the Tangles algorithm doesn't play into, but SOE-kMeans does). "
   ]
  },
  {
   "cell_type": "code",
   "execution_count": 3,
   "metadata": {},
   "outputs": [],
   "source": [
    "# Getting the data and cleaning the car dataset (removing outliers)\n",
    "cars = datasets.fetch_car_similarity()\n",
    "n_clusters = len(cars.class_name.tolist())\n",
    "central_triplets = cars.triplet\n",
    "central_responses = cars.response\n",
    "\n",
    "# removing outliers\n",
    "ys = cars.class_id\n",
    "outliers = np.squeeze(np.where(ys == 2))\n",
    "ys = ys[ys != 2]\n",
    "central_triplets, central_responses = remove_outliers(central_triplets, central_responses, outliers)\n",
    "\n",
    "\n",
    "\n",
    "triplets = triplets_from_mostcentral(central_triplets, central_responses)\n",
    "# respones are just set to always be one (0 would yield the same clustering result)\n",
    "responses = np.ones(triplets.shape[0]).astype(bool) \n"
   ]
  },
  {
   "cell_type": "code",
   "execution_count": 4,
   "metadata": {},
   "outputs": [],
   "source": [
    "q = Questionnaire.from_bool_array(triplets, responses)\n",
    "q_imp = q.impute(\"random\")\n",
    "\n",
    "# predictions\n",
    "# tangles\n",
    "tangles = OrdinalTangles(agreement=8)\n",
    "ys_tangles = tangles.fit_predict(q_imp.values)\n",
    "tangles_maj = OrdinalTangles(agreement=7)\n",
    "ys_tangles_maj = tangles_maj.fit_predict(triplets_to_majority_neighbour_cuts(triplets) > 0)\n",
    "tangles_count_mat= OrdinalTangles(agreement=7)\n",
    "ys_tangles_count_mat = tangles_maj.fit_predict(majority_neighbours_count_matrix(triplets, symmetric=True) > 0)\n",
    " \n",
    "# soe-kmeans\n",
    "soe = SOE(2, random_state=1)\n",
    "kmeans = KMeans(3, random_state=1)\n",
    "embedding = soe.fit_transform(triplets, responses)\n",
    "ys_soe = kmeans.fit_predict(embedding)\n",
    "\n",
    "# direct kMeans\n",
    "ys_kmeans = kmeans.fit_predict(q_imp.values)"
   ]
  },
  {
   "cell_type": "code",
   "execution_count": 5,
   "metadata": {},
   "outputs": [
    {
     "name": "stdout",
     "output_type": "stream",
     "text": [
      "NMI SOE-kMeans: 0.8575493838279353\n",
      "NMI direct kMeans: 0.025959646069515865\n",
      "NMI Tangles: 0.014998899282559871\n",
      "NMI Tangles Majority Cuts: 0.5233508262641899\n",
      "NMI Tangles Count Matrix: 0.4477095669498989\n",
      "#Clusters found with Tangles: 2\n",
      "#Clusters found with majority Tangles: 3\n",
      "#Clusters found with count mat tangles: 3\n"
     ]
    }
   ],
   "source": [
    "print(f\"NMI SOE-kMeans: {normalized_mutual_info_score(ys, ys_soe)}\")\n",
    "print(f\"NMI direct kMeans: {normalized_mutual_info_score(ys, ys_kmeans)}\")\n",
    "print(f\"NMI Tangles: {normalized_mutual_info_score(ys, ys_tangles)}\")\n",
    "print(f\"NMI Tangles Majority Cuts: {normalized_mutual_info_score(ys, ys_tangles_maj)}\")\n",
    "print(f\"NMI Tangles Count Matrix: {normalized_mutual_info_score(ys, ys_tangles_count_mat)}\")\n",
    "print(f\"#Clusters found with Tangles: {np.unique(ys_tangles).shape[0]}\")\n",
    "print(f\"#Clusters found with majority Tangles: {np.unique(ys_tangles_maj).shape[0]}\")\n",
    "print(f\"#Clusters found with count mat tangles: {np.unique(ys_tangles_count_mat).shape[0]}\")"
   ]
  },
  {
   "cell_type": "code",
   "execution_count": 6,
   "metadata": {},
   "outputs": [
    {
     "data": {
      "image/svg+xml": "<svg xmlns=\"http://www.w3.org/2000/svg\" xmlns:xlink=\"http://www.w3.org/1999/xlink\" version=\"1.1\" class=\"marks\" width=\"520\" height=\"364\" viewBox=\"0 0 520 364\"><rect width=\"520\" height=\"364\" fill=\"white\"/><g fill=\"none\" stroke-miterlimit=\"10\" transform=\"translate(47,27)\"><g class=\"mark-group role-frame root\" role=\"graphics-object\" aria-roledescription=\"group mark container\"><g transform=\"translate(0,0)\"><path class=\"background\" aria-hidden=\"true\" d=\"M0.5,0.5h400v300h-400Z\" stroke=\"#ddd\"/><g><g class=\"mark-group role-axis\" role=\"graphics-symbol\" aria-roledescription=\"axis\" aria-label=\"X-axis for a linear scale with values from −1.0 to 1.6\"><g transform=\"translate(0.5,300.5)\"><path class=\"background\" aria-hidden=\"true\" d=\"M0,0h0v0h0Z\" pointer-events=\"none\"/><g><g class=\"mark-rule role-axis-grid\" pointer-events=\"none\"><line transform=\"translate(0,-300)\" x2=\"0\" y2=\"300\" stroke=\"#ddd\" stroke-width=\"1\" opacity=\"1\"/><line transform=\"translate(31,-300)\" x2=\"0\" y2=\"300\" stroke=\"#ddd\" stroke-width=\"1\" opacity=\"1\"/><line transform=\"translate(62,-300)\" x2=\"0\" y2=\"300\" stroke=\"#ddd\" stroke-width=\"1\" opacity=\"1\"/><line transform=\"translate(92,-300)\" x2=\"0\" y2=\"300\" stroke=\"#ddd\" stroke-width=\"1\" opacity=\"1\"/><line transform=\"translate(123,-300)\" x2=\"0\" y2=\"300\" stroke=\"#ddd\" stroke-width=\"1\" opacity=\"1\"/><line transform=\"translate(154,-300)\" x2=\"0\" y2=\"300\" stroke=\"#ddd\" stroke-width=\"1\" opacity=\"1\"/><line transform=\"translate(185,-300)\" x2=\"0\" y2=\"300\" stroke=\"#ddd\" stroke-width=\"1\" opacity=\"1\"/><line transform=\"translate(215,-300)\" x2=\"0\" y2=\"300\" stroke=\"#ddd\" stroke-width=\"1\" opacity=\"1\"/><line transform=\"translate(246,-300)\" x2=\"0\" y2=\"300\" stroke=\"#ddd\" stroke-width=\"1\" opacity=\"1\"/><line transform=\"translate(277,-300)\" x2=\"0\" y2=\"300\" stroke=\"#ddd\" stroke-width=\"1\" opacity=\"1\"/><line transform=\"translate(308,-300)\" x2=\"0\" y2=\"300\" stroke=\"#ddd\" stroke-width=\"1\" opacity=\"1\"/><line transform=\"translate(338,-300)\" x2=\"0\" y2=\"300\" stroke=\"#ddd\" stroke-width=\"1\" opacity=\"1\"/><line transform=\"translate(369,-300)\" x2=\"0\" y2=\"300\" stroke=\"#ddd\" stroke-width=\"1\" opacity=\"1\"/><line transform=\"translate(400,-300)\" x2=\"0\" y2=\"300\" stroke=\"#ddd\" stroke-width=\"1\" opacity=\"1\"/></g></g><path class=\"foreground\" aria-hidden=\"true\" d=\"\" pointer-events=\"none\" display=\"none\"/></g></g><g class=\"mark-group role-axis\" role=\"graphics-symbol\" aria-roledescription=\"axis\" aria-label=\"Y-axis for a linear scale with values from −1.4 to 1.4\"><g transform=\"translate(0.5,0.5)\"><path class=\"background\" aria-hidden=\"true\" d=\"M0,0h0v0h0Z\" pointer-events=\"none\"/><g><g class=\"mark-rule role-axis-grid\" pointer-events=\"none\"><line transform=\"translate(0,257)\" x2=\"400\" y2=\"0\" stroke=\"#ddd\" stroke-width=\"1\" opacity=\"1\"/><line transform=\"translate(0,204)\" x2=\"400\" y2=\"0\" stroke=\"#ddd\" stroke-width=\"1\" opacity=\"1\"/><line transform=\"translate(0,150)\" x2=\"400\" y2=\"0\" stroke=\"#ddd\" stroke-width=\"1\" opacity=\"1\"/><line transform=\"translate(0,96)\" x2=\"400\" y2=\"0\" stroke=\"#ddd\" stroke-width=\"1\" opacity=\"1\"/><line transform=\"translate(0,43)\" x2=\"400\" y2=\"0\" stroke=\"#ddd\" stroke-width=\"1\" opacity=\"1\"/></g></g><path class=\"foreground\" aria-hidden=\"true\" d=\"\" pointer-events=\"none\" display=\"none\"/></g></g><g class=\"mark-group role-axis\" role=\"graphics-symbol\" aria-roledescription=\"axis\" aria-label=\"X-axis titled 'x' for a linear scale with values from −1.0 to 1.6\"><g transform=\"translate(0.5,300.5)\"><path class=\"background\" aria-hidden=\"true\" d=\"M0,0h0v0h0Z\" pointer-events=\"none\"/><g><g class=\"mark-rule role-axis-tick\" pointer-events=\"none\"><line transform=\"translate(0,0)\" x2=\"0\" y2=\"5\" stroke=\"#888\" stroke-width=\"1\" opacity=\"1\"/><line transform=\"translate(31,0)\" x2=\"0\" y2=\"5\" stroke=\"#888\" stroke-width=\"1\" opacity=\"1\"/><line transform=\"translate(62,0)\" x2=\"0\" y2=\"5\" stroke=\"#888\" stroke-width=\"1\" opacity=\"1\"/><line transform=\"translate(92,0)\" x2=\"0\" y2=\"5\" stroke=\"#888\" stroke-width=\"1\" opacity=\"1\"/><line transform=\"translate(123,0)\" x2=\"0\" y2=\"5\" stroke=\"#888\" stroke-width=\"1\" opacity=\"1\"/><line transform=\"translate(154,0)\" x2=\"0\" y2=\"5\" stroke=\"#888\" stroke-width=\"1\" opacity=\"1\"/><line transform=\"translate(185,0)\" x2=\"0\" y2=\"5\" stroke=\"#888\" stroke-width=\"1\" opacity=\"1\"/><line transform=\"translate(215,0)\" x2=\"0\" y2=\"5\" stroke=\"#888\" stroke-width=\"1\" opacity=\"1\"/><line transform=\"translate(246,0)\" x2=\"0\" y2=\"5\" stroke=\"#888\" stroke-width=\"1\" opacity=\"1\"/><line transform=\"translate(277,0)\" x2=\"0\" y2=\"5\" stroke=\"#888\" stroke-width=\"1\" opacity=\"1\"/><line transform=\"translate(308,0)\" x2=\"0\" y2=\"5\" stroke=\"#888\" stroke-width=\"1\" opacity=\"1\"/><line transform=\"translate(338,0)\" x2=\"0\" y2=\"5\" stroke=\"#888\" stroke-width=\"1\" opacity=\"1\"/><line transform=\"translate(369,0)\" x2=\"0\" y2=\"5\" stroke=\"#888\" stroke-width=\"1\" opacity=\"1\"/><line transform=\"translate(400,0)\" x2=\"0\" y2=\"5\" stroke=\"#888\" stroke-width=\"1\" opacity=\"1\"/></g><g class=\"mark-text role-axis-label\" pointer-events=\"none\"><text text-anchor=\"start\" transform=\"translate(0,15)\" font-family=\"sans-serif\" font-size=\"10px\" fill=\"#000\" opacity=\"1\">−1.0</text><text text-anchor=\"middle\" transform=\"translate(30.76923076923076,15)\" font-family=\"sans-serif\" font-size=\"10px\" fill=\"#000\" opacity=\"1\">−0.8</text><text text-anchor=\"middle\" transform=\"translate(61.53846153846154,15)\" font-family=\"sans-serif\" font-size=\"10px\" fill=\"#000\" opacity=\"1\">−0.6</text><text text-anchor=\"middle\" transform=\"translate(92.3076923076923,15)\" font-family=\"sans-serif\" font-size=\"10px\" fill=\"#000\" opacity=\"1\">−0.4</text><text text-anchor=\"middle\" transform=\"translate(123.07692307692308,15)\" font-family=\"sans-serif\" font-size=\"10px\" fill=\"#000\" opacity=\"1\">−0.2</text><text text-anchor=\"middle\" transform=\"translate(153.84615384615384,15)\" font-family=\"sans-serif\" font-size=\"10px\" fill=\"#000\" opacity=\"1\">0.0</text><text text-anchor=\"middle\" transform=\"translate(184.6153846153846,15)\" font-family=\"sans-serif\" font-size=\"10px\" fill=\"#000\" opacity=\"1\">0.2</text><text text-anchor=\"middle\" transform=\"translate(215.3846153846154,15)\" font-family=\"sans-serif\" font-size=\"10px\" fill=\"#000\" opacity=\"1\">0.4</text><text text-anchor=\"middle\" transform=\"translate(246.15384615384616,15)\" font-family=\"sans-serif\" font-size=\"10px\" fill=\"#000\" opacity=\"1\">0.6</text><text text-anchor=\"middle\" transform=\"translate(276.9230769230769,15)\" font-family=\"sans-serif\" font-size=\"10px\" fill=\"#000\" opacity=\"1\">0.8</text><text text-anchor=\"middle\" transform=\"translate(307.6923076923077,15)\" font-family=\"sans-serif\" font-size=\"10px\" fill=\"#000\" opacity=\"1\">1.0</text><text text-anchor=\"middle\" transform=\"translate(338.46153846153845,15)\" font-family=\"sans-serif\" font-size=\"10px\" fill=\"#000\" opacity=\"1\">1.2</text><text text-anchor=\"middle\" transform=\"translate(369.2307692307692,15)\" font-family=\"sans-serif\" font-size=\"10px\" fill=\"#000\" opacity=\"1\">1.4</text><text text-anchor=\"end\" transform=\"translate(400,15)\" font-family=\"sans-serif\" font-size=\"10px\" fill=\"#000\" opacity=\"1\">1.6</text></g><g class=\"mark-rule role-axis-domain\" pointer-events=\"none\"><line transform=\"translate(0,0)\" x2=\"400\" y2=\"0\" stroke=\"#888\" stroke-width=\"1\" opacity=\"1\"/></g><g class=\"mark-text role-axis-title\" pointer-events=\"none\"><text text-anchor=\"middle\" transform=\"translate(200,30)\" font-family=\"sans-serif\" font-size=\"11px\" font-weight=\"bold\" fill=\"#000\" opacity=\"1\">x</text></g></g><path class=\"foreground\" aria-hidden=\"true\" d=\"\" pointer-events=\"none\" display=\"none\"/></g></g><g class=\"mark-group role-axis\" role=\"graphics-symbol\" aria-roledescription=\"axis\" aria-label=\"Y-axis titled 'y' for a linear scale with values from −1.4 to 1.4\"><g transform=\"translate(0.5,0.5)\"><path class=\"background\" aria-hidden=\"true\" d=\"M0,0h0v0h0Z\" pointer-events=\"none\"/><g><g class=\"mark-rule role-axis-tick\" pointer-events=\"none\"><line transform=\"translate(0,257)\" x2=\"-5\" y2=\"0\" stroke=\"#888\" stroke-width=\"1\" opacity=\"1\"/><line transform=\"translate(0,204)\" x2=\"-5\" y2=\"0\" stroke=\"#888\" stroke-width=\"1\" opacity=\"1\"/><line transform=\"translate(0,150)\" x2=\"-5\" y2=\"0\" stroke=\"#888\" stroke-width=\"1\" opacity=\"1\"/><line transform=\"translate(0,96)\" x2=\"-5\" y2=\"0\" stroke=\"#888\" stroke-width=\"1\" opacity=\"1\"/><line transform=\"translate(0,43)\" x2=\"-5\" y2=\"0\" stroke=\"#888\" stroke-width=\"1\" opacity=\"1\"/></g><g class=\"mark-text role-axis-label\" pointer-events=\"none\"><text text-anchor=\"end\" transform=\"translate(-7,260.14285714285717)\" font-family=\"sans-serif\" font-size=\"10px\" fill=\"#000\" opacity=\"1\">−1.0</text><text text-anchor=\"end\" transform=\"translate(-7,206.57142857142858)\" font-family=\"sans-serif\" font-size=\"10px\" fill=\"#000\" opacity=\"1\">−0.5</text><text text-anchor=\"end\" transform=\"translate(-7,153)\" font-family=\"sans-serif\" font-size=\"10px\" fill=\"#000\" opacity=\"1\">0.0</text><text text-anchor=\"end\" transform=\"translate(-7,99.42857142857142)\" font-family=\"sans-serif\" font-size=\"10px\" fill=\"#000\" opacity=\"1\">0.5</text><text text-anchor=\"end\" transform=\"translate(-7,45.85714285714284)\" font-family=\"sans-serif\" font-size=\"10px\" fill=\"#000\" opacity=\"1\">1.0</text></g><g class=\"mark-rule role-axis-domain\" pointer-events=\"none\"><line transform=\"translate(0,300)\" x2=\"0\" y2=\"-300\" stroke=\"#888\" stroke-width=\"1\" opacity=\"1\"/></g><g class=\"mark-text role-axis-title\" pointer-events=\"none\"><text text-anchor=\"middle\" transform=\"translate(-30.7412109375,150) rotate(-90) translate(0,-2)\" font-family=\"sans-serif\" font-size=\"11px\" font-weight=\"bold\" fill=\"#000\" opacity=\"1\">y</text></g></g><path class=\"foreground\" aria-hidden=\"true\" d=\"\" pointer-events=\"none\" display=\"none\"/></g></g><g class=\"mark-symbol role-mark marks\" role=\"graphics-symbol\" aria-roledescription=\"symbol mark container\"><path transform=\"translate(139.375729068076,240.56766387314516)\" d=\"M2.7386127875258306,0A2.7386127875258306,2.7386127875258306,0,1,1,-2.7386127875258306,0A2.7386127875258306,2.7386127875258306,0,1,1,2.7386127875258306,0\" stroke=\"#d95f02\" stroke-width=\"2\" opacity=\"0.7\"/><path transform=\"translate(169.47242116885485,144.84413929277923)\" d=\"M2.7386127875258306,0A2.7386127875258306,2.7386127875258306,0,1,1,-2.7386127875258306,0A2.7386127875258306,2.7386127875258306,0,1,1,2.7386127875258306,0\" stroke=\"#1b9e77\" stroke-width=\"2\" opacity=\"0.7\"/><path transform=\"translate(193.93836814495782,223.45468380808995)\" d=\"M2.7386127875258306,0A2.7386127875258306,2.7386127875258306,0,1,1,-2.7386127875258306,0A2.7386127875258306,2.7386127875258306,0,1,1,2.7386127875258306,0\" stroke=\"#d95f02\" stroke-width=\"2\" opacity=\"0.7\"/><path transform=\"translate(145.56623343848872,195.3017090307462)\" d=\"M2.7386127875258306,0A2.7386127875258306,2.7386127875258306,0,1,1,-2.7386127875258306,0A2.7386127875258306,2.7386127875258306,0,1,1,2.7386127875258306,0\" stroke=\"#d95f02\" stroke-width=\"2\" opacity=\"0.7\"/><path transform=\"translate(162.76757751549903,192.79993909348605)\" d=\"M2.7386127875258306,0A2.7386127875258306,2.7386127875258306,0,1,1,-2.7386127875258306,0A2.7386127875258306,2.7386127875258306,0,1,1,2.7386127875258306,0\" stroke=\"#d95f02\" stroke-width=\"2\" opacity=\"0.7\"/><path transform=\"translate(100.20615821243916,107.94520231143913)\" d=\"M2.7386127875258306,0A2.7386127875258306,2.7386127875258306,0,1,1,-2.7386127875258306,0A2.7386127875258306,2.7386127875258306,0,1,1,2.7386127875258306,0\" stroke=\"#1b9e77\" stroke-width=\"2\" opacity=\"0.7\"/><path transform=\"translate(161.0151264843204,142.16033308730513)\" d=\"M2.7386127875258306,0A2.7386127875258306,2.7386127875258306,0,1,1,-2.7386127875258306,0A2.7386127875258306,2.7386127875258306,0,1,1,2.7386127875258306,0\" stroke=\"#1b9e77\" stroke-width=\"2\" opacity=\"0.7\"/><path transform=\"translate(180.18210036633994,125.78971691167553)\" d=\"M2.7386127875258306,0A2.7386127875258306,2.7386127875258306,0,1,1,-2.7386127875258306,0A2.7386127875258306,2.7386127875258306,0,1,1,2.7386127875258306,0\" stroke=\"#1b9e77\" stroke-width=\"2\" opacity=\"0.7\"/><path transform=\"translate(77.91012431030167,96.58326477884405)\" d=\"M2.7386127875258306,0A2.7386127875258306,2.7386127875258306,0,1,1,-2.7386127875258306,0A2.7386127875258306,2.7386127875258306,0,1,1,2.7386127875258306,0\" stroke=\"#1b9e77\" stroke-width=\"2\" opacity=\"0.7\"/><path transform=\"translate(168.36357198880378,131.37905705393212)\" d=\"M2.7386127875258306,0A2.7386127875258306,2.7386127875258306,0,1,1,-2.7386127875258306,0A2.7386127875258306,2.7386127875258306,0,1,1,2.7386127875258306,0\" stroke=\"#1b9e77\" stroke-width=\"2\" opacity=\"0.7\"/><path transform=\"translate(195.9271417567677,139.0453940042419)\" d=\"M2.7386127875258306,0A2.7386127875258306,2.7386127875258306,0,1,1,-2.7386127875258306,0A2.7386127875258306,2.7386127875258306,0,1,1,2.7386127875258306,0\" stroke=\"#1b9e77\" stroke-width=\"2\" opacity=\"0.7\"/><path transform=\"translate(169.59184621064014,170.87303881818798)\" d=\"M2.7386127875258306,0A2.7386127875258306,2.7386127875258306,0,1,1,-2.7386127875258306,0A2.7386127875258306,2.7386127875258306,0,1,1,2.7386127875258306,0\" stroke=\"#1b9e77\" stroke-width=\"2\" opacity=\"0.7\"/><path transform=\"translate(215.7920592734973,285.7937262615166)\" d=\"M2.7386127875258306,0A2.7386127875258306,2.7386127875258306,0,1,1,-2.7386127875258306,0A2.7386127875258306,2.7386127875258306,0,1,1,2.7386127875258306,0\" stroke=\"#d95f02\" stroke-width=\"2\" opacity=\"0.7\"/><path transform=\"translate(174.05256372094507,279.1881888290788)\" d=\"M2.7386127875258306,0A2.7386127875258306,2.7386127875258306,0,1,1,-2.7386127875258306,0A2.7386127875258306,2.7386127875258306,0,1,1,2.7386127875258306,0\" stroke=\"#d95f02\" stroke-width=\"2\" opacity=\"0.7\"/><path transform=\"translate(315.0009055144272,56.909149352609134)\" d=\"M2.7386127875258306,0A2.7386127875258306,2.7386127875258306,0,1,1,-2.7386127875258306,0A2.7386127875258306,2.7386127875258306,0,1,1,2.7386127875258306,0\" stroke=\"#7570b3\" stroke-width=\"2\" opacity=\"0.7\"/><path transform=\"translate(156.1254709691399,123.64999437209187)\" d=\"M2.7386127875258306,0A2.7386127875258306,2.7386127875258306,0,1,1,-2.7386127875258306,0A2.7386127875258306,2.7386127875258306,0,1,1,2.7386127875258306,0\" stroke=\"#1b9e77\" stroke-width=\"2\" opacity=\"0.7\"/><path transform=\"translate(150.43952678080916,166.36595161926715)\" d=\"M2.7386127875258306,0A2.7386127875258306,2.7386127875258306,0,1,1,-2.7386127875258306,0A2.7386127875258306,2.7386127875258306,0,1,1,2.7386127875258306,0\" stroke=\"#1b9e77\" stroke-width=\"2\" opacity=\"0.7\"/><path transform=\"translate(109.67460398539825,257.3311949645481)\" d=\"M2.7386127875258306,0A2.7386127875258306,2.7386127875258306,0,1,1,-2.7386127875258306,0A2.7386127875258306,2.7386127875258306,0,1,1,2.7386127875258306,0\" stroke=\"#d95f02\" stroke-width=\"2\" opacity=\"0.7\"/><path transform=\"translate(242.27834625361848,89.73149524364551)\" d=\"M2.7386127875258306,0A2.7386127875258306,2.7386127875258306,0,1,1,-2.7386127875258306,0A2.7386127875258306,2.7386127875258306,0,1,1,2.7386127875258306,0\" stroke=\"#7570b3\" stroke-width=\"2\" opacity=\"0.7\"/><path transform=\"translate(301.27724090109683,117.8682604562905)\" d=\"M2.7386127875258306,0A2.7386127875258306,2.7386127875258306,0,1,1,-2.7386127875258306,0A2.7386127875258306,2.7386127875258306,0,1,1,2.7386127875258306,0\" stroke=\"#7570b3\" stroke-width=\"2\" opacity=\"0.7\"/><path transform=\"translate(168.831417810111,193.61984466993385)\" d=\"M2.7386127875258306,0A2.7386127875258306,2.7386127875258306,0,1,1,-2.7386127875258306,0A2.7386127875258306,2.7386127875258306,0,1,1,2.7386127875258306,0\" stroke=\"#d95f02\" stroke-width=\"2\" opacity=\"0.7\"/><path transform=\"translate(30.385498897429525,248.17087391145557)\" d=\"M2.7386127875258306,0A2.7386127875258306,2.7386127875258306,0,1,1,-2.7386127875258306,0A2.7386127875258306,2.7386127875258306,0,1,1,2.7386127875258306,0\" stroke=\"#d95f02\" stroke-width=\"2\" opacity=\"0.7\"/><path transform=\"translate(178.15182865014646,129.61404533370464)\" d=\"M2.7386127875258306,0A2.7386127875258306,2.7386127875258306,0,1,1,-2.7386127875258306,0A2.7386127875258306,2.7386127875258306,0,1,1,2.7386127875258306,0\" stroke=\"#1b9e77\" stroke-width=\"2\" opacity=\"0.7\"/><path transform=\"translate(115.49418682238158,234.03625641161292)\" d=\"M2.7386127875258306,0A2.7386127875258306,2.7386127875258306,0,1,1,-2.7386127875258306,0A2.7386127875258306,2.7386127875258306,0,1,1,2.7386127875258306,0\" stroke=\"#d95f02\" stroke-width=\"2\" opacity=\"0.7\"/><path transform=\"translate(85.46956706453919,252.46606651386733)\" d=\"M2.7386127875258306,0A2.7386127875258306,2.7386127875258306,0,1,1,-2.7386127875258306,0A2.7386127875258306,2.7386127875258306,0,1,1,2.7386127875258306,0\" stroke=\"#d95f02\" stroke-width=\"2\" opacity=\"0.7\"/><path transform=\"translate(197.35825725952643,99.18420327751718)\" d=\"M2.7386127875258306,0A2.7386127875258306,2.7386127875258306,0,1,1,-2.7386127875258306,0A2.7386127875258306,2.7386127875258306,0,1,1,2.7386127875258306,0\" stroke=\"#1b9e77\" stroke-width=\"2\" opacity=\"0.7\"/><path transform=\"translate(129.4319571944032,248.7379741053094)\" d=\"M2.7386127875258306,0A2.7386127875258306,2.7386127875258306,0,1,1,-2.7386127875258306,0A2.7386127875258306,2.7386127875258306,0,1,1,2.7386127875258306,0\" stroke=\"#d95f02\" stroke-width=\"2\" opacity=\"0.7\"/><path transform=\"translate(84.57162096641653,252.85159965253484)\" d=\"M2.7386127875258306,0A2.7386127875258306,2.7386127875258306,0,1,1,-2.7386127875258306,0A2.7386127875258306,2.7386127875258306,0,1,1,2.7386127875258306,0\" stroke=\"#d95f02\" stroke-width=\"2\" opacity=\"0.7\"/><path transform=\"translate(127.09629405267687,175.56938816987082)\" d=\"M2.7386127875258306,0A2.7386127875258306,2.7386127875258306,0,1,1,-2.7386127875258306,0A2.7386127875258306,2.7386127875258306,0,1,1,2.7386127875258306,0\" stroke=\"#1b9e77\" stroke-width=\"2\" opacity=\"0.7\"/><path transform=\"translate(152.80746957932354,205.3939625722183)\" d=\"M2.7386127875258306,0A2.7386127875258306,2.7386127875258306,0,1,1,-2.7386127875258306,0A2.7386127875258306,2.7386127875258306,0,1,1,2.7386127875258306,0\" stroke=\"#d95f02\" stroke-width=\"2\" opacity=\"0.7\"/><path transform=\"translate(58.847714487565696,234.662201425721)\" d=\"M2.7386127875258306,0A2.7386127875258306,2.7386127875258306,0,1,1,-2.7386127875258306,0A2.7386127875258306,2.7386127875258306,0,1,1,2.7386127875258306,0\" stroke=\"#d95f02\" stroke-width=\"2\" opacity=\"0.7\"/><path transform=\"translate(109.05677911778488,143.6079874339809)\" d=\"M2.7386127875258306,0A2.7386127875258306,2.7386127875258306,0,1,1,-2.7386127875258306,0A2.7386127875258306,2.7386127875258306,0,1,1,2.7386127875258306,0\" stroke=\"#1b9e77\" stroke-width=\"2\" opacity=\"0.7\"/><path transform=\"translate(152.68819128844947,102.5840132253972)\" d=\"M2.7386127875258306,0A2.7386127875258306,2.7386127875258306,0,1,1,-2.7386127875258306,0A2.7386127875258306,2.7386127875258306,0,1,1,2.7386127875258306,0\" stroke=\"#1b9e77\" stroke-width=\"2\" opacity=\"0.7\"/><path transform=\"translate(155.07777521399612,139.13235905240862)\" d=\"M2.7386127875258306,0A2.7386127875258306,2.7386127875258306,0,1,1,-2.7386127875258306,0A2.7386127875258306,2.7386127875258306,0,1,1,2.7386127875258306,0\" stroke=\"#1b9e77\" stroke-width=\"2\" opacity=\"0.7\"/><path transform=\"translate(140.45750734821462,155.0227403630081)\" d=\"M2.7386127875258306,0A2.7386127875258306,2.7386127875258306,0,1,1,-2.7386127875258306,0A2.7386127875258306,2.7386127875258306,0,1,1,2.7386127875258306,0\" stroke=\"#1b9e77\" stroke-width=\"2\" opacity=\"0.7\"/><path transform=\"translate(189.82169416682092,140.05717409988506)\" d=\"M2.7386127875258306,0A2.7386127875258306,2.7386127875258306,0,1,1,-2.7386127875258306,0A2.7386127875258306,2.7386127875258306,0,1,1,2.7386127875258306,0\" stroke=\"#1b9e77\" stroke-width=\"2\" opacity=\"0.7\"/><path transform=\"translate(175.43396049686763,79.76200741207084)\" d=\"M2.7386127875258306,0A2.7386127875258306,2.7386127875258306,0,1,1,-2.7386127875258306,0A2.7386127875258306,2.7386127875258306,0,1,1,2.7386127875258306,0\" stroke=\"#1b9e77\" stroke-width=\"2\" opacity=\"0.7\"/><path transform=\"translate(32.437247293556844,77.94966617332234)\" d=\"M2.7386127875258306,0A2.7386127875258306,2.7386127875258306,0,1,1,-2.7386127875258306,0A2.7386127875258306,2.7386127875258306,0,1,1,2.7386127875258306,0\" stroke=\"#1b9e77\" stroke-width=\"2\" opacity=\"0.7\"/><path transform=\"translate(261.2322291259806,88.27895718003705)\" d=\"M2.7386127875258306,0A2.7386127875258306,2.7386127875258306,0,1,1,-2.7386127875258306,0A2.7386127875258306,2.7386127875258306,0,1,1,2.7386127875258306,0\" stroke=\"#7570b3\" stroke-width=\"2\" opacity=\"0.7\"/><path transform=\"translate(160.03007985471896,187.6462568113602)\" d=\"M2.7386127875258306,0A2.7386127875258306,2.7386127875258306,0,1,1,-2.7386127875258306,0A2.7386127875258306,2.7386127875258306,0,1,1,2.7386127875258306,0\" stroke=\"#d95f02\" stroke-width=\"2\" opacity=\"0.7\"/><path transform=\"translate(145.13209167365025,144.81116877291092)\" d=\"M2.7386127875258306,0A2.7386127875258306,2.7386127875258306,0,1,1,-2.7386127875258306,0A2.7386127875258306,2.7386127875258306,0,1,1,2.7386127875258306,0\" stroke=\"#1b9e77\" stroke-width=\"2\" opacity=\"0.7\"/><path transform=\"translate(66.96429317356628,110.85060853782831)\" d=\"M2.7386127875258306,0A2.7386127875258306,2.7386127875258306,0,1,1,-2.7386127875258306,0A2.7386127875258306,2.7386127875258306,0,1,1,2.7386127875258306,0\" stroke=\"#1b9e77\" stroke-width=\"2\" opacity=\"0.7\"/><path transform=\"translate(141.98654366112697,175.95816246290346)\" d=\"M2.7386127875258306,0A2.7386127875258306,2.7386127875258306,0,1,1,-2.7386127875258306,0A2.7386127875258306,2.7386127875258306,0,1,1,2.7386127875258306,0\" stroke=\"#1b9e77\" stroke-width=\"2\" opacity=\"0.7\"/><path transform=\"translate(263.4194252306957,36.01909342994234)\" d=\"M2.7386127875258306,0A2.7386127875258306,2.7386127875258306,0,1,1,-2.7386127875258306,0A2.7386127875258306,2.7386127875258306,0,1,1,2.7386127875258306,0\" stroke=\"#7570b3\" stroke-width=\"2\" opacity=\"0.7\"/><path transform=\"translate(316.8355635400044,0.38934120568042685)\" d=\"M2.7386127875258306,0A2.7386127875258306,2.7386127875258306,0,1,1,-2.7386127875258306,0A2.7386127875258306,2.7386127875258306,0,1,1,2.7386127875258306,0\" stroke=\"#7570b3\" stroke-width=\"2\" opacity=\"0.7\"/><path transform=\"translate(369.4013255168885,105.72571099634987)\" d=\"M2.7386127875258306,0A2.7386127875258306,2.7386127875258306,0,1,1,-2.7386127875258306,0A2.7386127875258306,2.7386127875258306,0,1,1,2.7386127875258306,0\" stroke=\"#7570b3\" stroke-width=\"2\" opacity=\"0.7\"/><path transform=\"translate(194.15762806360013,71.88076345606905)\" d=\"M2.7386127875258306,0A2.7386127875258306,2.7386127875258306,0,1,1,-2.7386127875258306,0A2.7386127875258306,2.7386127875258306,0,1,1,2.7386127875258306,0\" stroke=\"#7570b3\" stroke-width=\"2\" opacity=\"0.7\"/><path transform=\"translate(237.68728685616284,81.0447724460411)\" d=\"M2.7386127875258306,0A2.7386127875258306,2.7386127875258306,0,1,1,-2.7386127875258306,0A2.7386127875258306,2.7386127875258306,0,1,1,2.7386127875258306,0\" stroke=\"#7570b3\" stroke-width=\"2\" opacity=\"0.7\"/><path transform=\"translate(260.06178977808395,88.98397725420597)\" d=\"M2.7386127875258306,0A2.7386127875258306,2.7386127875258306,0,1,1,-2.7386127875258306,0A2.7386127875258306,2.7386127875258306,0,1,1,2.7386127875258306,0\" stroke=\"#7570b3\" stroke-width=\"2\" opacity=\"0.7\"/><path transform=\"translate(152.68826079196793,102.58406058725707)\" d=\"M2.7386127875258306,0A2.7386127875258306,2.7386127875258306,0,1,1,-2.7386127875258306,0A2.7386127875258306,2.7386127875258306,0,1,1,2.7386127875258306,0\" stroke=\"#1b9e77\" stroke-width=\"2\" opacity=\"0.7\"/><path transform=\"translate(98.78236617191935,95.33398689136091)\" d=\"M2.7386127875258306,0A2.7386127875258306,2.7386127875258306,0,1,1,-2.7386127875258306,0A2.7386127875258306,2.7386127875258306,0,1,1,2.7386127875258306,0\" stroke=\"#1b9e77\" stroke-width=\"2\" opacity=\"0.7\"/><path transform=\"translate(316.98762029738947,82.61800933705767)\" d=\"M2.7386127875258306,0A2.7386127875258306,2.7386127875258306,0,1,1,-2.7386127875258306,0A2.7386127875258306,2.7386127875258306,0,1,1,2.7386127875258306,0\" stroke=\"#7570b3\" stroke-width=\"2\" opacity=\"0.7\"/><path transform=\"translate(115.07065025229832,258.1470590187313)\" d=\"M2.7386127875258306,0A2.7386127875258306,2.7386127875258306,0,1,1,-2.7386127875258306,0A2.7386127875258306,2.7386127875258306,0,1,1,2.7386127875258306,0\" stroke=\"#d95f02\" stroke-width=\"2\" opacity=\"0.7\"/><path transform=\"translate(126.91549610782975,138.22338437444668)\" d=\"M2.7386127875258306,0A2.7386127875258306,2.7386127875258306,0,1,1,-2.7386127875258306,0A2.7386127875258306,2.7386127875258306,0,1,1,2.7386127875258306,0\" stroke=\"#1b9e77\" stroke-width=\"2\" opacity=\"0.7\"/><path transform=\"translate(212.90111865994504,40.45798669876801)\" d=\"M2.7386127875258306,0A2.7386127875258306,2.7386127875258306,0,1,1,-2.7386127875258306,0A2.7386127875258306,2.7386127875258306,0,1,1,2.7386127875258306,0\" stroke=\"#7570b3\" stroke-width=\"2\" opacity=\"0.7\"/><path transform=\"translate(108.55423207497536,131.59910731089477)\" d=\"M2.7386127875258306,0A2.7386127875258306,2.7386127875258306,0,1,1,-2.7386127875258306,0A2.7386127875258306,2.7386127875258306,0,1,1,2.7386127875258306,0\" stroke=\"#1b9e77\" stroke-width=\"2\" opacity=\"0.7\"/></g><g class=\"mark-group role-legend\" role=\"graphics-symbol\" aria-roledescription=\"legend\" aria-label=\"Symbol legend titled 'predicted' for stroke color with 3 values: 0, 1, 2\"><g transform=\"translate(418,0)\"><path class=\"background\" aria-hidden=\"true\" d=\"M0,0h50v61h-50Z\" pointer-events=\"none\"/><g><g class=\"mark-group role-legend-entry\"><g transform=\"translate(0,16)\"><path class=\"background\" aria-hidden=\"true\" d=\"M0,0h0v0h0Z\" pointer-events=\"none\"/><g><g class=\"mark-group role-scope\" role=\"graphics-object\" aria-roledescription=\"group mark container\"><g transform=\"translate(0,0)\"><path class=\"background\" aria-hidden=\"true\" d=\"M0,0h21.5615234375v12.5h-21.5615234375Z\" pointer-events=\"none\" opacity=\"1\"/><g><g class=\"mark-symbol role-legend-symbol\" pointer-events=\"none\"><path transform=\"translate(6,6)\" d=\"M5,0A5,5,0,1,1,-5,0A5,5,0,1,1,5,0\" stroke=\"#1b9e77\" stroke-width=\"1.5\" opacity=\"0.7\"/></g><g class=\"mark-text role-legend-label\" pointer-events=\"none\"><text text-anchor=\"start\" transform=\"translate(16,9)\" font-family=\"sans-serif\" font-size=\"10px\" fill=\"#000\" opacity=\"1\">0</text></g></g><path class=\"foreground\" aria-hidden=\"true\" d=\"\" pointer-events=\"none\" display=\"none\"/></g><g transform=\"translate(0,16)\"><path class=\"background\" aria-hidden=\"true\" d=\"M0,0h21.5615234375v12.5h-21.5615234375Z\" pointer-events=\"none\" opacity=\"1\"/><g><g class=\"mark-symbol role-legend-symbol\" pointer-events=\"none\"><path transform=\"translate(6,6)\" d=\"M5,0A5,5,0,1,1,-5,0A5,5,0,1,1,5,0\" stroke=\"#d95f02\" stroke-width=\"1.5\" opacity=\"0.7\"/></g><g class=\"mark-text role-legend-label\" pointer-events=\"none\"><text text-anchor=\"start\" transform=\"translate(16,9)\" font-family=\"sans-serif\" font-size=\"10px\" fill=\"#000\" opacity=\"1\">1</text></g></g><path class=\"foreground\" aria-hidden=\"true\" d=\"\" pointer-events=\"none\" display=\"none\"/></g><g transform=\"translate(0,32)\"><path class=\"background\" aria-hidden=\"true\" d=\"M0,0h21.5615234375v12.5h-21.5615234375Z\" pointer-events=\"none\" opacity=\"1\"/><g><g class=\"mark-symbol role-legend-symbol\" pointer-events=\"none\"><path transform=\"translate(6,6)\" d=\"M5,0A5,5,0,1,1,-5,0A5,5,0,1,1,5,0\" stroke=\"#7570b3\" stroke-width=\"1.5\" opacity=\"0.7\"/></g><g class=\"mark-text role-legend-label\" pointer-events=\"none\"><text text-anchor=\"start\" transform=\"translate(16,9)\" font-family=\"sans-serif\" font-size=\"10px\" fill=\"#000\" opacity=\"1\">2</text></g></g><path class=\"foreground\" aria-hidden=\"true\" d=\"\" pointer-events=\"none\" display=\"none\"/></g></g></g><path class=\"foreground\" aria-hidden=\"true\" d=\"\" pointer-events=\"none\" display=\"none\"/></g></g><g class=\"mark-text role-legend-title\" pointer-events=\"none\"><text text-anchor=\"start\" transform=\"translate(0,9)\" font-family=\"sans-serif\" font-size=\"11px\" font-weight=\"bold\" fill=\"#000\" opacity=\"1\">predicted</text></g></g><path class=\"foreground\" aria-hidden=\"true\" d=\"\" pointer-events=\"none\" display=\"none\"/></g></g><g class=\"mark-group role-title\"><g transform=\"translate(200,-21.349271581845404)\"><path class=\"background\" aria-hidden=\"true\" d=\"M0,0h0v0h0Z\" pointer-events=\"none\"/><g><g class=\"mark-text role-title-text\" role=\"graphics-symbol\" aria-roledescription=\"title\" aria-label=\"Title text 'SOE-kMeans first two dimensions'\" pointer-events=\"none\"><text text-anchor=\"middle\" transform=\"translate(0,10)\" font-family=\"sans-serif\" font-size=\"13px\" font-weight=\"bold\" fill=\"#000\" opacity=\"1\">SOE-kMeans first two dimensions</text></g></g><path class=\"foreground\" aria-hidden=\"true\" d=\"\" pointer-events=\"none\" display=\"none\"/></g></g></g><path class=\"foreground\" aria-hidden=\"true\" d=\"\" display=\"none\"/></g></g></g></svg>",
      "text/html": [
       "\n",
       "<div class=\"vega-visualization\" id=\"vega-visualization-d483651389cf4cb1bf5a40ceaa43b404\"></div>\n",
       "<script type=\"text/javascript\">\n",
       "  (function(spec, embedOpt) {\n",
       "    let outputDiv = document.currentScript.previousElementSibling;\n",
       "    if (outputDiv.id !== \"vega-visualization-d483651389cf4cb1bf5a40ceaa43b404\") {\n",
       "      outputDiv = document.getElementById(\"vega-visualization-d483651389cf4cb1bf5a40ceaa43b404\");\n",
       "    }\n",
       "    const paths = {\n",
       "      \"vega\": \"https://cdn.jsdelivr.net/npm/vega@5?noext\",\n",
       "      \"vega-lite\": \"https://cdn.jsdelivr.net/npm/vega-lite@4.8.1?noext\",\n",
       "      \"vega-embed\": \"https://cdn.jsdelivr.net/npm/vega-embed@6?noext\",\n",
       "    };\n",
       "    function loadScript(lib) {\n",
       "      return new Promise(function(resolve, reject) {\n",
       "        var s = document.createElement('script');\n",
       "        s.src = paths[lib];\n",
       "        s.async = true;\n",
       "        s.onload = () => resolve(paths[lib]);\n",
       "        s.onerror = () => reject(`Error loading script: ${paths[lib]}`);\n",
       "        document.getElementsByTagName(\"head\")[0].appendChild(s);\n",
       "      });\n",
       "    }\n",
       "    function showError(err) {\n",
       "      outputDiv.innerHTML = `<div class=\"error\" style=\"color:red;\">${err}</div>`;\n",
       "      throw err;\n",
       "    }\n",
       "    function displayChart(vegaEmbed) {\n",
       "      vegaEmbed(outputDiv, spec, embedOpt)\n",
       "        .catch(err => showError(`Javascript Error: ${err.message}<br>This usually means there's a typo in your chart specification. See the javascript console for the full traceback.`));\n",
       "    }\n",
       "    if (typeof define === \"function\" && define.amd) {\n",
       "      requirejs.config({paths});\n",
       "      require([\"vega-embed\"], displayChart, err => showError(`Error loading script: ${err.message}`));\n",
       "    } else if (typeof vegaEmbed === \"function\") {\n",
       "      displayChart(vegaEmbed);\n",
       "    } else {\n",
       "      loadScript(\"vega\")\n",
       "        .then(() => loadScript(\"vega-lite\"))\n",
       "        .then(() => loadScript(\"vega-embed\"))\n",
       "        .catch(showError)\n",
       "        .then(() => displayChart(vegaEmbed));\n",
       "    }\n",
       "  })({\"config\": {\"view\": {\"continuousWidth\": 400, \"continuousHeight\": 300}}, \"data\": {\"name\": \"data-d6dd12743c28279306a0f7ce1cfc03aa\"}, \"mark\": \"point\", \"encoding\": {\"color\": {\"type\": \"nominal\", \"field\": \"predicted\", \"scale\": {\"scheme\": \"dark2\"}}, \"x\": {\"type\": \"quantitative\", \"field\": \"x\"}, \"y\": {\"type\": \"quantitative\", \"field\": \"y\"}}, \"title\": \"SOE-kMeans first two dimensions\", \"$schema\": \"https://vega.github.io/schema/vega-lite/v4.8.1.json\", \"datasets\": {\"data-d6dd12743c28279306a0f7ce1cfc03aa\": [{\"x\": -0.094057761057506, \"y\": -0.8452981961493548, \"predicted\": 1}, {\"x\": 0.10157073759755644, \"y\": 0.04812136660072725, \"predicted\": 0}, {\"x\": 0.2605993929422259, \"y\": -0.6855770488755061, \"predicted\": 1}, {\"x\": -0.053819482649823246, \"y\": -0.4228159509536313, \"predicted\": 1}, {\"x\": 0.05798925385074359, \"y\": -0.3994660982058697, \"predicted\": 1}, {\"x\": -0.3486599716191454, \"y\": 0.39251144509323443, \"predicted\": 0}, {\"x\": 0.04659832214808252, \"y\": 0.07317022451848557, \"predicted\": 0}, {\"x\": 0.17118365238120967, \"y\": 0.22596264215769515, \"predicted\": 0}, {\"x\": -0.49358419198303916, \"y\": 0.49855619539745555, \"predicted\": 0}, {\"x\": 0.09436321792722457, \"y\": 0.1737954674966335, \"predicted\": 0}, {\"x\": 0.2735264214189901, \"y\": 0.10224298929374222, \"predicted\": 0}, {\"x\": 0.10234700036916096, \"y\": -0.1948150289697545, \"predicted\": 0}, {\"x\": 0.4026483852777326, \"y\": -1.267408111774155, \"predicted\": 1}, {\"x\": 0.13134166418614285, \"y\": -1.2057564290714022, \"predicted\": 1}, {\"x\": 1.0475058858437767, \"y\": 0.8688479393756482, \"predicted\": 2}, {\"x\": 0.014815561299409379, \"y\": 0.24593338586047586, \"predicted\": 0}, {\"x\": -0.022143075924740435, \"y\": -0.1527488817798268, \"predicted\": 0}, {\"x\": -0.2871150740949114, \"y\": -1.0017578196691155, \"predicted\": 1}, {\"x\": 0.5748092506485202, \"y\": 0.5625060443926418, \"predicted\": 2}, {\"x\": 0.9583020658571293, \"y\": 0.2998962357412886, \"predicted\": 2}, {\"x\": 0.09740421576572153, \"y\": -0.40711855025271604, \"predicted\": 1}, {\"x\": -0.8024942571667081, \"y\": -0.9162614898402519, \"predicted\": 1}, {\"x\": 0.157986886225952, \"y\": 0.19026891021875691, \"predicted\": 0}, {\"x\": -0.24928778565451978, \"y\": -0.7843383931750537, \"predicted\": 1}, {\"x\": -0.44444781408049533, \"y\": -0.9563499541294282, \"predicted\": 1}, {\"x\": 0.28282867218692176, \"y\": 0.4742807694098397, \"predicted\": 0}, {\"x\": -0.15869227823637921, \"y\": -0.9215544249828878, \"predicted\": 1}, {\"x\": -0.45028446371829245, \"y\": -0.9599482634236582, \"predicted\": 1}, {\"x\": -0.17387408865760032, \"y\": -0.23864762291879446, \"predicted\": 0}, {\"x\": -0.006751447734396958, \"y\": -0.5170103173407041, \"predicted\": 1}, {\"x\": -0.6174898558308229, \"y\": -0.7901805466400628, \"predicted\": 1}, {\"x\": -0.2911309357343982, \"y\": 0.059658783949511844, \"predicted\": 0}, {\"x\": -0.0075267566250784195, \"y\": 0.44254920989629265, \"predicted\": 0}, {\"x\": 0.008005538890974823, \"y\": 0.10143131551085272, \"predicted\": 0}, {\"x\": -0.08702620223660495, \"y\": -0.04687891005474199, \"predicted\": 0}, {\"x\": 0.23384101208433591, \"y\": 0.09279970840107296, \"predicted\": 0}, {\"x\": 0.14032074322963956, \"y\": 0.6555545974873385, \"predicted\": 0}, {\"x\": -0.7891578925918805, \"y\": 0.6724697823823247, \"predicted\": 0}, {\"x\": 0.698009489318874, \"y\": 0.576063066319654, \"predicted\": 2}, {\"x\": 0.040195519055673236, \"y\": -0.35136506357269515, \"predicted\": 1}, {\"x\": -0.05664140412127336, \"y\": 0.048429091452831405, \"predicted\": 0}, {\"x\": -0.5647320943718191, \"y\": 0.36539432031360236, \"predicted\": 0}, {\"x\": -0.07708746620267469, \"y\": -0.24227618298709883, \"predicted\": 0}, {\"x\": 0.7122262639995222, \"y\": 1.0638217946538715, \"predicted\": 2}, {\"x\": 1.0594311630100284, \"y\": 1.396366148746983, \"predicted\": 2}, {\"x\": 1.4011086158597752, \"y\": 0.4132266973674009, \"predicted\": 2}, {\"x\": 0.2620245824134008, \"y\": 0.7291128744100225, \"predicted\": 2}, {\"x\": 0.5449673645650586, \"y\": 0.64358212383695, \"predicted\": 2}, {\"x\": 0.6904016335575458, \"y\": 0.5694828789607442, \"predicted\": 2}, {\"x\": -0.007526304852208407, \"y\": 0.4425487678522672, \"predicted\": 0}, {\"x\": -0.3579146198825242, \"y\": 0.5102161223472981, \"predicted\": 0}, {\"x\": 1.0604195319330316, \"y\": 0.6288985795207946, \"predicted\": 2}, {\"x\": -0.252040773360061, \"y\": -1.0093725508414917, \"predicted\": 1}, {\"x\": -0.17504927529910663, \"y\": 0.1099150791718308, \"predicted\": 0}, {\"x\": 0.3838572712896427, \"y\": 1.022392124144832, \"predicted\": 2}, {\"x\": -0.2943974915126601, \"y\": 0.17174166509831562, \"predicted\": 0}]}}, {});\n",
       "</script>\n"
      ],
      "text/plain": [
       "alt.Chart(...)"
      ]
     },
     "execution_count": 6,
     "metadata": {},
     "output_type": "execute_result"
    }
   ],
   "source": [
    "p = AltairPlotter()\n",
    "p.assignments(embedding[:, 0:2], ys_soe).properties(title=\"SOE-kMeans first two dimensions\")"
   ]
  },
  {
   "cell_type": "markdown",
   "metadata": {},
   "source": [
    "The problem that we are faced with Tangles, is that we do not have any suitable imputation in this case. As every entry that we get is only a 1, if we do k-NN imputation, we will end up with 1s in every part of the array. \n",
    "\n",
    "If we do random imputation, we will end up with bad performance (as has been observed numerous times). \n",
    "\n",
    "This could be a serious challenge and goes against the models we have imagined so far (Triplets as mindsets, similar objects answer similarly).\n",
    "\n",
    "To iterate on this problem, we have investigated a new cut-finding method in the next Jupyter notebook (majority cuts). The results have also been added to this notebook, but seem to be subpar (only 0.5 of the NMI that SOE-kMeans achieves)."
   ]
  },
  {
   "cell_type": "markdown",
   "metadata": {},
   "source": [
    "## Boosted Tangles\n",
    "We know that essentially, Tangles is a cut boosting framework. This means that Tangles is especially adept at filtering the cuts it needs and throwing away useless cuts (this can be seen in Solveigs experiments as well, where we can throw hundreds of useful cuts at Tangles and it doesn't decrease performance).\n",
    "So, the question stands, why not just use a plethora of cuts for Tangles? We can run the same SOE multiple times, or aggregate cuts from different sources."
   ]
  },
  {
   "cell_type": "markdown",
   "metadata": {},
   "source": [
    "## Combining with majority cuts"
   ]
  },
  {
   "cell_type": "code",
   "execution_count": 19,
   "metadata": {},
   "outputs": [
    {
     "name": "stdout",
     "output_type": "stream",
     "text": [
      "Generating questionnaire...\n",
      "Generating question set...\n",
      "Filling out questionnaire...\n"
     ]
    },
    {
     "name": "stderr",
     "output_type": "stream",
     "text": [
      "100%|██████████| 56/56 [00:00<00:00, 1393.69it/s]\n"
     ]
    },
    {
     "name": "stdout",
     "output_type": "stream",
     "text": [
      "NMI boosted Tangles: 0.9345031208029516 (3 clusters)\n"
     ]
    }
   ],
   "source": [
    "# predictions\n",
    "tangles_boost = OrdinalTangles(agreement=8)\n",
    "maj_cuts = triplets_to_majority_neighbour_cuts(triplets, radius=1.8)\n",
    " \n",
    "# soe-kmeans\n",
    "soe = SOE(2, random_state=1)\n",
    "kmeans = KMeans(4, random_state=1)\n",
    "embedding = soe.fit_transform(triplets, responses)\n",
    "q = Questionnaire.from_metric(embedding)\n",
    "\n",
    "ys_tangles_boost = tangles_boost.fit_predict(np.hstack((maj_cuts, q.values)))\n",
    "print(f\"NMI boosted Tangles: {normalized_mutual_info_score(ys, ys_tangles_boost)} ({np.unique(ys_tangles_boost).shape[0]} clusters)\")"
   ]
  },
  {
   "cell_type": "code",
   "execution_count": 21,
   "metadata": {},
   "outputs": [
    {
     "name": "stdout",
     "output_type": "stream",
     "text": [
      "Embedder NMI average: 0.6511459947152095 std: 0.0\n"
     ]
    }
   ],
   "source": [
    "cut_list = []\n",
    "soe_kmeans_nmi= []\n",
    "init_random = 0\n",
    "\n",
    "def add_to_cut_list(embedding_model, iterations, cut_list, name):\n",
    "    for i in range(iterations):\n",
    "        embedder = embedding_model(2, random_state=init_random + i)\n",
    "        embedding = embedder.fit_transform(triplets, responses)\n",
    "        q = Questionnaire.from_metric(embedding, verbose=False, density=1)\n",
    "        cut_list.append(q.values)\n",
    "        ys_soe = kmeans.fit_predict(embedding)\n",
    "        # p.assignments(embedding, ys_soe).display()\n",
    "        soe_kmeans_nmi.append(normalized_mutual_info_score(ys, ys_soe))\n",
    "    print(f\"Embedder NMI average: {np.mean(soe_kmeans_nmi)} std: {np.std(soe_kmeans_nmi)}\") \n",
    "\n",
    "add_to_cut_list(SOE, 1, cut_list, \"SOE\")"
   ]
  },
  {
   "cell_type": "code",
   "execution_count": 22,
   "metadata": {},
   "outputs": [
    {
     "name": "stdout",
     "output_type": "stream",
     "text": [
      "NMI boosted Tangles: 0.9345031208029514 (3 clusters)\n"
     ]
    },
    {
     "data": {
      "text/plain": [
       "(56, 1540)"
      ]
     },
     "execution_count": 22,
     "metadata": {},
     "output_type": "execute_result"
    }
   ],
   "source": [
    "# predictions\n",
    "tangles_boost = OrdinalTangles(agreement=10)\n",
    "\n",
    "ys_tangles_boost = tangles_boost.fit_predict(np.hstack((cut_list)))\n",
    "print(f\"NMI boosted Tangles: {normalized_mutual_info_score(ys, ys_tangles_boost)} ({np.unique(ys_tangles_boost).shape[0]} clusters)\")\n",
    "np.hstack(cut_list).shape"
   ]
  },
  {
   "cell_type": "markdown",
   "metadata": {},
   "source": [
    "We can see that the performance doesn't differ when using low density, 50 SOE-kMeans instances vs high density, 1 SOE-kMeans instance."
   ]
  },
  {
   "cell_type": "markdown",
   "metadata": {},
   "source": [
    "## Boosted fill\n",
    "Next up, we try to kind of \"combine\" two questionnaires: The ones that we can get raw from the data, and the ones that we get when we do an SOE-embedding followed by clustering.\n",
    "\n",
    "The hope is that we can keep the original triplets and the ones by SOE act as a kind of imputation."
   ]
  },
  {
   "cell_type": "code",
   "execution_count": 141,
   "metadata": {},
   "outputs": [
    {
     "name": "stdout",
     "output_type": "stream",
     "text": [
      "Generating questionnaire...\n",
      "Generating question set...\n",
      "Filling out questionnaire...\n"
     ]
    },
    {
     "name": "stderr",
     "output_type": "stream",
     "text": [
      "100%|██████████| 56/56 [00:00<00:00, 1359.06it/s]"
     ]
    },
    {
     "name": "stdout",
     "output_type": "stream",
     "text": [
      "NMI Fill-Boosted Tangles: 0.9345031208029516 (3) \n"
     ]
    },
    {
     "name": "stderr",
     "output_type": "stream",
     "text": [
      "\n"
     ]
    }
   ],
   "source": [
    "q = Questionnaire.from_bool_array(triplets, responses)\n",
    "soe = SOE(2, random_state=None)\n",
    "embedding = soe.fit_transform(triplets, responses)\n",
    "q_emb = Questionnaire.from_metric(embedding)\n",
    "q_filled = q.fill_with(q_emb)\n",
    "\n",
    "tangles = OrdinalTangles(agreement=8)\n",
    "ys_tangles = tangles.fit_predict(q_emb.values)\n",
    "print(f\"NMI Fill-Boosted Tangles: {normalized_mutual_info_score(ys, ys_tangles)} ({np.unique(ys_tangles).shape[0]}) \")"
   ]
  },
  {
   "cell_type": "code",
   "execution_count": 91,
   "metadata": {},
   "outputs": [
    {
     "name": "stdout",
     "output_type": "stream",
     "text": [
      "NMI Fill-Boosted Tangles high quality: 0.6576752231395959 (3) \n"
     ]
    }
   ],
   "source": [
    "# trying to keep high quality columns\n",
    "qual = np.where((q.values != -1).sum(axis=0) > 10)[0]\n",
    "qv_qual = q.values[:, qual]\n",
    "l_qual = np.array(q.labels)[qual]\n",
    "q_emb_qual = q_emb.values[:, qual]\n",
    "l_emb_qual = np.array(q_emb.labels)[qual]\n",
    "q_qual = Questionnaire(qv_qual, l_qual.tolist())\n",
    "q_emb_qual = Questionnaire(q_emb_qual, l_emb_qual.tolist())\n",
    "\n",
    "q_filled_qual = q_qual.fill_with(q_emb_qual)\n",
    "\n",
    "tangles = OrdinalTangles(agreement=8)\n",
    "ys_tangles = tangles.fit_predict(q_filled_qual.values)\n",
    "print(f\"NMI Fill-Boosted Tangles high quality: {normalized_mutual_info_score(ys, ys_tangles)} ({np.unique(ys_tangles).shape[0]}) \")"
   ]
  },
  {
   "cell_type": "markdown",
   "metadata": {},
   "source": [
    "Bad."
   ]
  },
  {
   "cell_type": "markdown",
   "metadata": {},
   "source": [
    "# Iterative fill method\n",
    "We try the method proposed by Solveig."
   ]
  },
  {
   "cell_type": "code",
   "execution_count": 57,
   "metadata": {},
   "outputs": [
    {
     "name": "stdout",
     "output_type": "stream",
     "text": [
      "NMI Tangles with iterative fill: 0.09876115887141927 (3)\n"
     ]
    }
   ],
   "source": [
    "q = Questionnaire.from_bool_array(triplets, responses)\n",
    "q_imp = q.impute(\"1000-fill\")\n",
    "tangles = OrdinalTangles(agreement=8)\n",
    "ys_tangles = tangles.fit_predict(q_imp.values)\n",
    "print(f\"NMI Tangles with iterative fill: {normalized_mutual_info_score(ys, ys_tangles)} ({np.unique(ys_tangles).size})\")"
   ]
  },
  {
   "cell_type": "markdown",
   "metadata": {},
   "source": [
    "# With Lens Depth functions"
   ]
  },
  {
   "cell_type": "code",
   "execution_count": 58,
   "metadata": {},
   "outputs": [
    {
     "name": "stdout",
     "output_type": "stream",
     "text": [
      "Generating questionnaire...\n",
      "Generating question set...\n",
      "Filling out questionnaire...\n"
     ]
    },
    {
     "name": "stderr",
     "output_type": "stream",
     "text": [
      "100%|██████████| 56/56 [00:00<00:00, 1376.26it/s]"
     ]
    },
    {
     "name": "stdout",
     "output_type": "stream",
     "text": [
      "NMI Tangles: 0.7386005399007414 (3)\n"
     ]
    },
    {
     "name": "stderr",
     "output_type": "stream",
     "text": [
      "\n"
     ]
    }
   ],
   "source": [
    "q = Questionnaire.from_most_central_triplets(central_triplets, central_responses, randomize_ties=False, normalize=False)\n",
    "tangles = OrdinalTangles(9)\n",
    "ys_tangles = tangles.fit_predict(q.values)\n",
    "print(f\"NMI Tangles: {normalized_mutual_info_score(ys, ys_tangles)} ({np.unique(ys_tangles).shape[0]})\")"
   ]
  },
  {
   "cell_type": "code",
   "execution_count": 15,
   "metadata": {},
   "outputs": [
    {
     "name": "stdout",
     "output_type": "stream",
     "text": [
      "NMI Tangles: 0.08132384645664063 (2)\n"
     ]
    }
   ],
   "source": [
    "dists = LensMetric()\n",
    "cuts = dists.pairwise_triplets(central_triplets, central_responses, normalize=True) < (4/58)\n",
    "tangles = OrdinalTangles(8)\n",
    "ys_tangles = tangles.fit_predict(cuts.T)\n",
    "print(f\"NMI Tangles: {normalized_mutual_info_score(ys, ys_tangles)} ({np.unique(ys_tangles).shape[0]})\")"
   ]
  },
  {
   "cell_type": "markdown",
   "metadata": {},
   "source": [
    "Eeeeeeeh."
   ]
  },
  {
   "cell_type": "markdown",
   "metadata": {},
   "source": [
    "# Annealing majority neighbour cuts\n",
    "As an idea, the Tangles algorithm needs to have a wide variety of cuts in a kind of \"hierarchical\" way (this is also how the clusters are used). We might want to support this by adding multiple cuts of the majority cuts next to each other and cluster on that."
   ]
  },
  {
   "cell_type": "code",
   "execution_count": 235,
   "metadata": {},
   "outputs": [
    {
     "name": "stdout",
     "output_type": "stream",
     "text": [
      "NMI Tangles Majority Cuts: 0.3015555415405588 (3)\n"
     ]
    }
   ],
   "source": [
    "tangles_maj = OrdinalTangles(agreement=7)\n",
    "cuts = []\n",
    "n = ys.shape[0]\n",
    "for r in [1.5]:\n",
    "    cut = triplets_to_majority_neighbour_cuts(triplets, radius=r)\n",
    "    cuts.append(cut)\n",
    "ys_tangles_maj = tangles_maj.fit_predict(np.concatenate(cuts, axis=1))\n",
    "print(f\"NMI Tangles Majority Cuts: {normalized_mutual_info_score(ys, ys_tangles_maj)} ({np.unique(ys_tangles_maj).shape[0]})\")"
   ]
  }
 ],
 "metadata": {
  "interpreter": {
   "hash": "b3df0bc9139dfbbc2bb43367c6e0b1c6fcd610288dc61cb8c73318fe0a42d151"
  },
  "kernelspec": {
   "display_name": "Python 3.9.7 ('tangles-thesis')",
   "language": "python",
   "name": "python3"
  },
  "language_info": {
   "codemirror_mode": {
    "name": "ipython",
    "version": 3
   },
   "file_extension": ".py",
   "mimetype": "text/x-python",
   "name": "python",
   "nbconvert_exporter": "python",
   "pygments_lexer": "ipython3",
   "version": "3.9.7"
  },
  "orig_nbformat": 4
 },
 "nbformat": 4,
 "nbformat_minor": 2
}
