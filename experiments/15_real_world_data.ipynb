{
 "cells": [
  {
   "cell_type": "markdown",
   "metadata": {},
   "source": [
    "# Tangles on real world data\n",
    "This Juypter Notebook explores the performance on Tangles on classical triplet datasets. [Examples are given in the cblearn libary.](https://github.com/dekuenstle/cblearn#datasets)\n",
    "\n",
    "As always, we use SOE-kMeans as a baseline."
   ]
  },
  {
   "cell_type": "code",
   "execution_count": 25,
   "metadata": {},
   "outputs": [],
   "source": [
    "import sys\n",
    "sys.path.append(\"..\")\n",
    "from cblearn.embedding import SOE\n",
    "import cblearn.datasets as datasets\n",
    "from cblearn.preprocessing import triplets_from_mostcentral\n",
    "from questionnaire import Questionnaire\n",
    "from triplets import triplets_to_majority_neighbour_cuts, remove_outliers, majority_neighbours_count_matrix\n",
    "from sklearn.cluster import KMeans\n",
    "from sklearn.svm import SVC\n",
    "from plotting import AltairPlotter\n",
    "from sklearn.metrics import normalized_mutual_info_score\n",
    "from estimators import OrdinalTangles\n",
    "from triplets import LensMetric\n",
    "import numpy as np\n",
    "import altair as alt\n",
    "alt.renderers.enable('altair_saver', fmts=[\"html\", \"svg\"])\n",
    "seed = 3"
   ]
  },
  {
   "cell_type": "markdown",
   "metadata": {},
   "source": [
    "We will take a look at the so-called car dataset (see more at the CB Learn repository).  In this dataset, users select the odd-one-out from three images of cars. Triplets (A,B,C) have been put into a form, such that the following holds:\n",
    "\n",
    "> From the three objects A, B, C, *A* is the most central object.\n",
    "\n",
    "The transformation from cblearn assumes that the triangle inequality holds, which might already be a problem here (this could induce bias that the Tangles algorithm doesn't play into, but SOE-kMeans does). "
   ]
  },
  {
   "cell_type": "code",
   "execution_count": 2,
   "metadata": {},
   "outputs": [],
   "source": [
    "# Getting the data and cleaning the car dataset (removing outliers)\n",
    "cars = datasets.fetch_car_similarity()\n",
    "n_clusters = len(cars.class_name.tolist())\n",
    "central_triplets = cars.triplet\n",
    "central_responses = cars.response\n",
    "\n",
    "# removing outliers\n",
    "ys = cars.class_id\n",
    "outliers = np.squeeze(np.where(ys == 2))\n",
    "ys = ys[ys != 2]\n",
    "central_triplets, central_responses = remove_outliers(central_triplets, central_responses, outliers)\n",
    "\n",
    "\n",
    "\n",
    "triplets = triplets_from_mostcentral(central_triplets, central_responses)\n",
    "# respones are just set to always be one (0 would yield the same clustering result)\n",
    "responses = np.ones(triplets.shape[0]).astype(bool) \n"
   ]
  },
  {
   "cell_type": "code",
   "execution_count": 49,
   "metadata": {},
   "outputs": [],
   "source": [
    "q = Questionnaire.from_bool_array(triplets, responses)\n",
    "q_imp = q.impute(\"random\")\n",
    "\n",
    "# predictions\n",
    "# tangles\n",
    "tangles = OrdinalTangles(agreement=8)\n",
    "ys_tangles = tangles.fit_predict(q_imp.values)\n",
    "tangles_maj = OrdinalTangles(agreement=7)\n",
    "ys_tangles_maj = tangles_maj.fit_predict(triplets_to_majority_neighbour_cuts(triplets) > 0)\n",
    " \n",
    "# soe-kmeans\n",
    "soe = SOE(2, random_state=1)\n",
    "kmeans = KMeans(3, random_state=1)\n",
    "embedding = soe.fit_transform(triplets, responses)\n",
    "ys_soe = kmeans.fit_predict(embedding)\n",
    "\n",
    "# direct kMeans\n",
    "ys_kmeans = kmeans.fit_predict(q_imp.values)"
   ]
  },
  {
   "cell_type": "code",
   "execution_count": 50,
   "metadata": {},
   "outputs": [
    {
     "name": "stdout",
     "output_type": "stream",
     "text": [
      "NMI SOE-kMeans: 0.8575493838279353\n",
      "NMI direct kMeans: 0.05553867637601911\n",
      "NMI Tangles: 0.03809542298202747\n",
      "NMI Tangles Majority Cuts: 0.5233508262641899\n",
      "#Clusters found with Tangles: 4\n",
      "#Clusters found with majority Tangles: 3\n"
     ]
    }
   ],
   "source": [
    "print(f\"NMI SOE-kMeans: {normalized_mutual_info_score(ys, ys_soe)}\")\n",
    "print(f\"NMI direct kMeans: {normalized_mutual_info_score(ys, ys_kmeans)}\")\n",
    "print(f\"NMI Tangles: {normalized_mutual_info_score(ys, ys_tangles)}\")\n",
    "print(f\"NMI Tangles Majority Cuts: {normalized_mutual_info_score(ys, ys_tangles_maj)}\")\n",
    "print(f\"#Clusters found with Tangles: {np.unique(ys_tangles).shape[0]}\")\n",
    "print(f\"#Clusters found with majority Tangles: {np.unique(ys_tangles_maj).shape[0]}\")"
   ]
  },
  {
   "cell_type": "code",
   "execution_count": 58,
   "metadata": {},
   "outputs": [
    {
     "data": {
      "text/plain": [
       "array([18, 49, 19, 36, 32, 26, 50, 47, 16, 44, 39, 40,  8, 12,  7, 43, 41,\n",
       "       15, 19,  9, 32, 10, 35, 15, 16, 31, 18, 12, 34, 28, 12, 36, 41, 45,\n",
       "       43, 38, 23,  7, 19, 35, 50, 22, 35,  8,  2,  5, 27, 20, 20, 31, 20,\n",
       "       10, 15, 48, 15, 33])"
      ]
     },
     "execution_count": 58,
     "metadata": {},
     "output_type": "execute_result"
    }
   ],
   "source": [
    "(majority_neighbours_count_matrix(triplets, symmetric=False) > 0).sum(axis=1)"
   ]
  },
  {
   "cell_type": "code",
   "execution_count": null,
   "metadata": {},
   "outputs": [
    {
     "data": {
      "image/svg+xml": "<svg xmlns=\"http://www.w3.org/2000/svg\" xmlns:xlink=\"http://www.w3.org/1999/xlink\" version=\"1.1\" class=\"marks\" width=\"520\" height=\"364\" viewBox=\"0 0 520 364\"><rect width=\"520\" height=\"364\" fill=\"white\"/><g fill=\"none\" stroke-miterlimit=\"10\" transform=\"translate(47,27)\"><g class=\"mark-group role-frame root\" role=\"graphics-object\" aria-roledescription=\"group mark container\"><g transform=\"translate(0,0)\"><path class=\"background\" aria-hidden=\"true\" d=\"M0.5,0.5h400v300h-400Z\" stroke=\"#ddd\"/><g><g class=\"mark-group role-axis\" role=\"graphics-symbol\" aria-roledescription=\"axis\" aria-label=\"X-axis for a linear scale with values from −1.0 to 1.6\"><g transform=\"translate(0.5,300.5)\"><path class=\"background\" aria-hidden=\"true\" d=\"M0,0h0v0h0Z\" pointer-events=\"none\"/><g><g class=\"mark-rule role-axis-grid\" pointer-events=\"none\"><line transform=\"translate(0,-300)\" x2=\"0\" y2=\"300\" stroke=\"#ddd\" stroke-width=\"1\" opacity=\"1\"/><line transform=\"translate(31,-300)\" x2=\"0\" y2=\"300\" stroke=\"#ddd\" stroke-width=\"1\" opacity=\"1\"/><line transform=\"translate(62,-300)\" x2=\"0\" y2=\"300\" stroke=\"#ddd\" stroke-width=\"1\" opacity=\"1\"/><line transform=\"translate(92,-300)\" x2=\"0\" y2=\"300\" stroke=\"#ddd\" stroke-width=\"1\" opacity=\"1\"/><line transform=\"translate(123,-300)\" x2=\"0\" y2=\"300\" stroke=\"#ddd\" stroke-width=\"1\" opacity=\"1\"/><line transform=\"translate(154,-300)\" x2=\"0\" y2=\"300\" stroke=\"#ddd\" stroke-width=\"1\" opacity=\"1\"/><line transform=\"translate(185,-300)\" x2=\"0\" y2=\"300\" stroke=\"#ddd\" stroke-width=\"1\" opacity=\"1\"/><line transform=\"translate(215,-300)\" x2=\"0\" y2=\"300\" stroke=\"#ddd\" stroke-width=\"1\" opacity=\"1\"/><line transform=\"translate(246,-300)\" x2=\"0\" y2=\"300\" stroke=\"#ddd\" stroke-width=\"1\" opacity=\"1\"/><line transform=\"translate(277,-300)\" x2=\"0\" y2=\"300\" stroke=\"#ddd\" stroke-width=\"1\" opacity=\"1\"/><line transform=\"translate(308,-300)\" x2=\"0\" y2=\"300\" stroke=\"#ddd\" stroke-width=\"1\" opacity=\"1\"/><line transform=\"translate(338,-300)\" x2=\"0\" y2=\"300\" stroke=\"#ddd\" stroke-width=\"1\" opacity=\"1\"/><line transform=\"translate(369,-300)\" x2=\"0\" y2=\"300\" stroke=\"#ddd\" stroke-width=\"1\" opacity=\"1\"/><line transform=\"translate(400,-300)\" x2=\"0\" y2=\"300\" stroke=\"#ddd\" stroke-width=\"1\" opacity=\"1\"/></g></g><path class=\"foreground\" aria-hidden=\"true\" d=\"\" pointer-events=\"none\" display=\"none\"/></g></g><g class=\"mark-group role-axis\" role=\"graphics-symbol\" aria-roledescription=\"axis\" aria-label=\"Y-axis for a linear scale with values from −1.4 to 1.4\"><g transform=\"translate(0.5,0.5)\"><path class=\"background\" aria-hidden=\"true\" d=\"M0,0h0v0h0Z\" pointer-events=\"none\"/><g><g class=\"mark-rule role-axis-grid\" pointer-events=\"none\"><line transform=\"translate(0,257)\" x2=\"400\" y2=\"0\" stroke=\"#ddd\" stroke-width=\"1\" opacity=\"1\"/><line transform=\"translate(0,204)\" x2=\"400\" y2=\"0\" stroke=\"#ddd\" stroke-width=\"1\" opacity=\"1\"/><line transform=\"translate(0,150)\" x2=\"400\" y2=\"0\" stroke=\"#ddd\" stroke-width=\"1\" opacity=\"1\"/><line transform=\"translate(0,96)\" x2=\"400\" y2=\"0\" stroke=\"#ddd\" stroke-width=\"1\" opacity=\"1\"/><line transform=\"translate(0,43)\" x2=\"400\" y2=\"0\" stroke=\"#ddd\" stroke-width=\"1\" opacity=\"1\"/></g></g><path class=\"foreground\" aria-hidden=\"true\" d=\"\" pointer-events=\"none\" display=\"none\"/></g></g><g class=\"mark-group role-axis\" role=\"graphics-symbol\" aria-roledescription=\"axis\" aria-label=\"X-axis titled 'x' for a linear scale with values from −1.0 to 1.6\"><g transform=\"translate(0.5,300.5)\"><path class=\"background\" aria-hidden=\"true\" d=\"M0,0h0v0h0Z\" pointer-events=\"none\"/><g><g class=\"mark-rule role-axis-tick\" pointer-events=\"none\"><line transform=\"translate(0,0)\" x2=\"0\" y2=\"5\" stroke=\"#888\" stroke-width=\"1\" opacity=\"1\"/><line transform=\"translate(31,0)\" x2=\"0\" y2=\"5\" stroke=\"#888\" stroke-width=\"1\" opacity=\"1\"/><line transform=\"translate(62,0)\" x2=\"0\" y2=\"5\" stroke=\"#888\" stroke-width=\"1\" opacity=\"1\"/><line transform=\"translate(92,0)\" x2=\"0\" y2=\"5\" stroke=\"#888\" stroke-width=\"1\" opacity=\"1\"/><line transform=\"translate(123,0)\" x2=\"0\" y2=\"5\" stroke=\"#888\" stroke-width=\"1\" opacity=\"1\"/><line transform=\"translate(154,0)\" x2=\"0\" y2=\"5\" stroke=\"#888\" stroke-width=\"1\" opacity=\"1\"/><line transform=\"translate(185,0)\" x2=\"0\" y2=\"5\" stroke=\"#888\" stroke-width=\"1\" opacity=\"1\"/><line transform=\"translate(215,0)\" x2=\"0\" y2=\"5\" stroke=\"#888\" stroke-width=\"1\" opacity=\"1\"/><line transform=\"translate(246,0)\" x2=\"0\" y2=\"5\" stroke=\"#888\" stroke-width=\"1\" opacity=\"1\"/><line transform=\"translate(277,0)\" x2=\"0\" y2=\"5\" stroke=\"#888\" stroke-width=\"1\" opacity=\"1\"/><line transform=\"translate(308,0)\" x2=\"0\" y2=\"5\" stroke=\"#888\" stroke-width=\"1\" opacity=\"1\"/><line transform=\"translate(338,0)\" x2=\"0\" y2=\"5\" stroke=\"#888\" stroke-width=\"1\" opacity=\"1\"/><line transform=\"translate(369,0)\" x2=\"0\" y2=\"5\" stroke=\"#888\" stroke-width=\"1\" opacity=\"1\"/><line transform=\"translate(400,0)\" x2=\"0\" y2=\"5\" stroke=\"#888\" stroke-width=\"1\" opacity=\"1\"/></g><g class=\"mark-text role-axis-label\" pointer-events=\"none\"><text text-anchor=\"start\" transform=\"translate(0,15)\" font-family=\"sans-serif\" font-size=\"10px\" fill=\"#000\" opacity=\"1\">−1.0</text><text text-anchor=\"middle\" transform=\"translate(30.76923076923076,15)\" font-family=\"sans-serif\" font-size=\"10px\" fill=\"#000\" opacity=\"1\">−0.8</text><text text-anchor=\"middle\" transform=\"translate(61.53846153846154,15)\" font-family=\"sans-serif\" font-size=\"10px\" fill=\"#000\" opacity=\"1\">−0.6</text><text text-anchor=\"middle\" transform=\"translate(92.3076923076923,15)\" font-family=\"sans-serif\" font-size=\"10px\" fill=\"#000\" opacity=\"1\">−0.4</text><text text-anchor=\"middle\" transform=\"translate(123.07692307692308,15)\" font-family=\"sans-serif\" font-size=\"10px\" fill=\"#000\" opacity=\"1\">−0.2</text><text text-anchor=\"middle\" transform=\"translate(153.84615384615384,15)\" font-family=\"sans-serif\" font-size=\"10px\" fill=\"#000\" opacity=\"1\">0.0</text><text text-anchor=\"middle\" transform=\"translate(184.6153846153846,15)\" font-family=\"sans-serif\" font-size=\"10px\" fill=\"#000\" opacity=\"1\">0.2</text><text text-anchor=\"middle\" transform=\"translate(215.3846153846154,15)\" font-family=\"sans-serif\" font-size=\"10px\" fill=\"#000\" opacity=\"1\">0.4</text><text text-anchor=\"middle\" transform=\"translate(246.15384615384616,15)\" font-family=\"sans-serif\" font-size=\"10px\" fill=\"#000\" opacity=\"1\">0.6</text><text text-anchor=\"middle\" transform=\"translate(276.9230769230769,15)\" font-family=\"sans-serif\" font-size=\"10px\" fill=\"#000\" opacity=\"1\">0.8</text><text text-anchor=\"middle\" transform=\"translate(307.6923076923077,15)\" font-family=\"sans-serif\" font-size=\"10px\" fill=\"#000\" opacity=\"1\">1.0</text><text text-anchor=\"middle\" transform=\"translate(338.46153846153845,15)\" font-family=\"sans-serif\" font-size=\"10px\" fill=\"#000\" opacity=\"1\">1.2</text><text text-anchor=\"middle\" transform=\"translate(369.2307692307692,15)\" font-family=\"sans-serif\" font-size=\"10px\" fill=\"#000\" opacity=\"1\">1.4</text><text text-anchor=\"end\" transform=\"translate(400,15)\" font-family=\"sans-serif\" font-size=\"10px\" fill=\"#000\" opacity=\"1\">1.6</text></g><g class=\"mark-rule role-axis-domain\" pointer-events=\"none\"><line transform=\"translate(0,0)\" x2=\"400\" y2=\"0\" stroke=\"#888\" stroke-width=\"1\" opacity=\"1\"/></g><g class=\"mark-text role-axis-title\" pointer-events=\"none\"><text text-anchor=\"middle\" transform=\"translate(200,30)\" font-family=\"sans-serif\" font-size=\"11px\" font-weight=\"bold\" fill=\"#000\" opacity=\"1\">x</text></g></g><path class=\"foreground\" aria-hidden=\"true\" d=\"\" pointer-events=\"none\" display=\"none\"/></g></g><g class=\"mark-group role-axis\" role=\"graphics-symbol\" aria-roledescription=\"axis\" aria-label=\"Y-axis titled 'y' for a linear scale with values from −1.4 to 1.4\"><g transform=\"translate(0.5,0.5)\"><path class=\"background\" aria-hidden=\"true\" d=\"M0,0h0v0h0Z\" pointer-events=\"none\"/><g><g class=\"mark-rule role-axis-tick\" pointer-events=\"none\"><line transform=\"translate(0,257)\" x2=\"-5\" y2=\"0\" stroke=\"#888\" stroke-width=\"1\" opacity=\"1\"/><line transform=\"translate(0,204)\" x2=\"-5\" y2=\"0\" stroke=\"#888\" stroke-width=\"1\" opacity=\"1\"/><line transform=\"translate(0,150)\" x2=\"-5\" y2=\"0\" stroke=\"#888\" stroke-width=\"1\" opacity=\"1\"/><line transform=\"translate(0,96)\" x2=\"-5\" y2=\"0\" stroke=\"#888\" stroke-width=\"1\" opacity=\"1\"/><line transform=\"translate(0,43)\" x2=\"-5\" y2=\"0\" stroke=\"#888\" stroke-width=\"1\" opacity=\"1\"/></g><g class=\"mark-text role-axis-label\" pointer-events=\"none\"><text text-anchor=\"end\" transform=\"translate(-7,260.14285714285717)\" font-family=\"sans-serif\" font-size=\"10px\" fill=\"#000\" opacity=\"1\">−1.0</text><text text-anchor=\"end\" transform=\"translate(-7,206.57142857142858)\" font-family=\"sans-serif\" font-size=\"10px\" fill=\"#000\" opacity=\"1\">−0.5</text><text text-anchor=\"end\" transform=\"translate(-7,153)\" font-family=\"sans-serif\" font-size=\"10px\" fill=\"#000\" opacity=\"1\">0.0</text><text text-anchor=\"end\" transform=\"translate(-7,99.42857142857142)\" font-family=\"sans-serif\" font-size=\"10px\" fill=\"#000\" opacity=\"1\">0.5</text><text text-anchor=\"end\" transform=\"translate(-7,45.85714285714284)\" font-family=\"sans-serif\" font-size=\"10px\" fill=\"#000\" opacity=\"1\">1.0</text></g><g class=\"mark-rule role-axis-domain\" pointer-events=\"none\"><line transform=\"translate(0,300)\" x2=\"0\" y2=\"-300\" stroke=\"#888\" stroke-width=\"1\" opacity=\"1\"/></g><g class=\"mark-text role-axis-title\" pointer-events=\"none\"><text text-anchor=\"middle\" transform=\"translate(-30.7412109375,150) rotate(-90) translate(0,-2)\" font-family=\"sans-serif\" font-size=\"11px\" font-weight=\"bold\" fill=\"#000\" opacity=\"1\">y</text></g></g><path class=\"foreground\" aria-hidden=\"true\" d=\"\" pointer-events=\"none\" display=\"none\"/></g></g><g class=\"mark-symbol role-mark marks\" role=\"graphics-symbol\" aria-roledescription=\"symbol mark container\"><path transform=\"translate(139.3757291590634,240.5676638375376)\" d=\"M2.7386127875258306,0A2.7386127875258306,2.7386127875258306,0,1,1,-2.7386127875258306,0A2.7386127875258306,2.7386127875258306,0,1,1,2.7386127875258306,0\" stroke=\"#d95f02\" stroke-width=\"2\" opacity=\"0.7\"/><path transform=\"translate(169.47242120885616,144.844139305523)\" d=\"M2.7386127875258306,0A2.7386127875258306,2.7386127875258306,0,1,1,-2.7386127875258306,0A2.7386127875258306,2.7386127875258306,0,1,1,2.7386127875258306,0\" stroke=\"#1b9e77\" stroke-width=\"2\" opacity=\"0.7\"/><path transform=\"translate(193.93836812195886,223.45468382277)\" d=\"M2.7386127875258306,0A2.7386127875258306,2.7386127875258306,0,1,1,-2.7386127875258306,0A2.7386127875258306,2.7386127875258306,0,1,1,2.7386127875258306,0\" stroke=\"#d95f02\" stroke-width=\"2\" opacity=\"0.7\"/><path transform=\"translate(145.5662335409549,195.30170903391792)\" d=\"M2.7386127875258306,0A2.7386127875258306,2.7386127875258306,0,1,1,-2.7386127875258306,0A2.7386127875258306,2.7386127875258306,0,1,1,2.7386127875258306,0\" stroke=\"#d95f02\" stroke-width=\"2\" opacity=\"0.7\"/><path transform=\"translate(162.76757732415211,192.7999391020484)\" d=\"M2.7386127875258306,0A2.7386127875258306,2.7386127875258306,0,1,1,-2.7386127875258306,0A2.7386127875258306,2.7386127875258306,0,1,1,2.7386127875258306,0\" stroke=\"#d95f02\" stroke-width=\"2\" opacity=\"0.7\"/><path transform=\"translate(100.20615832083419,107.94520232133613)\" d=\"M2.7386127875258306,0A2.7386127875258306,2.7386127875258306,0,1,1,-2.7386127875258306,0A2.7386127875258306,2.7386127875258306,0,1,1,2.7386127875258306,0\" stroke=\"#1b9e77\" stroke-width=\"2\" opacity=\"0.7\"/><path transform=\"translate(161.01512652250287,142.16033316405083)\" d=\"M2.7386127875258306,0A2.7386127875258306,2.7386127875258306,0,1,1,-2.7386127875258306,0A2.7386127875258306,2.7386127875258306,0,1,1,2.7386127875258306,0\" stroke=\"#1b9e77\" stroke-width=\"2\" opacity=\"0.7\"/><path transform=\"translate(180.18210026345068,125.78971690796675)\" d=\"M2.7386127875258306,0A2.7386127875258306,2.7386127875258306,0,1,1,-2.7386127875258306,0A2.7386127875258306,2.7386127875258306,0,1,1,2.7386127875258306,0\" stroke=\"#1b9e77\" stroke-width=\"2\" opacity=\"0.7\"/><path transform=\"translate(77.91012429790773,96.5832647257817)\" d=\"M2.7386127875258306,0A2.7386127875258306,2.7386127875258306,0,1,1,-2.7386127875258306,0A2.7386127875258306,2.7386127875258306,0,1,1,2.7386127875258306,0\" stroke=\"#1b9e77\" stroke-width=\"2\" opacity=\"0.7\"/><path transform=\"translate(168.3635720936314,131.37905704875396)\" d=\"M2.7386127875258306,0A2.7386127875258306,2.7386127875258306,0,1,1,-2.7386127875258306,0A2.7386127875258306,2.7386127875258306,0,1,1,2.7386127875258306,0\" stroke=\"#1b9e77\" stroke-width=\"2\" opacity=\"0.7\"/><path transform=\"translate(195.92714185183462,139.04539394683542)\" d=\"M2.7386127875258306,0A2.7386127875258306,2.7386127875258306,0,1,1,-2.7386127875258306,0A2.7386127875258306,2.7386127875258306,0,1,1,2.7386127875258306,0\" stroke=\"#1b9e77\" stroke-width=\"2\" opacity=\"0.7\"/><path transform=\"translate(169.59184618569088,170.87303884702803)\" d=\"M2.7386127875258306,0A2.7386127875258306,2.7386127875258306,0,1,1,-2.7386127875258306,0A2.7386127875258306,2.7386127875258306,0,1,1,2.7386127875258306,0\" stroke=\"#1b9e77\" stroke-width=\"2\" opacity=\"0.7\"/><path transform=\"translate(215.79205945649886,285.7937262023156)\" d=\"M2.7386127875258306,0A2.7386127875258306,2.7386127875258306,0,1,1,-2.7386127875258306,0A2.7386127875258306,2.7386127875258306,0,1,1,2.7386127875258306,0\" stroke=\"#d95f02\" stroke-width=\"2\" opacity=\"0.7\"/><path transform=\"translate(174.0525639341896,279.18818868979446)\" d=\"M2.7386127875258306,0A2.7386127875258306,2.7386127875258306,0,1,1,-2.7386127875258306,0A2.7386127875258306,2.7386127875258306,0,1,1,2.7386127875258306,0\" stroke=\"#d95f02\" stroke-width=\"2\" opacity=\"0.7\"/><path transform=\"translate(315.0009055603802,56.90914947714971)\" d=\"M2.7386127875258306,0A2.7386127875258306,2.7386127875258306,0,1,1,-2.7386127875258306,0A2.7386127875258306,2.7386127875258306,0,1,1,2.7386127875258306,0\" stroke=\"#7570b3\" stroke-width=\"2\" opacity=\"0.7\"/><path transform=\"translate(156.1254710431157,123.64999444259183)\" d=\"M2.7386127875258306,0A2.7386127875258306,2.7386127875258306,0,1,1,-2.7386127875258306,0A2.7386127875258306,2.7386127875258306,0,1,1,2.7386127875258306,0\" stroke=\"#1b9e77\" stroke-width=\"2\" opacity=\"0.7\"/><path transform=\"translate(150.43952696254348,166.36595159818728)\" d=\"M2.7386127875258306,0A2.7386127875258306,2.7386127875258306,0,1,1,-2.7386127875258306,0A2.7386127875258306,2.7386127875258306,0,1,1,2.7386127875258306,0\" stroke=\"#1b9e77\" stroke-width=\"2\" opacity=\"0.7\"/><path transform=\"translate(109.67460401480966,257.33119493216606)\" d=\"M2.7386127875258306,0A2.7386127875258306,2.7386127875258306,0,1,1,-2.7386127875258306,0A2.7386127875258306,2.7386127875258306,0,1,1,2.7386127875258306,0\" stroke=\"#d95f02\" stroke-width=\"2\" opacity=\"0.7\"/><path transform=\"translate(242.27834600809666,89.73149509255187)\" d=\"M2.7386127875258306,0A2.7386127875258306,2.7386127875258306,0,1,1,-2.7386127875258306,0A2.7386127875258306,2.7386127875258306,0,1,1,2.7386127875258306,0\" stroke=\"#7570b3\" stroke-width=\"2\" opacity=\"0.7\"/><path transform=\"translate(301.2772407314708,117.8682605866012)\" d=\"M2.7386127875258306,0A2.7386127875258306,2.7386127875258306,0,1,1,-2.7386127875258306,0A2.7386127875258306,2.7386127875258306,0,1,1,2.7386127875258306,0\" stroke=\"#7570b3\" stroke-width=\"2\" opacity=\"0.7\"/><path transform=\"translate(168.8314177458446,193.61984471794088)\" d=\"M2.7386127875258306,0A2.7386127875258306,2.7386127875258306,0,1,1,-2.7386127875258306,0A2.7386127875258306,2.7386127875258306,0,1,1,2.7386127875258306,0\" stroke=\"#d95f02\" stroke-width=\"2\" opacity=\"0.7\"/><path transform=\"translate(30.385498972655828,248.17087388021727)\" d=\"M2.7386127875258306,0A2.7386127875258306,2.7386127875258306,0,1,1,-2.7386127875258306,0A2.7386127875258306,2.7386127875258306,0,1,1,2.7386127875258306,0\" stroke=\"#d95f02\" stroke-width=\"2\" opacity=\"0.7\"/><path transform=\"translate(178.15182871139672,129.6140453861904)\" d=\"M2.7386127875258306,0A2.7386127875258306,2.7386127875258306,0,1,1,-2.7386127875258306,0A2.7386127875258306,2.7386127875258306,0,1,1,2.7386127875258306,0\" stroke=\"#1b9e77\" stroke-width=\"2\" opacity=\"0.7\"/><path transform=\"translate(115.49418645730323,234.03625626545008)\" d=\"M2.7386127875258306,0A2.7386127875258306,2.7386127875258306,0,1,1,-2.7386127875258306,0A2.7386127875258306,2.7386127875258306,0,1,1,2.7386127875258306,0\" stroke=\"#d95f02\" stroke-width=\"2\" opacity=\"0.7\"/><path transform=\"translate(85.46956710352391,252.46606641422773)\" d=\"M2.7386127875258306,0A2.7386127875258306,2.7386127875258306,0,1,1,-2.7386127875258306,0A2.7386127875258306,2.7386127875258306,0,1,1,2.7386127875258306,0\" stroke=\"#d95f02\" stroke-width=\"2\" opacity=\"0.7\"/><path transform=\"translate(197.3582572259991,99.18420326166819)\" d=\"M2.7386127875258306,0A2.7386127875258306,2.7386127875258306,0,1,1,-2.7386127875258306,0A2.7386127875258306,2.7386127875258306,0,1,1,2.7386127875258306,0\" stroke=\"#1b9e77\" stroke-width=\"2\" opacity=\"0.7\"/><path transform=\"translate(129.43195712389272,248.7379740622678)\" d=\"M2.7386127875258306,0A2.7386127875258306,2.7386127875258306,0,1,1,-2.7386127875258306,0A2.7386127875258306,2.7386127875258306,0,1,1,2.7386127875258306,0\" stroke=\"#d95f02\" stroke-width=\"2\" opacity=\"0.7\"/><path transform=\"translate(84.57162100603766,252.8515995890604)\" d=\"M2.7386127875258306,0A2.7386127875258306,2.7386127875258306,0,1,1,-2.7386127875258306,0A2.7386127875258306,2.7386127875258306,0,1,1,2.7386127875258306,0\" stroke=\"#d95f02\" stroke-width=\"2\" opacity=\"0.7\"/><path transform=\"translate(127.09629401038526,175.5693880575648)\" d=\"M2.7386127875258306,0A2.7386127875258306,2.7386127875258306,0,1,1,-2.7386127875258306,0A2.7386127875258306,2.7386127875258306,0,1,1,2.7386127875258306,0\" stroke=\"#1b9e77\" stroke-width=\"2\" opacity=\"0.7\"/><path transform=\"translate(152.8074695027863,205.39396255981174)\" d=\"M2.7386127875258306,0A2.7386127875258306,2.7386127875258306,0,1,1,-2.7386127875258306,0A2.7386127875258306,2.7386127875258306,0,1,1,2.7386127875258306,0\" stroke=\"#d95f02\" stroke-width=\"2\" opacity=\"0.7\"/><path transform=\"translate(58.84771446336856,234.66220132895086)\" d=\"M2.7386127875258306,0A2.7386127875258306,2.7386127875258306,0,1,1,-2.7386127875258306,0A2.7386127875258306,2.7386127875258306,0,1,1,2.7386127875258306,0\" stroke=\"#d95f02\" stroke-width=\"2\" opacity=\"0.7\"/><path transform=\"translate(109.05677915298885,143.60798741794713)\" d=\"M2.7386127875258306,0A2.7386127875258306,2.7386127875258306,0,1,1,-2.7386127875258306,0A2.7386127875258306,2.7386127875258306,0,1,1,2.7386127875258306,0\" stroke=\"#1b9e77\" stroke-width=\"2\" opacity=\"0.7\"/><path transform=\"translate(152.68819129202646,102.58401322861985)\" d=\"M2.7386127875258306,0A2.7386127875258306,2.7386127875258306,0,1,1,-2.7386127875258306,0A2.7386127875258306,2.7386127875258306,0,1,1,2.7386127875258306,0\" stroke=\"#1b9e77\" stroke-width=\"2\" opacity=\"0.7\"/><path transform=\"translate(155.07777518782845,139.1323590941354)\" d=\"M2.7386127875258306,0A2.7386127875258306,2.7386127875258306,0,1,1,-2.7386127875258306,0A2.7386127875258306,2.7386127875258306,0,1,1,2.7386127875258306,0\" stroke=\"#1b9e77\" stroke-width=\"2\" opacity=\"0.7\"/><path transform=\"translate(140.45750727945347,155.02274055707014)\" d=\"M2.7386127875258306,0A2.7386127875258306,2.7386127875258306,0,1,1,-2.7386127875258306,0A2.7386127875258306,2.7386127875258306,0,1,1,2.7386127875258306,0\" stroke=\"#1b9e77\" stroke-width=\"2\" opacity=\"0.7\"/><path transform=\"translate(189.82169409158993,140.05717409507525)\" d=\"M2.7386127875258306,0A2.7386127875258306,2.7386127875258306,0,1,1,-2.7386127875258306,0A2.7386127875258306,2.7386127875258306,0,1,1,2.7386127875258306,0\" stroke=\"#1b9e77\" stroke-width=\"2\" opacity=\"0.7\"/><path transform=\"translate(175.43396029222228,79.76200744827655)\" d=\"M2.7386127875258306,0A2.7386127875258306,2.7386127875258306,0,1,1,-2.7386127875258306,0A2.7386127875258306,2.7386127875258306,0,1,1,2.7386127875258306,0\" stroke=\"#1b9e77\" stroke-width=\"2\" opacity=\"0.7\"/><path transform=\"translate(32.43724742468332,77.94966615922135)\" d=\"M2.7386127875258306,0A2.7386127875258306,2.7386127875258306,0,1,1,-2.7386127875258306,0A2.7386127875258306,2.7386127875258306,0,1,1,2.7386127875258306,0\" stroke=\"#1b9e77\" stroke-width=\"2\" opacity=\"0.7\"/><path transform=\"translate(261.2322288162442,88.27895716527317)\" d=\"M2.7386127875258306,0A2.7386127875258306,2.7386127875258306,0,1,1,-2.7386127875258306,0A2.7386127875258306,2.7386127875258306,0,1,1,2.7386127875258306,0\" stroke=\"#7570b3\" stroke-width=\"2\" opacity=\"0.7\"/><path transform=\"translate(160.03007986595958,187.6462566651369)\" d=\"M2.7386127875258306,0A2.7386127875258306,2.7386127875258306,0,1,1,-2.7386127875258306,0A2.7386127875258306,2.7386127875258306,0,1,1,2.7386127875258306,0\" stroke=\"#d95f02\" stroke-width=\"2\" opacity=\"0.7\"/><path transform=\"translate(145.13209159206997,144.81116873285703)\" d=\"M2.7386127875258306,0A2.7386127875258306,2.7386127875258306,0,1,1,-2.7386127875258306,0A2.7386127875258306,2.7386127875258306,0,1,1,2.7386127875258306,0\" stroke=\"#1b9e77\" stroke-width=\"2\" opacity=\"0.7\"/><path transform=\"translate(66.96429320734299,110.8506086180508)\" d=\"M2.7386127875258306,0A2.7386127875258306,2.7386127875258306,0,1,1,-2.7386127875258306,0A2.7386127875258306,2.7386127875258306,0,1,1,2.7386127875258306,0\" stroke=\"#1b9e77\" stroke-width=\"2\" opacity=\"0.7\"/><path transform=\"translate(141.98654347962548,175.958162410056)\" d=\"M2.7386127875258306,0A2.7386127875258306,2.7386127875258306,0,1,1,-2.7386127875258306,0A2.7386127875258306,2.7386127875258306,0,1,1,2.7386127875258306,0\" stroke=\"#1b9e77\" stroke-width=\"2\" opacity=\"0.7\"/><path transform=\"translate(263.4194253137394,36.01909344491253)\" d=\"M2.7386127875258306,0A2.7386127875258306,2.7386127875258306,0,1,1,-2.7386127875258306,0A2.7386127875258306,2.7386127875258306,0,1,1,2.7386127875258306,0\" stroke=\"#7570b3\" stroke-width=\"2\" opacity=\"0.7\"/><path transform=\"translate(316.83556312403545,0.38934118711830834)\" d=\"M2.7386127875258306,0A2.7386127875258306,2.7386127875258306,0,1,1,-2.7386127875258306,0A2.7386127875258306,2.7386127875258306,0,1,1,2.7386127875258306,0\" stroke=\"#7570b3\" stroke-width=\"2\" opacity=\"0.7\"/><path transform=\"translate(369.4013253809535,105.7257109958076)\" d=\"M2.7386127875258306,0A2.7386127875258306,2.7386127875258306,0,1,1,-2.7386127875258306,0A2.7386127875258306,2.7386127875258306,0,1,1,2.7386127875258306,0\" stroke=\"#7570b3\" stroke-width=\"2\" opacity=\"0.7\"/><path transform=\"translate(194.157628023694,71.88076348056495)\" d=\"M2.7386127875258306,0A2.7386127875258306,2.7386127875258306,0,1,1,-2.7386127875258306,0A2.7386127875258306,2.7386127875258306,0,1,1,2.7386127875258306,0\" stroke=\"#7570b3\" stroke-width=\"2\" opacity=\"0.7\"/><path transform=\"translate(237.68728678756742,81.04477252701788)\" d=\"M2.7386127875258306,0A2.7386127875258306,2.7386127875258306,0,1,1,-2.7386127875258306,0A2.7386127875258306,2.7386127875258306,0,1,1,2.7386127875258306,0\" stroke=\"#7570b3\" stroke-width=\"2\" opacity=\"0.7\"/><path transform=\"translate(260.06178991787647,88.98397718250406)\" d=\"M2.7386127875258306,0A2.7386127875258306,2.7386127875258306,0,1,1,-2.7386127875258306,0A2.7386127875258306,2.7386127875258306,0,1,1,2.7386127875258306,0\" stroke=\"#7570b3\" stroke-width=\"2\" opacity=\"0.7\"/><path transform=\"translate(152.68826081248778,102.58406058633463)\" d=\"M2.7386127875258306,0A2.7386127875258306,2.7386127875258306,0,1,1,-2.7386127875258306,0A2.7386127875258306,2.7386127875258306,0,1,1,2.7386127875258306,0\" stroke=\"#1b9e77\" stroke-width=\"2\" opacity=\"0.7\"/><path transform=\"translate(98.78236619274894,95.333986954474)\" d=\"M2.7386127875258306,0A2.7386127875258306,2.7386127875258306,0,1,1,-2.7386127875258306,0A2.7386127875258306,2.7386127875258306,0,1,1,2.7386127875258306,0\" stroke=\"#1b9e77\" stroke-width=\"2\" opacity=\"0.7\"/><path transform=\"translate(316.98762027331406,82.61800938867103)\" d=\"M2.7386127875258306,0A2.7386127875258306,2.7386127875258306,0,1,1,-2.7386127875258306,0A2.7386127875258306,2.7386127875258306,0,1,1,2.7386127875258306,0\" stroke=\"#7570b3\" stroke-width=\"2\" opacity=\"0.7\"/><path transform=\"translate(115.07065058387545,258.14705905515694)\" d=\"M2.7386127875258306,0A2.7386127875258306,2.7386127875258306,0,1,1,-2.7386127875258306,0A2.7386127875258306,2.7386127875258306,0,1,1,2.7386127875258306,0\" stroke=\"#d95f02\" stroke-width=\"2\" opacity=\"0.7\"/><path transform=\"translate(126.91549619635683,138.22338437180338)\" d=\"M2.7386127875258306,0A2.7386127875258306,2.7386127875258306,0,1,1,-2.7386127875258306,0A2.7386127875258306,2.7386127875258306,0,1,1,2.7386127875258306,0\" stroke=\"#1b9e77\" stroke-width=\"2\" opacity=\"0.7\"/><path transform=\"translate(212.90111927148004,40.45798708526115)\" d=\"M2.7386127875258306,0A2.7386127875258306,2.7386127875258306,0,1,1,-2.7386127875258306,0A2.7386127875258306,2.7386127875258306,0,1,1,2.7386127875258306,0\" stroke=\"#7570b3\" stroke-width=\"2\" opacity=\"0.7\"/><path transform=\"translate(108.55423212013551,131.5991072789813)\" d=\"M2.7386127875258306,0A2.7386127875258306,2.7386127875258306,0,1,1,-2.7386127875258306,0A2.7386127875258306,2.7386127875258306,0,1,1,2.7386127875258306,0\" stroke=\"#1b9e77\" stroke-width=\"2\" opacity=\"0.7\"/></g><g class=\"mark-group role-legend\" role=\"graphics-symbol\" aria-roledescription=\"legend\" aria-label=\"Symbol legend titled 'predicted' for stroke color with 3 values: 0, 1, 2\"><g transform=\"translate(418,0)\"><path class=\"background\" aria-hidden=\"true\" d=\"M0,0h50v61h-50Z\" pointer-events=\"none\"/><g><g class=\"mark-group role-legend-entry\"><g transform=\"translate(0,16)\"><path class=\"background\" aria-hidden=\"true\" d=\"M0,0h0v0h0Z\" pointer-events=\"none\"/><g><g class=\"mark-group role-scope\" role=\"graphics-object\" aria-roledescription=\"group mark container\"><g transform=\"translate(0,0)\"><path class=\"background\" aria-hidden=\"true\" d=\"M0,0h21.5615234375v12.5h-21.5615234375Z\" pointer-events=\"none\" opacity=\"1\"/><g><g class=\"mark-symbol role-legend-symbol\" pointer-events=\"none\"><path transform=\"translate(6,6)\" d=\"M5,0A5,5,0,1,1,-5,0A5,5,0,1,1,5,0\" stroke=\"#1b9e77\" stroke-width=\"1.5\" opacity=\"0.7\"/></g><g class=\"mark-text role-legend-label\" pointer-events=\"none\"><text text-anchor=\"start\" transform=\"translate(16,9)\" font-family=\"sans-serif\" font-size=\"10px\" fill=\"#000\" opacity=\"1\">0</text></g></g><path class=\"foreground\" aria-hidden=\"true\" d=\"\" pointer-events=\"none\" display=\"none\"/></g><g transform=\"translate(0,16)\"><path class=\"background\" aria-hidden=\"true\" d=\"M0,0h21.5615234375v12.5h-21.5615234375Z\" pointer-events=\"none\" opacity=\"1\"/><g><g class=\"mark-symbol role-legend-symbol\" pointer-events=\"none\"><path transform=\"translate(6,6)\" d=\"M5,0A5,5,0,1,1,-5,0A5,5,0,1,1,5,0\" stroke=\"#d95f02\" stroke-width=\"1.5\" opacity=\"0.7\"/></g><g class=\"mark-text role-legend-label\" pointer-events=\"none\"><text text-anchor=\"start\" transform=\"translate(16,9)\" font-family=\"sans-serif\" font-size=\"10px\" fill=\"#000\" opacity=\"1\">1</text></g></g><path class=\"foreground\" aria-hidden=\"true\" d=\"\" pointer-events=\"none\" display=\"none\"/></g><g transform=\"translate(0,32)\"><path class=\"background\" aria-hidden=\"true\" d=\"M0,0h21.5615234375v12.5h-21.5615234375Z\" pointer-events=\"none\" opacity=\"1\"/><g><g class=\"mark-symbol role-legend-symbol\" pointer-events=\"none\"><path transform=\"translate(6,6)\" d=\"M5,0A5,5,0,1,1,-5,0A5,5,0,1,1,5,0\" stroke=\"#7570b3\" stroke-width=\"1.5\" opacity=\"0.7\"/></g><g class=\"mark-text role-legend-label\" pointer-events=\"none\"><text text-anchor=\"start\" transform=\"translate(16,9)\" font-family=\"sans-serif\" font-size=\"10px\" fill=\"#000\" opacity=\"1\">2</text></g></g><path class=\"foreground\" aria-hidden=\"true\" d=\"\" pointer-events=\"none\" display=\"none\"/></g></g></g><path class=\"foreground\" aria-hidden=\"true\" d=\"\" pointer-events=\"none\" display=\"none\"/></g></g><g class=\"mark-text role-legend-title\" pointer-events=\"none\"><text text-anchor=\"start\" transform=\"translate(0,9)\" font-family=\"sans-serif\" font-size=\"11px\" font-weight=\"bold\" fill=\"#000\" opacity=\"1\">predicted</text></g></g><path class=\"foreground\" aria-hidden=\"true\" d=\"\" pointer-events=\"none\" display=\"none\"/></g></g><g class=\"mark-group role-title\"><g transform=\"translate(200,-21.349271600407523)\"><path class=\"background\" aria-hidden=\"true\" d=\"M0,0h0v0h0Z\" pointer-events=\"none\"/><g><g class=\"mark-text role-title-text\" role=\"graphics-symbol\" aria-roledescription=\"title\" aria-label=\"Title text 'SOE-kMeans first two dimensions'\" pointer-events=\"none\"><text text-anchor=\"middle\" transform=\"translate(0,10)\" font-family=\"sans-serif\" font-size=\"13px\" font-weight=\"bold\" fill=\"#000\" opacity=\"1\">SOE-kMeans first two dimensions</text></g></g><path class=\"foreground\" aria-hidden=\"true\" d=\"\" pointer-events=\"none\" display=\"none\"/></g></g></g><path class=\"foreground\" aria-hidden=\"true\" d=\"\" display=\"none\"/></g></g></g></svg>",
      "text/html": [
       "\n",
       "<div class=\"vega-visualization\" id=\"vega-visualization-6015fccfaee645229e4920d549ffeda2\"></div>\n",
       "<script type=\"text/javascript\">\n",
       "  (function(spec, embedOpt) {\n",
       "    let outputDiv = document.currentScript.previousElementSibling;\n",
       "    if (outputDiv.id !== \"vega-visualization-6015fccfaee645229e4920d549ffeda2\") {\n",
       "      outputDiv = document.getElementById(\"vega-visualization-6015fccfaee645229e4920d549ffeda2\");\n",
       "    }\n",
       "    const paths = {\n",
       "      \"vega\": \"https://cdn.jsdelivr.net/npm/vega@5?noext\",\n",
       "      \"vega-lite\": \"https://cdn.jsdelivr.net/npm/vega-lite@4.8.1?noext\",\n",
       "      \"vega-embed\": \"https://cdn.jsdelivr.net/npm/vega-embed@6?noext\",\n",
       "    };\n",
       "    function loadScript(lib) {\n",
       "      return new Promise(function(resolve, reject) {\n",
       "        var s = document.createElement('script');\n",
       "        s.src = paths[lib];\n",
       "        s.async = true;\n",
       "        s.onload = () => resolve(paths[lib]);\n",
       "        s.onerror = () => reject(`Error loading script: ${paths[lib]}`);\n",
       "        document.getElementsByTagName(\"head\")[0].appendChild(s);\n",
       "      });\n",
       "    }\n",
       "    function showError(err) {\n",
       "      outputDiv.innerHTML = `<div class=\"error\" style=\"color:red;\">${err}</div>`;\n",
       "      throw err;\n",
       "    }\n",
       "    function displayChart(vegaEmbed) {\n",
       "      vegaEmbed(outputDiv, spec, embedOpt)\n",
       "        .catch(err => showError(`Javascript Error: ${err.message}<br>This usually means there's a typo in your chart specification. See the javascript console for the full traceback.`));\n",
       "    }\n",
       "    if (typeof define === \"function\" && define.amd) {\n",
       "      requirejs.config({paths});\n",
       "      require([\"vega-embed\"], displayChart, err => showError(`Error loading script: ${err.message}`));\n",
       "    } else if (typeof vegaEmbed === \"function\") {\n",
       "      displayChart(vegaEmbed);\n",
       "    } else {\n",
       "      loadScript(\"vega\")\n",
       "        .then(() => loadScript(\"vega-lite\"))\n",
       "        .then(() => loadScript(\"vega-embed\"))\n",
       "        .catch(showError)\n",
       "        .then(() => displayChart(vegaEmbed));\n",
       "    }\n",
       "  })({\"config\": {\"view\": {\"continuousWidth\": 400, \"continuousHeight\": 300}}, \"data\": {\"name\": \"data-150242f825e93951345c1ff7d216529a\"}, \"mark\": \"point\", \"encoding\": {\"color\": {\"type\": \"nominal\", \"field\": \"predicted\", \"scale\": {\"scheme\": \"dark2\"}}, \"x\": {\"type\": \"quantitative\", \"field\": \"x\"}, \"y\": {\"type\": \"quantitative\", \"field\": \"y\"}}, \"title\": \"SOE-kMeans first two dimensions\", \"$schema\": \"https://vega.github.io/schema/vega-lite/v4.8.1.json\", \"datasets\": {\"data-150242f825e93951345c1ff7d216529a\": [{\"x\": -0.09405776046608798, \"y\": -0.8452981958170177, \"predicted\": 1}, {\"x\": 0.10157073785756521, \"y\": 0.048121366481785416, \"predicted\": 0}, {\"x\": 0.26059939279273264, \"y\": -0.6855770490125198, \"predicted\": 1}, {\"x\": -0.05381948198379304, \"y\": -0.42281595098323416, \"predicted\": 1}, {\"x\": 0.05798925260698878, \"y\": -0.39946609828578505, \"predicted\": 1}, {\"x\": -0.3486599709145776, \"y\": 0.39251144500086294, \"predicted\": 0}, {\"x\": 0.046598322396268675, \"y\": 0.0731702238021924, \"predicted\": 0}, {\"x\": 0.17118365171242947, \"y\": 0.22596264219231035, \"predicted\": 0}, {\"x\": -0.49358419206359966, \"y\": 0.4985561958927041, \"predicted\": 0}, {\"x\": 0.09436321860860404, \"y\": 0.1737954675449632, \"predicted\": 0}, {\"x\": 0.2735264220369252, \"y\": 0.10224298982953613, \"predicted\": 0}, {\"x\": 0.10234700020699075, \"y\": -0.19481502923892816, \"predicted\": 0}, {\"x\": 0.4026483864672427, \"y\": -1.2674081112216125, \"predicted\": 1}, {\"x\": 0.13134166557223229, \"y\": -1.205756427771415, \"predicted\": 1}, {\"x\": 1.0475058861424713, \"y\": 0.8688479382132693, \"predicted\": 2}, {\"x\": 0.014815561780252026, \"y\": 0.24593338520247598, \"predicted\": 0}, {\"x\": -0.02214307474346734, \"y\": -0.15274888158308125, \"predicted\": 0}, {\"x\": -0.28711507390373714, \"y\": -1.0017578193668832, \"predicted\": 1}, {\"x\": 0.5748092490526282, \"y\": 0.562506045802849, \"predicted\": 2}, {\"x\": 0.95830206475456, \"y\": 0.29989623452505554, \"predicted\": 2}, {\"x\": 0.09740421534799001, \"y\": -0.4071185507007815, \"predicted\": 1}, {\"x\": -0.8024942566777371, \"y\": -0.9162614895486944, \"predicted\": 1}, {\"x\": 0.15798688662407886, \"y\": 0.19026890972888935, \"predicted\": 0}, {\"x\": -0.249287788027529, \"y\": -0.7843383918108672, \"predicted\": 1}, {\"x\": -0.44444781382709453, \"y\": -0.9563499531994586, \"predicted\": 1}, {\"x\": 0.28282867196899397, \"y\": 0.47428076955776366, \"predicted\": 0}, {\"x\": -0.15869227869469732, \"y\": -0.9215544245811662, \"predicted\": 1}, {\"x\": -0.45028446346075524, \"y\": -0.9599482628312304, \"predicted\": 1}, {\"x\": -0.17387408893249576, \"y\": -0.23864762187060454, \"predicted\": 0}, {\"x\": -0.006751448231888961, \"y\": -0.5170103172249095, \"predicted\": 1}, {\"x\": -0.6174898559881044, \"y\": -0.7901805457368746, \"predicted\": 1}, {\"x\": -0.2911309355055725, \"y\": 0.05965878409916026, \"predicted\": 0}, {\"x\": -0.007526756601828016, \"y\": 0.44254920986621465, \"predicted\": 0}, {\"x\": 0.008005538720884818, \"y\": 0.10143131512140285, \"predicted\": 0}, {\"x\": -0.08702620268355236, \"y\": -0.04687891186598807, \"predicted\": 0}, {\"x\": 0.23384101159533469, \"y\": 0.09279970844596423, \"predicted\": 0}, {\"x\": 0.14032074189944477, \"y\": 0.6555545971494187, \"predicted\": 0}, {\"x\": -0.7891578917395584, \"y\": 0.6724697825139341, \"predicted\": 0}, {\"x\": 0.6980094873055874, \"y\": 0.5760630664574504, \"predicted\": 2}, {\"x\": 0.040195519128737325, \"y\": -0.35136506220794433, \"predicted\": 1}, {\"x\": -0.05664140465154517, \"y\": 0.048429091826667624, \"predicted\": 0}, {\"x\": -0.5647320941522705, \"y\": 0.3653943195648591, \"predicted\": 0}, {\"x\": -0.07708746738243429, \"y\": -0.24227618249385596, \"predicted\": 0}, {\"x\": 0.7122262645393063, \"y\": 1.0638217945141495, \"predicted\": 2}, {\"x\": 1.0594311603062303, \"y\": 1.396366148920229, \"predicted\": 2}, {\"x\": 1.401108614976198, \"y\": 0.41322669737246226, \"predicted\": 2}, {\"x\": 0.262024582154011, \"y\": 0.7291128741813936, \"predicted\": 2}, {\"x\": 0.5449673641191883, \"y\": 0.6435821230811666, \"predicted\": 2}, {\"x\": 0.6904016344661968, \"y\": 0.569482879629962, \"predicted\": 2}, {\"x\": -0.007526304718829276, \"y\": 0.4425487678608769, \"predicted\": 0}, {\"x\": -0.35791461974713185, \"y\": 0.5102161217582429, \"predicted\": 0}, {\"x\": 1.0604195317765415, \"y\": 0.6288985790390704, \"predicted\": 2}, {\"x\": -0.25204077120480967, \"y\": -1.0093725511814646, \"predicted\": 1}, {\"x\": -0.1750492747236806, \"y\": 0.10991507919650209, \"predicted\": 0}, {\"x\": 0.3838572752646203, \"y\": 1.0223921205375628, \"predicted\": 2}, {\"x\": -0.29439749121911923, \"y\": 0.17174166539617436, \"predicted\": 0}]}}, {});\n",
       "</script>\n"
      ],
      "text/plain": [
       "alt.Chart(...)"
      ]
     },
     "execution_count": 16,
     "metadata": {},
     "output_type": "execute_result"
    }
   ],
   "source": [
    "p = AltairPlotter()\n",
    "p.assignments(embedding[:, 0:2], ys_soe).properties(title=\"SOE-kMeans first two dimensions\")"
   ]
  },
  {
   "cell_type": "markdown",
   "metadata": {},
   "source": [
    "The problem that we are faced with Tangles, is that we do not have any suitable imputation in this case. As every entry that we get is only a 1, if we do k-NN imputation, we will end up with 1s in every part of the array. \n",
    "\n",
    "If we do random imputation, we will end up with bad performance (as has been observed numerous times). \n",
    "\n",
    "This could be a serious challenge and goes against the models we have imagined so far (Triplets as mindsets, similar objects answer similarly).\n",
    "\n",
    "To iterate on this problem, we have investigated a new cut-finding method in the next Jupyter notebook (majority cuts). The results have also been added to this notebook, but seem to be subpar (only 0.5 of the NMI that SOE-kMeans achieves)."
   ]
  },
  {
   "cell_type": "markdown",
   "metadata": {},
   "source": [
    "## Boosted Tangles\n",
    "We know that essentially, Tangles is a cut boosting framework. This means that Tangles is especially adept at filtering the cuts it needs and throwing away useless cuts (this can be seen in Solveigs experiments as well, where we can throw hundreds of useful cuts at Tangles and it doesn't decrease performance).\n",
    "So, the question stands, why not just use a plethora of cuts for Tangles? We can run the same SOE multiple times, or aggregate cuts from different sources."
   ]
  },
  {
   "cell_type": "markdown",
   "metadata": {},
   "source": [
    "## Combining with majority cuts"
   ]
  },
  {
   "cell_type": "code",
   "execution_count": null,
   "metadata": {},
   "outputs": [
    {
     "name": "stdout",
     "output_type": "stream",
     "text": [
      "Generating questionnaire...\n",
      "Generating question set...\n",
      "Filling out questionnaire...\n"
     ]
    },
    {
     "name": "stderr",
     "output_type": "stream",
     "text": [
      "100%|██████████| 56/56 [00:00<00:00, 1365.86it/s]"
     ]
    },
    {
     "name": "stdout",
     "output_type": "stream",
     "text": [
      "NMI boosted Tangles: 0.9345031208029516 (3 clusters)\n"
     ]
    },
    {
     "name": "stderr",
     "output_type": "stream",
     "text": [
      "\n"
     ]
    }
   ],
   "source": [
    "# predictions\n",
    "tangles_boost = OrdinalTangles(agreement=8)\n",
    "maj_cuts = triplets_to_majority_neighbour_cuts(triplets, radius=1.8)\n",
    " \n",
    "# soe-kmeans\n",
    "soe = SOE(2, random_state=1)\n",
    "kmeans = KMeans(4, random_state=1)\n",
    "embedding = soe.fit_transform(triplets, responses)\n",
    "q = Questionnaire.from_metric(embedding)\n",
    "\n",
    "# direct kMeans\n",
    "ys_tangles_boost = tangles_boost.fit_predict(np.hstack((maj_cuts, q.values)))\n",
    "print(f\"NMI boosted Tangles: {normalized_mutual_info_score(ys, ys_tangles_boost)} ({np.unique(ys_tangles_boost).shape[0]} clusters)\")"
   ]
  },
  {
   "cell_type": "code",
   "execution_count": null,
   "metadata": {},
   "outputs": [
    {
     "name": "stdout",
     "output_type": "stream",
     "text": [
      "Embedder NMI average: 0.6511459947152095 std: 0.0\n"
     ]
    }
   ],
   "source": [
    "cut_list = []\n",
    "soe_kmeans_nmi= []\n",
    "init_random = 0\n",
    "\n",
    "def add_to_cut_list(embedding_model, iterations, cut_list, name):\n",
    "    for i in range(iterations):\n",
    "        embedder = embedding_model(2, random_state=init_random + i)\n",
    "        embedding = embedder.fit_transform(triplets, responses)\n",
    "        q = Questionnaire.from_metric(embedding, verbose=False, density=1)\n",
    "        cut_list.append(q.values)\n",
    "        ys_soe = kmeans.fit_predict(embedding)\n",
    "        # p.assignments(embedding, ys_soe).display()\n",
    "        soe_kmeans_nmi.append(normalized_mutual_info_score(ys, ys_soe))\n",
    "    print(f\"Embedder NMI average: {np.mean(soe_kmeans_nmi)} std: {np.std(soe_kmeans_nmi)}\") \n",
    "\n",
    "add_to_cut_list(SOE, 1, cut_list, \"SOE\")"
   ]
  },
  {
   "cell_type": "code",
   "execution_count": null,
   "metadata": {},
   "outputs": [
    {
     "name": "stdout",
     "output_type": "stream",
     "text": [
      "NMI boosted Tangles: 0.9345031208029514 (3 clusters)\n"
     ]
    },
    {
     "data": {
      "text/plain": [
       "(56, 1540)"
      ]
     },
     "execution_count": 19,
     "metadata": {},
     "output_type": "execute_result"
    }
   ],
   "source": [
    "# predictions\n",
    "tangles_boost = OrdinalTangles(agreement=10)\n",
    "\n",
    "ys_tangles_boost = tangles_boost.fit_predict(np.hstack((cut_list)))\n",
    "print(f\"NMI boosted Tangles: {normalized_mutual_info_score(ys, ys_tangles_boost)} ({np.unique(ys_tangles_boost).shape[0]} clusters)\")\n",
    "np.hstack(cut_list).shape"
   ]
  },
  {
   "cell_type": "markdown",
   "metadata": {},
   "source": [
    "We can see that the performance doesn't differ when using low density, 50 SOE-kMeans instances vs high density, 1 SOE-kMeans instance."
   ]
  },
  {
   "cell_type": "markdown",
   "metadata": {},
   "source": [
    "## Boosted fill\n",
    "Next up, we try to kind of \"combine\" two questionnaires: The ones that we can get raw from the data, and the ones that we get when we do an SOE-embedding followed by clustering.\n",
    "\n",
    "The hope is that we can keep the original triplets and the ones by SOE act as a kind of imputation."
   ]
  },
  {
   "cell_type": "code",
   "execution_count": null,
   "metadata": {},
   "outputs": [
    {
     "name": "stdout",
     "output_type": "stream",
     "text": [
      "Generating questionnaire...\n",
      "Generating question set...\n",
      "Filling out questionnaire...\n"
     ]
    },
    {
     "name": "stderr",
     "output_type": "stream",
     "text": [
      "100%|██████████| 56/56 [00:00<00:00, 1336.68it/s]\n"
     ]
    }
   ],
   "source": [
    "q = Questionnaire.from_bool_array(triplets, responses)\n",
    "soe = SOE(3, random_state=1)\n",
    "embedding = soe.fit_transform(triplets, responses)\n",
    "q_emb = Questionnaire.from_metric(embedding)\n",
    "q_filled = q.fill_with(q_emb)\n",
    "\n",
    "tangles = OrdinalTangles(agreement=8)\n",
    "ys_tangles = tangles.fit_predict(q_filled.values)"
   ]
  },
  {
   "cell_type": "code",
   "execution_count": null,
   "metadata": {},
   "outputs": [
    {
     "name": "stdout",
     "output_type": "stream",
     "text": [
      "NMI Fill-Boosted Tangles: 0.8575493838279353 (3) \n"
     ]
    }
   ],
   "source": [
    "print(f\"NMI Fill-Boosted Tangles: {normalized_mutual_info_score(ys, ys_tangles)} ({np.unique(ys_tangles).shape[0]}) \")"
   ]
  },
  {
   "cell_type": "markdown",
   "metadata": {},
   "source": [
    "# Iterative fill method\n",
    "We try the method proposed by Solveig."
   ]
  },
  {
   "cell_type": "code",
   "execution_count": null,
   "metadata": {},
   "outputs": [
    {
     "name": "stdout",
     "output_type": "stream",
     "text": [
      "NMI Tangles with iterative fill: 0.09876115887141927 (3)\n"
     ]
    }
   ],
   "source": [
    "q = Questionnaire.from_bool_array(triplets, responses)\n",
    "q_imp = q.impute(\"1000-fill\")\n",
    "tangles = OrdinalTangles(agreement=8)\n",
    "ys_tangles = tangles.fit_predict(q_imp.values)\n",
    "print(f\"NMI Tangles with iterative fill: {normalized_mutual_info_score(ys, ys_tangles)} ({np.unique(ys_tangles).size})\")"
   ]
  },
  {
   "cell_type": "markdown",
   "metadata": {},
   "source": [
    "# With Lens Depth functions"
   ]
  },
  {
   "cell_type": "code",
   "execution_count": null,
   "metadata": {},
   "outputs": [
    {
     "name": "stdout",
     "output_type": "stream",
     "text": [
      "Generating questionnaire...\n",
      "Generating question set...\n",
      "Filling out questionnaire...\n"
     ]
    },
    {
     "name": "stderr",
     "output_type": "stream",
     "text": [
      "100%|██████████| 56/56 [00:00<00:00, 1382.27it/s]"
     ]
    },
    {
     "name": "stdout",
     "output_type": "stream",
     "text": [
      "NMI Tangles: 0.7386005399007414 (3)\n"
     ]
    },
    {
     "name": "stderr",
     "output_type": "stream",
     "text": [
      "\n"
     ]
    }
   ],
   "source": [
    "q = Questionnaire.from_most_central_triplets(central_triplets, central_responses, randomize_ties=False, normalize=False)\n",
    "tangles = OrdinalTangles(9)\n",
    "ys_tangles = tangles.fit_predict(q.values)\n",
    "print(f\"NMI Tangles: {normalized_mutual_info_score(ys, ys_tangles)} ({np.unique(ys_tangles).shape[0]})\")"
   ]
  },
  {
   "cell_type": "code",
   "execution_count": null,
   "metadata": {},
   "outputs": [
    {
     "name": "stdout",
     "output_type": "stream",
     "text": [
      "NMI Tangles: 0.08132384645664063 (2)\n"
     ]
    }
   ],
   "source": [
    "dists = LensMetric()\n",
    "cuts = dists.pairwise_triplets(central_triplets, central_responses, normalize=True) < (4/58)\n",
    "tangles = OrdinalTangles(8)\n",
    "ys_tangles = tangles.fit_predict(cuts.T)\n",
    "print(f\"NMI Tangles: {normalized_mutual_info_score(ys, ys_tangles)} ({np.unique(ys_tangles).shape[0]})\")"
   ]
  },
  {
   "cell_type": "markdown",
   "metadata": {},
   "source": [
    "Eeeeeeeh."
   ]
  }
 ],
 "metadata": {
  "interpreter": {
   "hash": "b3df0bc9139dfbbc2bb43367c6e0b1c6fcd610288dc61cb8c73318fe0a42d151"
  },
  "kernelspec": {
   "display_name": "Python 3.9.7 ('tangles-thesis')",
   "language": "python",
   "name": "python3"
  },
  "language_info": {
   "codemirror_mode": {
    "name": "ipython",
    "version": 3
   },
   "file_extension": ".py",
   "mimetype": "text/x-python",
   "name": "python",
   "nbconvert_exporter": "python",
   "pygments_lexer": "ipython3",
   "version": "3.9.7"
  },
  "orig_nbformat": 4
 },
 "nbformat": 4,
 "nbformat_minor": 2
}
