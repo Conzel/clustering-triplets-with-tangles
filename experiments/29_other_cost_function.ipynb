{
 "cells": [
  {
   "cell_type": "markdown",
   "metadata": {},
   "source": [
    "# Other cost functions\n",
    "To make proofs easier (and to maybe find a more efficient cost function),\n",
    "we might want to think about other feasible cost functions for triplet-tangles."
   ]
  },
  {
   "cell_type": "code",
   "execution_count": 1,
   "metadata": {},
   "outputs": [],
   "source": [
    "import sys\n",
    "sys.path.append(\"..\")\n",
    "from data_generation import generate_gmm_data_fixed_means\n",
    "import numpy as np\n",
    "import seaborn as sns\n",
    "from sklearn.metrics import pairwise_distances, normalized_mutual_info_score\n",
    "import matplotlib.pyplot as plt\n",
    "from estimators import SoeKmeans, OrdinalTangles\n",
    "from questionnaire import Questionnaire\n",
    "from triplets import triplets_to_majority_neighbour_cuts, unify_triplet_order\n",
    "from cblearn.datasets import make_all_triplets, make_random_triplets\n",
    "from plotting import AltairPlotter"
   ]
  },
  {
   "cell_type": "code",
   "execution_count": 2,
   "metadata": {},
   "outputs": [],
   "source": [
    "def L(triplets, x):\n",
    "    return triplets[:, 0] == x\n",
    "def M(triplets, x):\n",
    "    return triplets[:, 1] == x\n",
    "def R(triplets, x):\n",
    "    return triplets[:, 1] == x\n",
    "\n",
    "def coherence(triplets, cut):\n",
    "    in_cut = list(np.argwhere(cut).flatten())\n",
    "    out_cut = list(np.argwhere(~cut).flatten())\n",
    "    total = 0\n",
    "    for v in in_cut:\n",
    "        for w in out_cut:\n",
    "            total += (L(triplets, v) & R(triplets, w)).sum() + (L(triplets, w) & R(triplets, w)).sum()\n",
    "    return total / (len(in_cut) * (cut.size - len(out_cut)))\n",
    "    "
   ]
  },
  {
   "cell_type": "code",
   "execution_count": 3,
   "metadata": {},
   "outputs": [
    {
     "data": {
      "text/plain": [
       "[0, 1]"
      ]
     },
     "execution_count": 3,
     "metadata": {},
     "output_type": "execute_result"
    }
   ],
   "source": [
    "import numpy as np\n",
    "t = np.array([[1,2,3], [3,4,5]])\n",
    "list(np.argwhere([True, True, False]).flatten())"
   ]
  },
  {
   "cell_type": "code",
   "execution_count": 4,
   "metadata": {},
   "outputs": [
    {
     "data": {
      "text/html": [
       "\n",
       "<div id=\"altair-viz-894eadc67e614cac91046d0b90fc9464\"></div>\n",
       "<script type=\"text/javascript\">\n",
       "  (function(spec, embedOpt){\n",
       "    let outputDiv = document.currentScript.previousElementSibling;\n",
       "    if (outputDiv.id !== \"altair-viz-894eadc67e614cac91046d0b90fc9464\") {\n",
       "      outputDiv = document.getElementById(\"altair-viz-894eadc67e614cac91046d0b90fc9464\");\n",
       "    }\n",
       "    const paths = {\n",
       "      \"vega\": \"https://cdn.jsdelivr.net/npm//vega@5?noext\",\n",
       "      \"vega-lib\": \"https://cdn.jsdelivr.net/npm//vega-lib?noext\",\n",
       "      \"vega-lite\": \"https://cdn.jsdelivr.net/npm//vega-lite@4.8.1?noext\",\n",
       "      \"vega-embed\": \"https://cdn.jsdelivr.net/npm//vega-embed@6?noext\",\n",
       "    };\n",
       "\n",
       "    function loadScript(lib) {\n",
       "      return new Promise(function(resolve, reject) {\n",
       "        var s = document.createElement('script');\n",
       "        s.src = paths[lib];\n",
       "        s.async = true;\n",
       "        s.onload = () => resolve(paths[lib]);\n",
       "        s.onerror = () => reject(`Error loading script: ${paths[lib]}`);\n",
       "        document.getElementsByTagName(\"head\")[0].appendChild(s);\n",
       "      });\n",
       "    }\n",
       "\n",
       "    function showError(err) {\n",
       "      outputDiv.innerHTML = `<div class=\"error\" style=\"color:red;\">${err}</div>`;\n",
       "      throw err;\n",
       "    }\n",
       "\n",
       "    function displayChart(vegaEmbed) {\n",
       "      vegaEmbed(outputDiv, spec, embedOpt)\n",
       "        .catch(err => showError(`Javascript Error: ${err.message}<br>This usually means there's a typo in your chart specification. See the javascript console for the full traceback.`));\n",
       "    }\n",
       "\n",
       "    if(typeof define === \"function\" && define.amd) {\n",
       "      requirejs.config({paths});\n",
       "      require([\"vega-embed\"], displayChart, err => showError(`Error loading script: ${err.message}`));\n",
       "    } else if (typeof vegaEmbed === \"function\") {\n",
       "      displayChart(vegaEmbed);\n",
       "    } else {\n",
       "      loadScript(\"vega\")\n",
       "        .then(() => loadScript(\"vega-lite\"))\n",
       "        .then(() => loadScript(\"vega-embed\"))\n",
       "        .catch(showError)\n",
       "        .then(() => displayChart(vegaEmbed));\n",
       "    }\n",
       "  })({\"config\": {\"view\": {\"continuousWidth\": 400, \"continuousHeight\": 300}}, \"data\": {\"name\": \"data-61f627d6eee891130f8005e03b2ba5f0\"}, \"mark\": \"point\", \"encoding\": {\"color\": {\"type\": \"nominal\", \"field\": \"predicted\", \"scale\": {\"scheme\": \"dark2\"}}, \"x\": {\"type\": \"quantitative\", \"field\": \"x\"}, \"y\": {\"type\": \"quantitative\", \"field\": \"y\"}}, \"$schema\": \"https://vega.github.io/schema/vega-lite/v4.8.1.json\", \"datasets\": {\"data-61f627d6eee891130f8005e03b2ba5f0\": [{\"x\": -0.025392781802055064, \"y\": -0.3670538481900452, \"predicted\": 0}, {\"x\": -1.3169030513580733, \"y\": -0.6437811732937023, \"predicted\": 0}, {\"x\": -0.48075542240519287, \"y\": -1.3809232181281696, \"predicted\": 0}, {\"x\": 0.04688705852988795, \"y\": -0.4567241405370617, \"predicted\": 0}, {\"x\": -0.8085765423657408, \"y\": -0.14962222528644606, \"predicted\": 0}, {\"x\": -0.12273523777301554, \"y\": -1.2360844256985923, \"predicted\": 0}, {\"x\": -1.1934503224081046, \"y\": -0.23043261280104937, \"predicted\": 0}, {\"x\": -0.3197383345987376, \"y\": -0.6599347603884185, \"predicted\": 0}, {\"x\": -1.1034569245302615, \"y\": -0.526715050752823, \"predicted\": 0}, {\"x\": -0.9746717519706443, \"y\": 0.34968912822949333, \"predicted\": 0}, {\"x\": -1.6603715063277527, \"y\": 0.6868342259037684, \"predicted\": 0}, {\"x\": -0.4590455676443227, \"y\": 0.30149660334112094, \"predicted\": 0}, {\"x\": -0.45948643044135296, \"y\": -0.41023671550459984, \"predicted\": 0}, {\"x\": -1.0737341353111889, \"y\": -0.5614616605554412, \"predicted\": 0}, {\"x\": -1.1607328477756096, \"y\": 0.3182132800429116, \"predicted\": 0}, {\"x\": 0.5850035489648147, \"y\": -0.2380521161135864, \"predicted\": 1}, {\"x\": 0.5876963799282404, \"y\": -0.5071233848992317, \"predicted\": 1}, {\"x\": 0.5972523214979086, \"y\": -0.007598759351340816, \"predicted\": 1}, {\"x\": 0.32961379081883335, \"y\": 0.1406494186902553, \"predicted\": 1}, {\"x\": 1.9958813062659222, \"y\": 0.4452264963464013, \"predicted\": 1}, {\"x\": 0.884898668583031, \"y\": -0.5325773784509017, \"predicted\": 1}, {\"x\": 0.5517050237494974, \"y\": 1.0154727606166478, \"predicted\": 1}, {\"x\": 1.0304846528656173, \"y\": -0.382197387941612, \"predicted\": 1}, {\"x\": 1.1145492908004797, \"y\": 1.2601530818873052, \"predicted\": 1}, {\"x\": 1.0720953714889774, \"y\": 0.37032186582445153, \"predicted\": 1}, {\"x\": 1.1801021919734964, \"y\": -0.2113499078961112, \"predicted\": 1}, {\"x\": 0.3144890811867159, \"y\": -0.2096056334477265, \"predicted\": 1}, {\"x\": 0.8746634599751332, \"y\": 0.35197391470931855, \"predicted\": 1}, {\"x\": 1.503390048324703, \"y\": 0.5586612487821344, \"predicted\": 1}, {\"x\": 1.1713523951525553, \"y\": 0.5310846985624368, \"predicted\": 1}]}}, {\"mode\": \"vega-lite\"});\n",
       "</script>"
      ],
      "text/plain": [
       "alt.Chart(...)"
      ]
     },
     "execution_count": 4,
     "metadata": {},
     "output_type": "execute_result"
    }
   ],
   "source": [
    "data = generate_gmm_data_fixed_means(n=15, means=np.array([[-1, 0], [1,0]]), std=0.6, seed=1)\n",
    "p = AltairPlotter()\n",
    "p.assignments(data.xs, data.ys)"
   ]
  },
  {
   "cell_type": "code",
   "execution_count": 127,
   "metadata": {},
   "outputs": [
    {
     "name": "stdout",
     "output_type": "stream",
     "text": [
      "0.8214296888424342\n"
     ]
    }
   ],
   "source": [
    "#triplets = unify_triplet_order(*make_random_triplets(data.xs, \"list-boolean\", size=5000))\n",
    "triplets = unify_triplet_order(*make_all_triplets(data.xs, \"list-boolean\"))\n",
    "cuts = triplets_to_majority_neighbour_cuts(triplets)\n",
    "tangles = OrdinalTangles(4)\n",
    "ys = tangles.fit_predict(cuts, data.ys)\n",
    "#p.assignments(data.xs, cuts[4])\n",
    "print(normalized_mutual_info_score(ys, data.ys))"
   ]
  },
  {
   "cell_type": "code",
   "execution_count": 6,
   "metadata": {},
   "outputs": [
    {
     "name": "stdout",
     "output_type": "stream",
     "text": [
      "0.5373894811943651\n"
     ]
    }
   ],
   "source": [
    "#triplets = unify_triplet_order(*make_all_triplets(data.xs, \"list-boolean\"))\n",
    "cuts = triplets_to_majority_neighbour_cuts(triplets)\n",
    "tangles = OrdinalTangles(4)\n",
    "ys = tangles.predict(cuts, cost_function=lambda x: coherence(triplets, x))\n",
    "print(normalized_mutual_info_score(ys, data.ys))"
   ]
  },
  {
   "cell_type": "markdown",
   "metadata": {},
   "source": [
    "As we can see, the new function performs rather poorly. Sad."
   ]
  }
 ],
 "metadata": {
  "interpreter": {
   "hash": "b3df0bc9139dfbbc2bb43367c6e0b1c6fcd610288dc61cb8c73318fe0a42d151"
  },
  "kernelspec": {
   "display_name": "Python 3.9.7 ('tangles-thesis')",
   "language": "python",
   "name": "python3"
  },
  "language_info": {
   "codemirror_mode": {
    "name": "ipython",
    "version": 3
   },
   "file_extension": ".py",
   "mimetype": "text/x-python",
   "name": "python",
   "nbconvert_exporter": "python",
   "pygments_lexer": "ipython3",
   "version": "3.9.7"
  },
  "orig_nbformat": 4
 },
 "nbformat": 4,
 "nbformat_minor": 2
}
