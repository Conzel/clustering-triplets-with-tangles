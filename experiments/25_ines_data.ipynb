{
 "cells": [
  {
   "cell_type": "markdown",
   "metadata": {},
   "source": [
    "# Inés Dataset\n",
    "To evaluate Tangles on real world data, we have obtained the dataset from the thesis of Inés. She has used an embedding algorithm on it and has visually inspected, which elements are closer together.\n",
    "\n",
    "We will do the same with majority-Tangles.\n",
    "\n",
    "## Data preparation\n"
   ]
  },
  {
   "cell_type": "code",
   "execution_count": 1,
   "metadata": {},
   "outputs": [],
   "source": [
    "import sys\n",
    "sys.path.append(\"..\")\n",
    "from pathlib import Path\n",
    "import pandas as pd\n",
    "import re\n",
    "import numpy as np\n",
    "import altair as alt\n",
    "from plotting import AltairPlotter\n",
    "from typing import Optional\n",
    "from tangles.plotting import plot_soft_predictions\n",
    "from tangles.data_types import Data\n",
    "from sklearn.utils import Bunch\n",
    "from cblearn.embedding import SOE\n",
    "from cblearn.preprocessing import triplets_from_mostcentral, triplets_from_oddoneout\n",
    "import matplotlib.pyplot as plt\n",
    "from triplets import triplets_to_majority_neighbour_cuts\n",
    "from estimators import OrdinalTangles\n",
    "p = AltairPlotter()"
   ]
  },
  {
   "cell_type": "code",
   "execution_count": 2,
   "metadata": {},
   "outputs": [
    {
     "data": {
      "text/html": [
       "<div>\n",
       "<style scoped>\n",
       "    .dataframe tbody tr th:only-of-type {\n",
       "        vertical-align: middle;\n",
       "    }\n",
       "\n",
       "    .dataframe tbody tr th {\n",
       "        vertical-align: top;\n",
       "    }\n",
       "\n",
       "    .dataframe thead th {\n",
       "        text-align: right;\n",
       "    }\n",
       "</style>\n",
       "<table border=\"1\" class=\"dataframe\">\n",
       "  <thead>\n",
       "    <tr style=\"text-align: right;\">\n",
       "      <th></th>\n",
       "      <th>subj</th>\n",
       "      <th>age</th>\n",
       "      <th>session</th>\n",
       "      <th>trial</th>\n",
       "      <th>RT</th>\n",
       "      <th>response</th>\n",
       "      <th>imagenameleft</th>\n",
       "      <th>imagenamemiddle</th>\n",
       "      <th>imagenameright</th>\n",
       "      <th>imageset</th>\n",
       "      <th>vp_number</th>\n",
       "      <th>exp_kind</th>\n",
       "    </tr>\n",
       "  </thead>\n",
       "  <tbody>\n",
       "    <tr>\n",
       "      <th>0</th>\n",
       "      <td>1.0</td>\n",
       "      <td>27.0</td>\n",
       "      <td>odd</td>\n",
       "      <td>1.0</td>\n",
       "      <td>1.961037</td>\n",
       "      <td>left</td>\n",
       "      <td>letter_opener_10s.jpg</td>\n",
       "      <td>key_08s.jpg</td>\n",
       "      <td>key_07s.jpg</td>\n",
       "      <td>action</td>\n",
       "      <td>1</td>\n",
       "      <td>odd</td>\n",
       "    </tr>\n",
       "    <tr>\n",
       "      <th>1</th>\n",
       "      <td>1.0</td>\n",
       "      <td>27.0</td>\n",
       "      <td>odd</td>\n",
       "      <td>2.0</td>\n",
       "      <td>1.552606</td>\n",
       "      <td>right</td>\n",
       "      <td>stump_08s.jpg</td>\n",
       "      <td>tree_ines.jpg</td>\n",
       "      <td>stick_insect_09.jpg</td>\n",
       "      <td>taxonomic</td>\n",
       "      <td>1</td>\n",
       "      <td>odd</td>\n",
       "    </tr>\n",
       "    <tr>\n",
       "      <th>2</th>\n",
       "      <td>1.0</td>\n",
       "      <td>27.0</td>\n",
       "      <td>odd</td>\n",
       "      <td>3.0</td>\n",
       "      <td>2.102521</td>\n",
       "      <td>left</td>\n",
       "      <td>leaf_04s.jpg</td>\n",
       "      <td>stick_insect_09.jpg</td>\n",
       "      <td>bee_01b.jpg</td>\n",
       "      <td>taxonomic</td>\n",
       "      <td>1</td>\n",
       "      <td>odd</td>\n",
       "    </tr>\n",
       "    <tr>\n",
       "      <th>3</th>\n",
       "      <td>1.0</td>\n",
       "      <td>27.0</td>\n",
       "      <td>odd</td>\n",
       "      <td>4.0</td>\n",
       "      <td>4.968988</td>\n",
       "      <td>left</td>\n",
       "      <td>screwdriver_04s.jpg</td>\n",
       "      <td>coin_14s.jpg</td>\n",
       "      <td>key_01b.jpg</td>\n",
       "      <td>action</td>\n",
       "      <td>1</td>\n",
       "      <td>odd</td>\n",
       "    </tr>\n",
       "    <tr>\n",
       "      <th>4</th>\n",
       "      <td>1.0</td>\n",
       "      <td>27.0</td>\n",
       "      <td>odd</td>\n",
       "      <td>5.0</td>\n",
       "      <td>1.705614</td>\n",
       "      <td>middle</td>\n",
       "      <td>pitchfork_02s.jpg</td>\n",
       "      <td>hay_10s_cut.jpg</td>\n",
       "      <td>pitchfork_09s.jpg</td>\n",
       "      <td>thematic</td>\n",
       "      <td>1</td>\n",
       "      <td>odd</td>\n",
       "    </tr>\n",
       "  </tbody>\n",
       "</table>\n",
       "</div>"
      ],
      "text/plain": [
       "   subj   age session  trial        RT response          imagenameleft  \\\n",
       "0   1.0  27.0     odd    1.0  1.961037     left  letter_opener_10s.jpg   \n",
       "1   1.0  27.0     odd    2.0  1.552606    right          stump_08s.jpg   \n",
       "2   1.0  27.0     odd    3.0  2.102521     left           leaf_04s.jpg   \n",
       "3   1.0  27.0     odd    4.0  4.968988     left    screwdriver_04s.jpg   \n",
       "4   1.0  27.0     odd    5.0  1.705614   middle      pitchfork_02s.jpg   \n",
       "\n",
       "       imagenamemiddle       imagenameright   imageset vp_number exp_kind  \n",
       "0          key_08s.jpg          key_07s.jpg     action         1      odd  \n",
       "1        tree_ines.jpg  stick_insect_09.jpg  taxonomic         1      odd  \n",
       "2  stick_insect_09.jpg          bee_01b.jpg  taxonomic         1      odd  \n",
       "3         coin_14s.jpg          key_01b.jpg     action         1      odd  \n",
       "4      hay_10s_cut.jpg    pitchfork_09s.jpg   thematic         1      odd  "
      ]
     },
     "execution_count": 2,
     "metadata": {},
     "output_type": "execute_result"
    }
   ],
   "source": [
    "# getting all the folders that contain triplet data\n",
    "dataset_root = Path(r\"/Users/almico/datasets/2021_similarity-triplets_object-images_ines-bsc\")\n",
    "data_root = dataset_root / \"data_similarity_judgements\"\n",
    "vp_folders = [p for p in data_root.iterdir() if p.is_dir() and re.match(r\"VP_\\d+\", p.stem) is not None]\n",
    "dfs = []\n",
    "# bringing the data into a a more workable format\n",
    "for vp in vp_folders:\n",
    "    experiment_re = r\"similarity_judgements_(\\d+)_session_(.*).csv\"\n",
    "    csv_files = [p for p in vp.iterdir() if re.match(experiment_re, p.stem) is not None]\n",
    "    for f in vp.iterdir():\n",
    "        search = re.search(experiment_re, f.name)\n",
    "        if search is None:\n",
    "            continue\n",
    "        vp_number = search.group(1)\n",
    "        kind = search.group(2)\n",
    "        dfs.append(pd.read_csv(f).assign(vp_number=vp_number, exp_kind = kind))\n",
    "    \n",
    "df = pd.concat(dfs)\n",
    "# There was apparently some error in naming \n",
    "df.replace(\"fork_plastic_light.jp\",\"fork_plastic_light.jpg\", inplace=True)\n",
    "df.head()"
   ]
  },
  {
   "cell_type": "markdown",
   "metadata": {},
   "source": [
    "This is the raw data. We will now process this into a triplet-response format.\n",
    "For all of this, we will provide functions that operate on dataframes, since we ideally want to filter the dataframe before (to access VPs, imageset, ...)."
   ]
  },
  {
   "cell_type": "markdown",
   "metadata": {},
   "source": [
    "First, we will provide a method to append triplets to the dataframe (accessing the imagenameleft and imagenamemiddle etc.). This will require a translation imagenames -> triplet index."
   ]
  },
  {
   "cell_type": "code",
   "execution_count": 3,
   "metadata": {},
   "outputs": [],
   "source": [
    "def append_triplets(df: pd.DataFrame) -> np.ndarray:\n",
    "    \"\"\"\n",
    "    Appends columns to df that contain triplet information.\n",
    "    Changes DF in-place.\n",
    "\n",
    "    Returns numpy array of unique names that were used for images.\n",
    "    If a triplet contains a number, its image name corresponds to its index in the array.\n",
    "    \"\"\"\n",
    "    imagenames = df[[\"imagenameleft\", \"imagenamemiddle\", \"imagenameright\"]]\n",
    "    unique_names = np.unique(imagenames.to_numpy().flatten())\n",
    "    indices = np.argmax(imagenames.to_numpy()[:, :, None] == unique_names[None, None, :], axis=2)\n",
    "\n",
    "    triplets = indices\n",
    "    responses = np.argmax(df[\"response\"].to_numpy()[:, None] == np.array([\"left\", \"middle\", \"right\"])[None, :], axis=1)\n",
    "\n",
    "    df[[\"triplet_left\", \"triplet_middle\", \"triplet_right\"]] = triplets\n",
    "    df[\"triplet_response\"] = responses\n",
    "    return unique_names\n"
   ]
  },
  {
   "cell_type": "markdown",
   "metadata": {},
   "source": [
    "Next, we want to provide a dictionary that gives us some more information about the images.\n",
    "As the kinds of images that are included depends on the query, we will provide a dynamic function to query the dataframe."
   ]
  },
  {
   "cell_type": "code",
   "execution_count": 4,
   "metadata": {},
   "outputs": [],
   "source": [
    "def make_image_info_dict(unique_names) -> dict:\n",
    "    image_info_dict = {}\n",
    "    image_number_correspondence = np.arange(0, unique_names.size)\n",
    "    for i, name in enumerate(unique_names):\n",
    "        num = image_number_correspondence[i]\n",
    "        image_info_dict[name] = {\"idx\": num}\n",
    "    for imageset in [\"action\", \"taxonomic\", \"thematic\"]:\n",
    "        for im in (dataset_root / f\"{imageset}_stimuli\").iterdir():\n",
    "            if im.name in image_info_dict:\n",
    "                image_info_dict[im.name][\"imageset\"] = imageset\n",
    "                image_info_dict[im.name][\"class\"] = re.search(r\"([a-z]+)_.*\\.jpg\", im.name).group(1)\n",
    "    # now revert the dictionary to make better use of it\n",
    "    image_info_dict = {v[\"idx\"]: {\"name\": k, \"imageset\": v[\"imageset\"], \"class\": v[\"class\"]} for k, v in image_info_dict.items()}\n",
    "    return image_info_dict"
   ]
  },
  {
   "cell_type": "markdown",
   "metadata": {},
   "source": [
    "Finally, we can give a function that queries the dataset under the desired conditions \n",
    "and returns a bunch object that contains the necessary information."
   ]
  },
  {
   "cell_type": "code",
   "execution_count": 5,
   "metadata": {},
   "outputs": [],
   "source": [
    "def query_ines_dataset(df: pd.DataFrame, vp: Optional[str], imageset: Optional[str], exp_kind: Optional[str]) -> Bunch:\n",
    "    if vp == None and imageset == None and exp_kind == None:\n",
    "        raise ValueError(\"Must specify at least one of vp, imageset, exp_kind\")\n",
    "    mask = np.ones(df.shape[0], dtype=bool)\n",
    "    if vp_number is not None:\n",
    "        mask = mask & (df[\"vp_number\"] == vp_number)\n",
    "    if imageset is not None:\n",
    "        mask = mask & (df[\"imageset\"] == imageset)\n",
    "    if exp_kind is not None:\n",
    "        mask = mask & (df[\"exp_kind\"] == exp_kind)\n",
    "\n",
    "    df_filtered = df[mask].copy()\n",
    "    triplet_image_names = append_triplets(df_filtered)\n",
    "    t, r = df_filtered[[\"triplet_left\", \"triplet_middle\", \"triplet_right\"]].to_numpy(), df_filtered[\"triplet_response\"].to_numpy()\n",
    "    image_info_dict = make_image_info_dict(triplet_image_names)\n",
    "    return Bunch(raw_df=df_filtered, triplets=t, responses=r, image_info=image_info_dict, vp_number=vp_number, imageset=imageset, exp_kind=exp_kind)"
   ]
  },
  {
   "cell_type": "markdown",
   "metadata": {},
   "source": [
    "## Exploring the dataset\n",
    "We will now see what insights we can gain from the data.\n",
    "\n",
    "### Odd similarity triplets\n",
    "We will start out with the odd triplets, as they were easier to embed (see Bachelor thesis\n",
    "of Inés)."
   ]
  },
  {
   "cell_type": "code",
   "execution_count": 6,
   "metadata": {},
   "outputs": [],
   "source": [
    "imageset = \"thematic\"\n",
    "exp_kind = \"odd\"\n",
    "vp_number = \"2\"\n",
    "data = query_ines_dataset(df, vp_number, imageset, exp_kind)\n",
    "t = triplets_from_oddoneout(data.triplets, data.responses)\n",
    "r = np.ones(t.shape[0])"
   ]
  },
  {
   "cell_type": "code",
   "execution_count": 7,
   "metadata": {},
   "outputs": [],
   "source": [
    "embedding = SOE(n_components = 2, random_state=2).fit_transform(t,r)\n",
    "cuts = triplets_to_majority_neighbour_cuts(t, radius = 1)\n",
    "tangles = OrdinalTangles(3)\n",
    "tangles_pred = tangles.fit_predict(cuts)"
   ]
  },
  {
   "cell_type": "markdown",
   "metadata": {},
   "source": [
    "We'll first collect the data for our visualization in a dataframe."
   ]
  },
  {
   "cell_type": "code",
   "execution_count": 8,
   "metadata": {},
   "outputs": [
    {
     "data": {
      "text/html": [
       "<div>\n",
       "<style scoped>\n",
       "    .dataframe tbody tr th:only-of-type {\n",
       "        vertical-align: middle;\n",
       "    }\n",
       "\n",
       "    .dataframe tbody tr th {\n",
       "        vertical-align: top;\n",
       "    }\n",
       "\n",
       "    .dataframe thead th {\n",
       "        text-align: right;\n",
       "    }\n",
       "</style>\n",
       "<table border=\"1\" class=\"dataframe\">\n",
       "  <thead>\n",
       "    <tr style=\"text-align: right;\">\n",
       "      <th></th>\n",
       "      <th>index</th>\n",
       "      <th>x</th>\n",
       "      <th>y</th>\n",
       "      <th>tangles</th>\n",
       "      <th>name</th>\n",
       "      <th>imageset</th>\n",
       "      <th>class</th>\n",
       "    </tr>\n",
       "  </thead>\n",
       "  <tbody>\n",
       "    <tr>\n",
       "      <th>0</th>\n",
       "      <td>0</td>\n",
       "      <td>-5.412803</td>\n",
       "      <td>-3.019947</td>\n",
       "      <td>1</td>\n",
       "      <td>dishwasher_03s.jpg</td>\n",
       "      <td>thematic</td>\n",
       "      <td>dishwasher</td>\n",
       "    </tr>\n",
       "    <tr>\n",
       "      <th>1</th>\n",
       "      <td>1</td>\n",
       "      <td>-4.689700</td>\n",
       "      <td>-2.630183</td>\n",
       "      <td>1</td>\n",
       "      <td>dishwasher_05s.jpg</td>\n",
       "      <td>thematic</td>\n",
       "      <td>dishwasher</td>\n",
       "    </tr>\n",
       "    <tr>\n",
       "      <th>2</th>\n",
       "      <td>2</td>\n",
       "      <td>-3.520544</td>\n",
       "      <td>-5.000292</td>\n",
       "      <td>1</td>\n",
       "      <td>dishwasher_07s.jpg</td>\n",
       "      <td>thematic</td>\n",
       "      <td>dishwasher</td>\n",
       "    </tr>\n",
       "    <tr>\n",
       "      <th>3</th>\n",
       "      <td>3</td>\n",
       "      <td>-2.330287</td>\n",
       "      <td>-3.763787</td>\n",
       "      <td>1</td>\n",
       "      <td>dishwasher_09s.jpg</td>\n",
       "      <td>thematic</td>\n",
       "      <td>dishwasher</td>\n",
       "    </tr>\n",
       "    <tr>\n",
       "      <th>4</th>\n",
       "      <td>4</td>\n",
       "      <td>-4.597535</td>\n",
       "      <td>-5.670217</td>\n",
       "      <td>1</td>\n",
       "      <td>dishwasher_10n.jpg</td>\n",
       "      <td>thematic</td>\n",
       "      <td>dishwasher</td>\n",
       "    </tr>\n",
       "  </tbody>\n",
       "</table>\n",
       "</div>"
      ],
      "text/plain": [
       "   index         x         y  tangles                name  imageset  \\\n",
       "0      0 -5.412803 -3.019947        1  dishwasher_03s.jpg  thematic   \n",
       "1      1 -4.689700 -2.630183        1  dishwasher_05s.jpg  thematic   \n",
       "2      2 -3.520544 -5.000292        1  dishwasher_07s.jpg  thematic   \n",
       "3      3 -2.330287 -3.763787        1  dishwasher_09s.jpg  thematic   \n",
       "4      4 -4.597535 -5.670217        1  dishwasher_10n.jpg  thematic   \n",
       "\n",
       "        class  \n",
       "0  dishwasher  \n",
       "1  dishwasher  \n",
       "2  dishwasher  \n",
       "3  dishwasher  \n",
       "4  dishwasher  "
      ]
     },
     "execution_count": 8,
     "metadata": {},
     "output_type": "execute_result"
    }
   ],
   "source": [
    "df_data = pd.DataFrame({\"x\": embedding[:, 0], \"y\": embedding[:, 1], \"tangles\": tangles_pred.astype(int)})\n",
    "df_info = pd.DataFrame(list(data.image_info.values()))\n",
    "info_labels = [\"name\", \"imageset\", \"class\", \"index\"]\n",
    "df_plot = pd.concat((df_data, df_info), axis=1).reset_index()\n",
    "df_plot.head()"
   ]
  },
  {
   "cell_type": "code",
   "execution_count": 9,
   "metadata": {},
   "outputs": [
    {
     "data": {
      "text/html": [
       "\n",
       "<div id=\"altair-viz-09ca546c13a8491c8e793082161b8c0a\"></div>\n",
       "<script type=\"text/javascript\">\n",
       "  (function(spec, embedOpt){\n",
       "    let outputDiv = document.currentScript.previousElementSibling;\n",
       "    if (outputDiv.id !== \"altair-viz-09ca546c13a8491c8e793082161b8c0a\") {\n",
       "      outputDiv = document.getElementById(\"altair-viz-09ca546c13a8491c8e793082161b8c0a\");\n",
       "    }\n",
       "    const paths = {\n",
       "      \"vega\": \"https://cdn.jsdelivr.net/npm//vega@5?noext\",\n",
       "      \"vega-lib\": \"https://cdn.jsdelivr.net/npm//vega-lib?noext\",\n",
       "      \"vega-lite\": \"https://cdn.jsdelivr.net/npm//vega-lite@4.8.1?noext\",\n",
       "      \"vega-embed\": \"https://cdn.jsdelivr.net/npm//vega-embed@6?noext\",\n",
       "    };\n",
       "\n",
       "    function loadScript(lib) {\n",
       "      return new Promise(function(resolve, reject) {\n",
       "        var s = document.createElement('script');\n",
       "        s.src = paths[lib];\n",
       "        s.async = true;\n",
       "        s.onload = () => resolve(paths[lib]);\n",
       "        s.onerror = () => reject(`Error loading script: ${paths[lib]}`);\n",
       "        document.getElementsByTagName(\"head\")[0].appendChild(s);\n",
       "      });\n",
       "    }\n",
       "\n",
       "    function showError(err) {\n",
       "      outputDiv.innerHTML = `<div class=\"error\" style=\"color:red;\">${err}</div>`;\n",
       "      throw err;\n",
       "    }\n",
       "\n",
       "    function displayChart(vegaEmbed) {\n",
       "      vegaEmbed(outputDiv, spec, embedOpt)\n",
       "        .catch(err => showError(`Javascript Error: ${err.message}<br>This usually means there's a typo in your chart specification. See the javascript console for the full traceback.`));\n",
       "    }\n",
       "\n",
       "    if(typeof define === \"function\" && define.amd) {\n",
       "      requirejs.config({paths});\n",
       "      require([\"vega-embed\"], displayChart, err => showError(`Error loading script: ${err.message}`));\n",
       "    } else if (typeof vegaEmbed === \"function\") {\n",
       "      displayChart(vegaEmbed);\n",
       "    } else {\n",
       "      loadScript(\"vega\")\n",
       "        .then(() => loadScript(\"vega-lite\"))\n",
       "        .then(() => loadScript(\"vega-embed\"))\n",
       "        .catch(showError)\n",
       "        .then(() => displayChart(vegaEmbed));\n",
       "    }\n",
       "  })({\"config\": {\"view\": {\"continuousWidth\": 400, \"continuousHeight\": 300}}, \"data\": {\"name\": \"data-63ae939aa0e3dcc4cb9f86d75fd50e71\"}, \"mark\": {\"type\": \"circle\", \"size\": 70}, \"encoding\": {\"color\": {\"type\": \"nominal\", \"field\": \"tangles\"}, \"tooltip\": [{\"type\": \"nominal\", \"field\": \"name\"}, {\"type\": \"nominal\", \"field\": \"imageset\"}, {\"type\": \"nominal\", \"field\": \"class\"}, {\"type\": \"quantitative\", \"field\": \"index\"}], \"x\": {\"type\": \"quantitative\", \"field\": \"x\"}, \"y\": {\"type\": \"quantitative\", \"field\": \"y\"}}, \"selection\": {\"selector001\": {\"type\": \"interval\", \"bind\": \"scales\", \"encodings\": [\"x\", \"y\"]}}, \"$schema\": \"https://vega.github.io/schema/vega-lite/v4.8.1.json\", \"datasets\": {\"data-63ae939aa0e3dcc4cb9f86d75fd50e71\": [{\"index\": 0, \"x\": -5.412803149567544, \"y\": -3.019946726487985, \"tangles\": 1, \"name\": \"dishwasher_03s.jpg\", \"imageset\": \"thematic\", \"class\": \"dishwasher\"}, {\"index\": 1, \"x\": -4.689700362753316, \"y\": -2.6301828695694662, \"tangles\": 1, \"name\": \"dishwasher_05s.jpg\", \"imageset\": \"thematic\", \"class\": \"dishwasher\"}, {\"index\": 2, \"x\": -3.520543888530787, \"y\": -5.000291512629467, \"tangles\": 1, \"name\": \"dishwasher_07s.jpg\", \"imageset\": \"thematic\", \"class\": \"dishwasher\"}, {\"index\": 3, \"x\": -2.3302869291953137, \"y\": -3.7637874175665766, \"tangles\": 1, \"name\": \"dishwasher_09s.jpg\", \"imageset\": \"thematic\", \"class\": \"dishwasher\"}, {\"index\": 4, \"x\": -4.5975352827259055, \"y\": -5.6702170741879465, \"tangles\": 1, \"name\": \"dishwasher_10n.jpg\", \"imageset\": \"thematic\", \"class\": \"dishwasher\"}, {\"index\": 5, \"x\": -4.073295436241166, \"y\": -4.48223647537052, \"tangles\": 1, \"name\": \"dishwasher_12n.jpg\", \"imageset\": \"thematic\", \"class\": \"dishwasher\"}, {\"index\": 6, \"x\": -9.454027697782845, \"y\": -0.2828973490221914, \"tangles\": 2, \"name\": \"fork_03s.jpg\", \"imageset\": \"thematic\", \"class\": \"fork\"}, {\"index\": 7, \"x\": -6.82203622908088, \"y\": 0.859721444791112, \"tangles\": 1, \"name\": \"fork_05s.jpg\", \"imageset\": \"thematic\", \"class\": \"fork\"}, {\"index\": 8, \"x\": -7.719725380296309, \"y\": -1.1179763061010055, \"tangles\": 1, \"name\": \"fork_06s.jpg\", \"imageset\": \"thematic\", \"class\": \"fork\"}, {\"index\": 9, \"x\": -9.852354552383181, \"y\": -1.5291720970099738, \"tangles\": 1, \"name\": \"fork_many.jpg\", \"imageset\": \"thematic\", \"class\": \"fork\"}, {\"index\": 10, \"x\": -6.408403363236246, \"y\": 2.450108664411718, \"tangles\": 1, \"name\": \"fork_plastic_light.jpg\", \"imageset\": \"thematic\", \"class\": \"fork\"}, {\"index\": 11, \"x\": -6.632658045355702, \"y\": 3.722781732093465, \"tangles\": 1, \"name\": \"fork_wood.jpg\", \"imageset\": \"thematic\", \"class\": \"fork\"}, {\"index\": 12, \"x\": 9.328398296160557, \"y\": 2.6573478413452363, \"tangles\": 0, \"name\": \"hay_02s.jpg\", \"imageset\": \"thematic\", \"class\": \"hay\"}, {\"index\": 13, \"x\": 7.129880802983328, \"y\": -0.8993558740629721, \"tangles\": 0, \"name\": \"hay_03s.jpg\", \"imageset\": \"thematic\", \"class\": \"hay\"}, {\"index\": 14, \"x\": 9.68900947257864, \"y\": -2.244315718170783, \"tangles\": 0, \"name\": \"hay_10s_cut.jpg\", \"imageset\": \"thematic\", \"class\": \"hay\"}, {\"index\": 15, \"x\": 2.406481106636617, \"y\": 6.9883919678154935, \"tangles\": 0, \"name\": \"pitchfork_02s.jpg\", \"imageset\": \"thematic\", \"class\": \"pitchfork\"}, {\"index\": 16, \"x\": 3.372279003801201, \"y\": 3.763288884581853, \"tangles\": 0, \"name\": \"pitchfork_03s.jpg\", \"imageset\": \"thematic\", \"class\": \"pitchfork\"}, {\"index\": 17, \"x\": 2.7793286661751644, \"y\": 5.537513627200085, \"tangles\": 0, \"name\": \"pitchfork_04s.jpg\", \"imageset\": \"thematic\", \"class\": \"pitchfork\"}, {\"index\": 18, \"x\": 1.9592786777667792, \"y\": 3.4962704072440594, \"tangles\": 2, \"name\": \"pitchfork_09s.jpg\", \"imageset\": \"thematic\", \"class\": \"pitchfork\"}, {\"index\": 19, \"x\": 2.6629710417928925, \"y\": 2.127447390964314, \"tangles\": 0, \"name\": \"pitchfork_15s.jpg\", \"imageset\": \"thematic\", \"class\": \"pitchfork\"}, {\"index\": 20, \"x\": 1.3920117675735442, \"y\": 5.343606652650157, \"tangles\": 2, \"name\": \"pitchfork_16s.jpg\", \"imageset\": \"thematic\", \"class\": \"pitchfork\"}, {\"index\": 21, \"x\": 8.383672918075726, \"y\": 2.2167891633331953, \"tangles\": 0, \"name\": \"straw_01.jpg\", \"imageset\": \"thematic\", \"class\": \"straw\"}, {\"index\": 22, \"x\": 6.2016009060272665, \"y\": -2.434807078227036, \"tangles\": 0, \"name\": \"straw_02.jpg\", \"imageset\": \"thematic\", \"class\": \"straw\"}, {\"index\": 23, \"x\": 6.7187228996273065, \"y\": -2.8441200756476994, \"tangles\": 0, \"name\": \"straw_hay_01b.jpg\", \"imageset\": \"thematic\", \"class\": \"straw\"}]}}, {\"mode\": \"vega-lite\"});\n",
       "</script>"
      ],
      "text/plain": [
       "alt.Chart(...)"
      ]
     },
     "metadata": {},
     "output_type": "display_data"
    },
    {
     "data": {
      "text/html": [
       "\n",
       "<div id=\"altair-viz-7c63c67238e74245be456cfa4b0dd59f\"></div>\n",
       "<script type=\"text/javascript\">\n",
       "  (function(spec, embedOpt){\n",
       "    let outputDiv = document.currentScript.previousElementSibling;\n",
       "    if (outputDiv.id !== \"altair-viz-7c63c67238e74245be456cfa4b0dd59f\") {\n",
       "      outputDiv = document.getElementById(\"altair-viz-7c63c67238e74245be456cfa4b0dd59f\");\n",
       "    }\n",
       "    const paths = {\n",
       "      \"vega\": \"https://cdn.jsdelivr.net/npm//vega@5?noext\",\n",
       "      \"vega-lib\": \"https://cdn.jsdelivr.net/npm//vega-lib?noext\",\n",
       "      \"vega-lite\": \"https://cdn.jsdelivr.net/npm//vega-lite@4.8.1?noext\",\n",
       "      \"vega-embed\": \"https://cdn.jsdelivr.net/npm//vega-embed@6?noext\",\n",
       "    };\n",
       "\n",
       "    function loadScript(lib) {\n",
       "      return new Promise(function(resolve, reject) {\n",
       "        var s = document.createElement('script');\n",
       "        s.src = paths[lib];\n",
       "        s.async = true;\n",
       "        s.onload = () => resolve(paths[lib]);\n",
       "        s.onerror = () => reject(`Error loading script: ${paths[lib]}`);\n",
       "        document.getElementsByTagName(\"head\")[0].appendChild(s);\n",
       "      });\n",
       "    }\n",
       "\n",
       "    function showError(err) {\n",
       "      outputDiv.innerHTML = `<div class=\"error\" style=\"color:red;\">${err}</div>`;\n",
       "      throw err;\n",
       "    }\n",
       "\n",
       "    function displayChart(vegaEmbed) {\n",
       "      vegaEmbed(outputDiv, spec, embedOpt)\n",
       "        .catch(err => showError(`Javascript Error: ${err.message}<br>This usually means there's a typo in your chart specification. See the javascript console for the full traceback.`));\n",
       "    }\n",
       "\n",
       "    if(typeof define === \"function\" && define.amd) {\n",
       "      requirejs.config({paths});\n",
       "      require([\"vega-embed\"], displayChart, err => showError(`Error loading script: ${err.message}`));\n",
       "    } else if (typeof vegaEmbed === \"function\") {\n",
       "      displayChart(vegaEmbed);\n",
       "    } else {\n",
       "      loadScript(\"vega\")\n",
       "        .then(() => loadScript(\"vega-lite\"))\n",
       "        .then(() => loadScript(\"vega-embed\"))\n",
       "        .catch(showError)\n",
       "        .then(() => displayChart(vegaEmbed));\n",
       "    }\n",
       "  })({\"config\": {\"view\": {\"continuousWidth\": 400, \"continuousHeight\": 300}}, \"data\": {\"name\": \"data-63ae939aa0e3dcc4cb9f86d75fd50e71\"}, \"mark\": {\"type\": \"circle\", \"size\": 70}, \"encoding\": {\"color\": {\"type\": \"nominal\", \"field\": \"class\"}, \"tooltip\": [{\"type\": \"nominal\", \"field\": \"name\"}, {\"type\": \"nominal\", \"field\": \"imageset\"}, {\"type\": \"nominal\", \"field\": \"class\"}, {\"type\": \"quantitative\", \"field\": \"index\"}], \"x\": {\"type\": \"quantitative\", \"field\": \"x\"}, \"y\": {\"type\": \"quantitative\", \"field\": \"y\"}}, \"selection\": {\"selector002\": {\"type\": \"interval\", \"bind\": \"scales\", \"encodings\": [\"x\", \"y\"]}}, \"$schema\": \"https://vega.github.io/schema/vega-lite/v4.8.1.json\", \"datasets\": {\"data-63ae939aa0e3dcc4cb9f86d75fd50e71\": [{\"index\": 0, \"x\": -5.412803149567544, \"y\": -3.019946726487985, \"tangles\": 1, \"name\": \"dishwasher_03s.jpg\", \"imageset\": \"thematic\", \"class\": \"dishwasher\"}, {\"index\": 1, \"x\": -4.689700362753316, \"y\": -2.6301828695694662, \"tangles\": 1, \"name\": \"dishwasher_05s.jpg\", \"imageset\": \"thematic\", \"class\": \"dishwasher\"}, {\"index\": 2, \"x\": -3.520543888530787, \"y\": -5.000291512629467, \"tangles\": 1, \"name\": \"dishwasher_07s.jpg\", \"imageset\": \"thematic\", \"class\": \"dishwasher\"}, {\"index\": 3, \"x\": -2.3302869291953137, \"y\": -3.7637874175665766, \"tangles\": 1, \"name\": \"dishwasher_09s.jpg\", \"imageset\": \"thematic\", \"class\": \"dishwasher\"}, {\"index\": 4, \"x\": -4.5975352827259055, \"y\": -5.6702170741879465, \"tangles\": 1, \"name\": \"dishwasher_10n.jpg\", \"imageset\": \"thematic\", \"class\": \"dishwasher\"}, {\"index\": 5, \"x\": -4.073295436241166, \"y\": -4.48223647537052, \"tangles\": 1, \"name\": \"dishwasher_12n.jpg\", \"imageset\": \"thematic\", \"class\": \"dishwasher\"}, {\"index\": 6, \"x\": -9.454027697782845, \"y\": -0.2828973490221914, \"tangles\": 2, \"name\": \"fork_03s.jpg\", \"imageset\": \"thematic\", \"class\": \"fork\"}, {\"index\": 7, \"x\": -6.82203622908088, \"y\": 0.859721444791112, \"tangles\": 1, \"name\": \"fork_05s.jpg\", \"imageset\": \"thematic\", \"class\": \"fork\"}, {\"index\": 8, \"x\": -7.719725380296309, \"y\": -1.1179763061010055, \"tangles\": 1, \"name\": \"fork_06s.jpg\", \"imageset\": \"thematic\", \"class\": \"fork\"}, {\"index\": 9, \"x\": -9.852354552383181, \"y\": -1.5291720970099738, \"tangles\": 1, \"name\": \"fork_many.jpg\", \"imageset\": \"thematic\", \"class\": \"fork\"}, {\"index\": 10, \"x\": -6.408403363236246, \"y\": 2.450108664411718, \"tangles\": 1, \"name\": \"fork_plastic_light.jpg\", \"imageset\": \"thematic\", \"class\": \"fork\"}, {\"index\": 11, \"x\": -6.632658045355702, \"y\": 3.722781732093465, \"tangles\": 1, \"name\": \"fork_wood.jpg\", \"imageset\": \"thematic\", \"class\": \"fork\"}, {\"index\": 12, \"x\": 9.328398296160557, \"y\": 2.6573478413452363, \"tangles\": 0, \"name\": \"hay_02s.jpg\", \"imageset\": \"thematic\", \"class\": \"hay\"}, {\"index\": 13, \"x\": 7.129880802983328, \"y\": -0.8993558740629721, \"tangles\": 0, \"name\": \"hay_03s.jpg\", \"imageset\": \"thematic\", \"class\": \"hay\"}, {\"index\": 14, \"x\": 9.68900947257864, \"y\": -2.244315718170783, \"tangles\": 0, \"name\": \"hay_10s_cut.jpg\", \"imageset\": \"thematic\", \"class\": \"hay\"}, {\"index\": 15, \"x\": 2.406481106636617, \"y\": 6.9883919678154935, \"tangles\": 0, \"name\": \"pitchfork_02s.jpg\", \"imageset\": \"thematic\", \"class\": \"pitchfork\"}, {\"index\": 16, \"x\": 3.372279003801201, \"y\": 3.763288884581853, \"tangles\": 0, \"name\": \"pitchfork_03s.jpg\", \"imageset\": \"thematic\", \"class\": \"pitchfork\"}, {\"index\": 17, \"x\": 2.7793286661751644, \"y\": 5.537513627200085, \"tangles\": 0, \"name\": \"pitchfork_04s.jpg\", \"imageset\": \"thematic\", \"class\": \"pitchfork\"}, {\"index\": 18, \"x\": 1.9592786777667792, \"y\": 3.4962704072440594, \"tangles\": 2, \"name\": \"pitchfork_09s.jpg\", \"imageset\": \"thematic\", \"class\": \"pitchfork\"}, {\"index\": 19, \"x\": 2.6629710417928925, \"y\": 2.127447390964314, \"tangles\": 0, \"name\": \"pitchfork_15s.jpg\", \"imageset\": \"thematic\", \"class\": \"pitchfork\"}, {\"index\": 20, \"x\": 1.3920117675735442, \"y\": 5.343606652650157, \"tangles\": 2, \"name\": \"pitchfork_16s.jpg\", \"imageset\": \"thematic\", \"class\": \"pitchfork\"}, {\"index\": 21, \"x\": 8.383672918075726, \"y\": 2.2167891633331953, \"tangles\": 0, \"name\": \"straw_01.jpg\", \"imageset\": \"thematic\", \"class\": \"straw\"}, {\"index\": 22, \"x\": 6.2016009060272665, \"y\": -2.434807078227036, \"tangles\": 0, \"name\": \"straw_02.jpg\", \"imageset\": \"thematic\", \"class\": \"straw\"}, {\"index\": 23, \"x\": 6.7187228996273065, \"y\": -2.8441200756476994, \"tangles\": 0, \"name\": \"straw_hay_01b.jpg\", \"imageset\": \"thematic\", \"class\": \"straw\"}]}}, {\"mode\": \"vega-lite\"});\n",
       "</script>"
      ],
      "text/plain": [
       "alt.Chart(...)"
      ]
     },
     "metadata": {},
     "output_type": "display_data"
    }
   ],
   "source": [
    "alt.Chart(df_plot).mark_circle(size=70).encode(x=\"x\", y=\"y\", color=\"tangles:N\",tooltip=info_labels).interactive().display()\n",
    "alt.Chart(df_plot).mark_circle(size=70).encode(x=\"x\", y=\"y\", color=\"class\",tooltip=info_labels).interactive().display()"
   ]
  },
  {
   "cell_type": "code",
   "execution_count": 10,
   "metadata": {},
   "outputs": [],
   "source": [
    "# commented out, as this makes too many outputs\n",
    "#cuts = triplets_to_majority_neighbour_cuts(t, radius = 1/4)\n",
    "#\n",
    "#for a in range(3,10):\n",
    "#    for radius in [1/4, 1/3, 1/2, 1]:\n",
    "#        cuts = triplets_to_majority_neighbour_cuts(t, radius = radius)\n",
    "#        tangles_pred = OrdinalTangles(a).fit_predict(cuts)\n",
    "#        df_plot_ = pd.DataFrame({\"x\": embedding[:, 0], \"y\": embedding[:, 1], \"tangles\": tangles_pred.astype(int)})\n",
    "#        alt.Chart(df_plot_).mark_circle(size=70).encode(x=\"x\", y=\"y\", color=\"tangles:N\").properties(title=f\"a={a}, radius={radius}\").display()"
   ]
  },
  {
   "cell_type": "markdown",
   "metadata": {},
   "source": [
    "We can see that a radius of 1 is generally okay. Lowering the radius makes the cuts lower, but that is not that important, since the tangles-algorithm does its work.\n",
    "\n",
    "Maybe soft cuts can really shine here."
   ]
  },
  {
   "cell_type": "code",
   "execution_count": 11,
   "metadata": {},
   "outputs": [
    {
     "data": {
      "image/png": "[encoded data removed]",
      "text/plain": [
       "<Figure size 360x360 with 1 Axes>"
      ]
     },
     "metadata": {
      "needs_background": "light"
     },
     "output_type": "display_data"
    },
    {
     "data": {
      "image/png": "[encoded data removed]",
      "text/plain": [
       "<Figure size 360x360 with 2 Axes>"
      ]
     },
     "metadata": {},
     "output_type": "display_data"
    },
    {
     "data": {
      "image/png": "[encoded data removed]",
      "text/plain": [
       "<Figure size 360x360 with 2 Axes>"
      ]
     },
     "metadata": {},
     "output_type": "display_data"
    },
    {
     "data": {
      "image/png": "[encoded data removed]",
      "text/plain": [
       "<Figure size 360x360 with 2 Axes>"
      ]
     },
     "metadata": {},
     "output_type": "display_data"
    },
    {
     "data": {
      "image/png": "[encoded data removed]",
      "text/plain": [
       "<Figure size 360x360 with 2 Axes>"
      ]
     },
     "metadata": {},
     "output_type": "display_data"
    },
    {
     "data": {
      "image/png": "[encoded data removed]",
      "text/plain": [
       "<Figure size 360x360 with 2 Axes>"
      ]
     },
     "metadata": {},
     "output_type": "display_data"
    },
    {
     "data": {
      "image/png": "[encoded data removed]",
      "text/plain": [
       "<Figure size 1440x720 with 1 Axes>"
      ]
     },
     "metadata": {},
     "output_type": "display_data"
    },
    {
     "data": {
      "text/html": [
       "\n",
       "<div id=\"altair-viz-07a1d88efbc94fa0aeae93de5c9f417e\"></div>\n",
       "<script type=\"text/javascript\">\n",
       "  (function(spec, embedOpt){\n",
       "    let outputDiv = document.currentScript.previousElementSibling;\n",
       "    if (outputDiv.id !== \"altair-viz-07a1d88efbc94fa0aeae93de5c9f417e\") {\n",
       "      outputDiv = document.getElementById(\"altair-viz-07a1d88efbc94fa0aeae93de5c9f417e\");\n",
       "    }\n",
       "    const paths = {\n",
       "      \"vega\": \"https://cdn.jsdelivr.net/npm//vega@5?noext\",\n",
       "      \"vega-lib\": \"https://cdn.jsdelivr.net/npm//vega-lib?noext\",\n",
       "      \"vega-lite\": \"https://cdn.jsdelivr.net/npm//vega-lite@4.8.1?noext\",\n",
       "      \"vega-embed\": \"https://cdn.jsdelivr.net/npm//vega-embed@6?noext\",\n",
       "    };\n",
       "\n",
       "    function loadScript(lib) {\n",
       "      return new Promise(function(resolve, reject) {\n",
       "        var s = document.createElement('script');\n",
       "        s.src = paths[lib];\n",
       "        s.async = true;\n",
       "        s.onload = () => resolve(paths[lib]);\n",
       "        s.onerror = () => reject(`Error loading script: ${paths[lib]}`);\n",
       "        document.getElementsByTagName(\"head\")[0].appendChild(s);\n",
       "      });\n",
       "    }\n",
       "\n",
       "    function showError(err) {\n",
       "      outputDiv.innerHTML = `<div class=\"error\" style=\"color:red;\">${err}</div>`;\n",
       "      throw err;\n",
       "    }\n",
       "\n",
       "    function displayChart(vegaEmbed) {\n",
       "      vegaEmbed(outputDiv, spec, embedOpt)\n",
       "        .catch(err => showError(`Javascript Error: ${err.message}<br>This usually means there's a typo in your chart specification. See the javascript console for the full traceback.`));\n",
       "    }\n",
       "\n",
       "    if(typeof define === \"function\" && define.amd) {\n",
       "      requirejs.config({paths});\n",
       "      require([\"vega-embed\"], displayChart, err => showError(`Error loading script: ${err.message}`));\n",
       "    } else if (typeof vegaEmbed === \"function\") {\n",
       "      displayChart(vegaEmbed);\n",
       "    } else {\n",
       "      loadScript(\"vega\")\n",
       "        .then(() => loadScript(\"vega-lite\"))\n",
       "        .then(() => loadScript(\"vega-embed\"))\n",
       "        .catch(showError)\n",
       "        .then(() => displayChart(vegaEmbed));\n",
       "    }\n",
       "  })({\"config\": {\"view\": {\"continuousWidth\": 400, \"continuousHeight\": 300}}, \"data\": {\"name\": \"data-63ae939aa0e3dcc4cb9f86d75fd50e71\"}, \"mark\": {\"type\": \"circle\", \"size\": 70}, \"encoding\": {\"color\": {\"type\": \"nominal\", \"field\": \"tangles\"}, \"tooltip\": [{\"type\": \"nominal\", \"field\": \"name\"}, {\"type\": \"nominal\", \"field\": \"imageset\"}, {\"type\": \"nominal\", \"field\": \"class\"}, {\"type\": \"quantitative\", \"field\": \"index\"}], \"x\": {\"type\": \"quantitative\", \"field\": \"x\"}, \"y\": {\"type\": \"quantitative\", \"field\": \"y\"}}, \"selection\": {\"selector003\": {\"type\": \"interval\", \"bind\": \"scales\", \"encodings\": [\"x\", \"y\"]}}, \"$schema\": \"https://vega.github.io/schema/vega-lite/v4.8.1.json\", \"datasets\": {\"data-63ae939aa0e3dcc4cb9f86d75fd50e71\": [{\"index\": 0, \"x\": -5.412803149567544, \"y\": -3.019946726487985, \"tangles\": 1, \"name\": \"dishwasher_03s.jpg\", \"imageset\": \"thematic\", \"class\": \"dishwasher\"}, {\"index\": 1, \"x\": -4.689700362753316, \"y\": -2.6301828695694662, \"tangles\": 1, \"name\": \"dishwasher_05s.jpg\", \"imageset\": \"thematic\", \"class\": \"dishwasher\"}, {\"index\": 2, \"x\": -3.520543888530787, \"y\": -5.000291512629467, \"tangles\": 1, \"name\": \"dishwasher_07s.jpg\", \"imageset\": \"thematic\", \"class\": \"dishwasher\"}, {\"index\": 3, \"x\": -2.3302869291953137, \"y\": -3.7637874175665766, \"tangles\": 1, \"name\": \"dishwasher_09s.jpg\", \"imageset\": \"thematic\", \"class\": \"dishwasher\"}, {\"index\": 4, \"x\": -4.5975352827259055, \"y\": -5.6702170741879465, \"tangles\": 1, \"name\": \"dishwasher_10n.jpg\", \"imageset\": \"thematic\", \"class\": \"dishwasher\"}, {\"index\": 5, \"x\": -4.073295436241166, \"y\": -4.48223647537052, \"tangles\": 1, \"name\": \"dishwasher_12n.jpg\", \"imageset\": \"thematic\", \"class\": \"dishwasher\"}, {\"index\": 6, \"x\": -9.454027697782845, \"y\": -0.2828973490221914, \"tangles\": 2, \"name\": \"fork_03s.jpg\", \"imageset\": \"thematic\", \"class\": \"fork\"}, {\"index\": 7, \"x\": -6.82203622908088, \"y\": 0.859721444791112, \"tangles\": 1, \"name\": \"fork_05s.jpg\", \"imageset\": \"thematic\", \"class\": \"fork\"}, {\"index\": 8, \"x\": -7.719725380296309, \"y\": -1.1179763061010055, \"tangles\": 1, \"name\": \"fork_06s.jpg\", \"imageset\": \"thematic\", \"class\": \"fork\"}, {\"index\": 9, \"x\": -9.852354552383181, \"y\": -1.5291720970099738, \"tangles\": 1, \"name\": \"fork_many.jpg\", \"imageset\": \"thematic\", \"class\": \"fork\"}, {\"index\": 10, \"x\": -6.408403363236246, \"y\": 2.450108664411718, \"tangles\": 1, \"name\": \"fork_plastic_light.jpg\", \"imageset\": \"thematic\", \"class\": \"fork\"}, {\"index\": 11, \"x\": -6.632658045355702, \"y\": 3.722781732093465, \"tangles\": 1, \"name\": \"fork_wood.jpg\", \"imageset\": \"thematic\", \"class\": \"fork\"}, {\"index\": 12, \"x\": 9.328398296160557, \"y\": 2.6573478413452363, \"tangles\": 0, \"name\": \"hay_02s.jpg\", \"imageset\": \"thematic\", \"class\": \"hay\"}, {\"index\": 13, \"x\": 7.129880802983328, \"y\": -0.8993558740629721, \"tangles\": 0, \"name\": \"hay_03s.jpg\", \"imageset\": \"thematic\", \"class\": \"hay\"}, {\"index\": 14, \"x\": 9.68900947257864, \"y\": -2.244315718170783, \"tangles\": 0, \"name\": \"hay_10s_cut.jpg\", \"imageset\": \"thematic\", \"class\": \"hay\"}, {\"index\": 15, \"x\": 2.406481106636617, \"y\": 6.9883919678154935, \"tangles\": 0, \"name\": \"pitchfork_02s.jpg\", \"imageset\": \"thematic\", \"class\": \"pitchfork\"}, {\"index\": 16, \"x\": 3.372279003801201, \"y\": 3.763288884581853, \"tangles\": 0, \"name\": \"pitchfork_03s.jpg\", \"imageset\": \"thematic\", \"class\": \"pitchfork\"}, {\"index\": 17, \"x\": 2.7793286661751644, \"y\": 5.537513627200085, \"tangles\": 0, \"name\": \"pitchfork_04s.jpg\", \"imageset\": \"thematic\", \"class\": \"pitchfork\"}, {\"index\": 18, \"x\": 1.9592786777667792, \"y\": 3.4962704072440594, \"tangles\": 2, \"name\": \"pitchfork_09s.jpg\", \"imageset\": \"thematic\", \"class\": \"pitchfork\"}, {\"index\": 19, \"x\": 2.6629710417928925, \"y\": 2.127447390964314, \"tangles\": 0, \"name\": \"pitchfork_15s.jpg\", \"imageset\": \"thematic\", \"class\": \"pitchfork\"}, {\"index\": 20, \"x\": 1.3920117675735442, \"y\": 5.343606652650157, \"tangles\": 2, \"name\": \"pitchfork_16s.jpg\", \"imageset\": \"thematic\", \"class\": \"pitchfork\"}, {\"index\": 21, \"x\": 8.383672918075726, \"y\": 2.2167891633331953, \"tangles\": 0, \"name\": \"straw_01.jpg\", \"imageset\": \"thematic\", \"class\": \"straw\"}, {\"index\": 22, \"x\": 6.2016009060272665, \"y\": -2.434807078227036, \"tangles\": 0, \"name\": \"straw_02.jpg\", \"imageset\": \"thematic\", \"class\": \"straw\"}, {\"index\": 23, \"x\": 6.7187228996273065, \"y\": -2.8441200756476994, \"tangles\": 0, \"name\": \"straw_hay_01b.jpg\", \"imageset\": \"thematic\", \"class\": \"straw\"}]}}, {\"mode\": \"vega-lite\"});\n",
       "</script>"
      ],
      "text/plain": [
       "alt.Chart(...)"
      ]
     },
     "metadata": {},
     "output_type": "display_data"
    }
   ],
   "source": [
    "aux_data = Data(embedding, np.ones(cuts.shape[0]))\n",
    "plot_soft_predictions(aux_data, tangles.contracted_tangles_tree_, tangles.cuts_.values)\n",
    "tangles.contracted_tangles_tree_.plot_tree()\n",
    "alt.Chart(df_plot).mark_circle(size=70).encode(x=\"x\", y=\"y\", color=\"tangles:N\",tooltip=info_labels).interactive().display()"
   ]
  },
  {
   "cell_type": "code",
   "execution_count": 16,
   "metadata": {},
   "outputs": [],
   "source": [
    "def plot_cut(orig_id: int, cut: np.ndarray, embedding: np.ndarray):\n",
    "    df_data = pd.DataFrame({\"x\": embedding[:, 0], \"y\": embedding[:, 1], \"cut\": cut.astype(int)})\n",
    "    df_info = pd.DataFrame(list(data.image_info.values()))\n",
    "    info_labels = [\"name\", \"imageset\", \"class\", \"index\"]\n",
    "    df_plot = pd.concat((df_data, df_info), axis=1).reset_index()\n",
    "    embedding_cut_plot = alt.Chart(df_plot).mark_circle(size=70).encode(x=\"x\", y=\"y\", color=\"cut:N\",tooltip=info_labels).interactive()\n",
    "    pivot_df = df_plot.iloc[[orig_id]]\n",
    "    chart = embedding_cut_plot + alt.Chart(pivot_df).mark_square(size=70, filled=True).encode(x=\"x\", y=\"y\", color=alt.value(\"black\"),tooltip=info_labels).interactive()\n",
    "    return chart\n",
    "\n",
    "\n",
    "def plot_node_characterizing(node, embedding):\n",
    "    print(node)\n",
    "    print(node.characterizing_cuts)\n",
    "    for key, val in node.get_characterizing_cut_values(node.characterizing_cuts).items():\n",
    "        print(key)\n",
    "        print(data.image_info[key])\n",
    "        plot_cut(key, val, embedding).display()\n"
   ]
  },
  {
   "cell_type": "markdown",
   "metadata": {},
   "source": [
    "Now we can visualize the interesting nodes of the tangles tree."
   ]
  },
  {
   "cell_type": "code",
   "execution_count": 22,
   "metadata": {},
   "outputs": [
    {
     "name": "stdout",
     "output_type": "stream",
     "text": [
      "20 -> F\n",
      "{0: True, 1: True}\n",
      "23\n",
      "{'name': 'straw_hay_01b.jpg', 'imageset': 'thematic', 'class': 'straw'}\n"
     ]
    },
    {
     "data": {
      "text/html": [
       "\n",
       "<div id=\"altair-viz-fa6b61a941024d3ea4ed7dee2817985a\"></div>\n",
       "<script type=\"text/javascript\">\n",
       "  (function(spec, embedOpt){\n",
       "    let outputDiv = document.currentScript.previousElementSibling;\n",
       "    if (outputDiv.id !== \"altair-viz-fa6b61a941024d3ea4ed7dee2817985a\") {\n",
       "      outputDiv = document.getElementById(\"altair-viz-fa6b61a941024d3ea4ed7dee2817985a\");\n",
       "    }\n",
       "    const paths = {\n",
       "      \"vega\": \"https://cdn.jsdelivr.net/npm//vega@5?noext\",\n",
       "      \"vega-lib\": \"https://cdn.jsdelivr.net/npm//vega-lib?noext\",\n",
       "      \"vega-lite\": \"https://cdn.jsdelivr.net/npm//vega-lite@4.8.1?noext\",\n",
       "      \"vega-embed\": \"https://cdn.jsdelivr.net/npm//vega-embed@6?noext\",\n",
       "    };\n",
       "\n",
       "    function loadScript(lib) {\n",
       "      return new Promise(function(resolve, reject) {\n",
       "        var s = document.createElement('script');\n",
       "        s.src = paths[lib];\n",
       "        s.async = true;\n",
       "        s.onload = () => resolve(paths[lib]);\n",
       "        s.onerror = () => reject(`Error loading script: ${paths[lib]}`);\n",
       "        document.getElementsByTagName(\"head\")[0].appendChild(s);\n",
       "      });\n",
       "    }\n",
       "\n",
       "    function showError(err) {\n",
       "      outputDiv.innerHTML = `<div class=\"error\" style=\"color:red;\">${err}</div>`;\n",
       "      throw err;\n",
       "    }\n",
       "\n",
       "    function displayChart(vegaEmbed) {\n",
       "      vegaEmbed(outputDiv, spec, embedOpt)\n",
       "        .catch(err => showError(`Javascript Error: ${err.message}<br>This usually means there's a typo in your chart specification. See the javascript console for the full traceback.`));\n",
       "    }\n",
       "\n",
       "    if(typeof define === \"function\" && define.amd) {\n",
       "      requirejs.config({paths});\n",
       "      require([\"vega-embed\"], displayChart, err => showError(`Error loading script: ${err.message}`));\n",
       "    } else if (typeof vegaEmbed === \"function\") {\n",
       "      displayChart(vegaEmbed);\n",
       "    } else {\n",
       "      loadScript(\"vega\")\n",
       "        .then(() => loadScript(\"vega-lite\"))\n",
       "        .then(() => loadScript(\"vega-embed\"))\n",
       "        .catch(showError)\n",
       "        .then(() => displayChart(vegaEmbed));\n",
       "    }\n",
       "  })({\"config\": {\"view\": {\"continuousWidth\": 400, \"continuousHeight\": 300}}, \"layer\": [{\"data\": {\"name\": \"data-73e6cb6d66386e7555b3eb8c90a78288\"}, \"mark\": {\"type\": \"circle\", \"size\": 70}, \"encoding\": {\"color\": {\"type\": \"nominal\", \"field\": \"cut\"}, \"tooltip\": [{\"type\": \"nominal\", \"field\": \"name\"}, {\"type\": \"nominal\", \"field\": \"imageset\"}, {\"type\": \"nominal\", \"field\": \"class\"}, {\"type\": \"quantitative\", \"field\": \"index\"}], \"x\": {\"type\": \"quantitative\", \"field\": \"x\"}, \"y\": {\"type\": \"quantitative\", \"field\": \"y\"}}, \"selection\": {\"selector040\": {\"type\": \"interval\", \"bind\": \"scales\", \"encodings\": [\"x\", \"y\"]}}}, {\"data\": {\"name\": \"data-3f73d8255dd471af291c9324fdfca856\"}, \"mark\": {\"type\": \"square\", \"filled\": true, \"size\": 70}, \"encoding\": {\"color\": {\"value\": \"black\"}, \"tooltip\": [{\"type\": \"nominal\", \"field\": \"name\"}, {\"type\": \"nominal\", \"field\": \"imageset\"}, {\"type\": \"nominal\", \"field\": \"class\"}, {\"type\": \"quantitative\", \"field\": \"index\"}], \"x\": {\"type\": \"quantitative\", \"field\": \"x\"}, \"y\": {\"type\": \"quantitative\", \"field\": \"y\"}}, \"selection\": {\"selector041\": {\"type\": \"interval\", \"bind\": \"scales\", \"encodings\": [\"x\", \"y\"]}}}], \"$schema\": \"https://vega.github.io/schema/vega-lite/v4.8.1.json\", \"datasets\": {\"data-73e6cb6d66386e7555b3eb8c90a78288\": [{\"index\": 0, \"x\": -5.412803149567544, \"y\": -3.019946726487985, \"cut\": 0, \"name\": \"dishwasher_03s.jpg\", \"imageset\": \"thematic\", \"class\": \"dishwasher\"}, {\"index\": 1, \"x\": -4.689700362753316, \"y\": -2.6301828695694662, \"cut\": 0, \"name\": \"dishwasher_05s.jpg\", \"imageset\": \"thematic\", \"class\": \"dishwasher\"}, {\"index\": 2, \"x\": -3.520543888530787, \"y\": -5.000291512629467, \"cut\": 0, \"name\": \"dishwasher_07s.jpg\", \"imageset\": \"thematic\", \"class\": \"dishwasher\"}, {\"index\": 3, \"x\": -2.3302869291953137, \"y\": -3.7637874175665766, \"cut\": 0, \"name\": \"dishwasher_09s.jpg\", \"imageset\": \"thematic\", \"class\": \"dishwasher\"}, {\"index\": 4, \"x\": -4.5975352827259055, \"y\": -5.6702170741879465, \"cut\": 0, \"name\": \"dishwasher_10n.jpg\", \"imageset\": \"thematic\", \"class\": \"dishwasher\"}, {\"index\": 5, \"x\": -4.073295436241166, \"y\": -4.48223647537052, \"cut\": 0, \"name\": \"dishwasher_12n.jpg\", \"imageset\": \"thematic\", \"class\": \"dishwasher\"}, {\"index\": 6, \"x\": -9.454027697782845, \"y\": -0.2828973490221914, \"cut\": 0, \"name\": \"fork_03s.jpg\", \"imageset\": \"thematic\", \"class\": \"fork\"}, {\"index\": 7, \"x\": -6.82203622908088, \"y\": 0.859721444791112, \"cut\": 0, \"name\": \"fork_05s.jpg\", \"imageset\": \"thematic\", \"class\": \"fork\"}, {\"index\": 8, \"x\": -7.719725380296309, \"y\": -1.1179763061010055, \"cut\": 0, \"name\": \"fork_06s.jpg\", \"imageset\": \"thematic\", \"class\": \"fork\"}, {\"index\": 9, \"x\": -9.852354552383181, \"y\": -1.5291720970099738, \"cut\": 0, \"name\": \"fork_many.jpg\", \"imageset\": \"thematic\", \"class\": \"fork\"}, {\"index\": 10, \"x\": -6.408403363236246, \"y\": 2.450108664411718, \"cut\": 0, \"name\": \"fork_plastic_light.jpg\", \"imageset\": \"thematic\", \"class\": \"fork\"}, {\"index\": 11, \"x\": -6.632658045355702, \"y\": 3.722781732093465, \"cut\": 0, \"name\": \"fork_wood.jpg\", \"imageset\": \"thematic\", \"class\": \"fork\"}, {\"index\": 12, \"x\": 9.328398296160557, \"y\": 2.6573478413452363, \"cut\": 1, \"name\": \"hay_02s.jpg\", \"imageset\": \"thematic\", \"class\": \"hay\"}, {\"index\": 13, \"x\": 7.129880802983328, \"y\": -0.8993558740629721, \"cut\": 1, \"name\": \"hay_03s.jpg\", \"imageset\": \"thematic\", \"class\": \"hay\"}, {\"index\": 14, \"x\": 9.68900947257864, \"y\": -2.244315718170783, \"cut\": 1, \"name\": \"hay_10s_cut.jpg\", \"imageset\": \"thematic\", \"class\": \"hay\"}, {\"index\": 15, \"x\": 2.406481106636617, \"y\": 6.9883919678154935, \"cut\": 1, \"name\": \"pitchfork_02s.jpg\", \"imageset\": \"thematic\", \"class\": \"pitchfork\"}, {\"index\": 16, \"x\": 3.372279003801201, \"y\": 3.763288884581853, \"cut\": 1, \"name\": \"pitchfork_03s.jpg\", \"imageset\": \"thematic\", \"class\": \"pitchfork\"}, {\"index\": 17, \"x\": 2.7793286661751644, \"y\": 5.537513627200085, \"cut\": 1, \"name\": \"pitchfork_04s.jpg\", \"imageset\": \"thematic\", \"class\": \"pitchfork\"}, {\"index\": 18, \"x\": 1.9592786777667792, \"y\": 3.4962704072440594, \"cut\": 0, \"name\": \"pitchfork_09s.jpg\", \"imageset\": \"thematic\", \"class\": \"pitchfork\"}, {\"index\": 19, \"x\": 2.6629710417928925, \"y\": 2.127447390964314, \"cut\": 1, \"name\": \"pitchfork_15s.jpg\", \"imageset\": \"thematic\", \"class\": \"pitchfork\"}, {\"index\": 20, \"x\": 1.3920117675735442, \"y\": 5.343606652650157, \"cut\": 0, \"name\": \"pitchfork_16s.jpg\", \"imageset\": \"thematic\", \"class\": \"pitchfork\"}, {\"index\": 21, \"x\": 8.383672918075726, \"y\": 2.2167891633331953, \"cut\": 1, \"name\": \"straw_01.jpg\", \"imageset\": \"thematic\", \"class\": \"straw\"}, {\"index\": 22, \"x\": 6.2016009060272665, \"y\": -2.434807078227036, \"cut\": 1, \"name\": \"straw_02.jpg\", \"imageset\": \"thematic\", \"class\": \"straw\"}, {\"index\": 23, \"x\": 6.7187228996273065, \"y\": -2.8441200756476994, \"cut\": 1, \"name\": \"straw_hay_01b.jpg\", \"imageset\": \"thematic\", \"class\": \"straw\"}], \"data-3f73d8255dd471af291c9324fdfca856\": [{\"index\": 23, \"x\": 6.7187228996273065, \"y\": -2.8441200756476994, \"cut\": 1, \"name\": \"straw_hay_01b.jpg\", \"imageset\": \"thematic\", \"class\": \"straw\"}]}}, {\"mode\": \"vega-lite\"});\n",
       "</script>"
      ],
      "text/plain": [
       "alt.LayerChart(...)"
      ]
     },
     "metadata": {},
     "output_type": "display_data"
    },
    {
     "name": "stdout",
     "output_type": "stream",
     "text": [
      "12\n",
      "{'name': 'hay_02s.jpg', 'imageset': 'thematic', 'class': 'hay'}\n"
     ]
    },
    {
     "data": {
      "text/html": [
       "\n",
       "<div id=\"altair-viz-a066449de9e642219a77a46c706e39e0\"></div>\n",
       "<script type=\"text/javascript\">\n",
       "  (function(spec, embedOpt){\n",
       "    let outputDiv = document.currentScript.previousElementSibling;\n",
       "    if (outputDiv.id !== \"altair-viz-a066449de9e642219a77a46c706e39e0\") {\n",
       "      outputDiv = document.getElementById(\"altair-viz-a066449de9e642219a77a46c706e39e0\");\n",
       "    }\n",
       "    const paths = {\n",
       "      \"vega\": \"https://cdn.jsdelivr.net/npm//vega@5?noext\",\n",
       "      \"vega-lib\": \"https://cdn.jsdelivr.net/npm//vega-lib?noext\",\n",
       "      \"vega-lite\": \"https://cdn.jsdelivr.net/npm//vega-lite@4.8.1?noext\",\n",
       "      \"vega-embed\": \"https://cdn.jsdelivr.net/npm//vega-embed@6?noext\",\n",
       "    };\n",
       "\n",
       "    function loadScript(lib) {\n",
       "      return new Promise(function(resolve, reject) {\n",
       "        var s = document.createElement('script');\n",
       "        s.src = paths[lib];\n",
       "        s.async = true;\n",
       "        s.onload = () => resolve(paths[lib]);\n",
       "        s.onerror = () => reject(`Error loading script: ${paths[lib]}`);\n",
       "        document.getElementsByTagName(\"head\")[0].appendChild(s);\n",
       "      });\n",
       "    }\n",
       "\n",
       "    function showError(err) {\n",
       "      outputDiv.innerHTML = `<div class=\"error\" style=\"color:red;\">${err}</div>`;\n",
       "      throw err;\n",
       "    }\n",
       "\n",
       "    function displayChart(vegaEmbed) {\n",
       "      vegaEmbed(outputDiv, spec, embedOpt)\n",
       "        .catch(err => showError(`Javascript Error: ${err.message}<br>This usually means there's a typo in your chart specification. See the javascript console for the full traceback.`));\n",
       "    }\n",
       "\n",
       "    if(typeof define === \"function\" && define.amd) {\n",
       "      requirejs.config({paths});\n",
       "      require([\"vega-embed\"], displayChart, err => showError(`Error loading script: ${err.message}`));\n",
       "    } else if (typeof vegaEmbed === \"function\") {\n",
       "      displayChart(vegaEmbed);\n",
       "    } else {\n",
       "      loadScript(\"vega\")\n",
       "        .then(() => loadScript(\"vega-lite\"))\n",
       "        .then(() => loadScript(\"vega-embed\"))\n",
       "        .catch(showError)\n",
       "        .then(() => displayChart(vegaEmbed));\n",
       "    }\n",
       "  })({\"config\": {\"view\": {\"continuousWidth\": 400, \"continuousHeight\": 300}}, \"layer\": [{\"data\": {\"name\": \"data-b4814ad36b1ee98515794c308f109133\"}, \"mark\": {\"type\": \"circle\", \"size\": 70}, \"encoding\": {\"color\": {\"type\": \"nominal\", \"field\": \"cut\"}, \"tooltip\": [{\"type\": \"nominal\", \"field\": \"name\"}, {\"type\": \"nominal\", \"field\": \"imageset\"}, {\"type\": \"nominal\", \"field\": \"class\"}, {\"type\": \"quantitative\", \"field\": \"index\"}], \"x\": {\"type\": \"quantitative\", \"field\": \"x\"}, \"y\": {\"type\": \"quantitative\", \"field\": \"y\"}}, \"selection\": {\"selector042\": {\"type\": \"interval\", \"bind\": \"scales\", \"encodings\": [\"x\", \"y\"]}}}, {\"data\": {\"name\": \"data-c5b43c3810f6e8783f2f2ff31d080aef\"}, \"mark\": {\"type\": \"square\", \"filled\": true, \"size\": 70}, \"encoding\": {\"color\": {\"value\": \"black\"}, \"tooltip\": [{\"type\": \"nominal\", \"field\": \"name\"}, {\"type\": \"nominal\", \"field\": \"imageset\"}, {\"type\": \"nominal\", \"field\": \"class\"}, {\"type\": \"quantitative\", \"field\": \"index\"}], \"x\": {\"type\": \"quantitative\", \"field\": \"x\"}, \"y\": {\"type\": \"quantitative\", \"field\": \"y\"}}, \"selection\": {\"selector043\": {\"type\": \"interval\", \"bind\": \"scales\", \"encodings\": [\"x\", \"y\"]}}}], \"$schema\": \"https://vega.github.io/schema/vega-lite/v4.8.1.json\", \"datasets\": {\"data-b4814ad36b1ee98515794c308f109133\": [{\"index\": 0, \"x\": -5.412803149567544, \"y\": -3.019946726487985, \"cut\": 0, \"name\": \"dishwasher_03s.jpg\", \"imageset\": \"thematic\", \"class\": \"dishwasher\"}, {\"index\": 1, \"x\": -4.689700362753316, \"y\": -2.6301828695694662, \"cut\": 0, \"name\": \"dishwasher_05s.jpg\", \"imageset\": \"thematic\", \"class\": \"dishwasher\"}, {\"index\": 2, \"x\": -3.520543888530787, \"y\": -5.000291512629467, \"cut\": 0, \"name\": \"dishwasher_07s.jpg\", \"imageset\": \"thematic\", \"class\": \"dishwasher\"}, {\"index\": 3, \"x\": -2.3302869291953137, \"y\": -3.7637874175665766, \"cut\": 0, \"name\": \"dishwasher_09s.jpg\", \"imageset\": \"thematic\", \"class\": \"dishwasher\"}, {\"index\": 4, \"x\": -4.5975352827259055, \"y\": -5.6702170741879465, \"cut\": 0, \"name\": \"dishwasher_10n.jpg\", \"imageset\": \"thematic\", \"class\": \"dishwasher\"}, {\"index\": 5, \"x\": -4.073295436241166, \"y\": -4.48223647537052, \"cut\": 0, \"name\": \"dishwasher_12n.jpg\", \"imageset\": \"thematic\", \"class\": \"dishwasher\"}, {\"index\": 6, \"x\": -9.454027697782845, \"y\": -0.2828973490221914, \"cut\": 0, \"name\": \"fork_03s.jpg\", \"imageset\": \"thematic\", \"class\": \"fork\"}, {\"index\": 7, \"x\": -6.82203622908088, \"y\": 0.859721444791112, \"cut\": 0, \"name\": \"fork_05s.jpg\", \"imageset\": \"thematic\", \"class\": \"fork\"}, {\"index\": 8, \"x\": -7.719725380296309, \"y\": -1.1179763061010055, \"cut\": 0, \"name\": \"fork_06s.jpg\", \"imageset\": \"thematic\", \"class\": \"fork\"}, {\"index\": 9, \"x\": -9.852354552383181, \"y\": -1.5291720970099738, \"cut\": 0, \"name\": \"fork_many.jpg\", \"imageset\": \"thematic\", \"class\": \"fork\"}, {\"index\": 10, \"x\": -6.408403363236246, \"y\": 2.450108664411718, \"cut\": 0, \"name\": \"fork_plastic_light.jpg\", \"imageset\": \"thematic\", \"class\": \"fork\"}, {\"index\": 11, \"x\": -6.632658045355702, \"y\": 3.722781732093465, \"cut\": 0, \"name\": \"fork_wood.jpg\", \"imageset\": \"thematic\", \"class\": \"fork\"}, {\"index\": 12, \"x\": 9.328398296160557, \"y\": 2.6573478413452363, \"cut\": 1, \"name\": \"hay_02s.jpg\", \"imageset\": \"thematic\", \"class\": \"hay\"}, {\"index\": 13, \"x\": 7.129880802983328, \"y\": -0.8993558740629721, \"cut\": 1, \"name\": \"hay_03s.jpg\", \"imageset\": \"thematic\", \"class\": \"hay\"}, {\"index\": 14, \"x\": 9.68900947257864, \"y\": -2.244315718170783, \"cut\": 1, \"name\": \"hay_10s_cut.jpg\", \"imageset\": \"thematic\", \"class\": \"hay\"}, {\"index\": 15, \"x\": 2.406481106636617, \"y\": 6.9883919678154935, \"cut\": 1, \"name\": \"pitchfork_02s.jpg\", \"imageset\": \"thematic\", \"class\": \"pitchfork\"}, {\"index\": 16, \"x\": 3.372279003801201, \"y\": 3.763288884581853, \"cut\": 0, \"name\": \"pitchfork_03s.jpg\", \"imageset\": \"thematic\", \"class\": \"pitchfork\"}, {\"index\": 17, \"x\": 2.7793286661751644, \"y\": 5.537513627200085, \"cut\": 1, \"name\": \"pitchfork_04s.jpg\", \"imageset\": \"thematic\", \"class\": \"pitchfork\"}, {\"index\": 18, \"x\": 1.9592786777667792, \"y\": 3.4962704072440594, \"cut\": 1, \"name\": \"pitchfork_09s.jpg\", \"imageset\": \"thematic\", \"class\": \"pitchfork\"}, {\"index\": 19, \"x\": 2.6629710417928925, \"y\": 2.127447390964314, \"cut\": 1, \"name\": \"pitchfork_15s.jpg\", \"imageset\": \"thematic\", \"class\": \"pitchfork\"}, {\"index\": 20, \"x\": 1.3920117675735442, \"y\": 5.343606652650157, \"cut\": 0, \"name\": \"pitchfork_16s.jpg\", \"imageset\": \"thematic\", \"class\": \"pitchfork\"}, {\"index\": 21, \"x\": 8.383672918075726, \"y\": 2.2167891633331953, \"cut\": 1, \"name\": \"straw_01.jpg\", \"imageset\": \"thematic\", \"class\": \"straw\"}, {\"index\": 22, \"x\": 6.2016009060272665, \"y\": -2.434807078227036, \"cut\": 1, \"name\": \"straw_02.jpg\", \"imageset\": \"thematic\", \"class\": \"straw\"}, {\"index\": 23, \"x\": 6.7187228996273065, \"y\": -2.8441200756476994, \"cut\": 1, \"name\": \"straw_hay_01b.jpg\", \"imageset\": \"thematic\", \"class\": \"straw\"}], \"data-c5b43c3810f6e8783f2f2ff31d080aef\": [{\"index\": 12, \"x\": 9.328398296160557, \"y\": 2.6573478413452363, \"cut\": 1, \"name\": \"hay_02s.jpg\", \"imageset\": \"thematic\", \"class\": \"hay\"}]}}, {\"mode\": \"vega-lite\"});\n",
       "</script>"
      ],
      "text/plain": [
       "alt.LayerChart(...)"
      ]
     },
     "metadata": {},
     "output_type": "display_data"
    }
   ],
   "source": [
    "plot_node_characterizing(tangles.contracted_tangles_tree_.maximals[0], embedding)"
   ]
  },
  {
   "cell_type": "code",
   "execution_count": null,
   "metadata": {},
   "outputs": [],
   "source": []
  }
 ],
 "metadata": {
  "interpreter": {
   "hash": "b3df0bc9139dfbbc2bb43367c6e0b1c6fcd610288dc61cb8c73318fe0a42d151"
  },
  "kernelspec": {
   "display_name": "Python 3.9.7 ('tangles-thesis')",
   "language": "python",
   "name": "python3"
  },
  "language_info": {
   "codemirror_mode": {
    "name": "ipython",
    "version": 3
   },
   "file_extension": ".py",
   "mimetype": "text/x-python",
   "name": "python",
   "nbconvert_exporter": "python",
   "pygments_lexer": "ipython3",
   "version": "3.9.7"
  },
  "orig_nbformat": 4
 },
 "nbformat": 4,
 "nbformat_minor": 2
}
