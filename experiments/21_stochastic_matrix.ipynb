{
 "cells": [
  {
   "cell_type": "markdown",
   "metadata": {},
   "source": [
    "# Stochastic matrix neighbours\n",
    "Our idea was to include more distance information in our majority neighbour cuts via a\n",
    "sort-of stochastic matrix."
   ]
  },
  {
   "cell_type": "code",
   "execution_count": 1,
   "metadata": {},
   "outputs": [],
   "source": [
    "import sys\n",
    "sys.path.append(\"..\")\n",
    "import numpy as np\n",
    "import cblearn.datasets as datasets\n",
    "from data_generation import generate_gmm_data_fixed_means\n",
    "from questionnaire import Questionnaire\n",
    "from estimators import OrdinalTangles, SoeKmeans\n",
    "from cblearn.embedding import SOE\n",
    "from cblearn.datasets import make_random_triplets\n",
    "from sklearn.metrics import normalized_mutual_info_score\n",
    "from plotting import AltairPlotter\n",
    "from copy import deepcopy\n",
    "from triplets import triplets_to_stochastic_matrix_cuts, unify_triplet_order, triplets_to_majority_neighbour_cuts, majority_neighbours_count_matrix\n",
    "from sklearn.cluster import KMeans"
   ]
  },
  {
   "cell_type": "code",
   "execution_count": 2,
   "metadata": {},
   "outputs": [
    {
     "data": {
      "text/html": [
       "\n",
       "<div id=\"altair-viz-05846b3723c84696a706a71e56a031a5\"></div>\n",
       "<script type=\"text/javascript\">\n",
       "  (function(spec, embedOpt){\n",
       "    let outputDiv = document.currentScript.previousElementSibling;\n",
       "    if (outputDiv.id !== \"altair-viz-05846b3723c84696a706a71e56a031a5\") {\n",
       "      outputDiv = document.getElementById(\"altair-viz-05846b3723c84696a706a71e56a031a5\");\n",
       "    }\n",
       "    const paths = {\n",
       "      \"vega\": \"https://cdn.jsdelivr.net/npm//vega@5?noext\",\n",
       "      \"vega-lib\": \"https://cdn.jsdelivr.net/npm//vega-lib?noext\",\n",
       "      \"vega-lite\": \"https://cdn.jsdelivr.net/npm//vega-lite@4.8.1?noext\",\n",
       "      \"vega-embed\": \"https://cdn.jsdelivr.net/npm//vega-embed@6?noext\",\n",
       "    };\n",
       "\n",
       "    function loadScript(lib) {\n",
       "      return new Promise(function(resolve, reject) {\n",
       "        var s = document.createElement('script');\n",
       "        s.src = paths[lib];\n",
       "        s.async = true;\n",
       "        s.onload = () => resolve(paths[lib]);\n",
       "        s.onerror = () => reject(`Error loading script: ${paths[lib]}`);\n",
       "        document.getElementsByTagName(\"head\")[0].appendChild(s);\n",
       "      });\n",
       "    }\n",
       "\n",
       "    function showError(err) {\n",
       "      outputDiv.innerHTML = `<div class=\"error\" style=\"color:red;\">${err}</div>`;\n",
       "      throw err;\n",
       "    }\n",
       "\n",
       "    function displayChart(vegaEmbed) {\n",
       "      vegaEmbed(outputDiv, spec, embedOpt)\n",
       "        .catch(err => showError(`Javascript Error: ${err.message}<br>This usually means there's a typo in your chart specification. See the javascript console for the full traceback.`));\n",
       "    }\n",
       "\n",
       "    if(typeof define === \"function\" && define.amd) {\n",
       "      requirejs.config({paths});\n",
       "      require([\"vega-embed\"], displayChart, err => showError(`Error loading script: ${err.message}`));\n",
       "    } else if (typeof vegaEmbed === \"function\") {\n",
       "      displayChart(vegaEmbed);\n",
       "    } else {\n",
       "      loadScript(\"vega\")\n",
       "        .then(() => loadScript(\"vega-lite\"))\n",
       "        .then(() => loadScript(\"vega-embed\"))\n",
       "        .catch(showError)\n",
       "        .then(() => displayChart(vegaEmbed));\n",
       "    }\n",
       "  })({\"config\": {\"view\": {\"continuousWidth\": 400, \"continuousHeight\": 300}}, \"data\": {\"name\": \"data-3c1414f2409cd0f6b2a26d6ad3a2333f\"}, \"mark\": \"point\", \"encoding\": {\"color\": {\"type\": \"nominal\", \"field\": \"predicted\", \"scale\": {\"scheme\": \"dark2\"}}, \"x\": {\"type\": \"quantitative\", \"field\": \"x\"}, \"y\": {\"type\": \"quantitative\", \"field\": \"y\"}}, \"$schema\": \"https://vega.github.io/schema/vega-lite/v4.8.1.json\", \"datasets\": {\"data-3c1414f2409cd0f6b2a26d6ad3a2333f\": [{\"x\": -4.375654636336758, \"y\": 2.3882435863499247, \"predicted\": 0}, {\"x\": -6.5281717522634555, \"y\": 1.9270313778438295, \"predicted\": 0}, {\"x\": -5.134592370675321, \"y\": 0.6984613031197173, \"predicted\": 0}, {\"x\": -4.25518823578352, \"y\": -3.761206900895103, \"predicted\": 1}, {\"x\": -5.680960903942902, \"y\": -3.24937037547741, \"predicted\": 1}, {\"x\": -4.5378920629550255, \"y\": -5.060140709497654, \"predicted\": 1}, {\"x\": 5.677582795986493, \"y\": 2.6159456453315846, \"predicted\": 2}, {\"x\": 7.133769442335438, \"y\": 1.9001087326859691, \"predicted\": 2}, {\"x\": 5.8275717924495645, \"y\": 2.122141582078628, \"predicted\": 2}]}}, {\"mode\": \"vega-lite\"});\n",
       "</script>"
      ],
      "text/plain": [
       "alt.Chart(...)"
      ]
     },
     "execution_count": 2,
     "metadata": {},
     "output_type": "execute_result"
    }
   ],
   "source": [
    "seed=1\n",
    "data = generate_gmm_data_fixed_means(n = 3, means = np.array([[-6, 3], [-6, -3], [6, 3]]), std=1, seed=seed)\n",
    "p = AltairPlotter()\n",
    "p.assignments(data.xs, data.ys)"
   ]
  },
  {
   "cell_type": "code",
   "execution_count": 4,
   "metadata": {},
   "outputs": [
    {
     "name": "stdout",
     "output_type": "stream",
     "text": [
      "using 50 triplets\n",
      "NMI Tangles: 0.5895098274473048 (3)\n",
      "NMI SOE-Kmeans: 1.0\n"
     ]
    },
    {
     "data": {
      "text/html": [
       "\n",
       "<div id=\"altair-viz-a79bb5d9217e47e69cec2b3e4bf5d3c0\"></div>\n",
       "<script type=\"text/javascript\">\n",
       "  (function(spec, embedOpt){\n",
       "    let outputDiv = document.currentScript.previousElementSibling;\n",
       "    if (outputDiv.id !== \"altair-viz-a79bb5d9217e47e69cec2b3e4bf5d3c0\") {\n",
       "      outputDiv = document.getElementById(\"altair-viz-a79bb5d9217e47e69cec2b3e4bf5d3c0\");\n",
       "    }\n",
       "    const paths = {\n",
       "      \"vega\": \"https://cdn.jsdelivr.net/npm//vega@5?noext\",\n",
       "      \"vega-lib\": \"https://cdn.jsdelivr.net/npm//vega-lib?noext\",\n",
       "      \"vega-lite\": \"https://cdn.jsdelivr.net/npm//vega-lite@4.8.1?noext\",\n",
       "      \"vega-embed\": \"https://cdn.jsdelivr.net/npm//vega-embed@6?noext\",\n",
       "    };\n",
       "\n",
       "    function loadScript(lib) {\n",
       "      return new Promise(function(resolve, reject) {\n",
       "        var s = document.createElement('script');\n",
       "        s.src = paths[lib];\n",
       "        s.async = true;\n",
       "        s.onload = () => resolve(paths[lib]);\n",
       "        s.onerror = () => reject(`Error loading script: ${paths[lib]}`);\n",
       "        document.getElementsByTagName(\"head\")[0].appendChild(s);\n",
       "      });\n",
       "    }\n",
       "\n",
       "    function showError(err) {\n",
       "      outputDiv.innerHTML = `<div class=\"error\" style=\"color:red;\">${err}</div>`;\n",
       "      throw err;\n",
       "    }\n",
       "\n",
       "    function displayChart(vegaEmbed) {\n",
       "      vegaEmbed(outputDiv, spec, embedOpt)\n",
       "        .catch(err => showError(`Javascript Error: ${err.message}<br>This usually means there's a typo in your chart specification. See the javascript console for the full traceback.`));\n",
       "    }\n",
       "\n",
       "    if(typeof define === \"function\" && define.amd) {\n",
       "      requirejs.config({paths});\n",
       "      require([\"vega-embed\"], displayChart, err => showError(`Error loading script: ${err.message}`));\n",
       "    } else if (typeof vegaEmbed === \"function\") {\n",
       "      displayChart(vegaEmbed);\n",
       "    } else {\n",
       "      loadScript(\"vega\")\n",
       "        .then(() => loadScript(\"vega-lite\"))\n",
       "        .then(() => loadScript(\"vega-embed\"))\n",
       "        .catch(showError)\n",
       "        .then(() => displayChart(vegaEmbed));\n",
       "    }\n",
       "  })({\"config\": {\"view\": {\"continuousWidth\": 400, \"continuousHeight\": 300}}, \"vconcat\": [{\"data\": {\"name\": \"data-22fef85f3815a5cd125e19b189b52296\"}, \"mark\": \"point\", \"encoding\": {\"color\": {\"type\": \"nominal\", \"field\": \"predicted\", \"scale\": {\"scheme\": \"dark2\"}}, \"x\": {\"type\": \"quantitative\", \"field\": \"x\"}, \"y\": {\"type\": \"quantitative\", \"field\": \"y\"}}}, {\"data\": {\"name\": \"data-11d3fdec92823ce7f7680d7d0d833ebf\"}, \"mark\": \"point\", \"encoding\": {\"color\": {\"type\": \"nominal\", \"field\": \"predicted\", \"scale\": {\"scheme\": \"dark2\"}}, \"x\": {\"type\": \"quantitative\", \"field\": \"x\"}, \"y\": {\"type\": \"quantitative\", \"field\": \"y\"}}}], \"$schema\": \"https://vega.github.io/schema/vega-lite/v4.8.1.json\", \"datasets\": {\"data-22fef85f3815a5cd125e19b189b52296\": [{\"x\": 0.8147072004055981, \"y\": -1.8008485870826132, \"predicted\": 0}, {\"x\": -2.615970330959364, \"y\": -3.8037438341237184, \"predicted\": 0}, {\"x\": -0.9533623415243985, \"y\": -1.4232443309849585, \"predicted\": 0}, {\"x\": -2.582543927099078, \"y\": -0.20139568641068994, \"predicted\": 1}, {\"x\": -3.7869052123012463, \"y\": 1.059355546839674, \"predicted\": 1}, {\"x\": -1.9914557120722436, \"y\": 3.1617811096437043, \"predicted\": 1}, {\"x\": 5.257169239266606, \"y\": 2.1852624511534207, \"predicted\": 2}, {\"x\": 6.713637931002778, \"y\": 1.5317053782814187, \"predicted\": 2}, {\"x\": 3.529437126658495, \"y\": 0.5872464265208116, \"predicted\": 2}], \"data-11d3fdec92823ce7f7680d7d0d833ebf\": [{\"x\": -4.375654636336758, \"y\": 2.3882435863499247, \"predicted\": 1}, {\"x\": -6.5281717522634555, \"y\": 1.9270313778438295, \"predicted\": 1}, {\"x\": -5.134592370675321, \"y\": 0.6984613031197173, \"predicted\": 1}, {\"x\": -4.25518823578352, \"y\": -3.761206900895103, \"predicted\": 2}, {\"x\": -5.680960903942902, \"y\": -3.24937037547741, \"predicted\": 2}, {\"x\": -4.5378920629550255, \"y\": -5.060140709497654, \"predicted\": 2}, {\"x\": 5.677582795986493, \"y\": 2.6159456453315846, \"predicted\": 0}, {\"x\": 7.133769442335438, \"y\": 1.9001087326859691, \"predicted\": 0}, {\"x\": 5.8275717924495645, \"y\": 2.122141582078628, \"predicted\": 0}]}}, {\"mode\": \"vega-lite\"});\n",
       "</script>"
      ],
      "text/plain": [
       "alt.VConcatChart(...)"
      ]
     },
     "execution_count": 4,
     "metadata": {},
     "output_type": "execute_result"
    }
   ],
   "source": [
    "triplets, responses = datasets.make_random_triplets(data.xs, result_format=\"list-boolean\", size=50, random_state=10)\n",
    "print(f\"using {responses.size} triplets\")\n",
    "unified_triplets = unify_triplet_order(triplets, responses)\n",
    "\n",
    "## tangles\n",
    "# cuts = triplets_to_stochastic_matrix_cuts(unified_triplets, iterations=2, threshhold=1.5)\n",
    "cuts = triplets_to_majority_neighbour_cuts(unified_triplets, radius=1.0, randomize_tie=False)\n",
    "tangles = OrdinalTangles(agreement=2)\n",
    "y_tangles = tangles.fit_predict(cuts)\n",
    "print(f\"NMI Tangles: {normalized_mutual_info_score(y_tangles, data.ys)} ({np.unique(y_tangles).sum()})\")\n",
    "soe_kmeans = SoeKmeans(embedding_dimension=2, n_clusters=3)\n",
    "y_soe_kmeans = soe_kmeans.fit_predict(triplets, responses)\n",
    "print(f\"NMI SOE-Kmeans: {normalized_mutual_info_score(y_soe_kmeans, data.ys)}\")\n",
    "p.assignments(soe_kmeans.embedding_, data.ys) & p.assignments(data.xs, y_soe_kmeans)"
   ]
  },
  {
   "cell_type": "code",
   "execution_count": 42,
   "metadata": {},
   "outputs": [
    {
     "name": "stdout",
     "output_type": "stream",
     "text": [
      "using 100 triplets\n"
     ]
    },
    {
     "data": {
      "text/plain": [
       "array([[ True, False, False, False, False, False, False, False, False],\n",
       "       [ True,  True,  True,  True, False, False, False, False, False],\n",
       "       [ True,  True,  True,  True, False,  True,  True, False,  True],\n",
       "       [ True, False, False,  True,  True,  True, False, False, False],\n",
       "       [ True,  True,  True,  True,  True,  True, False, False, False],\n",
       "       [False, False, False,  True,  True,  True, False, False, False],\n",
       "       [False, False, False, False, False, False, False, False, False],\n",
       "       [False, False, False, False, False, False, False, False, False],\n",
       "       [False, False, False, False, False, False, False, False, False]])"
      ]
     },
     "execution_count": 42,
     "metadata": {},
     "output_type": "execute_result"
    }
   ],
   "source": [
    "triplets, responses = datasets.make_random_triplets(data.xs, result_format=\"list-boolean\", size=100, random_state=10)\n",
    "print(f\"using {responses.size} triplets\")\n",
    "unified_triplets = unify_triplet_order(triplets, responses)\n",
    "\n",
    "m = majority_neighbours_count_matrix(unified_triplets)\n",
    "m = (m + 9)/18\n",
    "m @ m > 2.9\n"
   ]
  },
  {
   "cell_type": "code",
   "execution_count": null,
   "metadata": {},
   "outputs": [
    {
     "name": "stdout",
     "output_type": "stream",
     "text": [
      "NMI Tangles: 0.6137465571428701 (3)\n"
     ]
    }
   ],
   "source": [
    "m = majority_neighbours_count_matrix(unified_triplets) \n",
    "m += np.eye(m.shape[0]) * 6\n",
    "m2 = np.zeros_like(m)\n",
    "max_t = unified_triplets.max() + 1\n",
    "for i in range(max_t):\n",
    "    for j in range(max_t):\n",
    "        similar = unified_triplets[np.logical_and(unified_triplets[:, 0] == i, unified_triplets[:, 1] == j)]\n",
    "        similar_sum = 0\n",
    "        dissimilar = unified_triplets[np.logical_and(unified_triplets[:, 0] == i, unified_triplets[:, 2] == j)]\n",
    "        dissimilar_sum = 0\n",
    "        for a, _, x in similar:\n",
    "            similar_sum += m[a, x]\n",
    "        for a, x, _ in dissimilar:  \n",
    "            dissimilar_sum += m[a, x]\n",
    "        m2[i, j] = m[i, j] + similar_sum - dissimilar_sum\n",
    "m2\n",
    "cuts = (m2 > 0)\n",
    "tangles = OrdinalTangles(agreement=2)\n",
    "y_tangles = tangles.fit_predict(cuts)\n",
    "print(f\"NMI Tangles: {normalized_mutual_info_score(y_tangles, data.ys)} ({np.unique(y_tangles).sum()})\")"
   ]
  },
  {
   "cell_type": "markdown",
   "metadata": {},
   "source": [
    "Not really working... a problem of majority neighbour cuts also seems that we are pretty reliant on which triplets are drawn and not very robust to that (more triplets can actually make use _worse_)."
   ]
  },
  {
   "cell_type": "markdown",
   "metadata": {},
   "source": [
    "## SOE-Hybrid clustering"
   ]
  },
  {
   "cell_type": "code",
   "execution_count": null,
   "metadata": {},
   "outputs": [
    {
     "data": {
      "text/html": [
       "\n",
       "<div id=\"altair-viz-41daf29bef6d4d0ab41d4b914a667fa0\"></div>\n",
       "<script type=\"text/javascript\">\n",
       "  (function(spec, embedOpt){\n",
       "    let outputDiv = document.currentScript.previousElementSibling;\n",
       "    if (outputDiv.id !== \"altair-viz-41daf29bef6d4d0ab41d4b914a667fa0\") {\n",
       "      outputDiv = document.getElementById(\"altair-viz-41daf29bef6d4d0ab41d4b914a667fa0\");\n",
       "    }\n",
       "    const paths = {\n",
       "      \"vega\": \"https://cdn.jsdelivr.net/npm//vega@5?noext\",\n",
       "      \"vega-lib\": \"https://cdn.jsdelivr.net/npm//vega-lib?noext\",\n",
       "      \"vega-lite\": \"https://cdn.jsdelivr.net/npm//vega-lite@4.8.1?noext\",\n",
       "      \"vega-embed\": \"https://cdn.jsdelivr.net/npm//vega-embed@6?noext\",\n",
       "    };\n",
       "\n",
       "    function loadScript(lib) {\n",
       "      return new Promise(function(resolve, reject) {\n",
       "        var s = document.createElement('script');\n",
       "        s.src = paths[lib];\n",
       "        s.async = true;\n",
       "        s.onload = () => resolve(paths[lib]);\n",
       "        s.onerror = () => reject(`Error loading script: ${paths[lib]}`);\n",
       "        document.getElementsByTagName(\"head\")[0].appendChild(s);\n",
       "      });\n",
       "    }\n",
       "\n",
       "    function showError(err) {\n",
       "      outputDiv.innerHTML = `<div class=\"error\" style=\"color:red;\">${err}</div>`;\n",
       "      throw err;\n",
       "    }\n",
       "\n",
       "    function displayChart(vegaEmbed) {\n",
       "      vegaEmbed(outputDiv, spec, embedOpt)\n",
       "        .catch(err => showError(`Javascript Error: ${err.message}<br>This usually means there's a typo in your chart specification. See the javascript console for the full traceback.`));\n",
       "    }\n",
       "\n",
       "    if(typeof define === \"function\" && define.amd) {\n",
       "      requirejs.config({paths});\n",
       "      require([\"vega-embed\"], displayChart, err => showError(`Error loading script: ${err.message}`));\n",
       "    } else if (typeof vegaEmbed === \"function\") {\n",
       "      displayChart(vegaEmbed);\n",
       "    } else {\n",
       "      loadScript(\"vega\")\n",
       "        .then(() => loadScript(\"vega-lite\"))\n",
       "        .then(() => loadScript(\"vega-embed\"))\n",
       "        .catch(showError)\n",
       "        .then(() => displayChart(vegaEmbed));\n",
       "    }\n",
       "  })({\"config\": {\"view\": {\"continuousWidth\": 400, \"continuousHeight\": 300}}, \"data\": {\"name\": \"data-98d1049099be94d3bd00ccf20dd38304\"}, \"mark\": \"point\", \"encoding\": {\"color\": {\"type\": \"nominal\", \"field\": \"predicted\", \"scale\": {\"scheme\": \"dark2\"}}, \"x\": {\"type\": \"quantitative\", \"field\": \"x\"}, \"y\": {\"type\": \"quantitative\", \"field\": \"y\"}}, \"$schema\": \"https://vega.github.io/schema/vega-lite/v4.8.1.json\", \"datasets\": {\"data-98d1049099be94d3bd00ccf20dd38304\": [{\"x\": -4.375654636336758, \"y\": 2.3882435863499247, \"predicted\": 0}, {\"x\": -6.5281717522634555, \"y\": 1.9270313778438295, \"predicted\": 0}, {\"x\": -5.134592370675321, \"y\": 0.6984613031197173, \"predicted\": 0}, {\"x\": -4.25518823578352, \"y\": 2.238793099104897, \"predicted\": 0}, {\"x\": -5.680960903942902, \"y\": 2.75062962452259, \"predicted\": 0}, {\"x\": -4.5378920629550255, \"y\": 0.939859290502346, \"predicted\": 0}, {\"x\": -6.322417204013507, \"y\": 2.6159456453315846, \"predicted\": 0}, {\"x\": -4.866230557664562, \"y\": 1.9001087326859691, \"predicted\": 0}, {\"x\": -6.1724282075504355, \"y\": 2.122141582078628, \"predicted\": 0}, {\"x\": -5.957786253284407, \"y\": 3.582815213715822, \"predicted\": 0}, {\"x\": -7.100619177212922, \"y\": 4.144723709839614, \"predicted\": 0}, {\"x\": -5.098409279407204, \"y\": 3.5024943389018683, \"predicted\": 0}, {\"x\": -5.099144050735588, \"y\": 2.316272140825667, \"predicted\": 0}, {\"x\": -6.122890225518648, \"y\": 2.0642305657409312, \"predicted\": 0}, {\"x\": -6.267888079626016, \"y\": 3.530355466738186, \"predicted\": 0}, {\"x\": -6.691660751725309, \"y\": 2.6032464731440226, \"predicted\": 0}, {\"x\": -6.687172700119599, \"y\": 2.1547943585012805, \"predicted\": 0}, {\"x\": -6.671246130836819, \"y\": 2.987335401081099, \"predicted\": 0}, {\"x\": -7.117310348635278, \"y\": 3.2344156978170924, \"predicted\": 0}, {\"x\": -4.340197822890129, \"y\": 3.7420441605773354, \"predicted\": 0}, {\"x\": -6.191835552361615, \"y\": 2.1123710359151637, \"predicted\": 0}, {\"x\": -6.747158293750838, \"y\": 4.692454601027746, \"predicted\": 0}, {\"x\": -5.949192245223971, \"y\": 2.3630043534306466, \"predicted\": 0}, {\"x\": -5.809084515332534, \"y\": 5.100255136478842, \"predicted\": 0}, {\"x\": -5.8798410475183704, \"y\": 3.617203109707419, \"predicted\": 0}, {\"x\": -5.699829680044172, \"y\": 2.6477501535064816, \"predicted\": 0}, {\"x\": -7.14251819802214, \"y\": 2.6506572775871224, \"predicted\": 0}, {\"x\": -6.208894233374778, \"y\": 3.5866231911821975, \"predicted\": 0}, {\"x\": -5.161016586125495, \"y\": 3.9311020813035573, \"predicted\": 0}, {\"x\": -5.714412674745741, \"y\": 3.885141164270728, \"predicted\": 0}, {\"x\": -6.754397940996653, \"y\": -1.7471318447667121, \"predicted\": 1}, {\"x\": -5.487070179581991, \"y\": -3.2980928351027154, \"predicted\": 1}, {\"x\": -5.511481853462503, \"y\": -3.0755717130210556, \"predicted\": 1}, {\"x\": -4.868370612548573, \"y\": -1.4801831835778012, \"predicted\": 1}, {\"x\": -3.8144245934668386, \"y\": -4.396496335488138, \"predicted\": 1}, {\"x\": -7.4441138054295894, \"y\": -3.5044658629464513, \"predicted\": 1}, {\"x\": -5.839962930552169, \"y\": -2.123831078883775, \"predicted\": 1}, {\"x\": -5.684365052758395, \"y\": -5.022201215824003, \"predicted\": 1}, {\"x\": -6.306204012628372, \"y\": -2.1720253573927537, \"predicted\": 1}, {\"x\": -5.769905264635616, \"y\": -2.2379888196879754, \"predicted\": 1}, {\"x\": -6.222328142610359, \"y\": -3.2007580689299973, \"predicted\": 1}, {\"x\": -5.813438609011715, \"y\": -2.5899483527917435, \"predicted\": 1}, {\"x\": -5.801700279873231, \"y\": -2.8809913541925414, \"predicted\": 1}, {\"x\": -6.670662286289031, \"y\": -2.6224362136790806, \"predicted\": 1}, {\"x\": -5.878178729008563, \"y\": -1.8705160920880803, \"predicted\": 1}, {\"x\": -4.801082120098493, \"y\": -2.814843582516056, \"predicted\": 1}, {\"x\": -6.375284950090114, \"y\": -3.638730407454222, \"predicted\": 1}, {\"x\": -5.576505645935887, \"y\": -2.922659931651441, \"predicted\": 1}, {\"x\": -6.343853675571076, \"y\": -2.956403143165753, \"predicted\": 1}, {\"x\": -6.620000843948129, \"y\": -2.301967965927781, \"predicted\": 1}, {\"x\": -6.447128564785999, \"y\": -1.7754922951945011, \"predicted\": 1}, {\"x\": -5.5965083582092, \"y\": -2.406421476762933, \"predicted\": 1}, {\"x\": -7.094911845741041, \"y\": -2.830617566941332, \"predicted\": 1}, {\"x\": -5.259443548903725, \"y\": -3.9537006018079346, \"predicted\": 1}, {\"x\": -6.266218506003622, \"y\": -2.9673854533066413, \"predicted\": 1}, {\"x\": -7.373117320246756, \"y\": -2.684840607957708, \"predicted\": 1}, {\"x\": -5.153839352414966, \"y\": -3.8595159408319866, \"predicted\": 1}, {\"x\": -5.649454021335893, \"y\": -4.3122834112374315, \"predicted\": 1}, {\"x\": -6.038695509266051, \"y\": -4.615772354703295, \"predicted\": 1}, {\"x\": -4.878582291764336, \"y\": -2.5910994620631724, \"predicted\": 1}, {\"x\": 5.9753830441242215, \"y\": 2.2248383808308403, \"predicted\": 2}, {\"x\": 7.273755930158776, \"y\": 4.967101749254734, \"predicted\": 2}, {\"x\": 4.142018135553248, \"y\": 4.23616403045282, \"predicted\": 2}, {\"x\": 7.627650753148906, \"y\": 3.3380116965744757, \"predicted\": 2}, {\"x\": 4.800731967664814, \"y\": 3.8633453175440216, \"predicted\": 2}, {\"x\": 5.8190796979218495, \"y\": 2.3960793722067426, \"predicted\": 2}, {\"x\": 4.769941864333038, \"y\": 3.5505374959762155, \"predicted\": 2}, {\"x\": 6.7928068659193475, \"y\": 2.376469270320208, \"predicted\": 2}, {\"x\": 6.520576337073371, \"y\": 1.8556586103768573, \"predicted\": 2}, {\"x\": 6.801861031871344, \"y\": 3.0465672984241454, \"predicted\": 2}, {\"x\": 5.813430228092651, \"y\": 2.898254127470855, \"predicted\": 2}, {\"x\": 6.868886157005868, \"y\": 3.7504116398650083, \"predicted\": 2}, {\"x\": 6.529465324352709, \"y\": 3.137701209997386, \"predicted\": 2}, {\"x\": 6.077821127912706, \"y\": 3.6183802619985244, \"predicted\": 2}, {\"x\": 6.232494559178738, \"y\": 3.6825514068644853, \"predicted\": 2}, {\"x\": 5.68988322648194, \"y\": 0.5651622358928612, \"predicted\": 2}, {\"x\": 7.038824601859414, \"y\": 5.186979646974258, \"predicted\": 2}, {\"x\": 6.441364443568582, \"y\": 2.8998447667165004, \"predicted\": 2}, {\"x\": 5.863555256103967, \"y\": 2.8809458122251903, \"predicted\": 2}, {\"x\": 6.017409408300004, \"y\": 1.8779812712531117, \"predicted\": 2}, {\"x\": 5.482905542079772, \"y\": 2.002973172349737, \"predicted\": 2}, {\"x\": 6.248799161387771, \"y\": 2.7033588476291373, \"predicted\": 2}, {\"x\": 6.49521132397796, \"y\": 2.825296840257499, \"predicted\": 2}, {\"x\": 6.986335187821242, \"y\": 3.213533901335442, \"predicted\": 2}, {\"x\": 8.190699728969733, \"y\": 1.1036390771089075, \"predicted\": 2}, {\"x\": 5.353083311745092, \"y\": 3.901486891648711, \"predicted\": 2}, {\"x\": 8.528325706806399, \"y\": 2.75136522228454, \"predicted\": 2}, {\"x\": 6.043668993178389, \"y\": 2.773685757486395, \"predicted\": 2}, {\"x\": 7.331457112587592, \"y\": 2.712692136523981, \"predicted\": 2}, {\"x\": 6.680069839878104, \"y\": 2.680198401101329, \"predicted\": 2}]}}, {\"mode\": \"vega-lite\"});\n",
       "</script>"
      ],
      "text/plain": [
       "alt.Chart(...)"
      ]
     },
     "execution_count": 172,
     "metadata": {},
     "output_type": "execute_result"
    }
   ],
   "source": [
    "seed=1\n",
    "data = generate_gmm_data_fixed_means(n = 30, means = np.array([[-6, 3], [-6, -3], [6, 3]]), std=1, seed=seed)\n",
    "p = AltairPlotter()\n",
    "p.assignments(data.xs, data.ys)"
   ]
  },
  {
   "cell_type": "code",
   "execution_count": null,
   "metadata": {},
   "outputs": [
    {
     "name": "stdout",
     "output_type": "stream",
     "text": [
      "using 5000 triplets\n",
      "NMI SOE-Kmeans: 1.0\n"
     ]
    },
    {
     "data": {
      "text/html": [
       "\n",
       "<div id=\"altair-viz-63c5f8a8027b4d4a81e389e45a1500da\"></div>\n",
       "<script type=\"text/javascript\">\n",
       "  (function(spec, embedOpt){\n",
       "    let outputDiv = document.currentScript.previousElementSibling;\n",
       "    if (outputDiv.id !== \"altair-viz-63c5f8a8027b4d4a81e389e45a1500da\") {\n",
       "      outputDiv = document.getElementById(\"altair-viz-63c5f8a8027b4d4a81e389e45a1500da\");\n",
       "    }\n",
       "    const paths = {\n",
       "      \"vega\": \"https://cdn.jsdelivr.net/npm//vega@5?noext\",\n",
       "      \"vega-lib\": \"https://cdn.jsdelivr.net/npm//vega-lib?noext\",\n",
       "      \"vega-lite\": \"https://cdn.jsdelivr.net/npm//vega-lite@4.8.1?noext\",\n",
       "      \"vega-embed\": \"https://cdn.jsdelivr.net/npm//vega-embed@6?noext\",\n",
       "    };\n",
       "\n",
       "    function loadScript(lib) {\n",
       "      return new Promise(function(resolve, reject) {\n",
       "        var s = document.createElement('script');\n",
       "        s.src = paths[lib];\n",
       "        s.async = true;\n",
       "        s.onload = () => resolve(paths[lib]);\n",
       "        s.onerror = () => reject(`Error loading script: ${paths[lib]}`);\n",
       "        document.getElementsByTagName(\"head\")[0].appendChild(s);\n",
       "      });\n",
       "    }\n",
       "\n",
       "    function showError(err) {\n",
       "      outputDiv.innerHTML = `<div class=\"error\" style=\"color:red;\">${err}</div>`;\n",
       "      throw err;\n",
       "    }\n",
       "\n",
       "    function displayChart(vegaEmbed) {\n",
       "      vegaEmbed(outputDiv, spec, embedOpt)\n",
       "        .catch(err => showError(`Javascript Error: ${err.message}<br>This usually means there's a typo in your chart specification. See the javascript console for the full traceback.`));\n",
       "    }\n",
       "\n",
       "    if(typeof define === \"function\" && define.amd) {\n",
       "      requirejs.config({paths});\n",
       "      require([\"vega-embed\"], displayChart, err => showError(`Error loading script: ${err.message}`));\n",
       "    } else if (typeof vegaEmbed === \"function\") {\n",
       "      displayChart(vegaEmbed);\n",
       "    } else {\n",
       "      loadScript(\"vega\")\n",
       "        .then(() => loadScript(\"vega-lite\"))\n",
       "        .then(() => loadScript(\"vega-embed\"))\n",
       "        .catch(showError)\n",
       "        .then(() => displayChart(vegaEmbed));\n",
       "    }\n",
       "  })({\"config\": {\"view\": {\"continuousWidth\": 400, \"continuousHeight\": 300}}, \"vconcat\": [{\"data\": {\"name\": \"data-2a21d1eff97fa1f853248d9007c42acd\"}, \"mark\": \"point\", \"encoding\": {\"color\": {\"type\": \"nominal\", \"field\": \"predicted\", \"scale\": {\"scheme\": \"dark2\"}}, \"x\": {\"type\": \"quantitative\", \"field\": \"x\"}, \"y\": {\"type\": \"quantitative\", \"field\": \"y\"}}}, {\"data\": {\"name\": \"data-08def39c82230546213e11a901e689ff\"}, \"mark\": \"point\", \"encoding\": {\"color\": {\"type\": \"nominal\", \"field\": \"predicted\", \"scale\": {\"scheme\": \"dark2\"}}, \"x\": {\"type\": \"quantitative\", \"field\": \"x\"}, \"y\": {\"type\": \"quantitative\", \"field\": \"y\"}}}], \"$schema\": \"https://vega.github.io/schema/vega-lite/v4.8.1.json\", \"datasets\": {\"data-2a21d1eff97fa1f853248d9007c42acd\": [{\"x\": 49.05931237805175, \"y\": 61.62764002444047, \"predicted\": 0}, {\"x\": 46.409111116276996, \"y\": 119.92402045694722, \"predicted\": 0}, {\"x\": 3.207215036941256, \"y\": 85.52066732377806, \"predicted\": 0}, {\"x\": 40.79799565845227, \"y\": 54.69442981586006, \"predicted\": 0}, {\"x\": 67.38763425965354, \"y\": 97.24480775010504, \"predicted\": 0}, {\"x\": 16.92261364396014, \"y\": 42.04117806507981, \"predicted\": 0}, {\"x\": 64.83314232596383, \"y\": 112.29653708130344, \"predicted\": 0}, {\"x\": 42.85414477532689, \"y\": 73.87025322602314, \"predicted\": 0}, {\"x\": 53.88879222374074, \"y\": 110.38466995551963, \"predicted\": 0}, {\"x\": 88.38532752306567, \"y\": 98.3261340073633, \"predicted\": 0}, {\"x\": 119.47181503807587, \"y\": 122.57170620963186, \"predicted\": 0}, {\"x\": 85.42792747715927, \"y\": 79.84337487080712, \"predicted\": 0}, {\"x\": 49.61386247317444, \"y\": 82.53367961469691, \"predicted\": 0}, {\"x\": 49.616430434378344, \"y\": 106.84219933628746, \"predicted\": 0}, {\"x\": 83.9583723903197, \"y\": 105.30221287363214, \"predicted\": 0}, {\"x\": 66.15842509619866, \"y\": 126.48951576999724, \"predicted\": 0}, {\"x\": 54.35599471905536, \"y\": 126.39657553412066, \"predicted\": 0}, {\"x\": 73.85726029992924, \"y\": 115.72714879564127, \"predicted\": 0}, {\"x\": 83.57833197424189, \"y\": 127.90262405520893, \"predicted\": 0}, {\"x\": 90.02146072964187, \"y\": 48.1135573432358, \"predicted\": 0}, {\"x\": 51.445438645265064, \"y\": 107.02152548386181, \"predicted\": 0}, {\"x\": 126.82164618915505, \"y\": 113.73773385642643, \"predicted\": 0}, {\"x\": 61.1719450200564, \"y\": 102.971439455289, \"predicted\": 0}, {\"x\": 114.33214723931418, \"y\": 91.4610816871168, \"predicted\": 0}, {\"x\": 89.92474454751647, \"y\": 95.59297875701678, \"predicted\": 0}, {\"x\": 66.30884627240295, \"y\": 97.54167038755716, \"predicted\": 0}, {\"x\": 67.05263613338963, \"y\": 132.4046069635848, \"predicted\": 0}, {\"x\": 90.15244623130857, \"y\": 107.06013083595597, \"predicted\": 0}, {\"x\": 93.58718451034443, \"y\": 69.81483009440596, \"predicted\": 0}, {\"x\": 121.21829773970815, \"y\": 81.85711367436213, \"predicted\": 0}, {\"x\": -54.4226547798203, \"y\": 149.61402320472752, \"predicted\": 1}, {\"x\": -99.42335837842424, \"y\": 108.95598667140867, \"predicted\": 1}, {\"x\": -102.890982488843, \"y\": 102.29081025734935, \"predicted\": 1}, {\"x\": -65.01359317626085, \"y\": 77.77937905479723, \"predicted\": 1}, {\"x\": -133.86933868383773, \"y\": 76.21567516820538, \"predicted\": 1}, {\"x\": -94.786195264734, \"y\": 172.73518446976362, \"predicted\": 1}, {\"x\": -78.59650242454624, \"y\": 114.55621289475708, \"predicted\": 1}, {\"x\": -153.56842847017901, \"y\": 133.5131540632372, \"predicted\": 1}, {\"x\": -66.34789563166981, \"y\": 134.31321382356057, \"predicted\": 1}, {\"x\": -75.07683024537667, \"y\": 115.86578935529091, \"predicted\": 1}, {\"x\": -103.67829076878878, \"y\": 134.39633099077656, \"predicted\": 1}, {\"x\": -81.84631514648368, \"y\": 116.34090051754933, \"predicted\": 1}, {\"x\": -87.3668956966079, \"y\": 116.80945039591913, \"predicted\": 1}, {\"x\": -78.325590288674, \"y\": 154.70731646217422, \"predicted\": 1}, {\"x\": -64.17130077482547, \"y\": 116.5278000112718, \"predicted\": 1}, {\"x\": -99.83405488702239, \"y\": 88.52720182969595, \"predicted\": 1}, {\"x\": -114.90877348397821, \"y\": 138.38300496069238, \"predicted\": 1}, {\"x\": -94.1482685842014, \"y\": 112.28606303963039, \"predicted\": 1}, {\"x\": -89.76449706387409, \"y\": 139.53226056388607, \"predicted\": 1}, {\"x\": -76.0660663101502, \"y\": 142.43418714130397, \"predicted\": 1}, {\"x\": -58.772202504345685, \"y\": 135.9733323849103, \"predicted\": 1}, {\"x\": -82.71197235274778, \"y\": 111.72458840605488, \"predicted\": 1}, {\"x\": -85.78355542898925, \"y\": 154.19101873692472, \"predicted\": 1}, {\"x\": -117.19539840238835, \"y\": 109.27939868393462, \"predicted\": 1}, {\"x\": -89.6025194538677, \"y\": 136.9919200718167, \"predicted\": 1}, {\"x\": -79.08206870594366, \"y\": 166.62702712487922, \"predicted\": 1}, {\"x\": -115.04732783477996, \"y\": 109.30179928305964, \"predicted\": 1}, {\"x\": -126.45955108348187, \"y\": 121.54158110950863, \"predicted\": 1}, {\"x\": -133.46660145720185, \"y\": 137.8584634094069, \"predicted\": 1}, {\"x\": -91.9342512311748, \"y\": 87.59660783935125, \"predicted\": 1}, {\"x\": 0.747670948875059, \"y\": -191.46366460141033, \"predicted\": 2}, {\"x\": 103.78333237633683, \"y\": -296.14102196921294, \"predicted\": 2}, {\"x\": 44.57840435174986, \"y\": -149.34564802167515, \"predicted\": 2}, {\"x\": 26.94008808582495, \"y\": -279.4437409796546, \"predicted\": 2}, {\"x\": 86.70644155588393, \"y\": -140.8950643465604, \"predicted\": 2}, {\"x\": 13.667921283614216, \"y\": -202.5551108313371, \"predicted\": 2}, {\"x\": 34.15843056557369, \"y\": -154.40742956815336, \"predicted\": 2}, {\"x\": 0.5720096088956237, \"y\": -233.9009322298953, \"predicted\": 2}, {\"x\": -18.751028376907357, \"y\": -213.83366997739628, \"predicted\": 2}, {\"x\": 21.657800199919794, \"y\": -239.00939565248973, \"predicted\": 2}, {\"x\": 20.45582381573435, \"y\": -191.88806693226266, \"predicted\": 2}, {\"x\": 34.78838767098494, \"y\": -262.600200480058, \"predicted\": 2}, {\"x\": 34.51810355707312, \"y\": -223.28161499406204, \"predicted\": 2}, {\"x\": 51.988638009545866, \"y\": -207.59728439983385, \"predicted\": 2}, {\"x\": 54.966669311961, \"y\": -213.55262734513036, \"predicted\": 2}, {\"x\": -36.072804297835205, \"y\": -180.84463767961753, \"predicted\": 2}, {\"x\": 139.64810583871008, \"y\": -247.8919605339991, \"predicted\": 2}, {\"x\": 21.05953140415681, \"y\": -219.0900886891006, \"predicted\": 2}, {\"x\": 30.542137992524285, \"y\": -195.06349932614833, \"predicted\": 2}, {\"x\": -14.338671511093482, \"y\": -195.93002174381107, \"predicted\": 2}, {\"x\": -5.0827779822049495, \"y\": -176.82989575591495, \"predicted\": 2}, {\"x\": 8.853213024500835, \"y\": -212.68683942027013, \"predicted\": 2}, {\"x\": 16.60646680383973, \"y\": -222.24601494106707, \"predicted\": 2}, {\"x\": 18.434105768543848, \"y\": -255.12810053177606, \"predicted\": 2}, {\"x\": -65.9165301955436, \"y\": -311.0551576044615, \"predicted\": 2}, {\"x\": 70.34394680440576, \"y\": -191.85140291174702, \"predicted\": 2}, {\"x\": -37.05520026363422, \"y\": -318.89258857148576, \"predicted\": 2}, {\"x\": 17.268641386540338, \"y\": -203.4398635126691, \"predicted\": 2}, {\"x\": -4.743664740479863, \"y\": -262.3890017902071, \"predicted\": 2}, {\"x\": 10.951929847441024, \"y\": -229.2676423728501, \"predicted\": 2}], \"data-08def39c82230546213e11a901e689ff\": [{\"x\": -4.375654636336758, \"y\": 2.3882435863499247, \"predicted\": 0}, {\"x\": -6.5281717522634555, \"y\": 1.9270313778438295, \"predicted\": 0}, {\"x\": -5.134592370675321, \"y\": 0.6984613031197173, \"predicted\": 0}, {\"x\": -4.25518823578352, \"y\": 2.238793099104897, \"predicted\": 0}, {\"x\": -5.680960903942902, \"y\": 2.75062962452259, \"predicted\": 0}, {\"x\": -4.5378920629550255, \"y\": 0.939859290502346, \"predicted\": 0}, {\"x\": -6.322417204013507, \"y\": 2.6159456453315846, \"predicted\": 0}, {\"x\": -4.866230557664562, \"y\": 1.9001087326859691, \"predicted\": 0}, {\"x\": -6.1724282075504355, \"y\": 2.122141582078628, \"predicted\": 0}, {\"x\": -5.957786253284407, \"y\": 3.582815213715822, \"predicted\": 0}, {\"x\": -7.100619177212922, \"y\": 4.144723709839614, \"predicted\": 0}, {\"x\": -5.098409279407204, \"y\": 3.5024943389018683, \"predicted\": 0}, {\"x\": -5.099144050735588, \"y\": 2.316272140825667, \"predicted\": 0}, {\"x\": -6.122890225518648, \"y\": 2.0642305657409312, \"predicted\": 0}, {\"x\": -6.267888079626016, \"y\": 3.530355466738186, \"predicted\": 0}, {\"x\": -6.691660751725309, \"y\": 2.6032464731440226, \"predicted\": 0}, {\"x\": -6.687172700119599, \"y\": 2.1547943585012805, \"predicted\": 0}, {\"x\": -6.671246130836819, \"y\": 2.987335401081099, \"predicted\": 0}, {\"x\": -7.117310348635278, \"y\": 3.2344156978170924, \"predicted\": 0}, {\"x\": -4.340197822890129, \"y\": 3.7420441605773354, \"predicted\": 0}, {\"x\": -6.191835552361615, \"y\": 2.1123710359151637, \"predicted\": 0}, {\"x\": -6.747158293750838, \"y\": 4.692454601027746, \"predicted\": 0}, {\"x\": -5.949192245223971, \"y\": 2.3630043534306466, \"predicted\": 0}, {\"x\": -5.809084515332534, \"y\": 5.100255136478842, \"predicted\": 0}, {\"x\": -5.8798410475183704, \"y\": 3.617203109707419, \"predicted\": 0}, {\"x\": -5.699829680044172, \"y\": 2.6477501535064816, \"predicted\": 0}, {\"x\": -7.14251819802214, \"y\": 2.6506572775871224, \"predicted\": 0}, {\"x\": -6.208894233374778, \"y\": 3.5866231911821975, \"predicted\": 0}, {\"x\": -5.161016586125495, \"y\": 3.9311020813035573, \"predicted\": 0}, {\"x\": -5.714412674745741, \"y\": 3.885141164270728, \"predicted\": 0}, {\"x\": -6.754397940996653, \"y\": -1.7471318447667121, \"predicted\": 2}, {\"x\": -5.487070179581991, \"y\": -3.2980928351027154, \"predicted\": 2}, {\"x\": -5.511481853462503, \"y\": -3.0755717130210556, \"predicted\": 2}, {\"x\": -4.868370612548573, \"y\": -1.4801831835778012, \"predicted\": 2}, {\"x\": -3.8144245934668386, \"y\": -4.396496335488138, \"predicted\": 2}, {\"x\": -7.4441138054295894, \"y\": -3.5044658629464513, \"predicted\": 2}, {\"x\": -5.839962930552169, \"y\": -2.123831078883775, \"predicted\": 2}, {\"x\": -5.684365052758395, \"y\": -5.022201215824003, \"predicted\": 2}, {\"x\": -6.306204012628372, \"y\": -2.1720253573927537, \"predicted\": 2}, {\"x\": -5.769905264635616, \"y\": -2.2379888196879754, \"predicted\": 2}, {\"x\": -6.222328142610359, \"y\": -3.2007580689299973, \"predicted\": 2}, {\"x\": -5.813438609011715, \"y\": -2.5899483527917435, \"predicted\": 2}, {\"x\": -5.801700279873231, \"y\": -2.8809913541925414, \"predicted\": 2}, {\"x\": -6.670662286289031, \"y\": -2.6224362136790806, \"predicted\": 2}, {\"x\": -5.878178729008563, \"y\": -1.8705160920880803, \"predicted\": 2}, {\"x\": -4.801082120098493, \"y\": -2.814843582516056, \"predicted\": 2}, {\"x\": -6.375284950090114, \"y\": -3.638730407454222, \"predicted\": 2}, {\"x\": -5.576505645935887, \"y\": -2.922659931651441, \"predicted\": 2}, {\"x\": -6.343853675571076, \"y\": -2.956403143165753, \"predicted\": 2}, {\"x\": -6.620000843948129, \"y\": -2.301967965927781, \"predicted\": 2}, {\"x\": -6.447128564785999, \"y\": -1.7754922951945011, \"predicted\": 2}, {\"x\": -5.5965083582092, \"y\": -2.406421476762933, \"predicted\": 2}, {\"x\": -7.094911845741041, \"y\": -2.830617566941332, \"predicted\": 2}, {\"x\": -5.259443548903725, \"y\": -3.9537006018079346, \"predicted\": 2}, {\"x\": -6.266218506003622, \"y\": -2.9673854533066413, \"predicted\": 2}, {\"x\": -7.373117320246756, \"y\": -2.684840607957708, \"predicted\": 2}, {\"x\": -5.153839352414966, \"y\": -3.8595159408319866, \"predicted\": 2}, {\"x\": -5.649454021335893, \"y\": -4.3122834112374315, \"predicted\": 2}, {\"x\": -6.038695509266051, \"y\": -4.615772354703295, \"predicted\": 2}, {\"x\": -4.878582291764336, \"y\": -2.5910994620631724, \"predicted\": 2}, {\"x\": 5.9753830441242215, \"y\": 2.2248383808308403, \"predicted\": 1}, {\"x\": 7.273755930158776, \"y\": 4.967101749254734, \"predicted\": 1}, {\"x\": 4.142018135553248, \"y\": 4.23616403045282, \"predicted\": 1}, {\"x\": 7.627650753148906, \"y\": 3.3380116965744757, \"predicted\": 1}, {\"x\": 4.800731967664814, \"y\": 3.8633453175440216, \"predicted\": 1}, {\"x\": 5.8190796979218495, \"y\": 2.3960793722067426, \"predicted\": 1}, {\"x\": 4.769941864333038, \"y\": 3.5505374959762155, \"predicted\": 1}, {\"x\": 6.7928068659193475, \"y\": 2.376469270320208, \"predicted\": 1}, {\"x\": 6.520576337073371, \"y\": 1.8556586103768573, \"predicted\": 1}, {\"x\": 6.801861031871344, \"y\": 3.0465672984241454, \"predicted\": 1}, {\"x\": 5.813430228092651, \"y\": 2.898254127470855, \"predicted\": 1}, {\"x\": 6.868886157005868, \"y\": 3.7504116398650083, \"predicted\": 1}, {\"x\": 6.529465324352709, \"y\": 3.137701209997386, \"predicted\": 1}, {\"x\": 6.077821127912706, \"y\": 3.6183802619985244, \"predicted\": 1}, {\"x\": 6.232494559178738, \"y\": 3.6825514068644853, \"predicted\": 1}, {\"x\": 5.68988322648194, \"y\": 0.5651622358928612, \"predicted\": 1}, {\"x\": 7.038824601859414, \"y\": 5.186979646974258, \"predicted\": 1}, {\"x\": 6.441364443568582, \"y\": 2.8998447667165004, \"predicted\": 1}, {\"x\": 5.863555256103967, \"y\": 2.8809458122251903, \"predicted\": 1}, {\"x\": 6.017409408300004, \"y\": 1.8779812712531117, \"predicted\": 1}, {\"x\": 5.482905542079772, \"y\": 2.002973172349737, \"predicted\": 1}, {\"x\": 6.248799161387771, \"y\": 2.7033588476291373, \"predicted\": 1}, {\"x\": 6.49521132397796, \"y\": 2.825296840257499, \"predicted\": 1}, {\"x\": 6.986335187821242, \"y\": 3.213533901335442, \"predicted\": 1}, {\"x\": 8.190699728969733, \"y\": 1.1036390771089075, \"predicted\": 1}, {\"x\": 5.353083311745092, \"y\": 3.901486891648711, \"predicted\": 1}, {\"x\": 8.528325706806399, \"y\": 2.75136522228454, \"predicted\": 1}, {\"x\": 6.043668993178389, \"y\": 2.773685757486395, \"predicted\": 1}, {\"x\": 7.331457112587592, \"y\": 2.712692136523981, \"predicted\": 1}, {\"x\": 6.680069839878104, \"y\": 2.680198401101329, \"predicted\": 1}]}}, {\"mode\": \"vega-lite\"});\n",
       "</script>"
      ],
      "text/plain": [
       "alt.VConcatChart(...)"
      ]
     },
     "execution_count": 173,
     "metadata": {},
     "output_type": "execute_result"
    }
   ],
   "source": [
    "triplets, responses = datasets.make_random_triplets(data.xs, result_format=\"list-boolean\", size=5000, random_state=10)\n",
    "print(f\"using {responses.size} triplets\")\n",
    "unified_triplets = unify_triplet_order(triplets, responses)\n",
    "\n",
    "soe_kmeans = SoeKmeans(embedding_dimension=2, n_clusters=3)\n",
    "y_soe_kmeans = soe_kmeans.fit_predict(triplets, responses)\n",
    "print(f\"NMI SOE-Kmeans: {normalized_mutual_info_score(y_soe_kmeans, data.ys)}\")\n",
    "p.assignments(soe_kmeans.embedding_, data.ys) & p.assignments(data.xs, y_soe_kmeans)"
   ]
  },
  {
   "cell_type": "code",
   "execution_count": null,
   "metadata": {},
   "outputs": [
    {
     "name": "stdout",
     "output_type": "stream",
     "text": [
      "Generating questionnaire...\n",
      "Generating question set...\n",
      "Filling out questionnaire...\n"
     ]
    },
    {
     "name": "stderr",
     "output_type": "stream",
     "text": [
      "100%|██████████| 90/90 [00:00<00:00, 37234.89it/s]"
     ]
    },
    {
     "name": "stdout",
     "output_type": "stream",
     "text": [
      "NMI Tangles: 1.0 (3)\n"
     ]
    },
    {
     "name": "stderr",
     "output_type": "stream",
     "text": [
      "\n"
     ]
    }
   ],
   "source": [
    "## tangles\n",
    "cuts = triplets_to_majority_neighbour_cuts(unified_triplets, radius=0.8, randomize_tie=False)\n",
    "q = Questionnaire.from_metric(soe_kmeans.embedding_, density=0.01)\n",
    "cuts = np.hstack((q.values, cuts))\n",
    "tangles = OrdinalTangles(agreement=12)\n",
    "y_tangles = tangles.fit_predict(q.values)\n",
    "print(f\"NMI Tangles: {normalized_mutual_info_score(y_tangles, data.ys)} ({np.unique(y_tangles).sum()})\")"
   ]
  }
 ],
 "metadata": {
  "interpreter": {
   "hash": "b3df0bc9139dfbbc2bb43367c6e0b1c6fcd610288dc61cb8c73318fe0a42d151"
  },
  "kernelspec": {
   "display_name": "Python 3.9.7 ('tangles-thesis')",
   "language": "python",
   "name": "python3"
  },
  "language_info": {
   "codemirror_mode": {
    "name": "ipython",
    "version": 3
   },
   "file_extension": ".py",
   "mimetype": "text/x-python",
   "name": "python",
   "nbconvert_exporter": "python",
   "pygments_lexer": "ipython3",
   "version": "3.9.7"
  },
  "orig_nbformat": 4
 },
 "nbformat": 4,
 "nbformat_minor": 2
}
